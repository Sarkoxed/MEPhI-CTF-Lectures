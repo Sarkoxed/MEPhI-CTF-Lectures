{
 "cells": [
  {
   "cell_type": "markdown",
   "id": "26a58d90-c326-4754-a0b9-3146617c946f",
   "metadata": {},
   "source": [
    "$0 0$\n",
    "\n",
    "$0 1$\n",
    "\n",
    "$1 0$\n",
    "\n",
    "$1 1$\n",
    "\n",
    "Строк: $2^n$\n",
    "\n",
    "Функций: $2^{2^n}$\n",
    "\n",
    "XOR:\n",
    "\n",
    "\n",
    "$0 0 \\to 0$\n",
    "\n",
    "$0 1 \\to 1$\n",
    "\n",
    "$1 0 \\to 1$\n",
    "\n",
    "$1 1 \\to 0$"
   ]
  },
  {
   "cell_type": "code",
   "execution_count": 1,
   "id": "d2d8fb15-19cc-41bb-a13f-dfe8e2994688",
   "metadata": {},
   "outputs": [],
   "source": [
    "from sage.crypto.boolean_function import BooleanFunction"
   ]
  },
  {
   "cell_type": "code",
   "execution_count": 2,
   "id": "44a6b401-c024-44ac-9273-08993be11afc",
   "metadata": {},
   "outputs": [],
   "source": [
    "b = [randint(0, 1) for _ in range(2**8)]"
   ]
  },
  {
   "cell_type": "code",
   "execution_count": 24,
   "id": "0725c7d6-7ef7-41f2-a88b-4d610ee73723",
   "metadata": {},
   "outputs": [],
   "source": [
    "t = BooleanFunction(b).algebraic_normal_form())"
   ]
  },
  {
   "cell_type": "code",
   "execution_count": 27,
   "id": "cf17a1ac-b10d-4bf0-b715-60715f7bda5e",
   "metadata": {},
   "outputs": [],
   "source": [
    "f =BooleanPolynomialRing(8, \"x\")"
   ]
  },
  {
   "cell_type": "code",
   "execution_count": 29,
   "id": "8ae76af0-9ecd-49e5-950f-fef73e740784",
   "metadata": {},
   "outputs": [],
   "source": [
    "bf = BooleanFunction(b)"
   ]
  },
  {
   "cell_type": "code",
   "execution_count": 33,
   "id": "bbbeabb1-b3d9-4684-b2ec-de38098dff11",
   "metadata": {},
   "outputs": [
    {
     "data": {
      "text/plain": [
       "0"
      ]
     },
     "execution_count": 33,
     "metadata": {},
     "output_type": "execute_result"
    }
   ],
   "source": [
    "(bf.annihilator(4) * bf).algebraic_normal_form()"
   ]
  },
  {
   "cell_type": "code",
   "execution_count": 35,
   "id": "1f730f97-88d5-4729-a4c8-25b80151a858",
   "metadata": {},
   "outputs": [
    {
     "data": {
      "text/plain": [
       "10791878598088498089377489"
      ]
     },
     "execution_count": 35,
     "metadata": {},
     "output_type": "execute_result"
    }
   ],
   "source": [
    "sum(binomial(2**8, i) for i in range(0, 2**4 + 1))"
   ]
  },
  {
   "cell_type": "code",
   "execution_count": 11,
   "id": "b4e5d4f5-3618-4f9b-a13c-ad6d2fb5e884",
   "metadata": {},
   "outputs": [],
   "source": [
    "G = GF(2)"
   ]
  },
  {
   "cell_type": "markdown",
   "id": "91e76b7e-d5e1-41f8-baaf-7918f3db0f65",
   "metadata": {},
   "source": [
    "$x | y = x + y + xy$"
   ]
  },
  {
   "cell_type": "code",
   "execution_count": 5,
   "id": "9fa76001-4205-4692-867c-581cdbf5d7d5",
   "metadata": {},
   "outputs": [
    {
     "data": {
      "text/plain": [
       "256"
      ]
     },
     "execution_count": 5,
     "metadata": {},
     "output_type": "execute_result"
    }
   ],
   "source": [
    "len(b)"
   ]
  },
  {
   "cell_type": "code",
   "execution_count": 6,
   "id": "ef11b0fb-1b6c-4adf-92c9-02e2f1ea7146",
   "metadata": {},
   "outputs": [
    {
     "data": {
      "text/plain": [
       "123"
      ]
     },
     "execution_count": 6,
     "metadata": {},
     "output_type": "execute_result"
    }
   ],
   "source": [
    "256 - 133"
   ]
  },
  {
   "cell_type": "code",
   "execution_count": 36,
   "id": "486b6fde-9e2c-4a07-ad86-a9f38e63e5a6",
   "metadata": {},
   "outputs": [],
   "source": [
    "state = [randint(0, 1) for _ in range(8)]"
   ]
  },
  {
   "cell_type": "code",
   "execution_count": 37,
   "id": "6bf2495b-4526-4759-8661-c2dfda909db2",
   "metadata": {},
   "outputs": [],
   "source": [
    "next = state[0] ^ state[2] ^ state[3] ^ state[4]\n",
    "state = state[1:] + [next]"
   ]
  },
  {
   "cell_type": "code",
   "execution_count": 57,
   "id": "87c02fb0-f16b-4426-931c-fe28ba335a3f",
   "metadata": {},
   "outputs": [],
   "source": [
    "P = PolynomialRing(GF(2), x)\n",
    "p = P.random_element(degree=5)\n",
    "while not p.is_irreducible():\n",
    "    p = P.random_element(degree=5)\n",
    "\n",
    "\n",
    "q = P.random_element(degree=5)"
   ]
  },
  {
   "cell_type": "code",
   "execution_count": 61,
   "id": "4e464b27-a82a-4857-9674-b3a547cbf979",
   "metadata": {},
   "outputs": [
    {
     "data": {
      "text/plain": [
       "(x^2 + x + 1) * (x^3 + x + 1)"
      ]
     },
     "execution_count": 61,
     "metadata": {},
     "output_type": "execute_result"
    }
   ],
   "source": [
    "factor(q)"
   ]
  },
  {
   "cell_type": "code",
   "execution_count": 60,
   "id": "f6e41ffa-86a5-4eb9-878c-838f42ca1eb4",
   "metadata": {},
   "outputs": [
    {
     "name": "stdout",
     "output_type": "stream",
     "text": [
      "1\n",
      "1\n",
      "0\n",
      "0\n",
      "1\n",
      "0\n",
      "1\n",
      "1\n",
      "1\n",
      "0\n",
      "0\n",
      "1\n",
      "0\n",
      "1\n",
      "1\n",
      "1\n",
      "0\n",
      "0\n",
      "1\n",
      "0\n",
      "1\n",
      "1\n",
      "1\n",
      "0\n",
      "0\n",
      "1\n",
      "0\n",
      "1\n",
      "1\n",
      "1\n",
      "0\n"
     ]
    },
    {
     "data": {
      "text/plain": [
       "False"
      ]
     },
     "execution_count": 60,
     "metadata": {},
     "output_type": "execute_result"
    }
   ],
   "source": [
    "state = [randint(0, 1) for _ in range(5)]\n",
    "state1 = state.copy()\n",
    "for i in range(31):\n",
    "    next = state[0] ^^ state[4]\n",
    "    state = state[1:] + [next]\n",
    "    print(next)\n",
    "state == state1"
   ]
  },
  {
   "cell_type": "code",
   "execution_count": null,
   "id": "8a45adf1-540c-4694-a6cc-835904ae2380",
   "metadata": {},
   "outputs": [],
   "source": []
  }
 ],
 "metadata": {
  "kernelspec": {
   "display_name": "SageMath 10.2",
   "language": "sage",
   "name": "sagemath"
  },
  "language_info": {
   "codemirror_mode": {
    "name": "ipython",
    "version": 3
   },
   "file_extension": ".py",
   "mimetype": "text/x-python",
   "name": "python",
   "nbconvert_exporter": "python",
   "pygments_lexer": "ipython3",
   "version": "3.11.8"
  }
 },
 "nbformat": 4,
 "nbformat_minor": 5
}
