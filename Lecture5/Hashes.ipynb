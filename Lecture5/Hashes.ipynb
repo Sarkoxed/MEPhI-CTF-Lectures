{
 "cells": [
  {
   "cell_type": "code",
   "execution_count": 1,
   "id": "2b948b3f-1a64-4a63-8216-87b8beb53d82",
   "metadata": {},
   "outputs": [],
   "source": [
    "rotl = lambda x, k: ((x << k) | (x >> (32 - k))) & (2**32 - 1)\n",
    "rotr = lambda x, k: rotl(x, 32 - k)"
   ]
  },
  {
   "cell_type": "code",
   "execution_count": 2,
   "id": "0bbfe0c5-ec62-4da8-a359-e2ce9cef2f0a",
   "metadata": {},
   "outputs": [
    {
     "name": "stdout",
     "output_type": "stream",
     "text": [
      "11010111001010011111001111001111\n"
     ]
    }
   ],
   "source": [
    "from random import randint\n",
    "t = randint(0, 2**32)\n",
    "print(bin(t)[2:].zfill(32))"
   ]
  },
  {
   "cell_type": "code",
   "execution_count": 4,
   "id": "65b05361-9d60-46c2-900c-876c6505c194",
   "metadata": {},
   "outputs": [
    {
     "name": "stdout",
     "output_type": "stream",
     "text": [
      "11100101001111100111100111111010\n"
     ]
    }
   ],
   "source": [
    "print(bin(rotl(t, 5))[2:].zfill(32))"
   ]
  },
  {
   "cell_type": "code",
   "execution_count": 3,
   "id": "7a689e02-6cdf-4010-897a-2b2b8bbfc4ea",
   "metadata": {},
   "outputs": [],
   "source": [
    "from math import sin, floor\n",
    "\n",
    "rotl = lambda x, k: ((x << k) | (x >> (32 - k))) & (2**32 - 1)\n",
    "rotr = lambda x, k: rotl(x, 32 - k)\n",
    "\n",
    "\n",
    "init = [0x67452301, 0xEFCDAB89, 0x98BADCFE, 0x10325476]\n",
    "h = init.copy()\n",
    "s = (\n",
    "    [7, 12, 17, 22] * 4\n",
    "    + [5, 9, 14, 20] * 4\n",
    "    + [4, 11, 16, 23] * 4\n",
    "    + [6, 10, 15, 21] * 4\n",
    ")\n",
    "\n",
    "f = []\n",
    "f.append(lambda B, C, D: (B & C) | (~B & D))\n",
    "f.append(lambda B, C, D: (B & D) | (~D & C))\n",
    "f.append(lambda B, C, D: B ^ C ^ D)\n",
    "f.append(lambda B, C, D: C ^ (B | ~D))\n",
    "\n",
    "w = []\n",
    "w.append(lambda state, i: state[i])\n",
    "w.append(lambda state, i: state[(5 * i + 1) % 16])\n",
    "w.append(lambda state, i: state[(3 * i + 5) % 16])\n",
    "w.append(lambda state, i: state[7 * i % 16])\n",
    "\n",
    "t = [floor(2**32 * abs(sin(i))) for i in range(1, 65)]"
   ]
  },
  {
   "cell_type": "code",
   "execution_count": 4,
   "id": "1cbdcd87-d566-4e1a-89b6-b53f16ad8a2f",
   "metadata": {},
   "outputs": [],
   "source": [
    "import struct\n",
    "\n",
    "def compress(h, block: bytes):\n",
    "    state = struct.unpack(\"<16I\", block)\n",
    "    # block: 64 bytes -> 16 int\n",
    "\n",
    "    a, b, c, d = h\n",
    "\n",
    "    for i in range(64):\n",
    "        fi = self.f[i // 16](b, c, d)\n",
    "        wi = self.w[i // 16](state, i)\n",
    "        ti = self.t[i]\n",
    "        si = self.s[i]\n",
    "\n",
    "        q = (b + rotl((a + fi + wi + ti) % 2**32, si)) % 2**32\n",
    "\n",
    "        a, b, c, d = d, q , b, c\n",
    "\n",
    "    return [(x + y) % 2**32 for x, y in zip([a, b, c, d], h)]"
   ]
  },
  {
   "cell_type": "code",
   "execution_count": 18,
   "id": "5d41b580-ad1e-49eb-bb1b-b02c7e430715",
   "metadata": {},
   "outputs": [],
   "source": [
    "import struct\n",
    "from math import sin, floor\n",
    "\n",
    "rotl = lambda x, k: ((x << k) | (x >> (32 - k))) & (2**32 - 1)\n",
    "rotr = lambda x, k: rotl(x, 32 - k)\n",
    "\n",
    "\n",
    "class MD5:\n",
    "    def __init__(self):\n",
    "        self.init = [0x67452301, 0xEFCDAB89, 0x98BADCFE, 0x10325476]\n",
    "        self.h = self.init.copy()\n",
    "        self.s = (\n",
    "            [7, 12, 17, 22] * 4\n",
    "            + [5, 9, 14, 20] * 4\n",
    "            + [4, 11, 16, 23] * 4\n",
    "            + [6, 10, 15, 21] * 4\n",
    "        )\n",
    "\n",
    "        self.f = []\n",
    "        self.f.append(lambda B, C, D: (B & C) | (~B & D))\n",
    "        self.f.append(lambda B, C, D: (B & D) | (~D & C))\n",
    "        self.f.append(lambda B, C, D: B ^ C ^ D)\n",
    "        self.f.append(lambda B, C, D: C ^ (B | ~D))\n",
    "\n",
    "        self.w = []\n",
    "        self.w.append(lambda state, i: state[i])\n",
    "        self.w.append(lambda state, i: state[(5 * i + 1) % 16])\n",
    "        self.w.append(lambda state, i: state[(3 * i + 5) % 16])\n",
    "        self.w.append(lambda state, i: state[7 * i % 16])\n",
    "\n",
    "        self.t = [floor(2**32 * abs(sin(i))) for i in range(1, 65)]\n",
    "\n",
    "        self.tail = b\"\"\n",
    "        self.length = 0\n",
    "\n",
    "    def update(self, m: bytes):\n",
    "        curtail = self.tail + m\n",
    "\n",
    "        while len(curtail) >= 64:\n",
    "            block = curtail[:64]\n",
    "            self.length += 512\n",
    "            self.compress(block)\n",
    "            curtail = curtail[64:]\n",
    "        self.tail = curtail\n",
    "\n",
    "    def compress(self, block: bytes):\n",
    "        state = struct.unpack(\"<16I\", block)\n",
    "\n",
    "        a, b, c, d = self.h\n",
    "\n",
    "        for i in range(64):\n",
    "            fi = self.f[i // 16](b, c, d)\n",
    "            wi = self.w[i // 16](state, i)\n",
    "            ti = self.t[i]\n",
    "            si = self.s[i]\n",
    "\n",
    "            q = b + rotl((a + fi + wi + ti) % 2**32, si)\n",
    "\n",
    "            a, b, c, d = d, q % 2**32, b, c\n",
    "\n",
    "        self.h = [(x + y) % 2**32 for x, y in zip([a, b, c, d], self.h)]\n",
    "\n",
    "    def digest(self):\n",
    "        block = self.tail\n",
    "        self.length += len(block) * 8\n",
    "        block += b\"\\x80\"\n",
    "        while len(block) % 64 != 56:\n",
    "            block += b\"\\x00\"\n",
    "\n",
    "        block += struct.pack(b\"<Q\", self.length)\n",
    "        self.update(block[len(self.tail):])\n",
    "        return struct.pack(\"<IIII\", *self.h)\n",
    "\n",
    "    def hexdigest(self):\n",
    "        return self.digest().hex()"
   ]
  },
  {
   "cell_type": "code",
   "execution_count": 19,
   "id": "34fd2575-d84c-429b-ba97-b163e9575537",
   "metadata": {},
   "outputs": [
    {
     "name": "stdout",
     "output_type": "stream",
     "text": [
      "b'\\x01\\x00\\x00\\x00\\x00\\x00\\x00\\x00\\x00\\x00\\x00\\x00\\x00\\x00\\x00\\x00\\x00\\x00\\x00\\x00\\x00\\x00\\x00\\x00\\x00\\x00\\x00\\x00\\x00\\x00\\x00\\x00\\x00\\x00\\x00\\x00\\x00\\x00\\x00\\x00\\x00\\x00\\x00\\x00\\x00\\x00\\x00\\x00\\x00\\x00\\x00\\x00\\x00\\x00\\x00\\x00'\n",
      "\n",
      "b'\\xff\\xff\\xff\\xff\\xff\\xff\\xff\\xff\\xff\\xff\\xff\\xff\\xff\\xff\\xff\\xff\\xff\\xff\\xff\\xff\\xff\\xff\\xff\\xff\\xff\\xff\\xff\\xff\\xff\\xff\\xff\\xff\\xff\\xff\\xff\\xff\\xff\\xff\\xff\\xff\\xff\\xff\\xff\\xff\\xff\\xff\\xff\\xff\\xff\\xff\\xff\\xff\\xff\\xff\\xff\\xff\\xff\\xff\\xff\\xff\\xff\\x00\\x00\\x00\\x00\\x00\\x00\\x00\\x00\\x00\\x00\\x00\\x00\\x00\\x00\\x00\\x00\\x00\\x00\\x00\\x00\\x00\\x00\\x00\\x00\\x00\\x00\\x00\\x00\\x00\\x00\\x00\\x00\\x00\\x00\\x00\\x00\\x00\\x00\\x00\\x00\\x00\\x00\\x00\\x00\\x00\\x00\\x00\\x00\\x00\\x00\\x00\\x00\\x00\\x00\\x00\\x00\\x00\\x00\\x00'\n"
     ]
    }
   ],
   "source": [
    "def kinda_pad(block):\n",
    "    while len(block) % 64 != 56:\n",
    "        block += b\"\\x00\"\n",
    "    return block\n",
    "    \n",
    "p1 = kinda_pad(b'\\x01')\n",
    "\n",
    "p2  = kinda_pad(b'\\xff' * 61)\n",
    "print(p1)\n",
    "print()\n",
    "print(p2)"
   ]
  },
  {
   "cell_type": "code",
   "execution_count": 20,
   "id": "ae630a37-3371-41a9-8eb2-f3ce65ac2985",
   "metadata": {},
   "outputs": [
    {
     "name": "stdout",
     "output_type": "stream",
     "text": [
      "120\n"
     ]
    }
   ],
   "source": [
    "print(len(p2))"
   ]
  },
  {
   "cell_type": "code",
   "execution_count": 21,
   "id": "cec1825c-4473-43ba-b243-8a0ea46cebfe",
   "metadata": {},
   "outputs": [
    {
     "name": "stdout",
     "output_type": "stream",
     "text": [
      "150f15e73422e0a5ba5b59f997fc2350\n"
     ]
    }
   ],
   "source": [
    "md5 = MD5()\n",
    "md5.update(b'aboba')\n",
    "print(md5.hexdigest())"
   ]
  },
  {
   "cell_type": "code",
   "execution_count": null,
   "id": "7435d257-3b3d-4d4d-a228-2258da8b3587",
   "metadata": {},
   "outputs": [],
   "source": []
  },
  {
   "cell_type": "code",
   "execution_count": 24,
   "id": "2275b3df-d1c4-4111-b41f-248ab2da189c",
   "metadata": {},
   "outputs": [
    {
     "data": {
      "text/plain": [
       "'150f15e73422e0a5ba5b59f997fc2350'"
      ]
     },
     "execution_count": 24,
     "metadata": {},
     "output_type": "execute_result"
    }
   ],
   "source": [
    "from hashlib import md5\n",
    "md5(b'aboba').hexdigest()"
   ]
  },
  {
   "cell_type": "code",
   "execution_count": 27,
   "id": "d7ae4934-7e4b-4487-bc86-68cbe105d16a",
   "metadata": {},
   "outputs": [],
   "source": [
    "def pad(x):\n",
    "    block = x\n",
    "    length = len(block) * 8\n",
    "    block += b\"\\x80\"\n",
    "    while len(block) % 64 != 56:\n",
    "        block += b\"\\x00\"\n",
    "\n",
    "    block += struct.pack(b\"<Q\", length)\n",
    "    return block\n"
   ]
  },
  {
   "cell_type": "code",
   "execution_count": 28,
   "id": "1a905b8a-858f-401e-82e5-b7b433d17ff7",
   "metadata": {},
   "outputs": [],
   "source": [
    "from os import urandom\n",
    "x = urandom(5)\n",
    "\n",
    "padded_x = pad(x)"
   ]
  },
  {
   "cell_type": "code",
   "execution_count": 29,
   "id": "91879117-cfc7-4994-8454-eb27c613e322",
   "metadata": {},
   "outputs": [
    {
     "data": {
      "text/plain": [
       "b'\\x87\\xefP\\xefo\\x80\\x00\\x00\\x00\\x00\\x00\\x00\\x00\\x00\\x00\\x00\\x00\\x00\\x00\\x00\\x00\\x00\\x00\\x00\\x00\\x00\\x00\\x00\\x00\\x00\\x00\\x00\\x00\\x00\\x00\\x00\\x00\\x00\\x00\\x00\\x00\\x00\\x00\\x00\\x00\\x00\\x00\\x00\\x00\\x00\\x00\\x00\\x00\\x00\\x00\\x00(\\x00\\x00\\x00\\x00\\x00\\x00\\x00'"
      ]
     },
     "execution_count": 29,
     "metadata": {},
     "output_type": "execute_result"
    }
   ],
   "source": [
    "padded_x"
   ]
  },
  {
   "cell_type": "code",
   "execution_count": 30,
   "id": "e65b7c8a-17b9-46d2-91ae-3a4760a9a8cd",
   "metadata": {},
   "outputs": [
    {
     "name": "stdout",
     "output_type": "stream",
     "text": [
      "b'\\xc8C\\x1dU\\xe4\\xf1\\x07\\x1dd/\\xe8\\xfe%\\xe6\\x16\\x03'\n"
     ]
    }
   ],
   "source": [
    "from hashlib import md5\n",
    "print(md5(x).digest())"
   ]
  },
  {
   "cell_type": "code",
   "execution_count": 31,
   "id": "5c7ac62b-2236-43b2-b975-a4eee09af443",
   "metadata": {},
   "outputs": [
    {
     "data": {
      "text/plain": [
       "b\"U\\x94Qk'\\xfb!F\\xae\\x92\\xfa\\xfc\\x8d\\x0c\\xe4\\xdb\""
      ]
     },
     "execution_count": 31,
     "metadata": {},
     "output_type": "execute_result"
    }
   ],
   "source": [
    "key = urandom(16)\n",
    "x = b'aboba'\n",
    "md5(key + x).digest()"
   ]
  },
  {
   "cell_type": "code",
   "execution_count": 33,
   "id": "53ecd1b5-88a3-45d7-915a-94766af9d12d",
   "metadata": {},
   "outputs": [
    {
     "data": {
      "text/plain": [
       "b'aboba\\x80\\x00\\x00\\x00\\x00\\x00\\x00\\x00\\x00\\x00\\x00\\x00\\x00\\x00\\x00\\x00\\x00\\x00\\x00\\x00\\x00\\x00\\x00\\x00\\x00\\x00\\x00\\x00\\x00\\x00\\x00\\x00\\x00\\x00\\x00\\x00\\x00\\x00\\x00\\x00\\x00\\x00\\x00\\x00\\x00\\x00\\x00\\x00\\x00\\x00\\x00(\\x00\\x00\\x00\\x00\\x00\\x00\\x00'"
      ]
     },
     "execution_count": 33,
     "metadata": {},
     "output_type": "execute_result"
    }
   ],
   "source": [
    "padded_x = pad(x)\n",
    "padded_x"
   ]
  },
  {
   "cell_type": "code",
   "execution_count": 41,
   "id": "730d1cd6-368e-4b68-881f-95fa2addd513",
   "metadata": {},
   "outputs": [
    {
     "name": "stdout",
     "output_type": "stream",
     "text": [
      "b'\\x14\\x87\\x1f\\xf2&X\\x84s\\x88\\x8d\\xda6\\xe5\\xe1\\xb2\\xa0\\x84\\x81\\xe3$\\xcf\\x84\\xa6 yL@\\x11\\xf2\\x9bX\\xbaIYKZ\\x0bQ\\xeb\\xcd\\x00q\\xf9\\xdb\\x0f\\xd9\\xa3\\x95X$\\x0e\\xe5@\\\\\\xdb\\xda\\xeb\\x11\\xc0\\xd9k5\\x9e\\xb0'\n"
     ]
    }
   ],
   "source": [
    "from Crypto.Hash import BLAKE2b\n",
    "\n",
    "hf = BLAKE2b.new(digest_bytes=64)\n",
    "hf.update(b'aboba1')\n",
    "print(hf.digest())"
   ]
  },
  {
   "cell_type": "code",
   "execution_count": 9,
   "id": "1d3189c4-ea14-42a0-92b9-9d140185e7cc",
   "metadata": {},
   "outputs": [],
   "source": [
    "rotl64 = lambda x, n: ((x << n) | x >> (64 - n)) & (2**64 - 1)\n",
    "\n",
    "def fmix64(k):\n",
    "    k ^= k >> 33\n",
    "    k = (k * 0xff51afd7ed558ccd) & (2**64 - 1)\n",
    "    k ^= k >> 33\n",
    "    k = (k * 0xc4ceb9fe1a85ec53) & (2**64 - 1)\n",
    "    k ^= k >> 33\n",
    "    return k\n",
    "\n",
    "def MurmurHash3_x64_128 (key, seed=0):\n",
    "    nblocks = len(key) // 16\n",
    "\n",
    "    h1 = seed\n",
    "    h2 = seed\n",
    "\n",
    "    c1 = 0x87c37b91114253d5;\n",
    "    c2 = 0x4cf5ad432745937f;\n",
    "\n",
    "\n",
    "    blocks = [int.from_bytes(key[i: i + 8], 'little') for i in range(0, len(key), 8)]\n",
    "    for i in range(nblocks):\n",
    "        k1 = blocks[2 * i]\n",
    "        k2 = blocks[2 * i + 1]\n",
    "\n",
    "        k1 = (k1 * c1) & (2**64 - 1)\n",
    "        k1 = rotl64(k1, 31)\n",
    "        k1 = (k1 * c2) & (2**64 - 1)\n",
    "        h1 ^= k1\n",
    "        h1 = rotl64(h1, 27)\n",
    "        h1 += h2\n",
    "        h1 = (h1*5+0x52dce729) & (2**64 - 1)\n",
    "\n",
    "        k2 = (k2 * c2) & (2**64 - 1)\n",
    "        k2 = rotl64(k2, 33)\n",
    "        k2 = (k2 * c1) & (2**64 - 1)\n",
    "        h2 ^= k2\n",
    "        h2 = rotl64(h2, 31)\n",
    "        h2 += h1\n",
    "        h2 = (h2*5+0x38495ab5) & (2**64 - 1)\n",
    "\n",
    "    tail = key[nblocks * 16:]\n",
    "\n",
    "    k1 = 0\n",
    "    k2 = 0\n",
    "\n",
    "    if len(tail) > 0:\n",
    "        k1 = int.from_bytes(tail[:8], 'little')\n",
    "        k1 = (k1 * c1) & (2**64 - 1)\n",
    "        k1 = rotl64(k1, 31)\n",
    "        k1 = (k1 * c2) & (2**64 - 1)\n",
    "        h1 ^= k1\n",
    "\n",
    "        k2 = int.from_bytes(tail[8:], 'little')\n",
    "        k2 = (k2 * c2) & (2**64 - 1)\n",
    "        k2 = rotl64(k2, 33)\n",
    "        k2 = (k2 * c1) & (2**64 - 1)\n",
    "        h2 ^= k2\n",
    "\n",
    "\n",
    "    h1 ^= len(key)\n",
    "    h2 ^= len(key)\n",
    "\n",
    "    h1 += h2\n",
    "    h2 += h1\n",
    "    h1 %= 2**64\n",
    "    h2 %= 2**64\n",
    "\n",
    "\n",
    "    h1 = fmix64(h1)\n",
    "    h2 = fmix64(h2)\n",
    "\n",
    "    h1 += h2\n",
    "    h2 += h1\n",
    "    h1 %= 2**64\n",
    "    h2 %= 2**64\n",
    "\n",
    "    return hex(h1)[2:].zfill(16) + hex(h2)[2:].zfill(16)"
   ]
  },
  {
   "cell_type": "code",
   "execution_count": 42,
   "id": "f9320675-7fcc-4707-8a5f-ac0a577e112e",
   "metadata": {},
   "outputs": [
    {
     "data": {
      "text/plain": [
       "'00101101001101100101101110000100'"
      ]
     },
     "execution_count": 42,
     "metadata": {},
     "output_type": "execute_result"
    }
   ],
   "source": [
    "bin(randint(0, 2**32))[2:].zfill(32)"
   ]
  },
  {
   "cell_type": "code",
   "execution_count": 43,
   "id": "230d964b-9937-449f-b51f-1c132fd61667",
   "metadata": {},
   "outputs": [
    {
     "data": {
      "text/plain": [
       "'11111111111111111111111111111111'"
      ]
     },
     "execution_count": 43,
     "metadata": {},
     "output_type": "execute_result"
    }
   ],
   "source": [
    "bin(2**32 - 1)[2:]"
   ]
  },
  {
   "cell_type": "code",
   "execution_count": null,
   "id": "73415587-9ffe-44af-baf0-cf4fee2c1ec9",
   "metadata": {},
   "outputs": [],
   "source": []
  }
 ],
 "metadata": {
  "kernelspec": {
   "display_name": "Python 3 (ipykernel)",
   "language": "python",
   "name": "python3"
  },
  "language_info": {
   "codemirror_mode": {
    "name": "ipython",
    "version": 3
   },
   "file_extension": ".py",
   "mimetype": "text/x-python",
   "name": "python",
   "nbconvert_exporter": "python",
   "pygments_lexer": "ipython3",
   "version": "3.11.8"
  }
 },
 "nbformat": 4,
 "nbformat_minor": 5
}
