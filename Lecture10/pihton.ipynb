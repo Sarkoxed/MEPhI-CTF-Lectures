{
 "cells": [
  {
   "cell_type": "code",
   "execution_count": 1,
   "id": "cc48a9e7-5578-4972-8d9d-acf04a31f8b5",
   "metadata": {},
   "outputs": [],
   "source": [
    "from solcx import compile_files, install_solc"
   ]
  },
  {
   "cell_type": "code",
   "execution_count": 2,
   "id": "7a1c9208-5605-435c-a946-26c988e5cd45",
   "metadata": {},
   "outputs": [],
   "source": [
    "from web3 import Web3\n",
    "from Crypto.Hash import keccak"
   ]
  },
  {
   "cell_type": "code",
   "execution_count": 3,
   "id": "b1466e0d-19ba-479e-835b-19679a5fad1e",
   "metadata": {},
   "outputs": [],
   "source": [
    "w3 = Web3()"
   ]
  },
  {
   "cell_type": "code",
   "execution_count": 8,
   "id": "ed918e28-f313-489c-80f4-9e7a46c9bc54",
   "metadata": {},
   "outputs": [],
   "source": [
    "account = w3.eth.account.create()"
   ]
  },
  {
   "cell_type": "code",
   "execution_count": 10,
   "id": "cc51b899-9d2b-412e-bd71-aac985cd7803",
   "metadata": {},
   "outputs": [
    {
     "data": {
      "text/plain": [
       "('0x7Cfec0D7D358d07c671657E6737B9Ada7c897d02',\n",
       " HexBytes('0xafae3ca191c71f5f004dd369af9181a2b5ac9b3c73680c27481514f6e331de9e'))"
      ]
     },
     "execution_count": 10,
     "metadata": {},
     "output_type": "execute_result"
    }
   ],
   "source": [
    "account.address, account._private_key"
   ]
  },
  {
   "cell_type": "code",
   "execution_count": 53,
   "id": "384c5dc6-afac-4cc4-b67c-1bdf43516f1f",
   "metadata": {},
   "outputs": [
    {
     "data": {
      "text/plain": [
       "True"
      ]
     },
     "execution_count": 53,
     "metadata": {},
     "output_type": "execute_result"
    }
   ],
   "source": [
    "sepiola_rpc = \"https://ethereum-sepolia-rpc.publicnode.com\"\n",
    "web3 = Web3(Web3.HTTPProvider(sepiola_rpc))\n",
    "web3.is_connected()"
   ]
  },
  {
   "cell_type": "code",
   "execution_count": 12,
   "id": "1e596ccb-f8fc-41a5-929c-071ccf6a80be",
   "metadata": {},
   "outputs": [
    {
     "data": {
      "text/plain": [
       "('0x7E5F4552091A69125d5DfCb7b8C2659029395Bdf',\n",
       " HexBytes('0x0000000000000000000000000000000000000000000000000000000000000001'))"
      ]
     },
     "execution_count": 12,
     "metadata": {},
     "output_type": "execute_result"
    }
   ],
   "source": [
    "import eth_account\n",
    "account1 = eth_account.Account.from_key(hex(1)[2:].zfill(64))\n",
    "account1.address, account1._private_key"
   ]
  },
  {
   "cell_type": "code",
   "execution_count": 125,
   "id": "4a316a98-3f59-499f-8de1-18e5147ea0ca",
   "metadata": {},
   "outputs": [
    {
     "name": "stderr",
     "output_type": "stream",
     "text": [
      "  0%|▏                                                                                                             | 2/999 [00:00<03:09,  5.26it/s]"
     ]
    },
    {
     "name": "stdout",
     "output_type": "stream",
     "text": [
      "1 10\n"
     ]
    },
    {
     "name": "stderr",
     "output_type": "stream",
     "text": [
      "  1%|▊                                                                                                             | 7/999 [00:00<02:02,  8.12it/s]"
     ]
    },
    {
     "name": "stdout",
     "output_type": "stream",
     "text": [
      "6 11\n"
     ]
    },
    {
     "name": "stderr",
     "output_type": "stream",
     "text": [
      "  1%|█▍                                                                                                           | 13/999 [00:01<01:49,  8.97it/s]"
     ]
    },
    {
     "name": "stdout",
     "output_type": "stream",
     "text": [
      "12 2100420001\n"
     ]
    },
    {
     "name": "stderr",
     "output_type": "stream",
     "text": [
      " 26%|███████████████████████████▉                                                                                | 258/999 [00:29<01:17,  9.53it/s]"
     ]
    },
    {
     "name": "stdout",
     "output_type": "stream",
     "text": [
      "257 11190497280\n"
     ]
    },
    {
     "name": "stderr",
     "output_type": "stream",
     "text": [
      "100%|████████████████████████████████████████████████████████████████████████████████████████████████████████████| 999/999 [01:51<00:00,  8.95it/s]\n"
     ]
    }
   ],
   "source": [
    "from tqdm import tqdm\n",
    "m = 0\n",
    "for i in tqdm(range(1, 1000)):\n",
    "    acc = eth_account.Account.from_key(hex(i)[2:].zfill(64))\n",
    "    t = web3.eth.get_balance(acc.address)\n",
    "    if t > m:\n",
    "        m = t\n",
    "        print(i, m)"
   ]
  },
  {
   "cell_type": "code",
   "execution_count": 13,
   "id": "1f8dce33-dbf8-4164-af63-fc07573754c6",
   "metadata": {},
   "outputs": [
    {
     "data": {
      "text/plain": [
       "('0x25A71a07cecf1753ee65b00E0a3AAEf7e0F51c0F',\n",
       " HexBytes('0x0000000000000000000000000000000000000000000000000000000000000101'),\n",
       " 11190497280)"
      ]
     },
     "execution_count": 13,
     "metadata": {},
     "output_type": "execute_result"
    }
   ],
   "source": [
    "account2 = eth_account.Account.from_key(hex(257)[2:].zfill(64))\n",
    "account2.address, account2._private_key, web3.eth.get_balance(account2.address)"
   ]
  },
  {
   "cell_type": "code",
   "execution_count": 14,
   "id": "a6625987-c0e2-444d-94dd-1403f577a653",
   "metadata": {},
   "outputs": [
    {
     "data": {
      "text/plain": [
       "'0xB51eFd776b9c4559dDEcE2767Ff271F10039C08a'"
      ]
     },
     "execution_count": 14,
     "metadata": {},
     "output_type": "execute_result"
    }
   ],
   "source": [
    "from hashlib import md5\n",
    "d = md5(b'aboba').digest()\n",
    "acc = eth_account.Account.from_key(d.hex().zfill(64))\n",
    "acc.address"
   ]
  },
  {
   "cell_type": "code",
   "execution_count": 15,
   "id": "56251c7e-8456-4497-8ed5-bb1d725839de",
   "metadata": {},
   "outputs": [
    {
     "data": {
      "text/plain": [
       "'0x0e60b26CfB529f91240833A6C2128FEb4F226Ed1'"
      ]
     },
     "execution_count": 15,
     "metadata": {},
     "output_type": "execute_result"
    }
   ],
   "source": [
    "from hashlib import md5\n",
    "d = md5(b'mephictf').digest()\n",
    "acc2 = eth_account.Account.from_key(d.hex().zfill(64))\n",
    "acc2.address"
   ]
  },
  {
   "cell_type": "code",
   "execution_count": 16,
   "id": "3aa1d7aa-61f3-4ff8-aa19-9fca1cb89cfb",
   "metadata": {},
   "outputs": [
    {
     "data": {
      "text/plain": [
       "(29968597959392980, 30000000000000020)"
      ]
     },
     "execution_count": 16,
     "metadata": {},
     "output_type": "execute_result"
    }
   ],
   "source": [
    "web3.eth.get_balance(acc.address), web3.eth.get_balance(acc2.address),"
   ]
  },
  {
   "cell_type": "code",
   "execution_count": 17,
   "id": "82cbbf27-d76d-4684-b324-2ae356357bae",
   "metadata": {},
   "outputs": [],
   "source": [
    "def send_transaction(from_, to: str, wei_amount: int):\n",
    "    transaction = {\n",
    "            \"to\": to,\n",
    "            \"value\": wei_amount,\n",
    "            \"nonce\": web3.eth.get_transaction_count(from_.address),\n",
    "            \"gasPrice\": web3.eth.gas_price,\n",
    "            \"gas\": 21000,\n",
    "            \"chainId\": 11155111\n",
    "    }\n",
    "    signed_txn = web3.eth.account.sign_transaction(transaction, from_._private_key)\n",
    "    # from_.sign_transaction(transaction)\n",
    "    txn_hash = web3.eth.send_raw_transaction(signed_txn.raw_transaction)\n",
    "    print(f'Transaction sent with hash: {txn_hash.hex()}')   \n",
    "    # value + gas * gasPrice"
   ]
  },
  {
   "cell_type": "code",
   "execution_count": 18,
   "id": "5924c6bb-3cb0-4e6d-b586-bdc7e1895d51",
   "metadata": {},
   "outputs": [
    {
     "data": {
      "text/plain": [
       "29968597959392980"
      ]
     },
     "execution_count": 18,
     "metadata": {},
     "output_type": "execute_result"
    }
   ],
   "source": [
    "web3.eth.get_balance(acc.address)"
   ]
  },
  {
   "cell_type": "code",
   "execution_count": 19,
   "id": "6c6706cc-657a-45b0-8dc5-2cb4b4762025",
   "metadata": {},
   "outputs": [
    {
     "data": {
      "text/plain": [
       "Decimal('0.036805841')"
      ]
     },
     "execution_count": 19,
     "metadata": {},
     "output_type": "execute_result"
    }
   ],
   "source": [
    "web3.from_wei(web3.eth.gas_price, \"gwei\")"
   ]
  },
  {
   "cell_type": "code",
   "execution_count": 20,
   "id": "d1f6fd72-7ab8-461f-99a4-3ff15a9dc439",
   "metadata": {},
   "outputs": [
    {
     "name": "stdout",
     "output_type": "stream",
     "text": [
      "Transaction sent with hash: dddb38e446735492ea349dece689c496baa04c7ce7fa16f95c4f08eaedd64647\n"
     ]
    }
   ],
   "source": [
    "send_transaction(acc, acc2.address, 69)"
   ]
  },
  {
   "cell_type": "code",
   "execution_count": 23,
   "id": "27014fe2-5bf2-440e-8dfb-204f3cac4ee2",
   "metadata": {},
   "outputs": [
    {
     "data": {
      "text/plain": [
       "(29967732077963911, 30000000000000089)"
      ]
     },
     "execution_count": 23,
     "metadata": {},
     "output_type": "execute_result"
    }
   ],
   "source": [
    "web3.eth.get_balance(acc.address), web3.eth.get_balance(acc2.address)"
   ]
  },
  {
   "cell_type": "code",
   "execution_count": 24,
   "id": "fb45b6fc-2802-46ae-b313-50b676bdba5b",
   "metadata": {},
   "outputs": [],
   "source": [
    "block = web3.eth.get_block(7929545)"
   ]
  },
  {
   "cell_type": "code",
   "execution_count": 25,
   "id": "46211b6c-2502-4803-8f71-2fcdcf41258f",
   "metadata": {},
   "outputs": [
    {
     "data": {
      "text/plain": [
       "96"
      ]
     },
     "execution_count": 25,
     "metadata": {},
     "output_type": "execute_result"
    }
   ],
   "source": [
    "block.transactions.index(bytes.fromhex(\"dddb38e446735492ea349dece689c496baa04c7ce7fa16f95c4f08eaedd64647\"))"
   ]
  },
  {
   "cell_type": "code",
   "execution_count": 27,
   "id": "97213ac4-aa16-464e-b47d-1befa228e317",
   "metadata": {},
   "outputs": [
    {
     "name": "stdout",
     "output_type": "stream",
     "text": [
      "0 b'\\xd9\\xc7\\x88\\x0e\\x1e\\xb5\\xf3\\x11\\x8bO\\xbf\\x13\\xcf\\xee\\xf3u\\xa5S:lB\\xd7P&\\x91}B\\xdb\\\\\\x93\\x95\\x00'\n",
      "1 b'\\x82\\x15B\\x8e\\xd9[~/X\\xb2/\\xbe\\x94\\xea\\x01\\xbe3\\xef\\x1d\\xaf56\\xf3\\xab\\x97\\xfad6\\xaa\\x172\\x92'\n",
      "2 b'y\\xd4\\xdb\\xf9H\\x04\\x11I\\xc6\\x1aw<#\\x82o\\x9aE\\x8a\\xd6\\xef\\x1f\\xd9\\xe7\\xb7?h\\x97\\xd5\\xc9T\\x90\\xcd'\n",
      "3 b\"\\xcd\\xd0.\\xae\\xd4QFs\\x17J\\xde\\xfe<V\\xb9\\x80\\r\\xe3\\x9e\\xd3\\xfd~\\xc57\\x89\\xa9c\\xf6\\xd1\\x81K'\"\n",
      "4 b'\\xc3#\\xe5i\\xfe\\xa3\\x9a\\xf8\\x08\\xf44G\\r\\xcb\\xc6+\\xa5\\xd1S\\xea\\x95\\xed\\xdeLd\\xfb\\x9f\\xb7\\xa0\\x89\\xa6\\xa4'\n",
      "5 b'\\xb6\\x0e\\xe6\\xa3\\x01u\\xfa[\\x80\\xc6\\xf3\\x01EN\\xf3\\x08\\x82v\\xb4\\xb7\\xe7b\\xadM\\xdb\\xfa\\x83\\xda\\xcc\\xac\\x1c\\xa9'\n",
      "6 b'\\x9cCQ\\xdc\\xea\\xc7\\x8b]3\\xb8\\xe74\\xa4-\\x8b\\x10-\\xcf\\x03\\xaf\\xca\\xc6\\xbc\\xd0F\\xb6.7<\\x0f\\xe2\\n'\n",
      "7 b'\\x8a\\xe5b\\xe4j\\x80\\x06\\xaa\\xb2x\\xd6\\x93\\xb7\\xa8A\\xb2\\xc2\\xd8%\\x9fx\\xd3?:5\\xf2\\xcb\\x99\\x0b\\x96\\xfb\\xaa'\n",
      "8 b'SN\\x80\\xc1J\\x1eD\\x1f\\x1b\\xc5e\\xa9\\xfc\\x95\\xbb\"\\x1c\\x1a\\xfd\\x9a\\x1d\\x9d\\xf1\\xf6\\xd6\\xdd\\xbb\\xea)_\\x82\\xa7'\n",
      "9 b\"\\x18A~l\\xe1\\xd6\\x9aE\\xe2\\x9fG\\x83\\x15<\\xde'Z\\xf1B{w\\xf2\\x98\\xdd\\x158y+\\xed\\xe3BM\"\n",
      "10 b'j\\xf60\\x19\\xef\\xb4,\\xd0X{\\xef\\xed\\xd6\\x80\\x05\\x8c\\x8f\\x83X<\\x9b\\xfd\\xe1\\x815\\x1d]d\\x94_$\\xc8'\n",
      "11 b'\\xfe\\xa0$\\xc0\\x0bD\\rx\\xd2jl\\x96>\\x94\\x9e:\\xe5\\x08\\xb1\\xd3\\xee\\xfd\\x1a\\x9a\\xba\\x1at\\xfdU\\xec7\\x11'\n",
      "12 b'\\xfbt\\x04\\xc3\\xa1F\\x00\\x98s\\x96YL\\x8e\\x8b%\\xc9m\\xcb\\xc2$\\xf0\\xa9\\xcc\\xf7D&Wn\\xe1GCr'\n",
      "13 b'\\xf07\\x9c\\xc0\\xa0\\xd5\\xe2\\xe3\\x06\\xc9\\xa4U\\xf7\\x87\\x8a\\xd9\\x82\\xa5\\xf12\\n]\\xb3\\xf5\\xe3\\xce\\x9d\\xe4;\\xe1?f'\n",
      "14 b'\\xe6\\x9f\\xe1gY\\xfaO^\\\\-\\x08Y\\xc0R\\xfa\\x88XkXxZ\\xcd\\xca}I\\x12K\\x7f\\x9e\\xee\\x1e\\xc6'\n",
      "15 b'\\xdd\\xfa-Y\\x0f\\xde\\xd9\\xc4\\x83sJ\\x94\\x1b\\x00<Q\\x05|\\xff4+\\xf8\\x8bk\\xe0\\x97\\x8b\\xd93u\\xfc\\xa4'\n",
      "16 b'\\xdb^\\xcb\\xa4\\xeb\\x03\\xb3\\x99\\xc0\\xd7U(\\x8fO\\xe8\\xe1\\xfa\\xf3\\x15Y\\xba\\x10\\x866\\x97pZ\\xf8\\xb6\\xef_U'\n",
      "17 b'\\xda\\xa1\\x9d7H\\xad~h\\xe0\\xfd\\xf4\\x8d\\xb5\\xdfK4\"\\xbc\\xa4\\xac\\xf7&\\xba\\x13\\xf4\\x11\\xc3c\\xe1\\xd0\\xf9\\xb1'\n",
      "18 b'\\xd5c\\xf3&^\\xbe\\xac\\xa9{`L\\xcd\\xc1\\xffj\\x82\\x9bC/X\\x88\\xd4\\xcd\\x8c\\xff\\xa3W\\x1cnFji'\n",
      "19 b'\\xd3\\x08Z\\xa6*\\xf0\\xdb\\xbc\\xeaG\\xa7\\x10(\\xaf~\\x86\\x92T\\xc2\\\\o\\x83\\x18!|Az\\xf6\\xfe\\x10\\xf8\\xa5'\n",
      "20 b'\\xd2\\xe4\\xf3\\x8d\\xde6\\xff\\xce?\\xdcp\\xba\\x199\\xf1\\xe0\\x991u\\xeb[\\x0ew\\x99aA\\\\\\xcf\\xbe\\xe6\\xcc{'\n",
      "21 b'\\xd2\\xcb;?At\\x7f\\xcc-\\x90\\x1a\\x8e\\x7fv\\xe2\\xd0\\xce6\\xeb\\x10^\\xcc\\xdc[\\x96n\\x03.=\\xab\\xd7}'\n",
      "22 b'\\xcd:\\xe0\\xaa6la\\x02\\x863E\\x08\\x1cO\\xd1<\\xdb\\x92\\x12_\\xfa38\\x80\\xe3\\x8aS7\\x11u\\xae\\x7f'\n",
      "23 b'\\xc98\\x99\\xd4\\xbb\\x0e7\\x85j<\\x84{[\\xdd\\xaa{\\xd1\\x15\\xbb;\\x1b0\\xe5j\\x07\\x99\\xdf\\xe9.1R\\xd3'\n",
      "24 b'\\xc4\\xcb\\xe0\\x89\\x1a\\xe5\\xa8Tg\\x0c\\x96T{\\x83s\\xc8h\\xca\\x92Q\\xdd\\x03\\xb5\\xb2Qn\\x07\\x8ad\\xd8\\\\\\x1e'\n",
      "25 b'\\xbf\\x89\\xb5($\\xebX_\\x11\\x07^.t\\xfe\\xafu\\x17t\\xf2O}w\\xd9#x$/h\\xf3\\x85\\x8e\\xb5'\n",
      "26 b'\\xb51\\x1d\\x962\\xd4\\x07k\\xaa\\xb7\\xc9\\xe0\\x81\\xc2\\xab$\\xd6\\xe6s\\x181%_\\xcd\\x91sZ`(\\x08\\x87\\xc6'\n",
      "27 b\"\\xb4\\x97ws]\\x82\\xb7[\\\\\\rxS\\xb8L\\x05yeO\\xef\\x1b')-S\\xb1D\\xe6$\\x06x61\"\n",
      "28 b'\\xac\\xf1\\x8e\"\\xef\\x9d\\x9a\\x0b\\xc3J\\xcar\\x00V,\\x88k\\xda?U=\\x1f\\xc1\\x871\\x87\\xdf\\\\\\xe2\\x07\\xf0\\xc1'\n",
      "29 b'\\xacF\\xbb\\xfe\\r\\xea\\xa9\\x8b\\xe0S6\\x0e4C\\x8d\\x08\\xb0\\xae\\xb9\\x81zH\\xdd+\\x18\\xdfN\\xa73\\x82v:'\n",
      "30 b'\\xac\\x17\\x8e\\x1a\\xa9\\xb3\\xec\\xd4\\x197\\x19\\xf8EK)V\\xc6N\\xc0q\\x96|\\xb2\\x97oD6\\xe8\\x0f\\xf6\\xaf\\xbf'\n",
      "31 b'\\xa5\\x00\\t:\\xf2\\xef\\x01\\x82SkQ\\xf2s\\x01\\x90njxk\\xc60\\x00\\x9e\\xce)\\xf7\\xfe\\x96\\x0bF_\\xd3'\n",
      "32 b'\\xc6\\xd8\\xc6vd_\\x1fu\\x1d\\xbc\\x88[\\xd9\\xbb\\xcf0\\xee\\xc1\\x00+V\\xd1\\xe5K\\xd0h\\xdf\\x0c\\xd0\\xe3\\x10\\x1a'\n",
      "33 b'\\xa1\\x89\\xa8\\xdd\\xc9k\\xaf\\xf8\\tc%\\xcd\\xd2\\xbbV.X\\xbb_\\x08j\\x9a\\xe1\\x063\\xe79\\\\\\x06\\x9e\\xcf\\xd6'\n",
      "34 b'\\x9fW>`\\x86\\xb8\\xb4d5\\xc2B\\xfa\\x13\\xef3 \\xfe(\\x0fG\\x86B=\"\\xe3\\x91Z\\xf3\\x10\\x83\\xc0\\xff'\n",
      "35 b'\\x96c\\x07C,m\\xac\\x87\\xc5!;\\xa8\\x07H\\x16\\x04Fj\\x00Z\\xd5/\\x9d\\xb9\\x93\\x83\\x18\\xe3\\xa7\\xd5+\\xe8'\n",
      "36 b\"\\x8b\\x1e7\\xd2\\xe1\\xe9\\x0f4!/\\x91a\\xec\\xa8O*6T`jXK'<\\x8a\\x19Q)0m\\xc4-\"\n",
      "37 b'\\x8a~\\xb8\\xf2-\\xef\\xe8\\t\\x9c\\xdd\\xb5\\x03\\xe2y\\xc4\\xfc\\xd1\\rF\\x1a\\xa3\\xe7\\x84\\x9b\\xe2*N\\x0b\\xbc`&\\x00'\n",
      "38 b'\\x87(\\xec\\xdfO\\xf0\\xf9\\x99\\x87\\xab%\\x0e\\xf6n\\xbd\\xf8\\x8a\\xe3\\xb63A\\x05\\x17M\\x84\\t\\xa8\\xce\\xab\\xaa/\\x8a'\n",
      "39 b'\\x86\\xb4*\\x92R\\x85t*d\\xceYk\\xa2}\\x14\\x9b\\xb4<\\xc7\\xfd*Q\\x1d\\x0b>\\xa8\\xba%\\xcev\\x01\\x01'\n",
      "40 b'\\x83uLt%\\xac>.\\x94\\xaa\\xc2\\xea\\x8d|sk1\\xd0`*\\x9ft\\x94\\x12\\xcd\\xf7Q\\xe3\\x00H\\x8dR'\n",
      "41 b'\\x80\\xb7Oi\\xa7\\x9d\\xb3@\\xf3\\x95\\xa2\\xb7\\xbb\\x9f=KH%M\\xedEFl\\x93\\xaeB\\xbd)D\\x1b\\x8a0'\n",
      "42 b'r\\n \\x05\\xafA\\x9e\\x14\\xa7U\\x1c>-\\x7f;\\xee8\\nH\\xf1\\x1eY\\xe9\\xb1q\\xc1\\x0e\\x0e\\x87\\x9eJ\\xc5'\n",
      "43 b'ps\\x91\\x87\\xa2\\xd4\\xd5z\\xdc\\x91\\x0fq]\\xca\\x10<b\\xea\\xad\\xbc\\xb8CP\\xd4dEr@\\xddQ\\x17M'\n",
      "44 b'l\\x1d\\x81\\xad \\x982L\\x85\\xaf\\x81,s\\xdd\\xda\\xcfZO~\\xde\\xab\\r\\xab\\xd0t\\xad\\xc7\\xce\\xe7\\xc1Z\\x0f'\n",
      "45 b'jU\\xfe c\\xc6e\\xba\\x942\\x13\\xac\\xdc\\xb2\\x1b\\x87\\xdf^!\\x1c\\xba~Y\\xe6\\xb6\\xfd\\x00\\x8e\\x161\\xcf\\x9a'\n",
      "46 b\"aH'\\xd5V\\x8c\\x97\\xda\\x0b\\xf1\\xcb\\x02\\xe8U5j\\x8c\\x93\\xa7\\xa3p\\xe4\\xec\\xef\\x91TF\\xfe\\x8a\\xc6\\xf3\\xfc\"\n",
      "47 b'K\\x04~t\\x00\\xcf\\x068X\\xb1\\xc7ncZ\\xccqA\\xd1\\xb8\\xc3\\xfa\\xcb{N\\xab\\xef\\xdc6R\\x9a\\xad~'\n",
      "48 b'6\\xc2#\\xe6^=i\\xa1\\xf3T\\xed\\x01\\x00\\x02\\xc5\\x94\\xd4\\x04\\x7f\\xff|\\x96v\\xe1F\\xba\\xfa\\xe7\\xd7\\xdf\\xb9\\x1a'\n",
      "49 b'+\\xa1\\x0f\\xd5\\xda\\xae\\xcf\\\\w\\x81\\xae\\xa0\\x16\\xb2\\xff\\xd0r\\x01 \\x8759\\xb9T\\xfa\\x00\\x12@Bs)\\x06'\n",
      "50 b\"'\\x16Y\\xb8\\x98B\\xea\\x9e\\xf8y 20\\xf9\\n\\x16\\xab\\x7f\\xd4\\xa9p\\xf1\\xcd\\x9b\\xf2\\xab\\xd7@o\\x93E\\x88\"\n",
      "51 b\"&\\xe6T \\xd4-pb\\xb3\\xd6<\\xf5}\\x99\\xb9I\\xde\\x98\\xb9'@\\x84\\x03jnH\\x00\\x9c\\xd5U0\\xc5\"\n",
      "52 b'!\\xbc\\xdc\\xa5w\\xcba\\x1d\\x14\\x84\\xf5\\xe4\\x95\\xd6\\xda\\xb0\\xd3\\xe1\\xdeo@\\xd1>+\\xf0\\xf3\\xd0`\\xe3\\x94\\xc5\\x10'\n",
      "53 b'\\x17\\xbd\\xf9\\xab\\x98GY\\x17\\x0e7\\xf7\\x0bqM\\x02\\xa6\\xf7\\xf6E\\xe0Wa\\xc1\\xcdM\\xd1\\xf8\\x11X\\x14\\xe0\\xf6'\n",
      "54 b'\\x12\\xf7O\\xc9\\xa6z\\xf7\\xd5w\\xd3uQ1\"c\\xe2\\xfc\\xccs3\\xfe\\xd2L\\x02x-i\\xd9\\xc3\\x03\\xcd\\x06'\n",
      "55 b'\\x0f\\xc8\\xd2\\x9b\\xcf\\x16\\xc7\\xcb\\xdf\\xda\\xb8d5\\xa0\\x15h\\xbbV\\x18Y\\x08\\x86\\x1c\\xa2\\xf3\\xb4\\x97\\xe8h\\x99\\x1f\\xf7'\n",
      "56 b'\\rc\\x90~x\\x9a~\\xf8$8\\x1e\\xdf\\x11<\\xaa\\x92W, \\x17\\xcb\\xfc\\xa0\\xc8\\xbb\\x97<#\\x0b\\x98\\x8b\\xf0'\n",
      "57 b'\\x0bJ>\\xa7\\xa0\\xe24@\\xb4a\\x07\\xf1G\\xfcY\\xc5B\\xdd\\xfc\\xfaT\\xe1\\xea$\\xb1a\\xdb\\xda\\xfc\\x80\\xfb\\xbf'\n",
      "58 b'\\x07\\x94hT\\x94F\\xce\\x1bg2\\xd3\\x8f\\xf3\\xcb\"\\xaeP\\x98ja\\x98`\\x81\\x016.\\xd2\\x06\\xa5\\xd1\\x1b\\xd7'\n",
      "59 b\"\\xfc\\xaa\\xfe'\\xad\\xb9\\xd3\\x9bT\\xf8\\xbe\\x8d\\x02\\xfd\\xcb\\x02|\\x90N\\xff\\xcd}\\x83K2\\x123\\xa6p \\xef\\xb7\"\n",
      "60 b'\\xef)\\xd2\\xb46\\x05\\xea\\xaaO5\\x0e\\xd6\\xcb\\xcc\\xad2\\x13\\x85@\\xa9(\\x83\\xdd~\\xad4D\\xd6_K\\xf7H'\n",
      "61 b'\\xeb*H*\\x9e\\xc7\\xc4\\xf2e\\xc2\\x92\\xc3\\x15X\\x91\\xde=\\x81!\\xbcp@\\xc6\\x9b\\xe2!\\xe5\\xa5\\x8a\\r\\xbd\\xa0'\n",
      "62 b'\\xe9\\xf8\\\\\\xb6SI\\xc7\\xa7(\\xdf\\x91\\x9fAT\\x9f\\x83\\x11\\x9dX\\xf5vrd!\\x90\\x8d:\\xbe/B{\\xce'\n",
      "63 b'\\xe8NN\\x0f(\\x89\\xd8\\xd2wq\\xc5\\xe1\\xb3/Z\\r\\xf5\\xb9\\xb6\\xad/\\x00\\x059cq\\x07\\xc5>K\\xd5*'\n",
      "64 b'\\xda0\\x0b\\x17\\x8ai\\xb2T\\xea\\xaaa\\x9c8w\\xeb,R\\xe5w\\xf8\\x02\\xee\\xd7J\\x7f\\xb6\\xfco\\x8c/8\\xa0'\n",
      "65 b'\\xd5\\x10\\x89\\xad\\xe0\\x05)a\\xf5\\xadz\\x9d\\xe8\\x9c\\xf4\\\\\\xac\\xc8\\x1eo_\\xb8\\x94\\xf6q\\xc4\\xefl\\xb4\\xe1\\xe9\\xa4'\n",
      "66 b'\\xbe\\x06\\x9f\\xaf\\x9d\\xbdZ\\xfa\\xd7\\x1bL\\xddDV\\xf0s\\x93\\x99\\xea0%\\x1d\\xa1\\xbc\\x01\\xc6\\xed\\x05E\\xd0\\xed6'\n",
      "67 b'\\x96\\xfdoE\\x05\\x9d\\x99\\xa0\\x98=K\\x8c\\xbaj\\xf0\\x958\\xf2\\x18S\\xd8#\\xe5\\x1a_\\xba\\x17)g\\xfb\\x98\\xe1'\n",
      "68 b\"\\x8f'P\\x8c\\x1e\\x89\\txc\\x8f\\xb3\\x08U\\xdfj'\\xb9~t\\xecM=\\x0cG_`k\\xbf\\xf1\\x94)#\"\n",
      "69 b'\\x8a\\x9c0=\\xb6?>4\\x14D@0f\\x8b\\xb5\\xc8\\xab\\x9f\\x92\\x7f\\xbaDca\\xc1\\x9b\\t\\x15$\\xd5\\xe1\\xf4'\n",
      "70 b'U\\xedF\\x1a\\xc6\\xf4+\\x8a\\x16\\xe8\\x98\\x83\\x8ao\\x89\\x8az\\x86Y5\\xfc3\\xc2\\x10c+_\\xbc\\xab\\xa58\\xcd'\n",
      "71 b'H\\x9d\\x19\\xbeg\\x82\\x16\\xa1~\\xb2%\\x8b[\\xdb \\xe9\\xc9\\t\\x1a\\xd9i\\xd8~\\xca<\\xb6\\xe8\\xc7\\xfa1\\x97v'\n",
      "72 b'\\xe0Y1\\x9a\\xb1?\\x9f\\xd2\\xe9\\xff\\xde)\\xf3r|\\x8f\\xc8H0C,Inx\\xb9[\\xc1\\xf5\\x80\\x14\\xf3\\xbb'\n",
      "73 b\"\\x18\\xa4\\x0c\\x11\\xe6\\xd3\\xbc\\xc1R\\x89\\xcb\\xb9\\x95)\\xfa\\xdb0\\x89\\xe5\\x0f\\xf3\\x86\\xef\\x96Q'_{!t\\x00\\xd2\"\n",
      "74 b\"\\x0bEG\\x10\\x88#\\xb0\\xd5\\x1e\\xb3\\xdc\\x14\\x19\\x1d'\\n*\\xea\\x10\\x1a\\xc1\\x90\\xbb&\\x0f<}\\x0f\\xaf!\\xb6\\x82\"\n",
      "75 b'\\xb8<FP\\xb5\\x98\\xd4\\xa4\\xe0\\xe5\\xfd\\xd0U6\\xeb\\x87\\x8c\\x17\\xf2\\x8a\\xe2\\x04#\\x05!$\\x11so\\xfd\\xf8\\xe4'\n",
      "76 b'\\x00Y5?\\xd9|\\x83\\xd9\\xe2 x\\x17\\x16\\xce8\\xbc\\xef\\x19\\xaa\\x96\\xf5\\xba-;\\xd3\\xa5\\xa4\\xf3\\xa8OJ\\x94'\n",
      "77 b'\\xc3\\xd0E\\xfcW6\\x85\\xc4v\\xd7r\\xa4\\x97\\x18\"9(\\xa7p)\\xeb\\xbd\\xee\\xe0\\xecNg=\"\\x91\\x0b\\xb0'\n",
      "78 b'\\x8a\\xde\\x8cs\\xc3n\\x91)\\t=\\x9a3Z\\xdd\\x96{k\\xa8\\xfc6v\\xe1\\xad\\x07\\xe4\\x9f\\xf8X5\\x11O\\r'\n",
      "79 b'\\xcc\\x04\\x18\\xec\\x94M\\x05A\\xbf\\xfb\\x89sb\\xc3\\xbb\\xd0^\\xc8Ro\\x18\\xb7\\xbd\\x82\\xd1\\xb8F\\x01\\xda\\x1ecg'\n",
      "80 b']\\x02\\xc6\\x97\\x1aN\\\\\\xe2\\xe9y\\xc41Pd8\\xbekO,\\x8d=\\x8b~\\xf4Y@C\\x90<e\\xd8\\xa8'\n",
      "81 b'\\xbaF=\\x9a\\xde\\xa7\\xda#\\xe1-\\xf51\\x8c\\xde$\\x87\\x02\\xf0\\xc5t\\xf20n\\xed9!\\xf6P\\x17\\xf7\\x15\\xcd'\n",
      "82 b'\\x7f\\xac~\\xb5r\\xa3\\xd3\\x86~\\xed\\x0e\\t(\\xadeN\\x98P0Q\\x0e\\x89\\xf4\\xc0\\x98\\xea\\x04:\\xec\\xf97\\xf6'\n",
      "83 b'S\\x98\\xed\\xfe\\x012\\x1f\\x1bZ\\xd5\\x85T\\x1d\\xa4hi\\x94\\xdb\\x82\\xfaN\\xeb\\xbfq\\xb4\\\\\\x1e.\\xfb\\x15\\xad\\x1d'\n",
      "84 b'=\\xa2\\xb3Bww\\x8a\\xee,\\xc3\\x01\\xa4\\xa4\\x1c+\\xa6A\\x1b\\xa3\\xc7\\x8f\\x88\\xd9\\xc3\\n\\xc4\\xa7\\x15\\xcf\\x1a*\\x83'\n",
      "85 b'#\\x1e\\xe4\\xdfU\\xe3\\x8d03\\x96\\x02\\xabe/\\xc8\\x9b\\xa2{m\\xd1I0\\x98k\\x89\\xa8\\xfd\\x16|%9\\x1c'\n",
      "86 b'\\x0fN\\xa8kP\\x0f\\xb75\\xfdG\\xfe\\x83\\xdeEz\\xdf\\xee\\xca6\\xf2\\xb6\\xa4;y\\x17\\x93.;,\\xdf\\xcc5'\n",
      "87 b'\\xf48\"\\x1du\\x0c\\x80\\xecz\\xd0\\xd0K/\\xab\\xc0\\x9a\\xcdn\\xf5\\xf5\\x93ga\\x0ev\\x13\\xc6\\x1f\\x0e\\xf5\\xae\\xb8'\n",
      "88 b'f\\xd4\\x02f\\xfa\\x90\\xa0(\\x83\\x92.\\xf6\\xb5\\xc3\\x92\\xb3\\x02\\xc7\\xf4\\xe1\\xf1\\x18\\xdd\\x91V\\x90\\x93B\\xcc\\xdbF\\xa2'\n",
      "89 b'%-\\x119\\xf9\\xf9\\x80\\xc3\\xe0S\\xc0k1\\xf9\\xb1\\xd3+\\x93\\xb8\\xc8\\xe9\\xecq\\x99\\x83\\xd3\\xfa\\xa9\\x1bT\\xae\\x1b'\n",
      "90 b'\\xfd\\x01\\x8fQX\\xfb\\x19TP\\x93|\\xa8\\x85b\\x93q\\xe6\\xa8\\xbc\\t\\xdc\\xf8\\xdb\\xe8Q\\x00\\xa9H\\x1caL\\xda'\n",
      "91 b'J\\x93\\x90\\xd1(\\xb9\\xdf\\x91\\x1b\\xfc\\xd1\\x12\\xdb\\x96\\xd0\\x14\\xb6\\x0f7\\x98\\xc1\\xc7-\\x7f\\xbd\\xab\\xbf`\\x12\\x89\\xcf\\xe5'\n",
      "92 b'\\x8d\\x02k\\xec\\x84)5\\xe4\\x8bu\\x94Ep\\xb3#\\x89`\\x84\\x0e\\xae\\x8b*9y\\x94\\xf9\\xecN\\x99\\xca\\xef\\xd5'\n",
      "93 b'\\x80$wB\\xba\\x88\\xad)\\xee\\xd0x\\xa1\\xb1\\\\B}\\xf9l\\x91\\xb0V\\x8a\\x11\\xcf\\xd7\\xc1\\x0b=\\xdd\\xd4\\x03\\x9d'\n",
      "94 b'~\\x10\\xdaB\\xae\\xcf\\xaea1h^\\xab\\xbe\\xe8\\xb4\\x84\\x04\\x82\\xb5\\x9b\\xb0\\x17\\xd0\\xdd\\x9e\\xdb\\xdb40\\x10X6'\n",
      "95 b' \\x8f\\xc7^\\x8bo\\xb8a\\xfbzo\\x0c5g\\x04\\x0f}\\xfdf\\x06h\\xea\\xcfgg\\x0f\\xb5%\\xe4TdY'\n",
      "96 b'\\xdd\\xdb8\\xe4FsT\\x92\\xea4\\x9d\\xec\\xe6\\x89\\xc4\\x96\\xba\\xa0L|\\xe7\\xfa\\x16\\xf9\\\\O\\x08\\xea\\xed\\xd6FG'\n",
      "97 b'\\xb5\\x93\\xf1\\xdd+[6\\xda@\\x86l\\xbd\\x1d\\xb1\\x87\\x05\\xb0\\xa1\"\\xe2\\xca\\xd2\\xb6\\x1c\\xc2<h\\xb1\\xc5h\\xd5.'\n",
      "98 b'\\xa4J2\\xb7\\x05/\\xd8\\xce\\x1d\\xe4:\\x8d\\x1e\\x95A\\x1b\\x92\\x8a!\\xc2\\\\\\xd4Ta\\xc6\\x07\\x11\\x90]\\xcb\\x11\\xe1'\n",
      "99 b'\\x9b\\x06_\\xc7Go\\xc7\\xac\\xf6C\\x13\\xa0\\xde\\xa1eWY\\xbf-\\xc1\\xdb\\xf5\\xbdJ\\x1a\\xc6\\xd0b\\xdfj\\xe0\\t'\n",
      "100 b'\\x84\\x9dE(\\xe5N\\xb2\\xa8(HGHT#\\x0e\\x0e\\xf3K\\x8br\\xdb\\x8bSwn,\\xb4\\xf4\\xda\\x0231'\n",
      "101 b'\\x7f\\xad\\x99\\xee\\x9a\\x17\\x15\\x95BbM{\\xa2\\x85)\\x99\\x15\\x10\\x17\\xcc?-\\xcb\\xce\\xa0\\xb4\\x7f\\xf00.Ox'\n",
      "102 b'i|\\xfa\\xef_\\xc5\\xd7\\xd83\\xf6\\xe4\\xa6\\xdd\\xa3O\\xfc/\\t\\xdf>?\\x9cI\\x85\\xe9\\xd4\\x84\\xc7\\xdb~\\x02\\xd3'\n",
      "103 b'B R\\xa5\\xf7O\\xf0\\xf9gAWr\\xe8\\xc9U\\xf2J\\xf3\\xc7\\xfb\\xa2\\x0e\\x0eLr\\xe6H  \\xbe#\\x98'\n",
      "104 b'\\x14\\xc1\\x1c2\\xde\\x7f\\xb3ef.\\xb9\\xcd\\xff5\\xfe\\xb7\\xd2\\xd8\\x8f\\x0cM`\\x8f\\x8cU}\\x0e]\\xf3\\xe5c\\xe5'\n",
      "105 b'sm\\xb6\\x83\\xf5R\\x04\\x11\\xf4\\xd8\\x8e\\xf9\\x04\\x87\\xd8\\xb7\\xbd~E\\xa6\\xf9\\x0e\\xc0\\xa5\\xd7 \\xf7\\x9c\\xa9,\\xee\\xe3'\n",
      "106 b'rh\\x08w\\xb0\\xc3\\x03\\xa6(\\xa0\\xa8\\x19eZ^|\\x1c\\x9f\\xc2\\xc6\\xff\\xe4\\x82\\x97;\\x069\\x16\\x931~\\xb0'\n",
      "107 b'a\\xc3r\\x92\\xc9\\xaa\\x8dC\\xcf(k~\\x86\\xf4\\\\\\x01e\\xcdk\\xb3\\xfb\\t>\\x83\\x01\\xf3qP\\t\\xf7\\xfd\\xdb'\n",
      "108 b'Y<\\xf9\\xcc\\x9a\\xd4*\\\\\\xb5l\\xb5\\xcaB\\x00!\\xceR\\xa1\\xb5\\xce\\x1f^\\x9a\\x8b\\xe3\\xc0\\xade7\\xecR\\xfd'\n",
      "109 b'\\n\\x0f\\xd3\\xc5Nr\"yw\\xb8\\x9d\\x84\\x1e\\xffd\\xac&\\xd3\\xd9Q~\\xa5\\\\\\x00\\x9d\\xe4\\x87C\\x9e\\x85\\xe6k'\n",
      "110 b\"\\xef\\x7f=\\x1f\\xeb\\xa0\\x1f\\xde+\\x89\\xef\\x93\\xaf\\x14\\x06nB'F&\\x1d8\\x86\\x18h{\\xbc*\\x80\\xeb\\xfft\"\n",
      "111 b'\\xd9#\\x1c\\xa5\\xc0\\x85\\xef\\x04Yu\\x01E*s1@\\xd0\\xa6\\xf4\\xb5\\xb4\\x0fs\\xff\\x82\\xd2\\x89\\x0fD\\xe68K'\n",
      "112 b'\\xcf\\x8aF\\xce,\\xdd\\xfe\\xd6\\xe1\\xce,|\\xe0Ct\\x1d\\xde]\\xe9\\xbf\\xd1\\x0b\\xf0^\\xabS\\xe4\\xc0\\xc4\\x16\\xff\\xab'\n",
      "113 b'\\xc1\\xc9f\"\\xb6\\xba/\\xd4\\xd8S}\\x94\\x8bT\\x00\\xb9\\xb1\\xa456\\x80]xX\\x8d\\x80\\xc4\\xb0\\xb2\\xa9H\\xf7'\n",
      "114 b'\\xba\\x11.]\\x99\\xfa)\\x1b\\r\\xaf\\x15a\\x1d\\x04\\xa4\\x8dm\\x00iN|\\x07\\x82\\xa1&\\x81\\x80\\xc1\\x9bt\\x17\"'\n",
      "115 b'V\\x03\\x88IB\\xa0\\xe0\\xab\\xe1\\xcb\\xab\\x0b\\xd6\\x9ev \\xbb\\xfb\\xed1K\\xe3\\xad\\x84)\\x01\\xaa(B\\xdb\\x10\\xa8'\n",
      "116 b'?US\\x9c\\x8d\\xf6\\xa9\\x1700[\\xad5\\x04\\xd2\\xdd\\xc6\\x91\\x83W\\xeb\\xe6Q}\\xe1]\\xf4\\x0b\\xe1\\xac%\\x90'\n",
      "117 b'\\xb5\\xfd\\xbc\\x91\\x85\\xc4\\x02l\\x92@b\\x05\\x92\\xe8\\xd3\\xdb>\\x08\\x95U\\xa5&\\xca\\x87I\\x10\\xefO\\\\\\xb1\\x0fh'\n",
      "118 b\"6\\xc6\\xfb\\\\\\xf4YsQ\\xb2\\xa3\\x95\\x1f\\x8b\\x9fVa'\\xb3k\\x06\\xf4d\\xbcy\\x8b;.\\xfa\\x0f\\xedL\\xb2\"\n",
      "119 b'\\xd8\\xba\\xe4\\xdd]\\xf2LB\\xb6\\x89C\\xe1\\x1c\\xaa\\x8c}.dK\\xbcR\\x17\\x0e\\xd7;,#\\xb8\\xd1\\x02G\\xf0'\n",
      "120 b'\\xaav/\\x8b\\xa0\\xad?n@\\x0e\\x84\\xa3\\x9a\\xa9!CAx\\xb9\\x89\\xde+OA\\xac\\xa8.\\x16\\xfc\\xd6\\x10\\xf9'\n",
      "121 b'\\xc2\\x1d\\xf9=\\xb1m\\xa2\\xab\\xbcUt\\x8f\\xbeZ\\xd9/\\x16$\\xc8\\xde\\xe0\\xfbr\\xc1N\\xc5\\x01\\xe2[\\xc4U\\x81'\n",
      "122 b'\\xeb\\xc5G\\xf4\\xd5\\xfc\\xb5\\xd9\\xab]#\\xfc\\x1c\\xa5\\xd2\\xe0\\xda\\xa2\\xe7\\xe0\\xd6\\xf0j)/\\x0f\\x19%\\x05t\\x06\"'\n",
      "123 b\"\\xdd'Y\\xfb\\x0e\\xd1\\xdd\\xb5\\xf0\\n\\x99\\x85\\x8e>\\xd6\\x00\\xcem\\x93mry>\\xecFzF\\xa5!Ne\\xbf\"\n",
      "124 b'\\xd3\\xdb\\xfat\\x12\\xfd\\x18\\x8c\\x87X\\xfeL\\xec\\xb0O\\xce\\x94\\x194\\x97\\x1c\"1L^\\xf6d\\x81\\xfc\\xfc\\r\\xde'\n",
      "125 b'\\xc3\\x95\\x0b\\xf4\\xd4\\x14\\xc9z\\x03\\t\\xc4\\x03\\xdedA\\xa1A\\xbe$`\\xfe\\xe2\\xf3x\\xba?yg\\xfd\\xc7\\x12\\xa5'\n",
      "126 b'\\xbc]\\xf2\\xf6\\x93\\xf0l\\xb8\\x13\\xd8v\\xa2\\xc0\\x10k\\\\\\xc3\\xe80\\xdb\\xad\\t\\x83\\xdc\\\\\\xf5\\xbf\\xd0\\xe9\\xc1\\x87I'\n",
      "127 b'\\x9dAkO\\xb2\\xb02!\\xc1j\\xaf\\x93Ki\\nW\\x02fB\\x10\\x0f\\xa3\\xd4_\\xa8\\xeaG\\xa9U\\xbc\\xcbq'\n",
      "128 b'vuD\\x8a\\x9e\\xe6\\x07\\xc3\\x9e\\xd1oB\\xa4n]\\x7f++\\xeeoO\\xae\\xd4a2\\xb1\\xa4\\x86\\xfd&c\\x01'\n",
      "129 b'h\\x14uV*\"o\\xfdR\\x8a\\xdbf!!\\x11\\x89\\xc8x\\xdf\\x8b\\xa0\\xcb\\x17\\x92q\\xbc\\xfa\\xb5\\xf964\\x86'\n",
      "130 b'dC\\xca\\xc8\\xd5\\xc8\\x9e\\x87q\\x81/ \\xf1\\x10+\\xfa\\xc99\\xee\\xf8\\x0e4\\x19j\\x19Z\\xf3\\xe9\\xc4\\xae\\xc0\\xf8'\n",
      "131 b'V4\\xb0\\x07\\xf2\\x14\\x1a\\x93s\\x85\\x85\\xb0vF\\xb3\\x1bCs\\x13\\x95l\\x19\\xb1vM\\xcf\"`\\xfe\\xf7,\\xe4'\n",
      "132 b'I5z\\xb4|\\xf2:\\xaa\\xa1\\xe4\\r\\x8a\\xa1\\xea4^`\\xba\\x86.\\xbe\\xf2^\\xe2\\x81\\xf4\\xbe\\xeb\\xb1.\\xa0*'\n",
      "133 b')\\xd0v\\xe1\\xa6A\\xb7\\x020\\xae\\x9a\\xbaw\\xe8\\xc8\\ru\\x9d\\xe2\\x1c\\xd1BH\\xac\\xc3.\\x119j\\x99N\\x82'\n",
      "134 b'$rj\\xadhj\\xb3N\\x8b\\xf8\\xdd},\\x19\\xb9~\\x10\\xf8\\xec\\xad\\xbe\\xb7\\xa5pm\\x10V\\x155\\x89\\xfc\\xd4'\n",
      "135 b'#\\xdd\\xe6\\x7f@m\\xf3Hu\\x8a\\xc5\\xf1\\xbbZ\\xe8\\x8d\\x97\\xb0:\\xde\\x1bw\\x08\\x11=\\xaaj?\\xa2\\xe4j\\xd0'\n",
      "136 b'\\x16ig\\xae\\xbb\\xb8\\xf8H:\\xe1\\xa5agR}\\xdb\\xc9+GE\\xdaU\\xcd\\xdf\\xdd\\x14i\\x86d\\x96I\\xb0'\n",
      "137 b'\\x12\\x7f^*}g\\x8f\\x84?\\xc9b\\x8dY3Q\\x96\\x04\\x06G\\x97K|\\x0bP\\x97\\xef+\\xe2\\x1cG\\xf3\\x1f'\n",
      "138 b'\\x0e\\x9c\\xed\\xd3R\\x1bzE\\xeen\\xce\\xf1\\xa7\"\\xa6,\\x93I\\xe6\\xe2\\x1c\\xce!;\\xbb\\x85\\t\\xf9I\\xd2\\xebG'\n",
      "139 b'\\tU\\xb0\\x1c?\\x00\\xd8\\xdf\\xf0\\x0b\\xe9\\xa4;\\xba\\xcc\\x0fP\\x93\\xbe\\xe7\\x80\\\\\\xa0w\\xc9\\xaf\\x16Y\\x9bo\\xa7\\x9e'\n",
      "140 b'\\xdf\\x06o\\x03\\xb8\\x01\\xad/oG\\xecA\\x04\\x13\\x90a\\x99\\x87&\\x01\\x99\\xbf\\x7f&\\xba\\xdb0\\x8eeB\\xa9\\xc2'\n"
     ]
    }
   ],
   "source": [
    "for i, j in enumerate(block.transactions):\n",
    "    print(i, j)"
   ]
  },
  {
   "cell_type": "code",
   "execution_count": 28,
   "id": "451ce842-e61b-4c11-b87a-e9a996fd2cf9",
   "metadata": {},
   "outputs": [],
   "source": [
    "tr = web3.eth.get_transaction(\"dddb38e446735492ea349dece689c496baa04c7ce7fa16f95c4f08eaedd64647\")"
   ]
  },
  {
   "cell_type": "code",
   "execution_count": 29,
   "id": "318778e0-231a-4969-b25b-b552a9705c91",
   "metadata": {},
   "outputs": [
    {
     "data": {
      "text/plain": [
       "AttributeDict({'blockHash': HexBytes('0x79f813f6df3d2db2fb1ae45f816a19206fecd8e97676ba81a9fc3940663022af'),\n",
       " 'blockNumber': 7929545,\n",
       " 'from': '0xB51eFd776b9c4559dDEcE2767Ff271F10039C08a',\n",
       " 'gas': 21000,\n",
       " 'gasPrice': 41232449,\n",
       " 'hash': HexBytes('0xdddb38e446735492ea349dece689c496baa04c7ce7fa16f95c4f08eaedd64647'),\n",
       " 'input': HexBytes('0x'),\n",
       " 'nonce': 1,\n",
       " 'to': '0x0e60b26CfB529f91240833A6C2128FEb4F226Ed1',\n",
       " 'transactionIndex': 96,\n",
       " 'value': 69,\n",
       " 'type': 0,\n",
       " 'chainId': 11155111,\n",
       " 'v': 22310257,\n",
       " 'r': HexBytes('0xf1a820c9b9ece8e33ff29c9bf8de41f539da500bec0496e17db1d882957f688c'),\n",
       " 's': HexBytes('0x0775849b6199a713ef77566ec33e4d4363e019adf0070bd895f4c62afcd98992')})"
      ]
     },
     "execution_count": 29,
     "metadata": {},
     "output_type": "execute_result"
    }
   ],
   "source": [
    "tr"
   ]
  },
  {
   "cell_type": "code",
   "execution_count": 32,
   "id": "50fca974-27ac-45a7-98f0-cd11f1c5772e",
   "metadata": {},
   "outputs": [
    {
     "name": "stdout",
     "output_type": "stream",
     "text": [
      "b'snusministr'\n",
      "b'errrov'\n",
      "b'socialComa'\n",
      "b'Agalas'\n",
      "b'bloodthirstypiggy'\n",
      "b'FrayTTT'\n",
      "b'O_vver7y'\n",
      "b'IvanSt2'\n"
     ]
    }
   ],
   "source": [
    "names = [b'defkit', b'ne_bknn', b'anzan31', b'snusministr', b'errrov', b'socialComa', b'ThePigeonKing', b'Agalas' , b'bloodthirstypiggy', b'FrayTTT', b'O_vver7y', b'IvanSt2']\n",
    "for name in names:\n",
    "    acc_tmp = eth_account.Account.from_key(name.hex().zfill(64))\n",
    "    # print(name, '`' +  acc2.address + '`')\n",
    "\n",
    "coolnames = [b'ne_bknn', b'anzan31', b'ThePigeonKing', b'defkit']\n",
    "for name in coolnames:\n",
    "    acc_tmp = eth_account.Account.from_key(name.hex().zfill(64))\n",
    "#    print(name, web3.eth.get_balance(acc_tmp.address))\n",
    "        \n",
    "me = eth_account.Account.from_key(b'sarkoxedaf'.hex().zfill(64))\n",
    "def drain(coolnames):\n",
    "    for coolname in coolnames:\n",
    "        acc_tmp = eth_account.Account.from_key(coolname.hex().zfill(64))\n",
    "        send_transaction(acc_tmp, me.address, 20)\n",
    "#drain(coolnames)\n",
    "\n",
    "for x in names:\n",
    "    if x not in coolnames:\n",
    "        print(x)"
   ]
  },
  {
   "cell_type": "code",
   "execution_count": 33,
   "id": "a1127bad-e129-450f-9cfd-c7d44e2240f7",
   "metadata": {},
   "outputs": [
    {
     "name": "stdout",
     "output_type": "stream",
     "text": [
      "358834052499980\n",
      "360705369849980\n",
      "360705369849980\n",
      "360705369849980\n",
      "104522191240711039\n"
     ]
    }
   ],
   "source": [
    "for name in coolnames + [b'sarkoxedaf']:\n",
    "    print(web3.eth.get_balance(eth_account.Account.from_key(name.hex().zfill(64)).address))"
   ]
  },
  {
   "cell_type": "code",
   "execution_count": 37,
   "id": "cf8dc032-35cf-4ad3-9775-3abdd5412510",
   "metadata": {},
   "outputs": [
    {
     "data": {
      "text/plain": [
       "Decimal('0.104522191240711039')"
      ]
     },
     "execution_count": 37,
     "metadata": {},
     "output_type": "execute_result"
    }
   ],
   "source": [
    "web3.from_wei(104522191240711039, \"ether\")"
   ]
  },
  {
   "cell_type": "code",
   "execution_count": 54,
   "id": "b9ba0378-acc6-49e7-a385-b63bc853cb06",
   "metadata": {},
   "outputs": [],
   "source": [
    "me = eth_account.Account.from_key(b'sarkoxedaf'.hex().zfill(64))"
   ]
  },
  {
   "cell_type": "code",
   "execution_count": null,
   "id": "7e3186ae-4a8c-4a6f-a719-4d8b4c9ba941",
   "metadata": {},
   "outputs": [],
   "source": []
  },
  {
   "cell_type": "code",
   "execution_count": 38,
   "id": "4fa64e3c-ea87-4f0a-befd-6b7a11996527",
   "metadata": {},
   "outputs": [],
   "source": [
    "import json\n",
    "def get_abi(solname):\n",
    "    print(install_solc(version=\"0.8.26\"))\n",
    "    result_ = compile_files(\n",
    "        [solname], output_values=[\"abi\", \"bin-runtime\"], solc_version=\"0.8.26\"\n",
    "    )\n",
    "    with open(\"abi.json\", \"wt\", encoding=\"ascii\") as f:\n",
    "        json.dump(result_, f)"
   ]
  },
  {
   "cell_type": "code",
   "execution_count": 39,
   "id": "0c8a25fc-3a08-4733-b540-8e2dd1147f89",
   "metadata": {},
   "outputs": [
    {
     "name": "stdout",
     "output_type": "stream",
     "text": [
      "0.8.26\n"
     ]
    }
   ],
   "source": [
    "get_abi(\"simple.sol\")"
   ]
  },
  {
   "cell_type": "code",
   "execution_count": 40,
   "id": "d0de2c65-f594-4678-ad63-86f5aaba1de9",
   "metadata": {},
   "outputs": [],
   "source": [
    "js = json.load(open(\"abi.json\", 'rt'))\n",
    "abi = js['simple.sol:nameSys']['abi']\n",
    "bin = js['simple.sol:nameSys']['bin-runtime']"
   ]
  },
  {
   "cell_type": "code",
   "execution_count": 43,
   "id": "bf585d84-0057-4730-8b5c-7976666730c4",
   "metadata": {},
   "outputs": [
    {
     "data": {
      "text/plain": [
       "'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'"
      ]
     },
     "execution_count": 43,
     "metadata": {},
     "output_type": "execute_result"
    }
   ],
   "source": [
    "bin"
   ]
  },
  {
   "cell_type": "code",
   "execution_count": 45,
   "id": "f9423154-387b-47c3-9521-1dc80acc48b5",
   "metadata": {},
   "outputs": [],
   "source": [
    "abi = json.load(open(\"output/nameSys.abi\", \"rt\"))\n",
    "bin = open(\"output/nameSys.bin\", \"rb\").read().hex()"
   ]
  },
  {
   "cell_type": "code",
   "execution_count": 46,
   "id": "10dddcf9-7548-44c5-9a33-513c2bac903e",
   "metadata": {},
   "outputs": [],
   "source": [
    "contract = web3.eth.contract(abi=abi, bytecode=bin)"
   ]
  },
  {
   "cell_type": "code",
   "execution_count": 49,
   "id": "47461994-fff2-4630-a895-cf1427dc6cb7",
   "metadata": {},
   "outputs": [],
   "source": [
    "tx = contract.constructor().build_transaction({\n",
    "    \"from\": me.address,\n",
    "    \"nonce\": web3.eth.get_transaction_count(me.address),\n",
    "    'gas': 300000,\n",
    "    'value': 500000000000000,\n",
    "    'gasPrice': web3.eth.gas_price,\n",
    "    'chainId': 11155111\n",
    "})"
   ]
  },
  {
   "cell_type": "code",
   "execution_count": 50,
   "id": "742ef03b-587f-476d-9090-86b3ba02ce9c",
   "metadata": {},
   "outputs": [],
   "source": [
    "signed_txn = me.sign_transaction(tx)\n",
    "txn_hash = web3.eth.send_raw_transaction(signed_txn.raw_transaction)\n",
    "txn_receipt = web3.eth.wait_for_transaction_receipt(txn_hash)"
   ]
  },
  {
   "cell_type": "code",
   "execution_count": 51,
   "id": "afdea7d9-c03c-4f89-9f71-bc7ab7d333c0",
   "metadata": {},
   "outputs": [
    {
     "data": {
      "text/plain": [
       "(HexBytes('0x13ab2710751d0c419256b759e37de3421f5945f2e84f7483a1b4cda1cd69e65b'),\n",
       " '0x2D50Ec02da8b2ad958f6D84d7E77C77fb6fd033d')"
      ]
     },
     "execution_count": 51,
     "metadata": {},
     "output_type": "execute_result"
    }
   ],
   "source": [
    "txn_hash, txn_receipt.contractAddress"
   ]
  },
  {
   "cell_type": "code",
   "execution_count": 55,
   "id": "e382c260-8786-4b0d-9105-7355ede1c78b",
   "metadata": {},
   "outputs": [
    {
     "data": {
      "text/plain": [
       "104520946532011039"
      ]
     },
     "execution_count": 55,
     "metadata": {},
     "output_type": "execute_result"
    }
   ],
   "source": [
    "web3.eth.get_balance(me.address)"
   ]
  },
  {
   "cell_type": "code",
   "execution_count": 326,
   "id": "041c6ee0-6164-4de2-b83a-5ad9d8940263",
   "metadata": {},
   "outputs": [],
   "source": [
    "txn_hash = \"0xcfadc50c8d04eb637c8ccb0858b07994781ac34a2bc5b988ea92ff9e9f04ccfa\"\n"
   ]
  },
  {
   "cell_type": "code",
   "execution_count": 56,
   "id": "68486a7e-4382-4c9a-916e-517acf274881",
   "metadata": {},
   "outputs": [],
   "source": [
    "contract_address = \"0x95487Ae6765723418760801EfC9CC2f467f9dC56\""
   ]
  },
  {
   "cell_type": "code",
   "execution_count": 57,
   "id": "fdf4e628-548e-4242-8e2f-f59c3d032674",
   "metadata": {},
   "outputs": [],
   "source": [
    "simple_ctr = web3.eth.contract(address=contract_address, abi=abi)"
   ]
  },
  {
   "cell_type": "code",
   "execution_count": 58,
   "id": "1b8eec46-91af-40bd-8514-862149ba33dd",
   "metadata": {},
   "outputs": [
    {
     "name": "stdout",
     "output_type": "stream",
     "text": [
      "<Function get_owner()>\n",
      "<Function lookup(bytes32)>\n",
      "<Function nameNew(bytes32)>\n",
      "<Function nameUpdate(bytes32,address)>\n",
      "<Function owner()>\n",
      "<Function revokeName(bytes32)>\n"
     ]
    }
   ],
   "source": [
    "for x in simple_ctr.functions:\n",
    "    print(x)"
   ]
  },
  {
   "cell_type": "code",
   "execution_count": 66,
   "id": "1ecc5161-3aad-4a33-88af-bfb723f7e039",
   "metadata": {},
   "outputs": [],
   "source": [
    "def create_transaction(acc, func, value):\n",
    "    transaction = func.build_transaction(\n",
    "        {\n",
    "            \"from\": acc.address,\n",
    "            \"nonce\": web3.eth.get_transaction_count(acc.address),\n",
    "            \"value\": value\n",
    "        }\n",
    "    )\n",
    "    # Sign the transaction\n",
    "    #signed_txn = web3.eth.account.sign_transaction(transaction, private_key=acc._private_key)\n",
    "    signed_txn = acc.sign_transaction(transaction)\n",
    "    # Send the transaction\n",
    "    txn_hash = web3.eth.send_raw_transaction(signed_txn.raw_transaction)\n",
    "    # Wait for the transaction to be mined\n",
    "    txn_receipt = web3.eth.wait_for_transaction_receipt(txn_hash)\n",
    "    print(f\"Transaction successful with hash: {txn_hash.hex()}\")\n",
    "\n",
    "def gen_hash(msg: bytes):\n",
    "    tosign = b'\\x19Ethereum Signed Message:\\n32' + msg\n",
    "    hsh = keccak.new(data=tosign, digest_bytes=16).digest()\n",
    "    return hsh"
   ]
  },
  {
   "cell_type": "code",
   "execution_count": 93,
   "id": "853e6b83-a658-4f6a-9543-0eb3f21072a4",
   "metadata": {},
   "outputs": [],
   "source": [
    "from eth_abi import encode\n",
    "\n",
    "def owner():\n",
    "    return simple_ctr.functions.owner().call()\n",
    "\n",
    "def get_owner():\n",
    "    return simple_ctr.functions.get_owner().call()\n",
    "\n",
    "def namenew(me, name: bytes, value: int):\n",
    "    func = simple_ctr.functions.nameNew(encode(['bytes32'], [name]))\n",
    "    create_transaction(me, func, value)    \n",
    "\n",
    "def name_update(me, to, name, value: int):\n",
    "    func = simple_ctr.functions.nameUpdate(encode(['bytes32'], [name]), to.address)\n",
    "    create_transaction(me, func, value)\n",
    "\n",
    "def revoke_name(me, name, value=0):\n",
    "    func = simple_ctr.functions.revokeName(encode(['bytes32'], [name]))\n",
    "    create_transaction(me, func, value)\n",
    "\n",
    "def lookup(name):\n",
    "    return simple_ctr.functions.lookup(encode(['bytes32'], [name])).call()\n",
    "\n",
    "get_balance = web3.eth.get_balance\n",
    "#encode(['bytes32', 'uint8'], [b'a', 7, ])"
   ]
  },
  {
   "cell_type": "code",
   "execution_count": 90,
   "id": "4dded367-00d8-4be2-b173-2dbc30984cc5",
   "metadata": {},
   "outputs": [
    {
     "data": {
      "text/plain": [
       "'0x01e456edFD092cC4CfF396834511e11EDB8AcC01'"
      ]
     },
     "execution_count": 90,
     "metadata": {},
     "output_type": "execute_result"
    }
   ],
   "source": [
    "owner()"
   ]
  },
  {
   "cell_type": "code",
   "execution_count": 91,
   "id": "597b7132-747c-495e-96c9-0f2b82300de3",
   "metadata": {},
   "outputs": [
    {
     "data": {
      "text/plain": [
       "'0x01e456edFD092cC4CfF396834511e11EDB8AcC01'"
      ]
     },
     "execution_count": 91,
     "metadata": {},
     "output_type": "execute_result"
    }
   ],
   "source": [
    "get_owner()"
   ]
  },
  {
   "cell_type": "code",
   "execution_count": 74,
   "id": "6d9e17c9-bb43-4a92-a811-5b508ca7c00f",
   "metadata": {},
   "outputs": [
    {
     "name": "stdout",
     "output_type": "stream",
     "text": [
      "Transaction successful with hash: d7291c432573d20db428f7f72e6cefbd8a3560fb89bd47bcaa8902bec40e26f2\n"
     ]
    }
   ],
   "source": [
    "name = b'aboba1'\n",
    "namenew(me, name, 100)"
   ]
  },
  {
   "cell_type": "code",
   "execution_count": 76,
   "id": "cd85021d-441a-4f7b-b635-1508662cfc24",
   "metadata": {},
   "outputs": [
    {
     "data": {
      "text/plain": [
       "(('0x0000000000000000000000000000000000000000', 0),\n",
       " '0x9De73247505e7c9C0E0a67E1aa81beBFcBA9b380')"
      ]
     },
     "execution_count": 76,
     "metadata": {},
     "output_type": "execute_result"
    }
   ],
   "source": [
    "lookup(b'aboba2'), me.address"
   ]
  },
  {
   "cell_type": "code",
   "execution_count": 380,
   "id": "3c461466-f1b6-4f3c-a041-24c3075a38d1",
   "metadata": {},
   "outputs": [
    {
     "data": {
      "text/plain": [
       "'0x9De73247505e7c9C0E0a67E1aa81beBFcBA9b380'"
      ]
     },
     "execution_count": 380,
     "metadata": {},
     "output_type": "execute_result"
    }
   ],
   "source": [
    "me.address"
   ]
  },
  {
   "cell_type": "code",
   "execution_count": 77,
   "id": "78a2f9da-696d-4d45-a891-13e734bb2153",
   "metadata": {},
   "outputs": [],
   "source": [
    "em1s = simple_ctr.events"
   ]
  },
  {
   "cell_type": "code",
   "execution_count": 78,
   "id": "df31b4fe-ba0d-4861-bfb8-7fa19ae1eacc",
   "metadata": {},
   "outputs": [
    {
     "name": "stdout",
     "output_type": "stream",
     "text": [
      "<Event Register(address,bytes32,uint256)>\n",
      "<Event Revoked(bytes32)>\n",
      "<Event Update(address,bytes32,uint256)>\n"
     ]
    }
   ],
   "source": [
    "for x in em1s:\n",
    "    print(x)"
   ]
  },
  {
   "cell_type": "code",
   "execution_count": 81,
   "id": "8d64fac9-c2a6-4349-9f15-1a1ae1520788",
   "metadata": {},
   "outputs": [
    {
     "data": {
      "text/plain": [
       "(104520315801895832, 30000000000000089)"
      ]
     },
     "execution_count": 81,
     "metadata": {},
     "output_type": "execute_result"
    }
   ],
   "source": [
    "get_balance(me.address), get_balance(acc2.address)"
   ]
  },
  {
   "cell_type": "code",
   "execution_count": 83,
   "id": "2b426edb-dfff-4390-b81d-dbfb3ac6651f",
   "metadata": {},
   "outputs": [
    {
     "name": "stdout",
     "output_type": "stream",
     "text": [
      "Transaction successful with hash: 993ca2e0ae33ce819b5944dfba60bb0717969c3c866d315c3bdead18815a5dbd\n"
     ]
    }
   ],
   "source": [
    "name_update(me, acc2, b'aboba', 15)"
   ]
  },
  {
   "cell_type": "code",
   "execution_count": 85,
   "id": "ddeb9758-4674-4f17-a58f-3ffc36611564",
   "metadata": {},
   "outputs": [
    {
     "data": {
      "text/plain": [
       "'0x0e60b26CfB529f91240833A6C2128FEb4F226Ed1'"
      ]
     },
     "execution_count": 85,
     "metadata": {},
     "output_type": "execute_result"
    }
   ],
   "source": [
    "acc2.address"
   ]
  },
  {
   "cell_type": "code",
   "execution_count": 84,
   "id": "14af9e1f-e739-4cd2-991c-c64ad0a5a977",
   "metadata": {},
   "outputs": [
    {
     "data": {
      "text/plain": [
       "('0x0e60b26CfB529f91240833A6C2128FEb4F226Ed1', 115)"
      ]
     },
     "execution_count": 84,
     "metadata": {},
     "output_type": "execute_result"
    }
   ],
   "source": [
    "lookup(b'aboba')"
   ]
  },
  {
   "cell_type": "code",
   "execution_count": 86,
   "id": "f9cbecff-4602-4c3d-8ac1-e1d9a2efc297",
   "metadata": {},
   "outputs": [
    {
     "data": {
      "text/plain": [
       "(104520123962677352, 30000000000000089)"
      ]
     },
     "execution_count": 86,
     "metadata": {},
     "output_type": "execute_result"
    }
   ],
   "source": [
    "get_balance(me.address), get_balance(acc2.address)"
   ]
  },
  {
   "cell_type": "code",
   "execution_count": 87,
   "id": "763deb28-3067-44c8-945e-ede8034bae36",
   "metadata": {},
   "outputs": [
    {
     "data": {
      "text/plain": [
       "200"
      ]
     },
     "execution_count": 87,
     "metadata": {},
     "output_type": "execute_result"
    }
   ],
   "source": [
    "get_balance(contract_address)"
   ]
  },
  {
   "cell_type": "code",
   "execution_count": 94,
   "id": "e91d2ac0-270f-4feb-950d-a1a25cbcaaff",
   "metadata": {},
   "outputs": [
    {
     "name": "stdout",
     "output_type": "stream",
     "text": [
      "Transaction successful with hash: e16e570f08f083d7654fbfb4cc734d7d001913cd98f234691046f2c01abc873c\n"
     ]
    }
   ],
   "source": [
    "revoke_name(acc2, b'aboba')"
   ]
  },
  {
   "cell_type": "code",
   "execution_count": 95,
   "id": "5a5b7755-1856-4dd0-b6b1-61ac1e7746f3",
   "metadata": {},
   "outputs": [
    {
     "data": {
      "text/plain": [
       "('0x0000000000000000000000000000000000000000', 0)"
      ]
     },
     "execution_count": 95,
     "metadata": {},
     "output_type": "execute_result"
    }
   ],
   "source": [
    "lookup(b'aboba')"
   ]
  },
  {
   "cell_type": "code",
   "execution_count": 96,
   "id": "d70f7be7-63b1-4a7c-a60b-499274b646e0",
   "metadata": {},
   "outputs": [
    {
     "data": {
      "text/plain": [
       "(104520123962677352, 29999865019665236)"
      ]
     },
     "execution_count": 96,
     "metadata": {},
     "output_type": "execute_result"
    }
   ],
   "source": [
    "get_balance(me.address), get_balance(acc2.address)"
   ]
  },
  {
   "cell_type": "code",
   "execution_count": 97,
   "id": "3aac3042-45ec-4825-a515-9f6c684c0e8b",
   "metadata": {},
   "outputs": [
    {
     "data": {
      "text/plain": [
       "85"
      ]
     },
     "execution_count": 97,
     "metadata": {},
     "output_type": "execute_result"
    }
   ],
   "source": [
    "get_balance(contract_address)"
   ]
  },
  {
   "cell_type": "code",
   "execution_count": 101,
   "id": "b6706844-194e-458f-8ab9-fce616e0d81b",
   "metadata": {},
   "outputs": [
    {
     "data": {
      "text/plain": [
       "('0x9De73247505e7c9C0E0a67E1aa81beBFcBA9b380', 100)"
      ]
     },
     "execution_count": 101,
     "metadata": {},
     "output_type": "execute_result"
    }
   ],
   "source": [
    "lookup(b'aboba1')"
   ]
  },
  {
   "cell_type": "code",
   "execution_count": 102,
   "id": "304e4081-fd3a-4c5d-8c08-34965efcb8b2",
   "metadata": {},
   "outputs": [
    {
     "ename": "ContractLogicError",
     "evalue": "('execution reverted', 'no data')",
     "output_type": "error",
     "traceback": [
      "\u001b[31m---------------------------------------------------------------------------\u001b[39m",
      "\u001b[31mContractLogicError\u001b[39m                        Traceback (most recent call last)",
      "\u001b[36mCell\u001b[39m\u001b[36m \u001b[39m\u001b[32mIn[102]\u001b[39m\u001b[32m, line 1\u001b[39m\n\u001b[32m----> \u001b[39m\u001b[32m1\u001b[39m \u001b[43mrevoke_name\u001b[49m\u001b[43m(\u001b[49m\u001b[43mme\u001b[49m\u001b[43m,\u001b[49m\u001b[43m \u001b[49m\u001b[33;43mb\u001b[39;49m\u001b[33;43m'\u001b[39;49m\u001b[33;43maboba1\u001b[39;49m\u001b[33;43m'\u001b[39;49m\u001b[43m)\u001b[49m\n",
      "\u001b[36mCell\u001b[39m\u001b[36m \u001b[39m\u001b[32mIn[93]\u001b[39m\u001b[32m, line 19\u001b[39m, in \u001b[36mrevoke_name\u001b[39m\u001b[34m(me, name, value)\u001b[39m\n\u001b[32m     17\u001b[39m \u001b[38;5;28;01mdef\u001b[39;00m\u001b[38;5;250m \u001b[39m\u001b[34mrevoke_name\u001b[39m(me, name, value=\u001b[32m0\u001b[39m):\n\u001b[32m     18\u001b[39m     func = simple_ctr.functions.revokeName(encode([\u001b[33m'\u001b[39m\u001b[33mbytes32\u001b[39m\u001b[33m'\u001b[39m], [name]))\n\u001b[32m---> \u001b[39m\u001b[32m19\u001b[39m     \u001b[43mcreate_transaction\u001b[49m\u001b[43m(\u001b[49m\u001b[43mme\u001b[49m\u001b[43m,\u001b[49m\u001b[43m \u001b[49m\u001b[43mfunc\u001b[49m\u001b[43m,\u001b[49m\u001b[43m \u001b[49m\u001b[43mvalue\u001b[49m\u001b[43m)\u001b[49m\n",
      "\u001b[36mCell\u001b[39m\u001b[36m \u001b[39m\u001b[32mIn[66]\u001b[39m\u001b[32m, line 2\u001b[39m, in \u001b[36mcreate_transaction\u001b[39m\u001b[34m(acc, func, value)\u001b[39m\n\u001b[32m      1\u001b[39m \u001b[38;5;28;01mdef\u001b[39;00m\u001b[38;5;250m \u001b[39m\u001b[34mcreate_transaction\u001b[39m(acc, func, value):\n\u001b[32m----> \u001b[39m\u001b[32m2\u001b[39m     transaction = \u001b[43mfunc\u001b[49m\u001b[43m.\u001b[49m\u001b[43mbuild_transaction\u001b[49m\u001b[43m(\u001b[49m\n\u001b[32m      3\u001b[39m \u001b[43m        \u001b[49m\u001b[43m{\u001b[49m\n\u001b[32m      4\u001b[39m \u001b[43m            \u001b[49m\u001b[33;43m\"\u001b[39;49m\u001b[33;43mfrom\u001b[39;49m\u001b[33;43m\"\u001b[39;49m\u001b[43m:\u001b[49m\u001b[43m \u001b[49m\u001b[43macc\u001b[49m\u001b[43m.\u001b[49m\u001b[43maddress\u001b[49m\u001b[43m,\u001b[49m\n\u001b[32m      5\u001b[39m \u001b[43m            \u001b[49m\u001b[33;43m\"\u001b[39;49m\u001b[33;43mnonce\u001b[39;49m\u001b[33;43m\"\u001b[39;49m\u001b[43m:\u001b[49m\u001b[43m \u001b[49m\u001b[43mweb3\u001b[49m\u001b[43m.\u001b[49m\u001b[43meth\u001b[49m\u001b[43m.\u001b[49m\u001b[43mget_transaction_count\u001b[49m\u001b[43m(\u001b[49m\u001b[43macc\u001b[49m\u001b[43m.\u001b[49m\u001b[43maddress\u001b[49m\u001b[43m)\u001b[49m\u001b[43m,\u001b[49m\n\u001b[32m      6\u001b[39m \u001b[43m            \u001b[49m\u001b[33;43m\"\u001b[39;49m\u001b[33;43mvalue\u001b[39;49m\u001b[33;43m\"\u001b[39;49m\u001b[43m:\u001b[49m\u001b[43m \u001b[49m\u001b[43mvalue\u001b[49m\n\u001b[32m      7\u001b[39m \u001b[43m        \u001b[49m\u001b[43m}\u001b[49m\n\u001b[32m      8\u001b[39m \u001b[43m    \u001b[49m\u001b[43m)\u001b[49m\n\u001b[32m      9\u001b[39m     \u001b[38;5;66;03m# Sign the transaction\u001b[39;00m\n\u001b[32m     10\u001b[39m     \u001b[38;5;66;03m#signed_txn = web3.eth.account.sign_transaction(transaction, private_key=acc._private_key)\u001b[39;00m\n\u001b[32m     11\u001b[39m     signed_txn = acc.sign_transaction(transaction)\n",
      "\u001b[36mFile \u001b[39m\u001b[32m~/.local/lib/python3.13/site-packages/web3/contract/contract.py:347\u001b[39m, in \u001b[36mContractFunction.build_transaction\u001b[39m\u001b[34m(self, transaction)\u001b[39m\n\u001b[32m    344\u001b[39m built_transaction = \u001b[38;5;28mself\u001b[39m._build_transaction(transaction)\n\u001b[32m    345\u001b[39m abi_element_identifier = abi_to_signature(\u001b[38;5;28mself\u001b[39m.abi)\n\u001b[32m--> \u001b[39m\u001b[32m347\u001b[39m \u001b[38;5;28;01mreturn\u001b[39;00m \u001b[43mbuild_transaction_for_function\u001b[49m\u001b[43m(\u001b[49m\n\u001b[32m    348\u001b[39m \u001b[43m    \u001b[49m\u001b[38;5;28;43mself\u001b[39;49m\u001b[43m.\u001b[49m\u001b[43maddress\u001b[49m\u001b[43m,\u001b[49m\n\u001b[32m    349\u001b[39m \u001b[43m    \u001b[49m\u001b[38;5;28;43mself\u001b[39;49m\u001b[43m.\u001b[49m\u001b[43mw3\u001b[49m\u001b[43m,\u001b[49m\n\u001b[32m    350\u001b[39m \u001b[43m    \u001b[49m\u001b[43mabi_element_identifier\u001b[49m\u001b[43m,\u001b[49m\n\u001b[32m    351\u001b[39m \u001b[43m    \u001b[49m\u001b[43mbuilt_transaction\u001b[49m\u001b[43m,\u001b[49m\n\u001b[32m    352\u001b[39m \u001b[43m    \u001b[49m\u001b[38;5;28;43mself\u001b[39;49m\u001b[43m.\u001b[49m\u001b[43mcontract_abi\u001b[49m\u001b[43m,\u001b[49m\n\u001b[32m    353\u001b[39m \u001b[43m    \u001b[49m\u001b[38;5;28;43mself\u001b[39;49m\u001b[43m.\u001b[49m\u001b[43mabi\u001b[49m\u001b[43m,\u001b[49m\n\u001b[32m    354\u001b[39m \u001b[43m    \u001b[49m\u001b[43m*\u001b[49m\u001b[38;5;28;43mself\u001b[39;49m\u001b[43m.\u001b[49m\u001b[43margs\u001b[49m\u001b[43m \u001b[49m\u001b[38;5;129;43;01mor\u001b[39;49;00m\u001b[43m \u001b[49m\u001b[43m(\u001b[49m\u001b[43m)\u001b[49m\u001b[43m,\u001b[49m\n\u001b[32m    355\u001b[39m \u001b[43m    \u001b[49m\u001b[43m*\u001b[49m\u001b[43m*\u001b[49m\u001b[38;5;28;43mself\u001b[39;49m\u001b[43m.\u001b[49m\u001b[43mkwargs\u001b[49m\u001b[43m \u001b[49m\u001b[38;5;129;43;01mor\u001b[39;49;00m\u001b[43m \u001b[49m\u001b[43m{\u001b[49m\u001b[43m}\u001b[49m\u001b[43m,\u001b[49m\n\u001b[32m    356\u001b[39m \u001b[43m\u001b[49m\u001b[43m)\u001b[49m\n",
      "\u001b[36mFile \u001b[39m\u001b[32m~/.local/lib/python3.13/site-packages/web3/contract/utils.py:331\u001b[39m, in \u001b[36mbuild_transaction_for_function\u001b[39m\u001b[34m(address, w3, abi_element_identifier, transaction, contract_abi, fn_abi, *args, **kwargs)\u001b[39m\n\u001b[32m    314\u001b[39m \u001b[38;5;250m\u001b[39m\u001b[33;03m\"\"\"\u001b[39;00m\n\u001b[32m    315\u001b[39m \u001b[33;03mBuilds a dictionary with the fields required to make the given transaction\u001b[39;00m\n\u001b[32m    316\u001b[39m \n\u001b[32m    317\u001b[39m \u001b[33;03mDon't call this directly, instead use :meth:`Contract.build_transaction`\u001b[39;00m\n\u001b[32m    318\u001b[39m \u001b[33;03mon your contract instance.\u001b[39;00m\n\u001b[32m    319\u001b[39m \u001b[33;03m\"\"\"\u001b[39;00m\n\u001b[32m    320\u001b[39m prepared_transaction = prepare_transaction(\n\u001b[32m    321\u001b[39m     address,\n\u001b[32m    322\u001b[39m     w3,\n\u001b[32m   (...)\u001b[39m\u001b[32m    328\u001b[39m     fn_kwargs=kwargs,\n\u001b[32m    329\u001b[39m )\n\u001b[32m--> \u001b[39m\u001b[32m331\u001b[39m prepared_transaction = \u001b[43mfill_transaction_defaults\u001b[49m\u001b[43m(\u001b[49m\u001b[43mw3\u001b[49m\u001b[43m,\u001b[49m\u001b[43m \u001b[49m\u001b[43mprepared_transaction\u001b[49m\u001b[43m)\u001b[49m\n\u001b[32m    333\u001b[39m \u001b[38;5;28;01mreturn\u001b[39;00m prepared_transaction\n",
      "\u001b[36mFile \u001b[39m\u001b[32m~/.local/lib/python3.13/site-packages/cytoolz/functoolz.pyx:268\u001b[39m, in \u001b[36mcytoolz.functoolz.curry.__call__\u001b[39m\u001b[34m()\u001b[39m\n",
      "\u001b[36mFile \u001b[39m\u001b[32m~/.local/lib/python3.13/site-packages/web3/_utils/transactions.py:141\u001b[39m, in \u001b[36mfill_transaction_defaults\u001b[39m\u001b[34m(w3, transaction)\u001b[39m\n\u001b[32m    137\u001b[39m     \u001b[38;5;28;01mif\u001b[39;00m w3 \u001b[38;5;129;01mis\u001b[39;00m \u001b[38;5;28;01mNone\u001b[39;00m:\n\u001b[32m    138\u001b[39m         \u001b[38;5;28;01mraise\u001b[39;00m Web3ValueError(\n\u001b[32m    139\u001b[39m             \u001b[33mf\u001b[39m\u001b[33m\"\u001b[39m\u001b[33mYou must specify a \u001b[39m\u001b[33m'\u001b[39m\u001b[38;5;132;01m{\u001b[39;00mkey\u001b[38;5;132;01m}\u001b[39;00m\u001b[33m'\u001b[39m\u001b[33m value in the transaction\u001b[39m\u001b[33m\"\u001b[39m\n\u001b[32m    140\u001b[39m         )\n\u001b[32m--> \u001b[39m\u001b[32m141\u001b[39m     default_val = \u001b[43mdefault_getter\u001b[49m\u001b[43m(\u001b[49m\u001b[43mw3\u001b[49m\u001b[43m,\u001b[49m\u001b[43m \u001b[49m\u001b[43mtransaction\u001b[49m\u001b[43m,\u001b[49m\u001b[43m \u001b[49m\u001b[43mdefaults\u001b[49m\u001b[43m)\u001b[49m\n\u001b[32m    142\u001b[39m \u001b[38;5;28;01melse\u001b[39;00m:\n\u001b[32m    143\u001b[39m     default_val = default_getter\n",
      "\u001b[36mFile \u001b[39m\u001b[32m~/.local/lib/python3.13/site-packages/web3/_utils/transactions.py:79\u001b[39m, in \u001b[36m<lambda>\u001b[39m\u001b[34m(w3, tx, _defaults)\u001b[39m\n\u001b[32m     42\u001b[39m TX_PARAM_LITERALS = Literal[\n\u001b[32m     43\u001b[39m     \u001b[33m\"\u001b[39m\u001b[33mtype\u001b[39m\u001b[33m\"\u001b[39m,\n\u001b[32m     44\u001b[39m     \u001b[33m\"\u001b[39m\u001b[33mfrom\u001b[39m\u001b[33m\"\u001b[39m,\n\u001b[32m   (...)\u001b[39m\u001b[32m     56\u001b[39m     \u001b[33m\"\u001b[39m\u001b[33mblobVersionedHashes\u001b[39m\u001b[33m\"\u001b[39m,\n\u001b[32m     57\u001b[39m ]\n\u001b[32m     59\u001b[39m VALID_TRANSACTION_PARAMS: List[TX_PARAM_LITERALS] = [\n\u001b[32m     60\u001b[39m     \u001b[33m\"\u001b[39m\u001b[33mtype\u001b[39m\u001b[33m\"\u001b[39m,\n\u001b[32m     61\u001b[39m     \u001b[33m\"\u001b[39m\u001b[33mfrom\u001b[39m\u001b[33m\"\u001b[39m,\n\u001b[32m   (...)\u001b[39m\u001b[32m     73\u001b[39m     \u001b[33m\"\u001b[39m\u001b[33mblobVersionedHashes\u001b[39m\u001b[33m\"\u001b[39m,\n\u001b[32m     74\u001b[39m ]\n\u001b[32m     76\u001b[39m TRANSACTION_DEFAULTS = {\n\u001b[32m     77\u001b[39m     \u001b[33m\"\u001b[39m\u001b[33mvalue\u001b[39m\u001b[33m\"\u001b[39m: \u001b[32m0\u001b[39m,\n\u001b[32m     78\u001b[39m     \u001b[33m\"\u001b[39m\u001b[33mdata\u001b[39m\u001b[33m\"\u001b[39m: \u001b[33mb\u001b[39m\u001b[33m\"\u001b[39m\u001b[33m\"\u001b[39m,\n\u001b[32m---> \u001b[39m\u001b[32m79\u001b[39m     \u001b[33m\"\u001b[39m\u001b[33mgas\u001b[39m\u001b[33m\"\u001b[39m: \u001b[38;5;28;01mlambda\u001b[39;00m w3, tx, _defaults: \u001b[43mw3\u001b[49m\u001b[43m.\u001b[49m\u001b[43meth\u001b[49m\u001b[43m.\u001b[49m\u001b[43mestimate_gas\u001b[49m\u001b[43m(\u001b[49m\u001b[43mtx\u001b[49m\u001b[43m)\u001b[49m,\n\u001b[32m     80\u001b[39m     \u001b[33m\"\u001b[39m\u001b[33mgasPrice\u001b[39m\u001b[33m\"\u001b[39m: \u001b[38;5;28;01mlambda\u001b[39;00m w3, tx, _defaults: w3.eth.generate_gas_price(tx),\n\u001b[32m     81\u001b[39m     \u001b[33m\"\u001b[39m\u001b[33mmaxPriorityFeePerGas\u001b[39m\u001b[33m\"\u001b[39m: \u001b[38;5;28;01mlambda\u001b[39;00m w3, _tx, _defaults: w3.eth.max_priority_fee,\n\u001b[32m     82\u001b[39m     \u001b[33m\"\u001b[39m\u001b[33mmaxFeePerGas\u001b[39m\u001b[33m\"\u001b[39m: (\n\u001b[32m     83\u001b[39m         \u001b[38;5;28;01mlambda\u001b[39;00m w3, tx, defaults: (\n\u001b[32m     84\u001b[39m             tx.get(\u001b[33m\"\u001b[39m\u001b[33mmaxPriorityFeePerGas\u001b[39m\u001b[33m\"\u001b[39m, defaults.get(\u001b[33m\"\u001b[39m\u001b[33mmaxPriorityFeePerGas\u001b[39m\u001b[33m\"\u001b[39m))\n\u001b[32m     85\u001b[39m             + (\u001b[32m2\u001b[39m * w3.eth.get_block(\u001b[33m\"\u001b[39m\u001b[33mlatest\u001b[39m\u001b[33m\"\u001b[39m)[\u001b[33m\"\u001b[39m\u001b[33mbaseFeePerGas\u001b[39m\u001b[33m\"\u001b[39m])\n\u001b[32m     86\u001b[39m         )\n\u001b[32m     87\u001b[39m     ),\n\u001b[32m     88\u001b[39m     \u001b[33m\"\u001b[39m\u001b[33mchainId\u001b[39m\u001b[33m\"\u001b[39m: \u001b[38;5;28;01mlambda\u001b[39;00m w3, _tx, _defaults: w3.eth.chain_id,\n\u001b[32m     89\u001b[39m }\n\u001b[32m     91\u001b[39m \u001b[38;5;28;01mif\u001b[39;00m TYPE_CHECKING:\n\u001b[32m     92\u001b[39m     \u001b[38;5;28;01mfrom\u001b[39;00m\u001b[38;5;250m \u001b[39m\u001b[34;01mweb3\u001b[39;00m\u001b[38;5;250m \u001b[39m\u001b[38;5;28;01mimport\u001b[39;00m (  \u001b[38;5;66;03m# noqa: F401\u001b[39;00m\n\u001b[32m     93\u001b[39m         AsyncWeb3,\n\u001b[32m     94\u001b[39m         Web3,\n\u001b[32m     95\u001b[39m     )\n",
      "\u001b[36mFile \u001b[39m\u001b[32m~/.local/lib/python3.13/site-packages/web3/eth/eth.py:316\u001b[39m, in \u001b[36mEth.estimate_gas\u001b[39m\u001b[34m(self, transaction, block_identifier, state_override)\u001b[39m\n\u001b[32m    310\u001b[39m \u001b[38;5;28;01mdef\u001b[39;00m\u001b[38;5;250m \u001b[39m\u001b[34mestimate_gas\u001b[39m(\n\u001b[32m    311\u001b[39m     \u001b[38;5;28mself\u001b[39m,\n\u001b[32m    312\u001b[39m     transaction: TxParams,\n\u001b[32m    313\u001b[39m     block_identifier: Optional[BlockIdentifier] = \u001b[38;5;28;01mNone\u001b[39;00m,\n\u001b[32m    314\u001b[39m     state_override: Optional[StateOverride] = \u001b[38;5;28;01mNone\u001b[39;00m,\n\u001b[32m    315\u001b[39m ) -> \u001b[38;5;28mint\u001b[39m:\n\u001b[32m--> \u001b[39m\u001b[32m316\u001b[39m     \u001b[38;5;28;01mreturn\u001b[39;00m \u001b[38;5;28;43mself\u001b[39;49m\u001b[43m.\u001b[49m\u001b[43m_estimate_gas\u001b[49m\u001b[43m(\u001b[49m\u001b[43mtransaction\u001b[49m\u001b[43m,\u001b[49m\u001b[43m \u001b[49m\u001b[43mblock_identifier\u001b[49m\u001b[43m,\u001b[49m\u001b[43m \u001b[49m\u001b[43mstate_override\u001b[49m\u001b[43m)\u001b[49m\n",
      "\u001b[36mFile \u001b[39m\u001b[32m~/.local/lib/python3.13/site-packages/web3/module.py:112\u001b[39m, in \u001b[36mretrieve_blocking_method_call_fn.<locals>.caller\u001b[39m\u001b[34m(*args, **kwargs)\u001b[39m\n\u001b[32m    105\u001b[39m     \u001b[38;5;28;01mreturn\u001b[39;00m LogFilter(eth_module=module, filter_id=err.filter_id)\n\u001b[32m    107\u001b[39m (\n\u001b[32m    108\u001b[39m     result_formatters,\n\u001b[32m    109\u001b[39m     error_formatters,\n\u001b[32m    110\u001b[39m     null_result_formatters,\n\u001b[32m    111\u001b[39m ) = response_formatters\n\u001b[32m--> \u001b[39m\u001b[32m112\u001b[39m result = \u001b[43mw3\u001b[49m\u001b[43m.\u001b[49m\u001b[43mmanager\u001b[49m\u001b[43m.\u001b[49m\u001b[43mrequest_blocking\u001b[49m\u001b[43m(\u001b[49m\n\u001b[32m    113\u001b[39m \u001b[43m    \u001b[49m\u001b[43mmethod_str\u001b[49m\u001b[43m,\u001b[49m\u001b[43m \u001b[49m\u001b[43mparams\u001b[49m\u001b[43m,\u001b[49m\u001b[43m \u001b[49m\u001b[43merror_formatters\u001b[49m\u001b[43m,\u001b[49m\u001b[43m \u001b[49m\u001b[43mnull_result_formatters\u001b[49m\n\u001b[32m    114\u001b[39m \u001b[43m\u001b[49m\u001b[43m)\u001b[49m\n\u001b[32m    115\u001b[39m \u001b[38;5;28;01mreturn\u001b[39;00m apply_result_formatters(result_formatters, result)\n",
      "\u001b[36mFile \u001b[39m\u001b[32m~/.local/lib/python3.13/site-packages/web3/manager.py:232\u001b[39m, in \u001b[36mRequestManager.request_blocking\u001b[39m\u001b[34m(self, method, params, error_formatters, null_result_formatters)\u001b[39m\n\u001b[32m    228\u001b[39m \u001b[38;5;250m\u001b[39m\u001b[33;03m\"\"\"\u001b[39;00m\n\u001b[32m    229\u001b[39m \u001b[33;03mMake a synchronous request using the provider\u001b[39;00m\n\u001b[32m    230\u001b[39m \u001b[33;03m\"\"\"\u001b[39;00m\n\u001b[32m    231\u001b[39m response = \u001b[38;5;28mself\u001b[39m._make_request(method, params)\n\u001b[32m--> \u001b[39m\u001b[32m232\u001b[39m \u001b[38;5;28;01mreturn\u001b[39;00m \u001b[38;5;28;43mself\u001b[39;49m\u001b[43m.\u001b[49m\u001b[43mformatted_response\u001b[49m\u001b[43m(\u001b[49m\n\u001b[32m    233\u001b[39m \u001b[43m    \u001b[49m\u001b[43mresponse\u001b[49m\u001b[43m,\u001b[49m\u001b[43m \u001b[49m\u001b[43mparams\u001b[49m\u001b[43m,\u001b[49m\u001b[43m \u001b[49m\u001b[43merror_formatters\u001b[49m\u001b[43m,\u001b[49m\u001b[43m \u001b[49m\u001b[43mnull_result_formatters\u001b[49m\n\u001b[32m    234\u001b[39m \u001b[43m\u001b[49m\u001b[43m)\u001b[49m\n",
      "\u001b[36mFile \u001b[39m\u001b[32m~/.local/lib/python3.13/site-packages/web3/manager.py:198\u001b[39m, in \u001b[36mRequestManager.formatted_response\u001b[39m\u001b[34m(self, response, params, error_formatters, null_result_formatters)\u001b[39m\n\u001b[32m    184\u001b[39m \u001b[38;5;28;01mdef\u001b[39;00m\u001b[38;5;250m \u001b[39m\u001b[34mformatted_response\u001b[39m(\n\u001b[32m    185\u001b[39m     \u001b[38;5;28mself\u001b[39m,\n\u001b[32m    186\u001b[39m     response: RPCResponse,\n\u001b[32m   (...)\u001b[39m\u001b[32m    189\u001b[39m     null_result_formatters: Optional[Callable[..., Any]] = \u001b[38;5;28;01mNone\u001b[39;00m,\n\u001b[32m    190\u001b[39m ) -> Any:\n\u001b[32m    191\u001b[39m     is_subscription_response = (\n\u001b[32m    192\u001b[39m         response.get(\u001b[33m\"\u001b[39m\u001b[33mmethod\u001b[39m\u001b[33m\"\u001b[39m) == \u001b[33m\"\u001b[39m\u001b[33meth_subscription\u001b[39m\u001b[33m\"\u001b[39m\n\u001b[32m    193\u001b[39m         \u001b[38;5;129;01mand\u001b[39;00m response.get(\u001b[33m\"\u001b[39m\u001b[33mparams\u001b[39m\u001b[33m\"\u001b[39m) \u001b[38;5;129;01mis\u001b[39;00m \u001b[38;5;129;01mnot\u001b[39;00m \u001b[38;5;28;01mNone\u001b[39;00m\n\u001b[32m    194\u001b[39m         \u001b[38;5;129;01mand\u001b[39;00m response[\u001b[33m\"\u001b[39m\u001b[33mparams\u001b[39m\u001b[33m\"\u001b[39m].get(\u001b[33m\"\u001b[39m\u001b[33msubscription\u001b[39m\u001b[33m\"\u001b[39m) \u001b[38;5;129;01mis\u001b[39;00m \u001b[38;5;129;01mnot\u001b[39;00m \u001b[38;5;28;01mNone\u001b[39;00m\n\u001b[32m    195\u001b[39m         \u001b[38;5;129;01mand\u001b[39;00m response[\u001b[33m\"\u001b[39m\u001b[33mparams\u001b[39m\u001b[33m\"\u001b[39m].get(\u001b[33m\"\u001b[39m\u001b[33mresult\u001b[39m\u001b[33m\"\u001b[39m) \u001b[38;5;129;01mis\u001b[39;00m \u001b[38;5;129;01mnot\u001b[39;00m \u001b[38;5;28;01mNone\u001b[39;00m\n\u001b[32m    196\u001b[39m     )\n\u001b[32m--> \u001b[39m\u001b[32m198\u001b[39m     \u001b[43mvalidate_rpc_response_and_raise_if_error\u001b[49m\u001b[43m(\u001b[49m\n\u001b[32m    199\u001b[39m \u001b[43m        \u001b[49m\u001b[43mresponse\u001b[49m\u001b[43m,\u001b[49m\n\u001b[32m    200\u001b[39m \u001b[43m        \u001b[49m\u001b[43merror_formatters\u001b[49m\u001b[43m,\u001b[49m\n\u001b[32m    201\u001b[39m \u001b[43m        \u001b[49m\u001b[43mis_subscription_response\u001b[49m\u001b[43m=\u001b[49m\u001b[43mis_subscription_response\u001b[49m\u001b[43m,\u001b[49m\n\u001b[32m    202\u001b[39m \u001b[43m        \u001b[49m\u001b[43mlogger\u001b[49m\u001b[43m=\u001b[49m\u001b[38;5;28;43mself\u001b[39;49m\u001b[43m.\u001b[49m\u001b[43mlogger\u001b[49m\u001b[43m,\u001b[49m\n\u001b[32m    203\u001b[39m \u001b[43m        \u001b[49m\u001b[43mparams\u001b[49m\u001b[43m=\u001b[49m\u001b[43mparams\u001b[49m\u001b[43m,\u001b[49m\n\u001b[32m    204\u001b[39m \u001b[43m    \u001b[49m\u001b[43m)\u001b[49m\n\u001b[32m    206\u001b[39m     \u001b[38;5;66;03m# format results\u001b[39;00m\n\u001b[32m    207\u001b[39m     \u001b[38;5;28;01mif\u001b[39;00m \u001b[33m\"\u001b[39m\u001b[33mresult\u001b[39m\u001b[33m\"\u001b[39m \u001b[38;5;129;01min\u001b[39;00m response:\n\u001b[32m    208\u001b[39m         \u001b[38;5;66;03m# Null values for result should apply null_result_formatters\u001b[39;00m\n\u001b[32m    209\u001b[39m         \u001b[38;5;66;03m# Skip when result not present in the response (fallback to False)\u001b[39;00m\n",
      "\u001b[36mFile \u001b[39m\u001b[32m~/.local/lib/python3.13/site-packages/web3/_utils/validation.py:397\u001b[39m, in \u001b[36mvalidate_rpc_response_and_raise_if_error\u001b[39m\u001b[34m(response, error_formatters, is_subscription_response, logger, params)\u001b[39m\n\u001b[32m    393\u001b[39m \u001b[38;5;28;01mif\u001b[39;00m web3_rpc_error \u001b[38;5;129;01mis\u001b[39;00m \u001b[38;5;28;01mNone\u001b[39;00m:\n\u001b[32m    394\u001b[39m     \u001b[38;5;66;03m# if no condition was met above, raise a more generic `Web3RPCError`\u001b[39;00m\n\u001b[32m    395\u001b[39m     web3_rpc_error = Web3RPCError(\u001b[38;5;28mrepr\u001b[39m(error), rpc_response=response)\n\u001b[32m--> \u001b[39m\u001b[32m397\u001b[39m response = \u001b[43mapply_error_formatters\u001b[49m\u001b[43m(\u001b[49m\u001b[43merror_formatters\u001b[49m\u001b[43m,\u001b[49m\u001b[43m \u001b[49m\u001b[43mresponse\u001b[49m\u001b[43m)\u001b[49m\n\u001b[32m    398\u001b[39m \u001b[38;5;28;01mif\u001b[39;00m logger \u001b[38;5;129;01mis\u001b[39;00m \u001b[38;5;129;01mnot\u001b[39;00m \u001b[38;5;28;01mNone\u001b[39;00m:\n\u001b[32m    399\u001b[39m     logger.debug(\u001b[33mf\u001b[39m\u001b[33m\"\u001b[39m\u001b[33mRPC error response: \u001b[39m\u001b[38;5;132;01m{\u001b[39;00mresponse\u001b[38;5;132;01m}\u001b[39;00m\u001b[33m\"\u001b[39m)\n",
      "\u001b[36mFile \u001b[39m\u001b[32m~/.local/lib/python3.13/site-packages/web3/_utils/formatters.py:146\u001b[39m, in \u001b[36mapply_error_formatters\u001b[39m\u001b[34m(error_formatters, response)\u001b[39m\n\u001b[32m    141\u001b[39m \u001b[38;5;28;01mdef\u001b[39;00m\u001b[38;5;250m \u001b[39m\u001b[34mapply_error_formatters\u001b[39m(\n\u001b[32m    142\u001b[39m     error_formatters: Callable[..., Any],\n\u001b[32m    143\u001b[39m     response: RPCResponse,\n\u001b[32m    144\u001b[39m ) -> RPCResponse:\n\u001b[32m    145\u001b[39m     \u001b[38;5;28;01mif\u001b[39;00m error_formatters:\n\u001b[32m--> \u001b[39m\u001b[32m146\u001b[39m         formatted_resp = \u001b[43mpipe\u001b[49m\u001b[43m(\u001b[49m\u001b[43mresponse\u001b[49m\u001b[43m,\u001b[49m\u001b[43m \u001b[49m\u001b[43merror_formatters\u001b[49m\u001b[43m)\u001b[49m\n\u001b[32m    147\u001b[39m         \u001b[38;5;28;01mreturn\u001b[39;00m formatted_resp\n\u001b[32m    148\u001b[39m     \u001b[38;5;28;01melse\u001b[39;00m:\n",
      "\u001b[36mFile \u001b[39m\u001b[32m~/.local/lib/python3.13/site-packages/cytoolz/functoolz.pyx:685\u001b[39m, in \u001b[36mcytoolz.functoolz.pipe\u001b[39m\u001b[34m()\u001b[39m\n",
      "\u001b[36mFile \u001b[39m\u001b[32m~/.local/lib/python3.13/site-packages/cytoolz/functoolz.pyx:660\u001b[39m, in \u001b[36mcytoolz.functoolz.c_pipe\u001b[39m\u001b[34m()\u001b[39m\n",
      "\u001b[36mFile \u001b[39m\u001b[32m~/.local/lib/python3.13/site-packages/web3/_utils/error_formatters_utils.py:168\u001b[39m, in \u001b[36mraise_contract_logic_error_on_revert\u001b[39m\u001b[34m(response)\u001b[39m\n\u001b[32m    166\u001b[39m     \u001b[38;5;66;03m# Geth Revert without error message case:\u001b[39;00m\n\u001b[32m    167\u001b[39m     \u001b[38;5;28;01melif\u001b[39;00m \u001b[33m\"\u001b[39m\u001b[33mexecution reverted\u001b[39m\u001b[33m\"\u001b[39m \u001b[38;5;129;01min\u001b[39;00m message:\n\u001b[32m--> \u001b[39m\u001b[32m168\u001b[39m         \u001b[38;5;28;01mraise\u001b[39;00m ContractLogicError(\u001b[33m\"\u001b[39m\u001b[33mexecution reverted\u001b[39m\u001b[33m\"\u001b[39m, data=data)\n\u001b[32m    170\u001b[39m \u001b[38;5;28;01mreturn\u001b[39;00m response\n",
      "\u001b[31mContractLogicError\u001b[39m: ('execution reverted', 'no data')"
     ]
    }
   ],
   "source": [
    "revoke_name(me, b'aboba1')"
   ]
  },
  {
   "cell_type": "code",
   "execution_count": null,
   "id": "d09e79b7-aeef-4663-becb-eb67d267fc3b",
   "metadata": {},
   "outputs": [],
   "source": []
  }
 ],
 "metadata": {
  "kernelspec": {
   "display_name": "Python 3 (ipykernel)",
   "language": "python",
   "name": "python3"
  },
  "language_info": {
   "codemirror_mode": {
    "name": "ipython",
    "version": 3
   },
   "file_extension": ".py",
   "mimetype": "text/x-python",
   "name": "python",
   "nbconvert_exporter": "python",
   "pygments_lexer": "ipython3",
   "version": "3.13.2"
  }
 },
 "nbformat": 4,
 "nbformat_minor": 5
}
