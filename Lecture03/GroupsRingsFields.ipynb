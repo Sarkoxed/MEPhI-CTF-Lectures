{
 "cells": [
  {
   "cell_type": "markdown",
   "id": "4975c581-323a-48f0-a63f-8b8da4ced578",
   "metadata": {},
   "source": [
    "$5 * x \\equiv 6 \\pmod{11}$"
   ]
  },
  {
   "cell_type": "code",
   "execution_count": 1,
   "id": "5c52a802-1a96-4fc4-a26b-6447c0efca88",
   "metadata": {},
   "outputs": [
    {
     "data": {
      "text/plain": [
       "10"
      ]
     },
     "execution_count": 1,
     "metadata": {},
     "output_type": "execute_result"
    }
   ],
   "source": [
    "6 * pow(5, -1, 11) % 11"
   ]
  },
  {
   "cell_type": "markdown",
   "id": "6356efde-2b67-4c05-a64a-bb7a91735a40",
   "metadata": {},
   "source": [
    "$6 * x \\equiv 8 \\pmod{10}$\n",
    "\n",
    "$3 * x \\equiv 4 \\pmod{5}$"
   ]
  },
  {
   "cell_type": "code",
   "execution_count": 2,
   "id": "f150923f-f00d-4a6b-a780-98679704d879",
   "metadata": {},
   "outputs": [],
   "source": [
    "t = (4 * pow(3, -1, 5)) % 5"
   ]
  },
  {
   "cell_type": "code",
   "execution_count": 6,
   "id": "f58af55c-fe9e-42d4-aab9-c82a8a305bfd",
   "metadata": {},
   "outputs": [
    {
     "data": {
      "text/plain": [
       "8"
      ]
     },
     "execution_count": 6,
     "metadata": {},
     "output_type": "execute_result"
    }
   ],
   "source": [
    "6 * (t + 5) % 10"
   ]
  },
  {
   "cell_type": "code",
   "execution_count": 7,
   "id": "2ae74f08-ef43-4e81-8c4a-c5e64474b78d",
   "metadata": {},
   "outputs": [
    {
     "data": {
      "text/plain": [
       "3"
      ]
     },
     "execution_count": 7,
     "metadata": {},
     "output_type": "execute_result"
    }
   ],
   "source": [
    "t"
   ]
  },
  {
   "cell_type": "code",
   "execution_count": 8,
   "id": "c5c7ce3a-408d-48f5-96de-3e679f102471",
   "metadata": {},
   "outputs": [],
   "source": [
    "t = crt([0, 1, 4, 3], [2, 7, 25, 13])"
   ]
  },
  {
   "cell_type": "code",
   "execution_count": 9,
   "id": "da95f8b4-0b54-4578-8bac-98118050a465",
   "metadata": {},
   "outputs": [
    {
     "data": {
      "text/plain": [
       "2304"
      ]
     },
     "execution_count": 9,
     "metadata": {},
     "output_type": "execute_result"
    }
   ],
   "source": [
    "t"
   ]
  },
  {
   "cell_type": "code",
   "execution_count": 10,
   "id": "173d1107-f777-4bcf-a305-792d1d6df502",
   "metadata": {},
   "outputs": [
    {
     "data": {
      "text/plain": [
       "0"
      ]
     },
     "execution_count": 10,
     "metadata": {},
     "output_type": "execute_result"
    }
   ],
   "source": [
    "t % 2"
   ]
  },
  {
   "cell_type": "code",
   "execution_count": 11,
   "id": "66998479-8a26-4f52-b13a-18fe37303e58",
   "metadata": {},
   "outputs": [
    {
     "data": {
      "text/plain": [
       "3"
      ]
     },
     "execution_count": 11,
     "metadata": {},
     "output_type": "execute_result"
    }
   ],
   "source": [
    "t % 13"
   ]
  },
  {
   "cell_type": "code",
   "execution_count": 12,
   "id": "bd80d71f-48f1-4524-80a6-70defd865695",
   "metadata": {},
   "outputs": [
    {
     "data": {
      "text/plain": [
       "0"
      ]
     },
     "execution_count": 12,
     "metadata": {},
     "output_type": "execute_result"
    }
   ],
   "source": [
    "t % 4"
   ]
  },
  {
   "cell_type": "code",
   "execution_count": 13,
   "id": "411b65c5-8389-445b-be8c-a909f0e8320f",
   "metadata": {},
   "outputs": [
    {
     "data": {
      "text/plain": [
       "<class 'sage.rings.integer.Integer'>"
      ]
     },
     "execution_count": 13,
     "metadata": {},
     "output_type": "execute_result"
    }
   ],
   "source": [
    "type(t)"
   ]
  },
  {
   "cell_type": "code",
   "execution_count": 14,
   "id": "89f15ba7-457b-4326-bd93-a0d119b5bc14",
   "metadata": {},
   "outputs": [],
   "source": [
    "n = 2 * 7 * 25 * 13"
   ]
  },
  {
   "cell_type": "code",
   "execution_count": 15,
   "id": "617d5da3-a025-4849-8633-589fbf6e093a",
   "metadata": {},
   "outputs": [
    {
     "data": {
      "text/plain": [
       "4550"
      ]
     },
     "execution_count": 15,
     "metadata": {},
     "output_type": "execute_result"
    }
   ],
   "source": [
    "n"
   ]
  },
  {
   "cell_type": "code",
   "execution_count": 16,
   "id": "655f3058-aa11-4359-b358-881201704cb4",
   "metadata": {},
   "outputs": [],
   "source": [
    "n = 10"
   ]
  },
  {
   "cell_type": "code",
   "execution_count": 17,
   "id": "0869b717-d0f5-4dc1-a94f-b08f90258bd6",
   "metadata": {},
   "outputs": [],
   "source": [
    "G = Zmod(10)"
   ]
  },
  {
   "cell_type": "code",
   "execution_count": 18,
   "id": "a5c14dc6-658a-405f-ae69-9edfdd5a20f7",
   "metadata": {},
   "outputs": [],
   "source": [
    "H1 = [0, 5]"
   ]
  },
  {
   "cell_type": "code",
   "execution_count": 19,
   "id": "f35716fc-5b31-4398-82fc-29b1d7a2cbe4",
   "metadata": {},
   "outputs": [],
   "source": [
    "H2 = [0, 2, 4, 6, 8]"
   ]
  },
  {
   "cell_type": "code",
   "execution_count": 20,
   "id": "691b077d-5d03-46e7-bca6-4cf791d7f0d6",
   "metadata": {},
   "outputs": [
    {
     "data": {
      "text/plain": [
       "[0, 1, 2, 3, 4, 5, 6, 7, 8, 9]"
      ]
     },
     "execution_count": 20,
     "metadata": {},
     "output_type": "execute_result"
    }
   ],
   "source": [
    "list(G)"
   ]
  },
  {
   "cell_type": "code",
   "execution_count": 23,
   "id": "9d858d6f-b98b-4e52-bb09-fccbd0adad67",
   "metadata": {},
   "outputs": [
    {
     "data": {
      "text/plain": [
       "[0, 2, 4, 6, 8, 5, 7, 9, 1, 3]"
      ]
     },
     "execution_count": 23,
     "metadata": {},
     "output_type": "execute_result"
    }
   ],
   "source": [
    "[(a + b) % 10 for a in H1 for b in H2]"
   ]
  },
  {
   "cell_type": "code",
   "execution_count": 24,
   "id": "8482293f-94d6-4585-84d1-db909798ed7f",
   "metadata": {},
   "outputs": [
    {
     "data": {
      "text/plain": [
       "3"
      ]
     },
     "execution_count": 24,
     "metadata": {},
     "output_type": "execute_result"
    }
   ],
   "source": [
    "crt([3, 1], [5, 2])"
   ]
  },
  {
   "cell_type": "markdown",
   "id": "3eaa9838-f42d-466d-991d-4d458d3f74b9",
   "metadata": {},
   "source": [
    "$\\mathbb{Z}$\n",
    "\n",
    "$\\mathbb{Z}[x] =$ { $a_0 + a_1 * x + a_2 * x^2 + ... + a_n * x^n | a_i \\in \\mathbb{Z}$ }\n",
    "\n",
    "$\\mathbb{Z}[[x]]$"
   ]
  },
  {
   "cell_type": "code",
   "execution_count": 25,
   "id": "5f918a7a-ef83-4df6-9246-de2cb3087bd7",
   "metadata": {},
   "outputs": [],
   "source": [
    "P = PolynomialRing(QQ, x)"
   ]
  },
  {
   "cell_type": "code",
   "execution_count": 26,
   "id": "81963961-bf9e-4ff9-85b2-60f4ae1cf73e",
   "metadata": {},
   "outputs": [
    {
     "data": {
      "text/plain": [
       "Univariate Polynomial Ring in x over Rational Field"
      ]
     },
     "execution_count": 26,
     "metadata": {},
     "output_type": "execute_result"
    }
   ],
   "source": [
    "P"
   ]
  },
  {
   "cell_type": "code",
   "execution_count": 27,
   "id": "29b489f1-4b3c-43ba-a15b-2bcd986f5f12",
   "metadata": {},
   "outputs": [],
   "source": [
    "a, b = P.random_element(degree = 5), P.random_element(degree=3)"
   ]
  },
  {
   "cell_type": "code",
   "execution_count": 28,
   "id": "284402cc-0a86-4504-b618-a605c0028fa7",
   "metadata": {},
   "outputs": [
    {
     "data": {
      "text/plain": [
       "(x^5 + 2*x^2 + 1/2*x, -2/17*x^3 + x^2 - x - 2)"
      ]
     },
     "execution_count": 28,
     "metadata": {},
     "output_type": "execute_result"
    }
   ],
   "source": [
    "a, b"
   ]
  },
  {
   "cell_type": "markdown",
   "id": "ead78b81-56e9-4e01-9ba8-c72391c3ae45",
   "metadata": {},
   "source": [
    "Irreducible: x^2 + 1 = (x - i)*(x + i)\n",
    "\n"
   ]
  },
  {
   "cell_type": "code",
   "execution_count": 32,
   "id": "b9ad28bc-7107-41a8-a7c0-e73c35ec63bf",
   "metadata": {},
   "outputs": [],
   "source": [
    "P = PolynomialRing(GF(5), x)"
   ]
  },
  {
   "cell_type": "code",
   "execution_count": 33,
   "id": "1d34eede-87d9-4c9b-9676-659fbbcbc2ed",
   "metadata": {},
   "outputs": [
    {
     "data": {
      "text/plain": [
       "Univariate Polynomial Ring in x over Finite Field of size 5"
      ]
     },
     "execution_count": 33,
     "metadata": {},
     "output_type": "execute_result"
    }
   ],
   "source": [
    "P"
   ]
  },
  {
   "cell_type": "code",
   "execution_count": 42,
   "id": "8a787c09-c26d-40aa-837a-095d3628e7f9",
   "metadata": {},
   "outputs": [],
   "source": [
    "a = P.random_element(degree=5).monic()"
   ]
  },
  {
   "cell_type": "code",
   "execution_count": 43,
   "id": "f6df28a6-5e44-490e-ace1-588b00e6b2da",
   "metadata": {},
   "outputs": [
    {
     "data": {
      "text/plain": [
       "x^5 + 2*x^4 + 4*x^3 + 3*x^2 + 3*x + 4"
      ]
     },
     "execution_count": 43,
     "metadata": {},
     "output_type": "execute_result"
    }
   ],
   "source": [
    "a"
   ]
  },
  {
   "cell_type": "code",
   "execution_count": 44,
   "id": "69ef0517-4166-4674-a5ab-48d6c78786cd",
   "metadata": {},
   "outputs": [
    {
     "data": {
      "text/plain": [
       "False"
      ]
     },
     "execution_count": 44,
     "metadata": {},
     "output_type": "execute_result"
    }
   ],
   "source": [
    "a.is_irreducible()"
   ]
  },
  {
   "cell_type": "code",
   "execution_count": 45,
   "id": "c1e907c3-f0b2-4ef7-855e-97725e165258",
   "metadata": {},
   "outputs": [
    {
     "data": {
      "text/plain": [
       "(x^2 + 4*x + 2) * (x^3 + 3*x^2 + 2)"
      ]
     },
     "execution_count": 45,
     "metadata": {},
     "output_type": "execute_result"
    }
   ],
   "source": [
    "factor(a)"
   ]
  },
  {
   "cell_type": "code",
   "execution_count": 39,
   "id": "ea07d0ff-beca-49f1-a483-e458d700e4c2",
   "metadata": {},
   "outputs": [
    {
     "data": {
      "text/plain": [
       "0"
      ]
     },
     "execution_count": 39,
     "metadata": {},
     "output_type": "execute_result"
    }
   ],
   "source": [
    "a(x=3)"
   ]
  },
  {
   "cell_type": "markdown",
   "id": "4ee7c9c6-f513-4f31-bdf7-7a2143383f43",
   "metadata": {},
   "source": [
    "$p$ - простое\n",
    "\n",
    "$a$ - взаимно простое с $p$\n",
    "\n",
    "$a^{p-1} = 1 \\pmod{p}$\n",
    "\n",
    "\n",
    "$a^p = a \\pmod{p}$\n",
    "\n",
    "$x^p - x \\pmod{p}$"
   ]
  },
  {
   "cell_type": "code",
   "execution_count": 46,
   "id": "0bfb2191-b9c3-41f3-8f55-a0f43e50364d",
   "metadata": {},
   "outputs": [
    {
     "data": {
      "text/plain": [
       "x * (x + 1) * (x + 2) * (x + 3) * (x + 4)"
      ]
     },
     "execution_count": 46,
     "metadata": {},
     "output_type": "execute_result"
    }
   ],
   "source": [
    "factor(P(x^5 -x))"
   ]
  },
  {
   "cell_type": "code",
   "execution_count": 47,
   "id": "5e590fc1-7113-49ac-ab48-0bc09bc2d432",
   "metadata": {},
   "outputs": [
    {
     "data": {
      "text/plain": [
       "1"
      ]
     },
     "execution_count": 47,
     "metadata": {},
     "output_type": "execute_result"
    }
   ],
   "source": [
    "gcd(P(x^5 - x), a)"
   ]
  },
  {
   "cell_type": "code",
   "execution_count": 49,
   "id": "3704c442-83d3-4619-9f1c-8f1afe1f96d0",
   "metadata": {},
   "outputs": [],
   "source": [
    "while not a.is_irreducible():\n",
    "    a = P.random_element(degree=5).monic()"
   ]
  },
  {
   "cell_type": "code",
   "execution_count": 54,
   "id": "cd1944d9-5dae-4c75-a56e-568e6bb9b890",
   "metadata": {},
   "outputs": [
    {
     "data": {
      "text/plain": [
       "True"
      ]
     },
     "execution_count": 54,
     "metadata": {},
     "output_type": "execute_result"
    }
   ],
   "source": [
    "a.is_irreducible()"
   ]
  },
  {
   "cell_type": "code",
   "execution_count": 55,
   "id": "6f051915-189d-4638-9418-38c8bd85a99c",
   "metadata": {},
   "outputs": [],
   "source": [
    "Q = P.quotient_ring(a)"
   ]
  },
  {
   "cell_type": "code",
   "execution_count": 56,
   "id": "c6568d15-30bd-41b8-93cf-70e1db0e54a9",
   "metadata": {},
   "outputs": [
    {
     "data": {
      "text/plain": [
       "Univariate Quotient Polynomial Ring in xbar over Finite Field of size 5 with modulus x^5 + 2*x^4 + 4*x^3 + x + 1"
      ]
     },
     "execution_count": 56,
     "metadata": {},
     "output_type": "execute_result"
    }
   ],
   "source": [
    "Q"
   ]
  },
  {
   "cell_type": "code",
   "execution_count": 57,
   "id": "cfc8565f-21d7-41bd-8147-c9d534094aad",
   "metadata": {},
   "outputs": [
    {
     "data": {
      "text/plain": [
       "True"
      ]
     },
     "execution_count": 57,
     "metadata": {},
     "output_type": "execute_result"
    }
   ],
   "source": [
    "Q.is_field()"
   ]
  },
  {
   "cell_type": "code",
   "execution_count": 58,
   "id": "b3f0d6ea-2609-4fa4-88ef-d906ca18176b",
   "metadata": {},
   "outputs": [],
   "source": [
    "b = Q.random_element()"
   ]
  },
  {
   "cell_type": "code",
   "execution_count": 59,
   "id": "e82aed7b-0855-4be8-bd87-22aaad6db935",
   "metadata": {},
   "outputs": [
    {
     "data": {
      "text/plain": [
       "4*xbar^4 + 4*xbar^3 + 2*xbar^2 + 4*xbar + 1"
      ]
     },
     "execution_count": 59,
     "metadata": {},
     "output_type": "execute_result"
    }
   ],
   "source": [
    "b"
   ]
  },
  {
   "cell_type": "code",
   "execution_count": 60,
   "id": "a21eb279-8805-43f0-b5e7-706b080efbb3",
   "metadata": {},
   "outputs": [
    {
     "data": {
      "text/plain": [
       "2*xbar^3 + 2*xbar^2 + 2*xbar + 4"
      ]
     },
     "execution_count": 60,
     "metadata": {},
     "output_type": "execute_result"
    }
   ],
   "source": [
    "b^-1"
   ]
  },
  {
   "cell_type": "code",
   "execution_count": 61,
   "id": "7ce7e23c-ee60-46d6-9907-15bb10ae485e",
   "metadata": {},
   "outputs": [
    {
     "data": {
      "text/plain": [
       "1"
      ]
     },
     "execution_count": 61,
     "metadata": {},
     "output_type": "execute_result"
    }
   ],
   "source": [
    "b * b^-1"
   ]
  },
  {
   "cell_type": "code",
   "execution_count": 73,
   "id": "f2d7afbb-be7a-408c-bee7-9c1af38849b5",
   "metadata": {},
   "outputs": [],
   "source": [
    "a = P.random_element(degree=10).monic()"
   ]
  },
  {
   "cell_type": "code",
   "execution_count": 74,
   "id": "33366f5d-d2e8-4abc-afe6-14274afda552",
   "metadata": {},
   "outputs": [
    {
     "data": {
      "text/plain": [
       "False"
      ]
     },
     "execution_count": 74,
     "metadata": {},
     "output_type": "execute_result"
    }
   ],
   "source": [
    "a.is_irreducible()"
   ]
  },
  {
   "cell_type": "code",
   "execution_count": 75,
   "id": "ff8a49bb-9ccf-45af-819b-d86497f3ee4d",
   "metadata": {},
   "outputs": [],
   "source": [
    "Q = P.quotient_ring(a)"
   ]
  },
  {
   "cell_type": "code",
   "execution_count": 76,
   "id": "c5de227b-4353-46a6-adb7-70ccadc490c5",
   "metadata": {},
   "outputs": [
    {
     "data": {
      "text/plain": [
       "False"
      ]
     },
     "execution_count": 76,
     "metadata": {},
     "output_type": "execute_result"
    }
   ],
   "source": [
    "Q.is_field()"
   ]
  },
  {
   "cell_type": "code",
   "execution_count": 82,
   "id": "422bb715-0803-4e6d-9858-feb6bb7a15ec",
   "metadata": {},
   "outputs": [],
   "source": [
    "a1, a2 = factor(a)\n",
    "a1 = a1[0]\n",
    "a2 = a2[0]\n"
   ]
  },
  {
   "cell_type": "code",
   "execution_count": 83,
   "id": "594a46a6-d1a7-48d0-a1b2-b09857bdce83",
   "metadata": {},
   "outputs": [
    {
     "data": {
      "text/plain": [
       "(x^4 + 4*x^3 + 2*x + 2, x^6 + 3*x^5 + 4*x^4 + 2*x^2 + 4*x + 4)"
      ]
     },
     "execution_count": 83,
     "metadata": {},
     "output_type": "execute_result"
    }
   ],
   "source": [
    "a1, a2"
   ]
  },
  {
   "cell_type": "code",
   "execution_count": 85,
   "id": "d159018f-c7e9-461a-8ff0-8b7e67684c02",
   "metadata": {},
   "outputs": [],
   "source": [
    "c = Q.random_element().lift()"
   ]
  },
  {
   "cell_type": "code",
   "execution_count": 86,
   "id": "bef097b9-048f-481c-bc39-153309ffe812",
   "metadata": {},
   "outputs": [
    {
     "data": {
      "text/plain": [
       "2*x^9 + x^8 + 2*x^6 + 4*x^5 + 2*x^4 + x^3 + 2*x"
      ]
     },
     "execution_count": 86,
     "metadata": {},
     "output_type": "execute_result"
    }
   ],
   "source": [
    "c"
   ]
  },
  {
   "cell_type": "code",
   "execution_count": 88,
   "id": "1ade22c2-afed-4f62-a902-090e61a8d5ee",
   "metadata": {},
   "outputs": [],
   "source": [
    "c1 = c % a1"
   ]
  },
  {
   "cell_type": "code",
   "execution_count": 89,
   "id": "d48d2451-999f-47bc-8c5a-d8dd94a28a06",
   "metadata": {},
   "outputs": [],
   "source": [
    "c2 = c % a2"
   ]
  },
  {
   "cell_type": "code",
   "execution_count": 90,
   "id": "afaf7075-4971-4050-8add-099014969908",
   "metadata": {},
   "outputs": [
    {
     "data": {
      "text/plain": [
       "(3*x^3 + 3*x^2 + 2*x, 4*x^5 + 4*x^3 + 1)"
      ]
     },
     "execution_count": 90,
     "metadata": {},
     "output_type": "execute_result"
    }
   ],
   "source": [
    "c1, c2"
   ]
  },
  {
   "cell_type": "code",
   "execution_count": 91,
   "id": "5399a122-f740-4fa3-a215-32dce4fe65c7",
   "metadata": {},
   "outputs": [
    {
     "data": {
      "text/plain": [
       "2*x^9 + x^8 + 2*x^6 + 4*x^5 + 2*x^4 + x^3 + 2*x"
      ]
     },
     "execution_count": 91,
     "metadata": {},
     "output_type": "execute_result"
    }
   ],
   "source": [
    "crt([c1, c2], [a1, a2])"
   ]
  },
  {
   "cell_type": "markdown",
   "id": "8570c5be-6c0a-4a8a-a197-d0cab111a3c1",
   "metadata": {},
   "source": [
    "$\\frac{\\mathbb{R}[x]}{x^2 + 1} \\cong \\mathbb{C}$\n",
    "\n",
    "\n",
    "$x^2 = -1$"
   ]
  },
  {
   "cell_type": "code",
   "execution_count": 94,
   "id": "aec2f4bd-3d52-4b67-92a6-ed04bd4af854",
   "metadata": {},
   "outputs": [
    {
     "data": {
      "text/plain": [
       "1"
      ]
     },
     "execution_count": 94,
     "metadata": {},
     "output_type": "execute_result"
    }
   ],
   "source": [
    "P1 = PolynomialRing(QQ, x)\n",
    "P1(x^3 + x + 1) % P1(x^2 + 1)"
   ]
  },
  {
   "cell_type": "code",
   "execution_count": null,
   "id": "26ab54ac-c736-4948-be97-aadaa160c3f2",
   "metadata": {},
   "outputs": [],
   "source": [
    "x^3 + x + 1 = x^2 * x + x + 1 = -1 * x + x + 1 = 1"
   ]
  },
  {
   "cell_type": "code",
   "execution_count": 95,
   "id": "e13cf041-8305-4425-b943-f8dc658c230f",
   "metadata": {},
   "outputs": [],
   "source": [
    "G1 = GF(5)"
   ]
  },
  {
   "cell_type": "code",
   "execution_count": 96,
   "id": "72670511-b795-47ea-ba0b-d05e243ef211",
   "metadata": {},
   "outputs": [],
   "source": [
    "P2 = PolynomialRing(GF(5), x)"
   ]
  },
  {
   "cell_type": "code",
   "execution_count": 98,
   "id": "ba4357ee-7aae-4042-81e5-f706da376e2c",
   "metadata": {},
   "outputs": [
    {
     "data": {
      "text/plain": [
       "x^3 + x + 1"
      ]
     },
     "execution_count": 98,
     "metadata": {},
     "output_type": "execute_result"
    }
   ],
   "source": [
    "P2(x^3 + x + 1).factor()"
   ]
  },
  {
   "cell_type": "code",
   "execution_count": 99,
   "id": "19e225dc-8a46-4430-9e43-4ef616a1821d",
   "metadata": {},
   "outputs": [],
   "source": [
    "Q2 = P2.quotient_ring(x^3 + x + 1)"
   ]
  },
  {
   "cell_type": "code",
   "execution_count": 100,
   "id": "b3621cae-ccb5-493c-be8a-e1068efac6a9",
   "metadata": {},
   "outputs": [
    {
     "data": {
      "text/plain": [
       "Univariate Quotient Polynomial Ring in xbar over Finite Field of size 5 with modulus x^3 + x + 1"
      ]
     },
     "execution_count": 100,
     "metadata": {},
     "output_type": "execute_result"
    }
   ],
   "source": [
    "Q2"
   ]
  },
  {
   "cell_type": "markdown",
   "id": "5811b846-bd17-480d-9ec9-8071cd62110c",
   "metadata": {},
   "source": [
    "$Q_2 =$ { $a_0 + a_1 * x + a_2 * x^2 | a_i \\in GF(5)$ }\n",
    "\n",
    "$x^3 = -x - 1$\n",
    "\n",
    "$Char(Q_2) = 5$\n",
    "\n",
    "$|Q_2| = 5^3$\n",
    "\n",
    "$|Q_2^*| = 5^3 - 1$"
   ]
  },
  {
   "cell_type": "code",
   "execution_count": 121,
   "id": "092f2a74-872b-4b17-80a8-ed965692bdda",
   "metadata": {},
   "outputs": [
    {
     "data": {
      "text/plain": [
       "Univariate Quotient Polynomial Ring in xbar over Finite Field of size 5 with modulus x^3 + x^2 + 2"
      ]
     },
     "execution_count": 121,
     "metadata": {},
     "output_type": "execute_result"
    }
   ],
   "source": [
    "Q2"
   ]
  },
  {
   "cell_type": "code",
   "execution_count": 102,
   "id": "9d45f85b-14af-47f9-bd86-6b9760c6fc18",
   "metadata": {},
   "outputs": [
    {
     "data": {
      "text/plain": [
       "False"
      ]
     },
     "execution_count": 102,
     "metadata": {},
     "output_type": "execute_result"
    }
   ],
   "source": [
    "P2(x^3 + x + 1).is_primitive()"
   ]
  },
  {
   "cell_type": "code",
   "execution_count": 104,
   "id": "0620653c-5443-4bd3-a290-4010981fc93c",
   "metadata": {},
   "outputs": [],
   "source": [
    "a = P2.random_element(degree = 3)\n",
    "while not a.is_primitive():\n",
    "    a = P2.random_element(degree = 3).monic()"
   ]
  },
  {
   "cell_type": "code",
   "execution_count": 105,
   "id": "4bc3b0cc-0c1c-448b-9922-665281ab7f42",
   "metadata": {},
   "outputs": [
    {
     "data": {
      "text/plain": [
       "True"
      ]
     },
     "execution_count": 105,
     "metadata": {},
     "output_type": "execute_result"
    }
   ],
   "source": [
    "a.is_primitive()"
   ]
  },
  {
   "cell_type": "code",
   "execution_count": 106,
   "id": "c9a25173-ecec-47b9-8402-549e72d13899",
   "metadata": {},
   "outputs": [
    {
     "data": {
      "text/plain": [
       "x^3 + x^2 + 2"
      ]
     },
     "execution_count": 106,
     "metadata": {},
     "output_type": "execute_result"
    }
   ],
   "source": [
    "a"
   ]
  },
  {
   "cell_type": "code",
   "execution_count": 107,
   "id": "63b6731b-62e1-4749-b5ad-ea58be2ebc26",
   "metadata": {},
   "outputs": [],
   "source": [
    "Q2 = P2.quotient(a)"
   ]
  },
  {
   "cell_type": "code",
   "execution_count": 113,
   "id": "d1874724-297d-4ae3-bfa1-1856f86e7119",
   "metadata": {},
   "outputs": [],
   "source": [
    "G2 = GF(5^3)"
   ]
  },
  {
   "cell_type": "code",
   "execution_count": 115,
   "id": "0abc99bc-9894-4364-ab73-77241d641658",
   "metadata": {},
   "outputs": [
    {
     "data": {
      "text/plain": [
       "x^3 + 3*x + 3"
      ]
     },
     "execution_count": 115,
     "metadata": {},
     "output_type": "execute_result"
    }
   ],
   "source": [
    "G2.modulus()"
   ]
  },
  {
   "cell_type": "code",
   "execution_count": 118,
   "id": "5a9df2cd-7d36-43ef-9cf7-cd3645ee3236",
   "metadata": {},
   "outputs": [
    {
     "data": {
      "text/plain": [
       "124"
      ]
     },
     "execution_count": 118,
     "metadata": {},
     "output_type": "execute_result"
    }
   ],
   "source": [
    "G2([0, 1]).multiplicative_order()"
   ]
  },
  {
   "cell_type": "code",
   "execution_count": 119,
   "id": "57be6a7b-100b-48dd-a4d8-9cfedd65bd12",
   "metadata": {},
   "outputs": [
    {
     "data": {
      "text/plain": [
       "124"
      ]
     },
     "execution_count": 119,
     "metadata": {},
     "output_type": "execute_result"
    }
   ],
   "source": [
    "5^3 - 1"
   ]
  },
  {
   "cell_type": "code",
   "execution_count": 122,
   "id": "37aa79df-55c4-4761-87db-20fcae35b19f",
   "metadata": {},
   "outputs": [
    {
     "data": {
      "text/plain": [
       "4*x^3 + 2*x^2 + 2*x + 1"
      ]
     },
     "execution_count": 122,
     "metadata": {},
     "output_type": "execute_result"
    }
   ],
   "source": [
    "P2.random_element(degree=3)"
   ]
  },
  {
   "cell_type": "code",
   "execution_count": 123,
   "id": "dcf490d6-0b83-416d-96de-f2881146ba67",
   "metadata": {},
   "outputs": [
    {
     "data": {
      "text/plain": [
       "Finite Field in z3 of size 5^3"
      ]
     },
     "execution_count": 123,
     "metadata": {},
     "output_type": "execute_result"
    }
   ],
   "source": [
    "G2"
   ]
  },
  {
   "cell_type": "code",
   "execution_count": 125,
   "id": "dc83b385-7936-464d-9e2b-42f50c9195e4",
   "metadata": {},
   "outputs": [],
   "source": [
    "g = G2([0, 1])"
   ]
  },
  {
   "cell_type": "code",
   "execution_count": 126,
   "id": "79813d92-91b6-4614-92be-b6a644e6a3ae",
   "metadata": {},
   "outputs": [
    {
     "data": {
      "text/plain": [
       "0"
      ]
     },
     "execution_count": 126,
     "metadata": {},
     "output_type": "execute_result"
    }
   ],
   "source": [
    "g^3 + 3 * g + 3"
   ]
  },
  {
   "cell_type": "code",
   "execution_count": 127,
   "id": "3d69ff10-3441-4a88-a29e-422e0e00dff7",
   "metadata": {},
   "outputs": [
    {
     "data": {
      "text/plain": [
       "[(z3, 1), (3*z3^2 + 1, 1), (2*z3^2 + 4*z3 + 4, 1)]"
      ]
     },
     "execution_count": 127,
     "metadata": {},
     "output_type": "execute_result"
    }
   ],
   "source": [
    "PolynomialRing(GF(5^3), x)(x^3 + 3 * x + 3).roots()"
   ]
  },
  {
   "cell_type": "code",
   "execution_count": 128,
   "id": "1e849207-6528-4119-a449-2529d918d08a",
   "metadata": {},
   "outputs": [
    {
     "data": {
      "text/plain": [
       "z3"
      ]
     },
     "execution_count": 128,
     "metadata": {},
     "output_type": "execute_result"
    }
   ],
   "source": [
    "g"
   ]
  },
  {
   "cell_type": "code",
   "execution_count": 129,
   "id": "17f2c28a-3a34-4e27-a2fb-d89f4b557d1e",
   "metadata": {},
   "outputs": [
    {
     "data": {
      "text/plain": [
       "2*z3^2 + 4*z3 + 4"
      ]
     },
     "execution_count": 129,
     "metadata": {},
     "output_type": "execute_result"
    }
   ],
   "source": [
    "g^(5)"
   ]
  },
  {
   "cell_type": "code",
   "execution_count": 132,
   "id": "d5041215-f6f0-461c-8a99-82574aba3d71",
   "metadata": {},
   "outputs": [
    {
     "data": {
      "text/plain": [
       "z3"
      ]
     },
     "execution_count": 132,
     "metadata": {},
     "output_type": "execute_result"
    }
   ],
   "source": [
    "g^125"
   ]
  },
  {
   "cell_type": "code",
   "execution_count": 143,
   "id": "b373fa07-f2a5-401b-bcaa-6f53bd5c5223",
   "metadata": {},
   "outputs": [],
   "source": [
    "p = random_prime(2**254)"
   ]
  },
  {
   "cell_type": "code",
   "execution_count": 145,
   "id": "b71671e1-e94a-4ef7-a74c-daab36480c91",
   "metadata": {},
   "outputs": [],
   "source": [
    "g = GF(p)"
   ]
  },
  {
   "cell_type": "code",
   "execution_count": 146,
   "id": "7daef652-21ac-4307-9847-c22eab44cfed",
   "metadata": {},
   "outputs": [
    {
     "data": {
      "text/plain": [
       "sqrt26380266683100999436926785881647285567438465670024146374516732211908969086870"
      ]
     },
     "execution_count": 146,
     "metadata": {},
     "output_type": "execute_result"
    }
   ],
   "source": [
    "g(-1).sqrt()"
   ]
  },
  {
   "cell_type": "code",
   "execution_count": 144,
   "id": "bb96f839-6738-496c-89ee-84f0fc385084",
   "metadata": {},
   "outputs": [
    {
     "data": {
      "text/plain": [
       "3"
      ]
     },
     "execution_count": 144,
     "metadata": {},
     "output_type": "execute_result"
    }
   ],
   "source": [
    "p % 4"
   ]
  },
  {
   "cell_type": "code",
   "execution_count": 148,
   "id": "4bd7b27e-8c98-4ed0-add4-165087ee7de1",
   "metadata": {},
   "outputs": [],
   "source": [
    "G3 = GF(p^2, x, modulus=x^2 + 1)"
   ]
  },
  {
   "cell_type": "code",
   "execution_count": 149,
   "id": "26bf745a-950c-4669-a0bf-c268660d841e",
   "metadata": {},
   "outputs": [
    {
     "data": {
      "text/plain": [
       "x"
      ]
     },
     "execution_count": 149,
     "metadata": {},
     "output_type": "execute_result"
    }
   ],
   "source": [
    "G3(-1).sqrt()"
   ]
  },
  {
   "cell_type": "code",
   "execution_count": 151,
   "id": "714bb9e6-006e-4007-85c8-082885a034dc",
   "metadata": {},
   "outputs": [],
   "source": [
    "p, q = random_prime(2**256), random_prime(2**256)"
   ]
  },
  {
   "cell_type": "code",
   "execution_count": 152,
   "id": "26d32f8e-7ca5-45bb-8c68-c11e10eb8744",
   "metadata": {},
   "outputs": [],
   "source": [
    "n = p * q"
   ]
  },
  {
   "cell_type": "code",
   "execution_count": 153,
   "id": "416c0991-832e-464e-a1a3-7e7270e51a8b",
   "metadata": {},
   "outputs": [],
   "source": [
    "k = randint(1, n-1)"
   ]
  },
  {
   "cell_type": "code",
   "execution_count": 154,
   "id": "d7489b56-07a8-4dda-80d4-d9e9426a1313",
   "metadata": {},
   "outputs": [
    {
     "data": {
      "text/plain": [
       "4902008345847393639684275762788337524105199944386372601607872301609598142253427519956455060902802158007807023943605000006238127739890706865284954747460055"
      ]
     },
     "execution_count": 154,
     "metadata": {},
     "output_type": "execute_result"
    }
   ],
   "source": [
    "k"
   ]
  },
  {
   "cell_type": "code",
   "execution_count": 155,
   "id": "0274f5ae-5005-4aa4-b89c-ffb49c71f49a",
   "metadata": {},
   "outputs": [
    {
     "data": {
      "text/plain": [
       "1"
      ]
     },
     "execution_count": 155,
     "metadata": {},
     "output_type": "execute_result"
    }
   ],
   "source": [
    "pow(k, (p - 1) * (q - 1), n)"
   ]
  },
  {
   "cell_type": "code",
   "execution_count": 156,
   "id": "61052334-d538-47ee-a02c-2752c2f6055b",
   "metadata": {},
   "outputs": [],
   "source": [
    "m = k"
   ]
  },
  {
   "cell_type": "code",
   "execution_count": 157,
   "id": "f5fa7b7a-9eb1-4411-8e7a-2f79e7ab4f91",
   "metadata": {},
   "outputs": [],
   "source": [
    "e = 0x10001\n",
    "c = pow(m, e, n)"
   ]
  },
  {
   "cell_type": "code",
   "execution_count": 158,
   "id": "7c794b7c-3233-4d04-9e80-b6d07247a265",
   "metadata": {},
   "outputs": [
    {
     "data": {
      "text/plain": [
       "5618942649611013077263947089183907317858202091277622612130121770704778814781636080117860502556929094880831863268992278203125601319791259454806685627411132"
      ]
     },
     "execution_count": 158,
     "metadata": {},
     "output_type": "execute_result"
    }
   ],
   "source": [
    "c"
   ]
  },
  {
   "cell_type": "code",
   "execution_count": 160,
   "id": "bf0315a7-4a35-4c39-bf7c-31fc67fac8b3",
   "metadata": {},
   "outputs": [
    {
     "data": {
      "text/plain": [
       "4"
      ]
     },
     "execution_count": 160,
     "metadata": {},
     "output_type": "execute_result"
    }
   ],
   "source": [
    "euler_phi(10)"
   ]
  },
  {
   "cell_type": "code",
   "execution_count": 162,
   "id": "564cbdbe-37ff-4652-9e99-38bb94ca8f6e",
   "metadata": {},
   "outputs": [],
   "source": [
    "d = pow(e, -1, (p - 1) * (q - 1))"
   ]
  },
  {
   "cell_type": "code",
   "execution_count": 163,
   "id": "25585238-05df-4c00-b001-70f40bdb325b",
   "metadata": {},
   "outputs": [
    {
     "data": {
      "text/plain": [
       "4902008345847393639684275762788337524105199944386372601607872301609598142253427519956455060902802158007807023943605000006238127739890706865284954747460055"
      ]
     },
     "execution_count": 163,
     "metadata": {},
     "output_type": "execute_result"
    }
   ],
   "source": [
    "m"
   ]
  },
  {
   "cell_type": "code",
   "execution_count": 164,
   "id": "2223ddce-8d9b-45a6-95e7-303cdd56bf57",
   "metadata": {},
   "outputs": [
    {
     "data": {
      "text/plain": [
       "5618942649611013077263947089183907317858202091277622612130121770704778814781636080117860502556929094880831863268992278203125601319791259454806685627411132"
      ]
     },
     "execution_count": 164,
     "metadata": {},
     "output_type": "execute_result"
    }
   ],
   "source": [
    "c"
   ]
  },
  {
   "cell_type": "code",
   "execution_count": 165,
   "id": "2e4e0e57-c5fc-4eba-90fc-d20a1ead94a2",
   "metadata": {},
   "outputs": [
    {
     "data": {
      "text/plain": [
       "4902008345847393639684275762788337524105199944386372601607872301609598142253427519956455060902802158007807023943605000006238127739890706865284954747460055"
      ]
     },
     "execution_count": 165,
     "metadata": {},
     "output_type": "execute_result"
    }
   ],
   "source": [
    "pow(c, d, n)"
   ]
  },
  {
   "cell_type": "code",
   "execution_count": 166,
   "id": "0ea2e4e1-70eb-4f74-bd01-469d9918a7b0",
   "metadata": {},
   "outputs": [
    {
     "data": {
      "text/plain": [
       "1"
      ]
     },
     "execution_count": 166,
     "metadata": {},
     "output_type": "execute_result"
    }
   ],
   "source": [
    "d*e % ((p -1 ) * (q - 1))"
   ]
  },
  {
   "cell_type": "markdown",
   "id": "7d4381e1-d80e-48ad-a92f-dd099941089b",
   "metadata": {},
   "source": [
    "$c^d = (m^e)^d = m^{(e * d)} = m \\pmod{n}$"
   ]
  },
  {
   "cell_type": "markdown",
   "id": "82e15f14-6cd0-47eb-990f-3901bb154460",
   "metadata": {},
   "source": [
    "$a, b, (a, b) = 1$\n",
    "\n",
    "$a * k + b * t = 1$\n",
    "\n",
    "$c_1 = m^{e_1} \\pmod{n}$\n",
    "\n",
    "$c_2 = m^{e_2} \\pmod{n}$\n",
    "\n",
    "$c_1^k * c_2^t = m^{e_1 * k + e_2 * t} = m^1 \\pmod{n}$"
   ]
  },
  {
   "cell_type": "markdown",
   "id": "23355226-4e23-4421-a524-eb27657cfe49",
   "metadata": {},
   "source": [
    "$\\phi(n) = (p - 1) * (q -1 ) = p * q - p - q + 1 = n - (p + q) + 1$\n",
    "\n",
    "$p + q = n - \\phi(n) + 1$\n",
    "\n",
    "$p * q = n$"
   ]
  },
  {
   "cell_type": "code",
   "execution_count": null,
   "id": "a0f882e5-a1da-4712-b338-37ef4660dc8d",
   "metadata": {},
   "outputs": [],
   "source": []
  }
 ],
 "metadata": {
  "kernelspec": {
   "display_name": "SageMath 10.2",
   "language": "sage",
   "name": "sagemath"
  },
  "language_info": {
   "codemirror_mode": {
    "name": "ipython",
    "version": 3
   },
   "file_extension": ".py",
   "mimetype": "text/x-python",
   "name": "python",
   "nbconvert_exporter": "python",
   "pygments_lexer": "ipython3",
   "version": "3.11.7"
  }
 },
 "nbformat": 4,
 "nbformat_minor": 5
}
