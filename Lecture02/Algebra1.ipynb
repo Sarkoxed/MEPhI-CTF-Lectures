{
 "cells": [
  {
   "cell_type": "code",
   "execution_count": 29,
   "id": "520bf425-6b6c-435a-bcab-efdc8c30b970",
   "metadata": {},
   "outputs": [],
   "source": [
    "M = MatrixSpace(ZZ, 3, 3)"
   ]
  },
  {
   "cell_type": "code",
   "execution_count": 30,
   "id": "73836a13-65df-4d2e-acb1-00eb819ae9f7",
   "metadata": {},
   "outputs": [],
   "source": [
    "A = M.random_element()\n",
    "B = M.random_element()"
   ]
  },
  {
   "cell_type": "code",
   "execution_count": 31,
   "id": "727c59a9-8f42-49f3-a28a-e5b4f35785ea",
   "metadata": {},
   "outputs": [
    {
     "data": {
      "text/plain": [
       "(\n",
       "[  0 -18   5]  [ 0  2 31]\n",
       "[-11  -1   3]  [ 3  0  2]\n",
       "[  4  -1  -1], [-1 10  1]\n",
       ")"
      ]
     },
     "execution_count": 31,
     "metadata": {},
     "output_type": "execute_result"
    }
   ],
   "source": [
    "A, B"
   ]
  },
  {
   "cell_type": "code",
   "execution_count": 36,
   "id": "275645f1-ef31-4fff-b28a-931512134897",
   "metadata": {},
   "outputs": [
    {
     "data": {
      "text/plain": [
       "False"
      ]
     },
     "execution_count": 36,
     "metadata": {},
     "output_type": "execute_result"
    }
   ],
   "source": [
    "A * B == B * A"
   ]
  },
  {
   "cell_type": "code",
   "execution_count": 28,
   "id": "71ef1172-0219-4cc8-9cea-8762f2f0f230",
   "metadata": {},
   "outputs": [
    {
     "data": {
      "text/plain": [
       "[-1  1 -1]\n",
       "[-1  5  0]"
      ]
     },
     "execution_count": 28,
     "metadata": {},
     "output_type": "execute_result"
    }
   ],
   "source": [
    "B.T"
   ]
  },
  {
   "cell_type": "code",
   "execution_count": 37,
   "id": "ca2395dd-f2e8-4d9e-a7eb-b64627e247d1",
   "metadata": {},
   "outputs": [],
   "source": [
    "p = PolynomialRing(QQ, x)"
   ]
  },
  {
   "cell_type": "code",
   "execution_count": 38,
   "id": "69d47e98-c978-43a5-82ab-8d3439f43cb1",
   "metadata": {},
   "outputs": [
    {
     "data": {
      "text/plain": [
       "-11*x^5 + 1/18*x^4 - 1/2*x^3 - x^2 + x + 2/5"
      ]
     },
     "execution_count": 38,
     "metadata": {},
     "output_type": "execute_result"
    }
   ],
   "source": [
    "p.random_element(degree=5)"
   ]
  },
  {
   "cell_type": "code",
   "execution_count": 39,
   "id": "713fed96-f70b-4907-b886-28950ec1acc0",
   "metadata": {},
   "outputs": [],
   "source": [
    "x, y, z = var('x, y, z')"
   ]
  },
  {
   "cell_type": "code",
   "execution_count": 40,
   "id": "bfed362d-3987-4bd0-ab40-576acaae9545",
   "metadata": {},
   "outputs": [],
   "source": [
    "p = PolynomialRing(QQ, [x, y, z])"
   ]
  },
  {
   "cell_type": "code",
   "execution_count": 41,
   "id": "106cf389-723a-4c2e-9045-3dae7b51acd6",
   "metadata": {},
   "outputs": [
    {
     "data": {
      "text/plain": [
       "Multivariate Polynomial Ring in x, y, z over Rational Field"
      ]
     },
     "execution_count": 41,
     "metadata": {},
     "output_type": "execute_result"
    }
   ],
   "source": [
    "p"
   ]
  },
  {
   "cell_type": "code",
   "execution_count": 42,
   "id": "4db5db07-a62c-4f6a-943f-d0ce20898fca",
   "metadata": {},
   "outputs": [
    {
     "data": {
      "text/plain": [
       "x^2 + y*z - 15*z^2 + 2/9*y"
      ]
     },
     "execution_count": 42,
     "metadata": {},
     "output_type": "execute_result"
    }
   ],
   "source": [
    "p.random_element()"
   ]
  },
  {
   "cell_type": "code",
   "execution_count": 43,
   "id": "926d9e6d-31e0-4421-b81d-2f2b35689162",
   "metadata": {},
   "outputs": [],
   "source": [
    "f = x^5"
   ]
  },
  {
   "cell_type": "code",
   "execution_count": 44,
   "id": "4404adc4-63ab-4519-a013-5319fb531cd1",
   "metadata": {},
   "outputs": [],
   "source": [
    "g = x^2 + x + 1"
   ]
  },
  {
   "cell_type": "code",
   "execution_count": 45,
   "id": "12f3f064-5e81-466a-b7f3-c48aa63700cf",
   "metadata": {},
   "outputs": [
    {
     "data": {
      "text/plain": [
       "(x^2 + x + 1)*x^5"
      ]
     },
     "execution_count": 45,
     "metadata": {},
     "output_type": "execute_result"
    }
   ],
   "source": [
    "f * g"
   ]
  },
  {
   "cell_type": "code",
   "execution_count": 46,
   "id": "04523376-324b-4de0-a2b8-8bdd8f0d3a0b",
   "metadata": {},
   "outputs": [
    {
     "data": {
      "text/plain": [
       "1"
      ]
     },
     "execution_count": 46,
     "metadata": {},
     "output_type": "execute_result"
    }
   ],
   "source": [
    "5 // 3"
   ]
  },
  {
   "cell_type": "code",
   "execution_count": 47,
   "id": "1a632333-625e-4748-9a57-912d183fa1a1",
   "metadata": {},
   "outputs": [
    {
     "data": {
      "text/plain": [
       "2"
      ]
     },
     "execution_count": 47,
     "metadata": {},
     "output_type": "execute_result"
    }
   ],
   "source": [
    "5 % 3"
   ]
  },
  {
   "cell_type": "code",
   "execution_count": 48,
   "id": "75810ae2-cbab-4c99-a897-1deb292cf0f2",
   "metadata": {},
   "outputs": [
    {
     "data": {
      "text/plain": [
       "(-1, 2)"
      ]
     },
     "execution_count": 48,
     "metadata": {},
     "output_type": "execute_result"
    }
   ],
   "source": [
    "-3 // 5, -3 % 5"
   ]
  },
  {
   "cell_type": "code",
   "execution_count": 49,
   "id": "1df34bd8-fe12-4c7c-8cd5-88f2656e3ac5",
   "metadata": {},
   "outputs": [
    {
     "data": {
      "text/plain": [
       "True"
      ]
     },
     "execution_count": 49,
     "metadata": {},
     "output_type": "execute_result"
    }
   ],
   "source": [
    "-3 == 5 * (-1) + 2"
   ]
  },
  {
   "cell_type": "code",
   "execution_count": 50,
   "id": "42cb5b84-efd6-4336-84b7-9442a210e654",
   "metadata": {},
   "outputs": [
    {
     "data": {
      "text/plain": [
       "3"
      ]
     },
     "execution_count": 50,
     "metadata": {},
     "output_type": "execute_result"
    }
   ],
   "source": [
    "3 % 5"
   ]
  },
  {
   "cell_type": "code",
   "execution_count": 51,
   "id": "501f553c-3dcb-43f9-bac5-290796d57fdf",
   "metadata": {},
   "outputs": [
    {
     "data": {
      "text/plain": [
       "\u001b[0;31mSignature:\u001b[0m      \u001b[0mgcd\u001b[0m\u001b[0;34m(\u001b[0m\u001b[0ma\u001b[0m\u001b[0;34m,\u001b[0m \u001b[0mb\u001b[0m\u001b[0;34m=\u001b[0m\u001b[0;32mNone\u001b[0m\u001b[0;34m,\u001b[0m \u001b[0;34m**\u001b[0m\u001b[0mkwargs\u001b[0m\u001b[0;34m)\u001b[0m\u001b[0;34m\u001b[0m\u001b[0;34m\u001b[0m\u001b[0m\n",
       "\u001b[0;31mDocstring:\u001b[0m     \n",
       "   Return the greatest common divisor of \"a\" and \"b\".\n",
       "\n",
       "   If \"a\" is a list and \"b\" is omitted, return instead the greatest\n",
       "   common divisor of all elements of \"a\".\n",
       "\n",
       "   INPUT:\n",
       "\n",
       "   * \"a,b\" -- two elements of a ring with gcd or\n",
       "\n",
       "   * \"a\" -- a list or tuple of elements of a ring with gcd\n",
       "\n",
       "   Additional keyword arguments are passed to the respectively called\n",
       "   methods.\n",
       "\n",
       "   OUTPUT:\n",
       "\n",
       "   The given elements are first coerced into a common parent. Then,\n",
       "   their greatest common divisor *in that common parent* is returned.\n",
       "\n",
       "   EXAMPLES:\n",
       "\n",
       "      sage: GCD(97,100)\n",
       "      1\n",
       "      sage: GCD(97*10^15, 19^20*97^2)\n",
       "      97\n",
       "      sage: GCD(2/3, 4/5)\n",
       "      2/15\n",
       "      sage: GCD([2,4,6,8])\n",
       "      2\n",
       "      sage: GCD(srange(0,10000,10))  # fast  !!\n",
       "      10\n",
       "\n",
       "   Note that to take the gcd of n elements for n \\not= 2 you must put\n",
       "   the elements into a list by enclosing them in \"[..]\".  Before\n",
       "   https://github.com/sagemath/sage/issues/4988 the following wrongly\n",
       "   returned 3 since the third parameter was just ignored:\n",
       "\n",
       "      sage: gcd(3, 6, 2)\n",
       "      Traceback (most recent call last):\n",
       "      ...\n",
       "      TypeError: ...gcd() takes ...\n",
       "      sage: gcd([3, 6, 2])\n",
       "      1\n",
       "\n",
       "   Similarly, giving just one element (which is not a list) gives an\n",
       "   error:\n",
       "\n",
       "      sage: gcd(3)\n",
       "      Traceback (most recent call last):\n",
       "      ...\n",
       "      TypeError: 'sage.rings.integer.Integer' object is not iterable\n",
       "\n",
       "   By convention, the gcd of the empty list is (the integer) 0:\n",
       "\n",
       "      sage: gcd([])\n",
       "      0\n",
       "      sage: type(gcd([]))\n",
       "      <class 'sage.rings.integer.Integer'>\n",
       "\u001b[0;31mInit docstring:\u001b[0m Initialize self.  See help(type(self)) for accurate signature.\n",
       "\u001b[0;31mFile:\u001b[0m           /usr/lib/python3.11/site-packages/sage/arith/misc.py\n",
       "\u001b[0;31mType:\u001b[0m           function"
      ]
     },
     "metadata": {},
     "output_type": "display_data"
    }
   ],
   "source": [
    "gcd?"
   ]
  },
  {
   "cell_type": "code",
   "execution_count": 56,
   "id": "b465fcea-5691-43d1-97fb-108d464f2dbf",
   "metadata": {},
   "outputs": [],
   "source": [
    "def gcd_own(a, b):\n",
    "    if a > b:\n",
    "        a, b = b, a\n",
    "    r1, r2 = 0, 0\n",
    "    print(a, b)\n",
    "    while a * b != 0:\n",
    "        a, b = b % a, a\n",
    "        print(a, b)\n",
    "        \n",
    "    return a + b"
   ]
  },
  {
   "cell_type": "code",
   "execution_count": 64,
   "id": "2981daf5-36c9-4f70-a5d6-dfd1ab5b594c",
   "metadata": {},
   "outputs": [
    {
     "name": "stdout",
     "output_type": "stream",
     "text": [
      "714 988\n",
      "274 714\n",
      "166 274\n",
      "108 166\n",
      "58 108\n",
      "50 58\n",
      "8 50\n",
      "2 8\n",
      "0 2\n"
     ]
    },
    {
     "data": {
      "text/plain": [
       "2"
      ]
     },
     "execution_count": 64,
     "metadata": {},
     "output_type": "execute_result"
    }
   ],
   "source": [
    "gcd_own(randint(1, 1000), randint(1, 1000))"
   ]
  },
  {
   "cell_type": "markdown",
   "id": "3e47d5a2-defd-4463-88b1-1cd85ee9fb5c",
   "metadata": {},
   "source": [
    "$2 = 50 - 8 * 6 = 50 - (58 - 50) * 6 = 7 * 50 -  58 * 6 = 7 * (108 - 58) - 58 * 6 = 7 * 108 - 13 * 58$\n",
    "\n",
    "\n",
    "$7 * 108 - 13 * (166 - 108) = 20 * 108 - 13 * 166$ "
   ]
  },
  {
   "cell_type": "code",
   "execution_count": 66,
   "id": "45775ec6-cb98-43b1-9fdc-82c9fa1108f0",
   "metadata": {},
   "outputs": [
    {
     "data": {
      "text/plain": [
       "2"
      ]
     },
     "execution_count": 66,
     "metadata": {},
     "output_type": "execute_result"
    }
   ],
   "source": [
    "20 * 108 - 13 * 166"
   ]
  },
  {
   "cell_type": "code",
   "execution_count": 68,
   "id": "e5ae5f5d-bab5-4432-b2e9-79536ec452b2",
   "metadata": {},
   "outputs": [],
   "source": [
    "a = randint(1, 100)\n",
    "b = randint(1, 100)"
   ]
  },
  {
   "cell_type": "code",
   "execution_count": 69,
   "id": "38e4b777-60b2-4fb6-9d7a-89ed0afd6181",
   "metadata": {},
   "outputs": [
    {
     "data": {
      "text/plain": [
       "1"
      ]
     },
     "execution_count": 69,
     "metadata": {},
     "output_type": "execute_result"
    }
   ],
   "source": [
    "gcd(a, b)"
   ]
  },
  {
   "cell_type": "code",
   "execution_count": 70,
   "id": "6828f422-3900-4b56-a8eb-456812893fea",
   "metadata": {},
   "outputs": [
    {
     "data": {
      "text/plain": [
       "(24, 43)"
      ]
     },
     "execution_count": 70,
     "metadata": {},
     "output_type": "execute_result"
    }
   ],
   "source": [
    "a, b"
   ]
  },
  {
   "cell_type": "code",
   "execution_count": 71,
   "id": "a569ee34-a9b6-43c9-bcb8-f3a30590e39e",
   "metadata": {},
   "outputs": [
    {
     "name": "stdout",
     "output_type": "stream",
     "text": [
      "24 43\n",
      "19 24\n",
      "5 19\n",
      "4 5\n",
      "1 4\n",
      "0 1\n"
     ]
    },
    {
     "data": {
      "text/plain": [
       "1"
      ]
     },
     "execution_count": 71,
     "metadata": {},
     "output_type": "execute_result"
    }
   ],
   "source": [
    "gcd_own(24, 43)"
   ]
  },
  {
   "cell_type": "code",
   "execution_count": 72,
   "id": "028717fa-b879-428e-84a9-d19df14291ab",
   "metadata": {},
   "outputs": [
    {
     "data": {
      "text/plain": [
       "9"
      ]
     },
     "execution_count": 72,
     "metadata": {},
     "output_type": "execute_result"
    }
   ],
   "source": [
    "pow(24, -1, 43)"
   ]
  },
  {
   "cell_type": "code",
   "execution_count": 73,
   "id": "fb77e73c-2319-411b-9fb6-2e4416e357e0",
   "metadata": {},
   "outputs": [
    {
     "data": {
      "text/plain": [
       "-5"
      ]
     },
     "execution_count": 73,
     "metadata": {},
     "output_type": "execute_result"
    }
   ],
   "source": [
    "pow(43, -1, 24) - 24"
   ]
  },
  {
   "cell_type": "code",
   "execution_count": 77,
   "id": "fc1ea233-d24c-40bf-9039-1c1136ebd9ff",
   "metadata": {},
   "outputs": [
    {
     "data": {
      "text/plain": [
       "True"
      ]
     },
     "execution_count": 77,
     "metadata": {},
     "output_type": "execute_result"
    }
   ],
   "source": [
    "9 * 24 - 5 * 43 == 1"
   ]
  },
  {
   "cell_type": "code",
   "execution_count": 82,
   "id": "160a8b8c-6c55-4860-9d00-d4e6a0c04522",
   "metadata": {},
   "outputs": [
    {
     "data": {
      "text/plain": [
       "1"
      ]
     },
     "execution_count": 82,
     "metadata": {},
     "output_type": "execute_result"
    }
   ],
   "source": [
    "(9 * 24) % 43"
   ]
  },
  {
   "cell_type": "markdown",
   "id": "e8c17b4b-574f-4b2b-930b-f534ee14027a",
   "metadata": {},
   "source": [
    "$9 * x - 5 * y = 1$\n",
    "\n",
    "$9 * 24 - 5 * 43 = 1$\n",
    "\n",
    "$9(x - 24) = 5  (y - 43)$\n",
    "\n",
    "$x - 24 = 5 * t$\n",
    "\n",
    "$y - 43 = 9 * t$"
   ]
  },
  {
   "cell_type": "code",
   "execution_count": 75,
   "id": "5ab3d775-8012-4830-88a5-5782cf78596f",
   "metadata": {},
   "outputs": [],
   "source": [
    "x, y = 5 * (-7) + 24, 9 * (-7) + 43"
   ]
  },
  {
   "cell_type": "code",
   "execution_count": 76,
   "id": "85f90704-dd2a-4954-a6f9-01865f748602",
   "metadata": {},
   "outputs": [
    {
     "data": {
      "text/plain": [
       "1"
      ]
     },
     "execution_count": 76,
     "metadata": {},
     "output_type": "execute_result"
    }
   ],
   "source": [
    "9 * x - 5 * y"
   ]
  },
  {
   "cell_type": "code",
   "execution_count": 84,
   "id": "789ac2b2-3594-4109-97c2-8cb169e288a4",
   "metadata": {},
   "outputs": [
    {
     "data": {
      "text/plain": [
       "3"
      ]
     },
     "execution_count": 84,
     "metadata": {},
     "output_type": "execute_result"
    }
   ],
   "source": [
    "pow(3, -1, 4)"
   ]
  },
  {
   "cell_type": "code",
   "execution_count": 92,
   "id": "73ef769d-f2a1-49b5-a48a-0d382b975506",
   "metadata": {},
   "outputs": [],
   "source": [
    "G = Zmod(101)"
   ]
  },
  {
   "cell_type": "code",
   "execution_count": 94,
   "id": "0f8ed080-9b2c-4295-aaf6-2a0eef797689",
   "metadata": {},
   "outputs": [
    {
     "data": {
      "text/plain": [
       "(88, 85)"
      ]
     },
     "execution_count": 94,
     "metadata": {},
     "output_type": "execute_result"
    }
   ],
   "source": [
    "a, b = G.random_element(), G.random_element()\n",
    "a, b"
   ]
  },
  {
   "cell_type": "code",
   "execution_count": 95,
   "id": "374dc1dc-e678-424b-b783-da25c92d586c",
   "metadata": {},
   "outputs": [
    {
     "data": {
      "text/plain": [
       "72"
      ]
     },
     "execution_count": 95,
     "metadata": {},
     "output_type": "execute_result"
    }
   ],
   "source": [
    "a + b"
   ]
  },
  {
   "cell_type": "code",
   "execution_count": 97,
   "id": "512ee722-0cbc-4154-9bb6-fb114e87e641",
   "metadata": {},
   "outputs": [
    {
     "data": {
      "text/plain": [
       "True"
      ]
     },
     "execution_count": 97,
     "metadata": {},
     "output_type": "execute_result"
    }
   ],
   "source": [
    "G.is_field()"
   ]
  },
  {
   "cell_type": "code",
   "execution_count": 98,
   "id": "f1be7f2b-0a28-401e-b466-968833467fa2",
   "metadata": {},
   "outputs": [
    {
     "data": {
      "text/plain": [
       "Ring of integers modulo 101"
      ]
     },
     "execution_count": 98,
     "metadata": {},
     "output_type": "execute_result"
    }
   ],
   "source": [
    "G"
   ]
  },
  {
   "cell_type": "code",
   "execution_count": 100,
   "id": "7eb4dcd6-6647-4b5e-8077-154b81cc8a56",
   "metadata": {},
   "outputs": [],
   "source": [
    "G = GF(7^2)"
   ]
  },
  {
   "cell_type": "code",
   "execution_count": 101,
   "id": "f044491c-87b4-49de-9250-330eef26dc48",
   "metadata": {},
   "outputs": [
    {
     "data": {
      "text/plain": [
       "Finite Field in z2 of size 7^2"
      ]
     },
     "execution_count": 101,
     "metadata": {},
     "output_type": "execute_result"
    }
   ],
   "source": [
    "G"
   ]
  },
  {
   "cell_type": "code",
   "execution_count": 103,
   "id": "b311b9ea-13e4-4504-9c4a-26f45f8c221c",
   "metadata": {},
   "outputs": [
    {
     "data": {
      "text/plain": [
       "6*z2 + 6"
      ]
     },
     "execution_count": 103,
     "metadata": {},
     "output_type": "execute_result"
    }
   ],
   "source": [
    "G.random_element()"
   ]
  },
  {
   "cell_type": "code",
   "execution_count": 104,
   "id": "8dc2c953-ee34-401b-a7e4-89cbc14f8817",
   "metadata": {},
   "outputs": [],
   "source": [
    "G = GF(101)"
   ]
  },
  {
   "cell_type": "code",
   "execution_count": 105,
   "id": "74a456c7-f55e-4194-970a-9698f53b3d0b",
   "metadata": {},
   "outputs": [],
   "source": [
    "M = MatrixSpace(G, 5)"
   ]
  },
  {
   "cell_type": "code",
   "execution_count": 108,
   "id": "cbe56a85-4cfc-4b34-8cad-feb0789b1509",
   "metadata": {},
   "outputs": [
    {
     "data": {
      "text/plain": [
       "[ 20  69  62   7   6]\n",
       "[ 26  24  81   5   2]\n",
       "[ 38  15  37  58  95]\n",
       "[ 65  25  65  16  96]\n",
       "[  2  75  99 100  55]"
      ]
     },
     "execution_count": 108,
     "metadata": {},
     "output_type": "execute_result"
    }
   ],
   "source": [
    "A = M.random_element()\n",
    "A"
   ]
  },
  {
   "cell_type": "code",
   "execution_count": 109,
   "id": "567c2124-d628-4ad5-9b6f-5f7c45c49c9f",
   "metadata": {},
   "outputs": [
    {
     "data": {
      "text/plain": [
       "32"
      ]
     },
     "execution_count": 109,
     "metadata": {},
     "output_type": "execute_result"
    }
   ],
   "source": [
    "A.det()"
   ]
  },
  {
   "cell_type": "code",
   "execution_count": 111,
   "id": "830633e0-11e7-4cbd-a8b4-7d9ac699578f",
   "metadata": {},
   "outputs": [
    {
     "data": {
      "text/plain": [
       "[1 0 0 0 0]\n",
       "[0 1 0 0 0]\n",
       "[0 0 1 0 0]\n",
       "[0 0 0 1 0]\n",
       "[0 0 0 0 1]"
      ]
     },
     "execution_count": 111,
     "metadata": {},
     "output_type": "execute_result"
    }
   ],
   "source": [
    "A * A^-1"
   ]
  },
  {
   "cell_type": "markdown",
   "id": "ef830516-e2db-4a34-b18a-5fcbe69a7c40",
   "metadata": {},
   "source": [
    "$ A^{-1} = \\frac{1}{det(A)} * A_m$"
   ]
  },
  {
   "cell_type": "code",
   "execution_count": 112,
   "id": "4d91408e-8b18-495d-8105-4bed4ef96ada",
   "metadata": {},
   "outputs": [],
   "source": [
    "f = GL(5, GF(101))"
   ]
  },
  {
   "cell_type": "code",
   "execution_count": 114,
   "id": "3e16361b-ab42-4297-b263-fee77c1f8874",
   "metadata": {},
   "outputs": [
    {
     "data": {
      "text/plain": [
       "[91 24 88 59 67]\n",
       "[ 5 85 31 76  4]\n",
       "[72 44 47 33 55]\n",
       "[79 21 99  3 30]\n",
       "[12 71 48 71 95]"
      ]
     },
     "execution_count": 114,
     "metadata": {},
     "output_type": "execute_result"
    }
   ],
   "source": [
    "f.random_element()"
   ]
  },
  {
   "cell_type": "markdown",
   "id": "0807825e-45dc-4ea6-ad83-00e94525cdde",
   "metadata": {},
   "source": [
    "$det(A * B) = det(A) * det(B)$"
   ]
  },
  {
   "cell_type": "code",
   "execution_count": 115,
   "id": "3660810d-299e-4e88-a2b7-944ebb782e74",
   "metadata": {},
   "outputs": [],
   "source": [
    "G = Zmod(101)"
   ]
  },
  {
   "cell_type": "code",
   "execution_count": 116,
   "id": "ce1ab6a6-91b6-46c6-89a7-32528e9b7ea5",
   "metadata": {},
   "outputs": [],
   "source": [
    "a, b = G.random_element(), G.random_element()"
   ]
  },
  {
   "cell_type": "code",
   "execution_count": 118,
   "id": "c07c28f3-657d-4944-8561-d57d81fd649a",
   "metadata": {},
   "outputs": [
    {
     "data": {
      "text/plain": [
       "7"
      ]
     },
     "execution_count": 118,
     "metadata": {},
     "output_type": "execute_result"
    }
   ],
   "source": [
    "a^-1"
   ]
  },
  {
   "cell_type": "code",
   "execution_count": 119,
   "id": "eaa2c949-5b2b-4517-9f66-7d795f48309d",
   "metadata": {},
   "outputs": [
    {
     "data": {
      "text/plain": [
       "29"
      ]
     },
     "execution_count": 119,
     "metadata": {},
     "output_type": "execute_result"
    }
   ],
   "source": [
    "a"
   ]
  },
  {
   "cell_type": "code",
   "execution_count": 120,
   "id": "b2de5e87-5b89-4423-8aa9-90e7a5ea46a3",
   "metadata": {},
   "outputs": [
    {
     "data": {
      "text/plain": [
       "203"
      ]
     },
     "execution_count": 120,
     "metadata": {},
     "output_type": "execute_result"
    }
   ],
   "source": [
    "29 * 7"
   ]
  },
  {
   "cell_type": "code",
   "execution_count": 121,
   "id": "3e031d2d-b741-4aed-9e85-4742914628b0",
   "metadata": {},
   "outputs": [],
   "source": [
    "G = Zmod(7 * 8)"
   ]
  },
  {
   "cell_type": "code",
   "execution_count": 123,
   "id": "aa5955df-720d-4bdb-84c1-18383b1b48f0",
   "metadata": {},
   "outputs": [
    {
     "ename": "ZeroDivisionError",
     "evalue": "inverse of Mod(14, 56) does not exist",
     "output_type": "error",
     "traceback": [
      "\u001b[0;31m---------------------------------------------------------------------------\u001b[0m",
      "\u001b[0;31mZeroDivisionError\u001b[0m                         Traceback (most recent call last)",
      "Cell \u001b[0;32mIn[123], line 1\u001b[0m\n\u001b[0;32m----> 1\u001b[0m \u001b[43mG\u001b[49m\u001b[43m(\u001b[49m\u001b[43mInteger\u001b[49m\u001b[43m(\u001b[49m\u001b[38;5;241;43m14\u001b[39;49m\u001b[43m)\u001b[49m\u001b[43m)\u001b[49m\u001b[38;5;241;43m*\u001b[39;49m\u001b[38;5;241;43m*\u001b[39;49m\u001b[38;5;241;43m-\u001b[39;49m\u001b[43mInteger\u001b[49m\u001b[43m(\u001b[49m\u001b[38;5;241;43m1\u001b[39;49m\u001b[43m)\u001b[49m\n",
      "File \u001b[0;32m/usr/lib/python3.11/site-packages/sage/rings/finite_rings/integer_mod.pyx:2820\u001b[0m, in \u001b[0;36msage.rings.finite_rings.integer_mod.IntegerMod_int.__pow__ (build/cythonized/sage/rings/finite_rings/integer_mod.c:40883)\u001b[0;34m()\u001b[0m\n\u001b[1;32m   2818\u001b[0m res = mod_pow_int(self.ivalue, long_exp, self._modulus.int32)\n\u001b[1;32m   2819\u001b[0m if invert:\n\u001b[0;32m-> 2820\u001b[0m     return ~self._new_c(res)\n\u001b[1;32m   2821\u001b[0m else:\n\u001b[1;32m   2822\u001b[0m     return self._new_c(res)\n",
      "File \u001b[0;32m/usr/lib/python3.11/site-packages/sage/rings/finite_rings/integer_mod.pyx:2838\u001b[0m, in \u001b[0;36msage.rings.finite_rings.integer_mod.IntegerMod_int.__invert__ (build/cythonized/sage/rings/finite_rings/integer_mod.c:41060)\u001b[0;34m()\u001b[0m\n\u001b[1;32m   2836\u001b[0m x = self._modulus.inverses[self.ivalue]\n\u001b[1;32m   2837\u001b[0m if x is None:\n\u001b[0;32m-> 2838\u001b[0m     raise ZeroDivisionError(f\"inverse of Mod({self}, {self._modulus.sageInteger}) does not exist\")\n\u001b[1;32m   2839\u001b[0m else:\n\u001b[1;32m   2840\u001b[0m     return x\n",
      "\u001b[0;31mZeroDivisionError\u001b[0m: inverse of Mod(14, 56) does not exist"
     ]
    }
   ],
   "source": [
    "G(14)^-1"
   ]
  },
  {
   "cell_type": "code",
   "execution_count": 124,
   "id": "81576bee-82a6-4fb0-8b1b-874925c8a747",
   "metadata": {},
   "outputs": [],
   "source": [
    "G = Zmod(10)"
   ]
  },
  {
   "cell_type": "code",
   "execution_count": 125,
   "id": "2b80eb5a-f60a-4e61-8303-514466640511",
   "metadata": {},
   "outputs": [
    {
     "data": {
      "text/plain": [
       "[0, 1, 2, 3, 4, 5, 6, 7, 8, 9]"
      ]
     },
     "execution_count": 125,
     "metadata": {},
     "output_type": "execute_result"
    }
   ],
   "source": [
    "list(G)"
   ]
  },
  {
   "cell_type": "markdown",
   "id": "001fedd2-391c-4b8d-8b72-fc4cf76c8f8a",
   "metadata": {},
   "source": [
    "$\\mathbb{Z}$, четные числа - $n \\mathbb{Z}$\n",
    "\n",
    "\n",
    "$...., -2, -1, 0, 1, 2, 3, ...$\n",
    "\n",
    "$...., -2 * n, -n, 0, n, 2n, 3n,...$"
   ]
  },
  {
   "cell_type": "code",
   "execution_count": 126,
   "id": "a93c5907-33ef-4a39-9e4b-67d04fa42065",
   "metadata": {},
   "outputs": [
    {
     "data": {
      "text/plain": [
       "[0, 1, 2, 3, 4, 5, 6, 7, 8, 9]"
      ]
     },
     "execution_count": 126,
     "metadata": {},
     "output_type": "execute_result"
    }
   ],
   "source": [
    "list(G)"
   ]
  },
  {
   "cell_type": "code",
   "execution_count": 127,
   "id": "bf31b067-0f10-4399-8995-1a1056160618",
   "metadata": {},
   "outputs": [
    {
     "data": {
      "text/plain": [
       "[0, 2, 4, 6, 8]"
      ]
     },
     "execution_count": 127,
     "metadata": {},
     "output_type": "execute_result"
    }
   ],
   "source": [
    "[0, 2, 4, 6, 8]"
   ]
  },
  {
   "cell_type": "code",
   "execution_count": 128,
   "id": "31400fa8-e8bf-454d-bfd5-3d89cd64b596",
   "metadata": {},
   "outputs": [
    {
     "data": {
      "text/plain": [
       "[0, 5]"
      ]
     },
     "execution_count": 128,
     "metadata": {},
     "output_type": "execute_result"
    }
   ],
   "source": [
    "[0, 5]"
   ]
  },
  {
   "cell_type": "code",
   "execution_count": 132,
   "id": "c15d5e78-5d82-4463-a318-57a00beaa7ab",
   "metadata": {},
   "outputs": [
    {
     "ename": "TypeError",
     "evalue": "'sage.rings.integer.Integer' object is not iterable",
     "output_type": "error",
     "traceback": [
      "\u001b[0;31m---------------------------------------------------------------------------\u001b[0m",
      "\u001b[0;31mTypeError\u001b[0m                                 Traceback (most recent call last)",
      "Cell \u001b[0;32mIn[132], line 1\u001b[0m\n\u001b[0;32m----> 1\u001b[0m P \u001b[38;5;241m=\u001b[39m \u001b[43mPermutationGroup\u001b[49m\u001b[43m(\u001b[49m\u001b[43m[\u001b[49m\u001b[43mInteger\u001b[49m\u001b[43m(\u001b[49m\u001b[38;5;241;43m0\u001b[39;49m\u001b[43m)\u001b[49m\u001b[43m,\u001b[49m\u001b[43m \u001b[49m\u001b[43mInteger\u001b[49m\u001b[43m(\u001b[49m\u001b[38;5;241;43m1\u001b[39;49m\u001b[43m)\u001b[49m\u001b[43m,\u001b[49m\u001b[43m \u001b[49m\u001b[43mInteger\u001b[49m\u001b[43m(\u001b[49m\u001b[38;5;241;43m2\u001b[39;49m\u001b[43m)\u001b[49m\u001b[43m]\u001b[49m\u001b[43m)\u001b[49m\n",
      "File \u001b[0;32m/usr/lib/python3.11/site-packages/sage/groups/perm_gps/permgroup.py:417\u001b[0m, in \u001b[0;36mPermutationGroup\u001b[0;34m(gens, *args, **kwds)\u001b[0m\n\u001b[1;32m    415\u001b[0m             \u001b[38;5;28;01mif\u001b[39;00m args:\n\u001b[1;32m    416\u001b[0m                 category \u001b[38;5;241m=\u001b[39m args\u001b[38;5;241m.\u001b[39mpop(\u001b[38;5;241m0\u001b[39m)\n\u001b[0;32m--> 417\u001b[0m \u001b[38;5;28;01mreturn\u001b[39;00m \u001b[43mPermutationGroup_generic\u001b[49m\u001b[43m(\u001b[49m\u001b[43mgens\u001b[49m\u001b[38;5;241;43m=\u001b[39;49m\u001b[43mgens\u001b[49m\u001b[43m,\u001b[49m\u001b[43m \u001b[49m\u001b[43mgap_group\u001b[49m\u001b[38;5;241;43m=\u001b[39;49m\u001b[43mgap_group\u001b[49m\u001b[43m,\u001b[49m\u001b[43m \u001b[49m\u001b[43mdomain\u001b[49m\u001b[38;5;241;43m=\u001b[39;49m\u001b[43mdomain\u001b[49m\u001b[43m,\u001b[49m\n\u001b[1;32m    418\u001b[0m \u001b[43m                                \u001b[49m\u001b[43mcanonicalize\u001b[49m\u001b[38;5;241;43m=\u001b[39;49m\u001b[43mcanonicalize\u001b[49m\u001b[43m,\u001b[49m\u001b[43m \u001b[49m\u001b[43mcategory\u001b[49m\u001b[38;5;241;43m=\u001b[39;49m\u001b[43mcategory\u001b[49m\u001b[43m)\u001b[49m\n",
      "File \u001b[0;32m/usr/lib/python3.11/site-packages/sage/groups/perm_gps/permgroup.py:507\u001b[0m, in \u001b[0;36mPermutationGroup_generic.__init__\u001b[0;34m(self, gens, gap_group, canonicalize, domain, category)\u001b[0m\n\u001b[1;32m    505\u001b[0m domain \u001b[38;5;241m=\u001b[39m \u001b[38;5;28mset\u001b[39m()\n\u001b[1;32m    506\u001b[0m \u001b[38;5;28;01mfor\u001b[39;00m x \u001b[38;5;129;01min\u001b[39;00m gens:\n\u001b[0;32m--> 507\u001b[0m \u001b[43m    \u001b[49m\u001b[38;5;28;43;01mfor\u001b[39;49;00m\u001b[43m \u001b[49m\u001b[43mcycle\u001b[49m\u001b[43m \u001b[49m\u001b[38;5;129;43;01min\u001b[39;49;00m\u001b[43m \u001b[49m\u001b[43mx\u001b[49m\u001b[43m:\u001b[49m\n\u001b[1;32m    508\u001b[0m \u001b[43m        \u001b[49m\u001b[43mdomain\u001b[49m\u001b[43m \u001b[49m\u001b[38;5;241;43m=\u001b[39;49m\u001b[43m \u001b[49m\u001b[43mdomain\u001b[49m\u001b[38;5;241;43m.\u001b[39;49m\u001b[43munion\u001b[49m\u001b[43m(\u001b[49m\u001b[43mcycle\u001b[49m\u001b[43m)\u001b[49m\n\u001b[1;32m    509\u001b[0m \u001b[38;5;28;01mtry\u001b[39;00m:\n",
      "\u001b[0;31mTypeError\u001b[0m: 'sage.rings.integer.Integer' object is not iterable"
     ]
    }
   ],
   "source": [
    "P = PermutationGroup([0, 1, 2])"
   ]
  },
  {
   "cell_type": "code",
   "execution_count": 133,
   "id": "32ee9ab8-daad-4f9f-8867-62428a87f5c9",
   "metadata": {},
   "outputs": [],
   "source": [
    "S = SymmetricGroup(5)"
   ]
  },
  {
   "cell_type": "code",
   "execution_count": 134,
   "id": "a49387e4-76f9-4fbc-86e4-260679275c40",
   "metadata": {},
   "outputs": [
    {
     "data": {
      "text/plain": [
       "Symmetric group of order 5! as a permutation group"
      ]
     },
     "execution_count": 134,
     "metadata": {},
     "output_type": "execute_result"
    }
   ],
   "source": [
    "S"
   ]
  },
  {
   "cell_type": "markdown",
   "id": "bc2e02dc-ef83-47b6-876d-0ccbcbcaf28a",
   "metadata": {},
   "source": [
    "$[0, 1, 2, 3, 4, 5] -> [a_1, a_2, a_3, a_4, a_5]$\n",
    "\n",
    "$n^n$\n",
    "\n",
    "$[0, 1, 2, 3, 4, 5] -> [0, 0, 1, 2, 3, 4]$\n",
    "\n",
    "\n",
    "$n * (n - 1) * (n - 2) * ...  * 1 = n!$"
   ]
  },
  {
   "cell_type": "code",
   "execution_count": 135,
   "id": "820f5dc0-7365-41d2-bcbe-5b27975d17e1",
   "metadata": {},
   "outputs": [
    {
     "ename": "TypeError",
     "evalue": "gens must be a tuple, list, or GapElement",
     "output_type": "error",
     "traceback": [
      "\u001b[0;31m---------------------------------------------------------------------------\u001b[0m",
      "\u001b[0;31mTypeError\u001b[0m                                 Traceback (most recent call last)",
      "Cell \u001b[0;32mIn[135], line 1\u001b[0m\n\u001b[0;32m----> 1\u001b[0m P \u001b[38;5;241m=\u001b[39m \u001b[43mPermutationGroup\u001b[49m\u001b[43m(\u001b[49m\u001b[43mS\u001b[49m\u001b[43m)\u001b[49m\n",
      "File \u001b[0;32m/usr/lib/python3.11/site-packages/sage/groups/perm_gps/permgroup.py:394\u001b[0m, in \u001b[0;36mPermutationGroup\u001b[0;34m(gens, *args, **kwds)\u001b[0m\n\u001b[1;32m    392\u001b[0m     \u001b[38;5;28;01mreturn\u001b[39;00m gens\u001b[38;5;241m.\u001b[39m_permgroup_()\n\u001b[1;32m    393\u001b[0m \u001b[38;5;28;01mif\u001b[39;00m gens \u001b[38;5;129;01mis\u001b[39;00m \u001b[38;5;129;01mnot\u001b[39;00m \u001b[38;5;28;01mNone\u001b[39;00m \u001b[38;5;129;01mand\u001b[39;00m \u001b[38;5;129;01mnot\u001b[39;00m \u001b[38;5;28misinstance\u001b[39m(gens, (\u001b[38;5;28mtuple\u001b[39m, \u001b[38;5;28mlist\u001b[39m, GapElement)):\n\u001b[0;32m--> 394\u001b[0m     \u001b[38;5;28;01mraise\u001b[39;00m \u001b[38;5;167;01mTypeError\u001b[39;00m(\u001b[38;5;124m\"\u001b[39m\u001b[38;5;124mgens must be a tuple, list, or GapElement\u001b[39m\u001b[38;5;124m\"\u001b[39m)\n\u001b[1;32m    395\u001b[0m gap_group \u001b[38;5;241m=\u001b[39m kwds\u001b[38;5;241m.\u001b[39mget(\u001b[38;5;124m\"\u001b[39m\u001b[38;5;124mgap_group\u001b[39m\u001b[38;5;124m\"\u001b[39m, \u001b[38;5;28;01mNone\u001b[39;00m)\n\u001b[1;32m    396\u001b[0m domain \u001b[38;5;241m=\u001b[39m kwds\u001b[38;5;241m.\u001b[39mget(\u001b[38;5;124m\"\u001b[39m\u001b[38;5;124mdomain\u001b[39m\u001b[38;5;124m\"\u001b[39m, \u001b[38;5;28;01mNone\u001b[39;00m)\n",
      "\u001b[0;31mTypeError\u001b[0m: gens must be a tuple, list, or GapElement"
     ]
    }
   ],
   "source": [
    "P = PermutationGroup(S)"
   ]
  },
  {
   "cell_type": "code",
   "execution_count": 136,
   "id": "9438a0ed-e1ce-42d4-87dd-970d2c6da997",
   "metadata": {},
   "outputs": [
    {
     "ename": "TypeError",
     "evalue": "'sage.rings.integer.Integer' object is not iterable",
     "output_type": "error",
     "traceback": [
      "\u001b[0;31m---------------------------------------------------------------------------\u001b[0m",
      "\u001b[0;31mTypeError\u001b[0m                                 Traceback (most recent call last)",
      "Cell \u001b[0;32mIn[136], line 1\u001b[0m\n\u001b[0;32m----> 1\u001b[0m \u001b[43mPermutationGroup\u001b[49m\u001b[43m(\u001b[49m\u001b[43m(\u001b[49m\u001b[43mInteger\u001b[49m\u001b[43m(\u001b[49m\u001b[38;5;241;43m1\u001b[39;49m\u001b[43m)\u001b[49m\u001b[43m,\u001b[49m\u001b[43m \u001b[49m\u001b[43mInteger\u001b[49m\u001b[43m(\u001b[49m\u001b[38;5;241;43m2\u001b[39;49m\u001b[43m)\u001b[49m\u001b[43m,\u001b[49m\u001b[43m \u001b[49m\u001b[43mInteger\u001b[49m\u001b[43m(\u001b[49m\u001b[38;5;241;43m3\u001b[39;49m\u001b[43m)\u001b[49m\u001b[43m,\u001b[49m\u001b[43m \u001b[49m\u001b[43mInteger\u001b[49m\u001b[43m(\u001b[49m\u001b[38;5;241;43m4\u001b[39;49m\u001b[43m)\u001b[49m\u001b[43m,\u001b[49m\u001b[43m \u001b[49m\u001b[43mInteger\u001b[49m\u001b[43m(\u001b[49m\u001b[38;5;241;43m5\u001b[39;49m\u001b[43m)\u001b[49m\u001b[43m)\u001b[49m\u001b[43m)\u001b[49m\n",
      "File \u001b[0;32m/usr/lib/python3.11/site-packages/sage/groups/perm_gps/permgroup.py:417\u001b[0m, in \u001b[0;36mPermutationGroup\u001b[0;34m(gens, *args, **kwds)\u001b[0m\n\u001b[1;32m    415\u001b[0m             \u001b[38;5;28;01mif\u001b[39;00m args:\n\u001b[1;32m    416\u001b[0m                 category \u001b[38;5;241m=\u001b[39m args\u001b[38;5;241m.\u001b[39mpop(\u001b[38;5;241m0\u001b[39m)\n\u001b[0;32m--> 417\u001b[0m \u001b[38;5;28;01mreturn\u001b[39;00m \u001b[43mPermutationGroup_generic\u001b[49m\u001b[43m(\u001b[49m\u001b[43mgens\u001b[49m\u001b[38;5;241;43m=\u001b[39;49m\u001b[43mgens\u001b[49m\u001b[43m,\u001b[49m\u001b[43m \u001b[49m\u001b[43mgap_group\u001b[49m\u001b[38;5;241;43m=\u001b[39;49m\u001b[43mgap_group\u001b[49m\u001b[43m,\u001b[49m\u001b[43m \u001b[49m\u001b[43mdomain\u001b[49m\u001b[38;5;241;43m=\u001b[39;49m\u001b[43mdomain\u001b[49m\u001b[43m,\u001b[49m\n\u001b[1;32m    418\u001b[0m \u001b[43m                                \u001b[49m\u001b[43mcanonicalize\u001b[49m\u001b[38;5;241;43m=\u001b[39;49m\u001b[43mcanonicalize\u001b[49m\u001b[43m,\u001b[49m\u001b[43m \u001b[49m\u001b[43mcategory\u001b[49m\u001b[38;5;241;43m=\u001b[39;49m\u001b[43mcategory\u001b[49m\u001b[43m)\u001b[49m\n",
      "File \u001b[0;32m/usr/lib/python3.11/site-packages/sage/groups/perm_gps/permgroup.py:507\u001b[0m, in \u001b[0;36mPermutationGroup_generic.__init__\u001b[0;34m(self, gens, gap_group, canonicalize, domain, category)\u001b[0m\n\u001b[1;32m    505\u001b[0m domain \u001b[38;5;241m=\u001b[39m \u001b[38;5;28mset\u001b[39m()\n\u001b[1;32m    506\u001b[0m \u001b[38;5;28;01mfor\u001b[39;00m x \u001b[38;5;129;01min\u001b[39;00m gens:\n\u001b[0;32m--> 507\u001b[0m \u001b[43m    \u001b[49m\u001b[38;5;28;43;01mfor\u001b[39;49;00m\u001b[43m \u001b[49m\u001b[43mcycle\u001b[49m\u001b[43m \u001b[49m\u001b[38;5;129;43;01min\u001b[39;49;00m\u001b[43m \u001b[49m\u001b[43mx\u001b[49m\u001b[43m:\u001b[49m\n\u001b[1;32m    508\u001b[0m \u001b[43m        \u001b[49m\u001b[43mdomain\u001b[49m\u001b[43m \u001b[49m\u001b[38;5;241;43m=\u001b[39;49m\u001b[43m \u001b[49m\u001b[43mdomain\u001b[49m\u001b[38;5;241;43m.\u001b[39;49m\u001b[43munion\u001b[49m\u001b[43m(\u001b[49m\u001b[43mcycle\u001b[49m\u001b[43m)\u001b[49m\n\u001b[1;32m    509\u001b[0m \u001b[38;5;28;01mtry\u001b[39;00m:\n",
      "\u001b[0;31mTypeError\u001b[0m: 'sage.rings.integer.Integer' object is not iterable"
     ]
    }
   ],
   "source": [
    "PermutationGroup((1, 2, 3, 4, 5))"
   ]
  },
  {
   "cell_type": "code",
   "execution_count": 137,
   "id": "4249a1de-db79-4592-9a44-8eaccbdcd5c7",
   "metadata": {},
   "outputs": [
    {
     "data": {
      "text/plain": [
       "[1 2 3]\n",
       "[2 3 1]"
      ]
     },
     "execution_count": 137,
     "metadata": {},
     "output_type": "execute_result"
    }
   ],
   "source": [
    "Matrix([[1, 2, 3], [2, 3, 1]])"
   ]
  },
  {
   "cell_type": "code",
   "execution_count": 138,
   "id": "687d7596-0dba-4c39-b6ff-40d4c9bf1211",
   "metadata": {},
   "outputs": [
    {
     "data": {
      "text/plain": [
       "[1 2 3]\n",
       "[3 2 1]"
      ]
     },
     "execution_count": 138,
     "metadata": {},
     "output_type": "execute_result"
    }
   ],
   "source": [
    "Matrix([[1, 2, 3], [3, 2, 1]])"
   ]
  },
  {
   "cell_type": "markdown",
   "id": "60cfc317-8a03-4d88-b8c5-382bdcc7f2bf",
   "metadata": {},
   "source": [
    "$A_1 \\circ A_2(1) = 1$"
   ]
  },
  {
   "cell_type": "code",
   "execution_count": 139,
   "id": "8d0614eb-5b18-462f-98dc-0f64f041374b",
   "metadata": {},
   "outputs": [
    {
     "data": {
      "text/plain": [
       "Symmetric group of order 5! as a permutation group"
      ]
     },
     "execution_count": 139,
     "metadata": {},
     "output_type": "execute_result"
    }
   ],
   "source": [
    "S"
   ]
  },
  {
   "cell_type": "code",
   "execution_count": 140,
   "id": "fad37ae1-316d-4997-b12e-ca6f7a14be95",
   "metadata": {},
   "outputs": [],
   "source": [
    "a, b = S.random_element(), S.random_element()"
   ]
  },
  {
   "cell_type": "code",
   "execution_count": 141,
   "id": "86ee8efd-27dc-4157-927e-d3f4e314a36e",
   "metadata": {},
   "outputs": [
    {
     "data": {
      "text/plain": [
       "(1,5,2,4)"
      ]
     },
     "execution_count": 141,
     "metadata": {},
     "output_type": "execute_result"
    }
   ],
   "source": [
    "a"
   ]
  },
  {
   "cell_type": "code",
   "execution_count": 142,
   "id": "0ba03922-8213-4155-8642-2c75605c756f",
   "metadata": {},
   "outputs": [
    {
     "data": {
      "text/plain": [
       "(1,2,3,5,4)"
      ]
     },
     "execution_count": 142,
     "metadata": {},
     "output_type": "execute_result"
    },
    {
     "name": "stderr",
     "output_type": "stream",
     "text": [
      "IOStream.flush timed out\n",
      "IOStream.flush timed out\n"
     ]
    }
   ],
   "source": [
    "b"
   ]
  },
  {
   "cell_type": "code",
   "execution_count": 144,
   "id": "cc73f6aa-3558-47d2-8bbe-546edb4fd65b",
   "metadata": {},
   "outputs": [],
   "source": [
    "s = S([3, 2, 1, 5, 4])"
   ]
  },
  {
   "cell_type": "code",
   "execution_count": 145,
   "id": "67abd02d-6403-4013-9ae7-04aa080b4753",
   "metadata": {},
   "outputs": [
    {
     "data": {
      "text/plain": [
       "(1,3)(4,5)"
      ]
     },
     "execution_count": 145,
     "metadata": {},
     "output_type": "execute_result"
    }
   ],
   "source": [
    "s"
   ]
  },
  {
   "cell_type": "code",
   "execution_count": 146,
   "id": "bab9d5d5-ccf3-4e38-83c9-ae8d41134379",
   "metadata": {},
   "outputs": [
    {
     "data": {
      "text/plain": [
       "(1,3)(4,5)"
      ]
     },
     "execution_count": 146,
     "metadata": {},
     "output_type": "execute_result"
    }
   ],
   "source": [
    "s^-1"
   ]
  },
  {
   "cell_type": "code",
   "execution_count": 147,
   "id": "41b5d467-8056-4b67-b7c2-e7ff3dc839b8",
   "metadata": {},
   "outputs": [],
   "source": [
    "s = S([2, 3, 1, 5, 4])"
   ]
  },
  {
   "cell_type": "code",
   "execution_count": 148,
   "id": "9736ff40-5864-423e-90ef-8a2d643096f9",
   "metadata": {},
   "outputs": [
    {
     "data": {
      "text/plain": [
       "(1,2,3)(4,5)"
      ]
     },
     "execution_count": 148,
     "metadata": {},
     "output_type": "execute_result"
    }
   ],
   "source": [
    "s"
   ]
  },
  {
   "cell_type": "code",
   "execution_count": 149,
   "id": "c89ff441-1ea9-4ead-bcc4-798b4428d6ed",
   "metadata": {},
   "outputs": [
    {
     "data": {
      "text/plain": [
       "(1,3,2)(4,5)"
      ]
     },
     "execution_count": 149,
     "metadata": {},
     "output_type": "execute_result"
    }
   ],
   "source": [
    "s^-1"
   ]
  },
  {
   "cell_type": "code",
   "execution_count": 150,
   "id": "d9ee8b04-55e7-4200-b869-a97cede6821f",
   "metadata": {},
   "outputs": [
    {
     "data": {
      "text/plain": [
       "(1,3,2)"
      ]
     },
     "execution_count": 150,
     "metadata": {},
     "output_type": "execute_result"
    }
   ],
   "source": [
    "s * s"
   ]
  },
  {
   "cell_type": "code",
   "execution_count": 152,
   "id": "8d7682d7-007f-472d-98e9-aed3c03992de",
   "metadata": {},
   "outputs": [
    {
     "data": {
      "text/plain": [
       "((1,5,2,4), (1,2,3,5,4))"
      ]
     },
     "execution_count": 152,
     "metadata": {},
     "output_type": "execute_result"
    }
   ],
   "source": [
    "a, b"
   ]
  },
  {
   "cell_type": "code",
   "execution_count": 156,
   "id": "38889749-ac37-4283-95b6-392cb07327d1",
   "metadata": {},
   "outputs": [
    {
     "data": {
      "text/plain": [
       "(5, 4, 3, 1, 2)"
      ]
     },
     "execution_count": 156,
     "metadata": {},
     "output_type": "execute_result"
    }
   ],
   "source": [
    "a.tuple()"
   ]
  },
  {
   "cell_type": "markdown",
   "id": "c6036a0c-50c8-46fc-be15-c2ff7fed66d6",
   "metadata": {},
   "source": [
    "$g^m = e$\n",
    "\n",
    "\n",
    "$g^k = g^{m * t + r} = g^{m * t} * g^r = (g^m)^t * g^r = e^t * g^r = e * g^r = g^r$\n",
    "\n",
    "$d = gcd(m, k), s = k / d$\n",
    "\n",
    "\n",
    "$g^k = g^(d * s) = (g^s)^d$\n",
    "\n",
    "$d * s \\pmod{m}$ => $s \\pmod{\\frac{m}{d}}$\n",
    "\n",
    "\n",
    "$(g^d)^s = g^{d * s} = g^{k}$\n",
    "\n",
    "\n",
    "$f = \\frac{m}{d} \\leq m$\n",
    "\n",
    "\n",
    "$(g^d)^f = e$"
   ]
  },
  {
   "cell_type": "markdown",
   "id": "4f866fd1-99d3-49c6-9e17-a15daebacbc1",
   "metadata": {},
   "source": [
    "$Z(+) = <1>$"
   ]
  },
  {
   "cell_type": "code",
   "execution_count": 157,
   "id": "86366d31-a452-455e-b518-42621363eade",
   "metadata": {},
   "outputs": [],
   "source": [
    "g = Zmod(101)"
   ]
  },
  {
   "cell_type": "code",
   "execution_count": 158,
   "id": "11521f9e-645b-487e-a7e7-266cbfdd33e7",
   "metadata": {},
   "outputs": [
    {
     "data": {
      "text/plain": [
       "2"
      ]
     },
     "execution_count": 158,
     "metadata": {},
     "output_type": "execute_result"
    }
   ],
   "source": [
    "g.multiplicative_generator()"
   ]
  },
  {
   "cell_type": "code",
   "execution_count": 164,
   "id": "21283ab3-2300-47c2-bea8-469fef342f64",
   "metadata": {},
   "outputs": [
    {
     "data": {
      "text/plain": [
       "True"
      ]
     },
     "execution_count": 164,
     "metadata": {},
     "output_type": "execute_result"
    }
   ],
   "source": [
    "set(list(g)[1:]) == set([g(2)^i for i in range(100)])"
   ]
  },
  {
   "cell_type": "code",
   "execution_count": 165,
   "id": "ac46cdc1-3e7c-4424-9501-9b442e449f77",
   "metadata": {},
   "outputs": [],
   "source": [
    "g = Zmod(19)"
   ]
  },
  {
   "cell_type": "code",
   "execution_count": 166,
   "id": "d6f7bd74-20ee-491a-9ee6-4925b91ccb65",
   "metadata": {},
   "outputs": [
    {
     "data": {
      "text/plain": [
       "[1, 2, 3, 4, 5, 6, 7, 8, 9, 10, 11, 12, 13, 14, 15, 16, 17, 18]"
      ]
     },
     "execution_count": 166,
     "metadata": {},
     "output_type": "execute_result"
    }
   ],
   "source": [
    "list(g)[1:]"
   ]
  },
  {
   "cell_type": "code",
   "execution_count": 167,
   "id": "e4b99411-0641-40c1-9494-fda0738a583a",
   "metadata": {},
   "outputs": [
    {
     "data": {
      "text/plain": [
       "[1, 2, 4, 8, 16, 13, 7, 14, 9, 18, 17, 15, 11, 3, 6, 12, 5, 10]"
      ]
     },
     "execution_count": 167,
     "metadata": {},
     "output_type": "execute_result"
    }
   ],
   "source": [
    "[pow(2, i, 19) for i in range(18)]"
   ]
  },
  {
   "cell_type": "code",
   "execution_count": 168,
   "id": "c8716fac-b683-48e0-b643-3c3bde7c5a61",
   "metadata": {},
   "outputs": [
    {
     "data": {
      "text/plain": [
       "Ring of integers modulo 10"
      ]
     },
     "execution_count": 168,
     "metadata": {},
     "output_type": "execute_result"
    }
   ],
   "source": [
    "Zmod(10)"
   ]
  },
  {
   "cell_type": "markdown",
   "id": "c42b9eab-6a02-4650-a7ac-649100f1fbf4",
   "metadata": {},
   "source": [
    "$Z_{10} = <1> = <2, 5>$"
   ]
  },
  {
   "cell_type": "code",
   "execution_count": 169,
   "id": "5bee4e6b-4e51-45a3-8b1f-297bf49f7b7f",
   "metadata": {},
   "outputs": [
    {
     "data": {
      "text/plain": [
       "{0, 1, 2, 3, 4, 5, 6, 7, 8, 9}"
      ]
     },
     "execution_count": 169,
     "metadata": {},
     "output_type": "execute_result"
    }
   ],
   "source": [
    "set([(i * 2 + j * 5) % 10 for i in range(10) for j in range(10)])"
   ]
  },
  {
   "cell_type": "markdown",
   "id": "3731cd67-5d41-4fe9-86d6-c3d21a89d695",
   "metadata": {},
   "source": [
    "$|Z_{10}| = 10 = 2 * 5$"
   ]
  },
  {
   "cell_type": "code",
   "execution_count": 170,
   "id": "19474e53-a091-4f84-afb3-d39b0f247d56",
   "metadata": {},
   "outputs": [
    {
     "data": {
      "text/plain": [
       "[1, 2, 5, 10]"
      ]
     },
     "execution_count": 170,
     "metadata": {},
     "output_type": "execute_result"
    }
   ],
   "source": [
    "divisors(10)"
   ]
  },
  {
   "cell_type": "code",
   "execution_count": 171,
   "id": "7cbfa939-305c-43f1-a255-038397a28bc4",
   "metadata": {},
   "outputs": [
    {
     "data": {
      "text/plain": [
       "1"
      ]
     },
     "execution_count": 171,
     "metadata": {},
     "output_type": "execute_result"
    }
   ],
   "source": [
    "Zmod(10)(0).order()"
   ]
  },
  {
   "cell_type": "code",
   "execution_count": 173,
   "id": "1b0dc3c7-ebc8-4ede-a7aa-bbc041dd64e3",
   "metadata": {},
   "outputs": [
    {
     "data": {
      "text/plain": [
       "5"
      ]
     },
     "execution_count": 173,
     "metadata": {},
     "output_type": "execute_result"
    }
   ],
   "source": [
    "Zmod(10)(2).order()"
   ]
  },
  {
   "cell_type": "code",
   "execution_count": 174,
   "id": "08a33104-3ba3-4b78-be6e-bf475493774f",
   "metadata": {},
   "outputs": [
    {
     "data": {
      "text/plain": [
       "2"
      ]
     },
     "execution_count": 174,
     "metadata": {},
     "output_type": "execute_result"
    }
   ],
   "source": [
    "Zmod(10)(5).order()"
   ]
  },
  {
   "cell_type": "code",
   "execution_count": 175,
   "id": "44aa02bd-aafd-4389-ad58-814381260a42",
   "metadata": {},
   "outputs": [
    {
     "data": {
      "text/plain": [
       "10"
      ]
     },
     "execution_count": 175,
     "metadata": {},
     "output_type": "execute_result"
    }
   ],
   "source": [
    "Zmod(10)(1).order()"
   ]
  },
  {
   "cell_type": "markdown",
   "id": "d742a7e4-f0d7-448b-b90a-37ab60aefdb1",
   "metadata": {},
   "source": [
    "$\\phi(n) = |{a | gcd(a, n) = 1, a \\lt n}|$\n",
    "\n",
    "6\n",
    "\n",
    "$1, 5$\n",
    "\n",
    "$\\phi(6) = 2$\n",
    "\n",
    "$\\phi(p) = p - 1$\n",
    "\n",
    "\n",
    "$|Z_n^*| = \\phi(n)$"
   ]
  },
  {
   "cell_type": "code",
   "execution_count": 176,
   "id": "c467b3a3-db2a-4f8e-b02a-93e8b1e7d749",
   "metadata": {},
   "outputs": [
    {
     "data": {
      "text/plain": [
       "2 * 5"
      ]
     },
     "execution_count": 176,
     "metadata": {},
     "output_type": "execute_result"
    }
   ],
   "source": [
    "factor(10)"
   ]
  },
  {
   "cell_type": "code",
   "execution_count": 177,
   "id": "3c4f389e-9dd6-4891-af5e-ba81e782d8fb",
   "metadata": {},
   "outputs": [
    {
     "data": {
      "text/plain": [
       "4"
      ]
     },
     "execution_count": 177,
     "metadata": {},
     "output_type": "execute_result"
    }
   ],
   "source": [
    "euler_phi(10)"
   ]
  },
  {
   "cell_type": "code",
   "execution_count": 178,
   "id": "e4e91112-cdcb-4f4d-99bb-3072547c1ac1",
   "metadata": {},
   "outputs": [
    {
     "data": {
      "text/plain": [
       "[0, 3, 6, 9, 2, 5, 8, 1, 4, 7]"
      ]
     },
     "execution_count": 178,
     "metadata": {},
     "output_type": "execute_result"
    }
   ],
   "source": [
    "[(3 * n) % 10 for n in range(10)]"
   ]
  },
  {
   "cell_type": "code",
   "execution_count": 180,
   "id": "74804aba-968a-4bfc-a053-04a68611992d",
   "metadata": {},
   "outputs": [
    {
     "data": {
      "text/plain": [
       "1"
      ]
     },
     "execution_count": 180,
     "metadata": {},
     "output_type": "execute_result"
    }
   ],
   "source": [
    "euler_phi(2)"
   ]
  },
  {
   "cell_type": "code",
   "execution_count": null,
   "id": "90ca90b0-f25d-4a73-9353-d423c07dee54",
   "metadata": {},
   "outputs": [],
   "source": [
    "[2, 4, 6, 8]"
   ]
  },
  {
   "cell_type": "markdown",
   "id": "1bbe6367-ec35-43b4-aec3-c46fca48c5d9",
   "metadata": {},
   "source": [
    "$n = p_1^{e_1} * p^{e_2} * ...$\n",
    "\n",
    "$\\phi(n) = \\phi(p_1^{e_1}) * \\phi(p_2^{e_2}) ...$\n",
    "\n",
    "$\\phi(p^e) = p^{e-1} * (p - 1)$"
   ]
  },
  {
   "cell_type": "code",
   "execution_count": 182,
   "id": "19406797-a175-4813-a9ca-5496c5af43a6",
   "metadata": {},
   "outputs": [],
   "source": [
    "G = Zmod(11)"
   ]
  },
  {
   "cell_type": "code",
   "execution_count": 185,
   "id": "7ba01be3-7342-44dd-8374-889911e79c5d",
   "metadata": {},
   "outputs": [
    {
     "data": {
      "text/plain": [
       "10"
      ]
     },
     "execution_count": 185,
     "metadata": {},
     "output_type": "execute_result"
    }
   ],
   "source": [
    "G.multiplicative_generator().multiplicative_order()"
   ]
  },
  {
   "cell_type": "code",
   "execution_count": 186,
   "id": "0da17d24-babb-455d-a2a6-d86ed2599225",
   "metadata": {},
   "outputs": [
    {
     "data": {
      "text/plain": [
       "10"
      ]
     },
     "execution_count": 186,
     "metadata": {},
     "output_type": "execute_result"
    }
   ],
   "source": [
    "G(2).multiplicative_order()"
   ]
  },
  {
   "cell_type": "code",
   "execution_count": 187,
   "id": "f7361ad8-d103-4995-a058-55c3ebcf925b",
   "metadata": {},
   "outputs": [],
   "source": [
    "f = G(2)^2"
   ]
  },
  {
   "cell_type": "code",
   "execution_count": 188,
   "id": "efb3c0a2-4f98-47f4-9e21-5eab45281db6",
   "metadata": {},
   "outputs": [
    {
     "data": {
      "text/plain": [
       "4"
      ]
     },
     "execution_count": 188,
     "metadata": {},
     "output_type": "execute_result"
    }
   ],
   "source": [
    "f"
   ]
  },
  {
   "cell_type": "code",
   "execution_count": 189,
   "id": "ba75a751-37a7-4057-825b-0aa58cd96b54",
   "metadata": {},
   "outputs": [
    {
     "data": {
      "text/plain": [
       "5"
      ]
     },
     "execution_count": 189,
     "metadata": {},
     "output_type": "execute_result"
    }
   ],
   "source": [
    "f.multiplicative_order()"
   ]
  },
  {
   "cell_type": "code",
   "execution_count": 190,
   "id": "aae73e44-96db-4585-8a9a-f550afd150c1",
   "metadata": {},
   "outputs": [
    {
     "data": {
      "text/plain": [
       "[1, 4, 5, 9, 3, 1, 4, 5, 9, 3]"
      ]
     },
     "execution_count": 190,
     "metadata": {},
     "output_type": "execute_result"
    }
   ],
   "source": [
    "[f^i for i in range(10)]"
   ]
  },
  {
   "cell_type": "code",
   "execution_count": 191,
   "id": "4edf0621-0b30-45ca-bc76-566b1469b12d",
   "metadata": {},
   "outputs": [],
   "source": [
    "p = random_prime(2**100)"
   ]
  },
  {
   "cell_type": "code",
   "execution_count": 192,
   "id": "4e0e7ed6-da60-4a69-ad19-5a527bc8d1ff",
   "metadata": {},
   "outputs": [
    {
     "data": {
      "text/plain": [
       "546966637589453809651791617909"
      ]
     },
     "execution_count": 192,
     "metadata": {},
     "output_type": "execute_result"
    }
   ],
   "source": [
    "p"
   ]
  },
  {
   "cell_type": "code",
   "execution_count": 193,
   "id": "564f333f-919a-44f2-bc8b-9d2c64aa012e",
   "metadata": {},
   "outputs": [
    {
     "data": {
      "text/plain": [
       "2^2 * 53 * 23333 * 26316198637 * 4201759971529"
      ]
     },
     "execution_count": 193,
     "metadata": {},
     "output_type": "execute_result"
    }
   ],
   "source": [
    "factor(p - 1)"
   ]
  },
  {
   "cell_type": "code",
   "execution_count": 194,
   "id": "217728ee-41ff-496f-96bd-bcf67983bc57",
   "metadata": {},
   "outputs": [],
   "source": [
    "S = SymmetricGroup(10)"
   ]
  },
  {
   "cell_type": "code",
   "execution_count": 195,
   "id": "a7649a6e-eb25-4689-8726-42f9cd018d3d",
   "metadata": {},
   "outputs": [
    {
     "data": {
      "text/plain": [
       "3628800"
      ]
     },
     "execution_count": 195,
     "metadata": {},
     "output_type": "execute_result"
    }
   ],
   "source": [
    "S.order()"
   ]
  },
  {
   "cell_type": "code",
   "execution_count": 196,
   "id": "fc27cfa9-57ec-4652-b189-8010b8a24938",
   "metadata": {},
   "outputs": [
    {
     "data": {
      "text/plain": [
       "3628800"
      ]
     },
     "execution_count": 196,
     "metadata": {},
     "output_type": "execute_result"
    }
   ],
   "source": [
    "factorial(10)"
   ]
  },
  {
   "cell_type": "code",
   "execution_count": 197,
   "id": "28e9f4f5-acc6-46f0-bb08-4bc66f263ccf",
   "metadata": {},
   "outputs": [],
   "source": [
    "s = S.random_element()"
   ]
  },
  {
   "cell_type": "code",
   "execution_count": 198,
   "id": "c3619899-73ac-4f33-8262-1d087d95764e",
   "metadata": {},
   "outputs": [
    {
     "data": {
      "text/plain": [
       "20"
      ]
     },
     "execution_count": 198,
     "metadata": {},
     "output_type": "execute_result"
    }
   ],
   "source": [
    "s.order()"
   ]
  },
  {
   "cell_type": "code",
   "execution_count": 199,
   "id": "2053f3fd-1542-48a9-9126-360ecfe3c3eb",
   "metadata": {},
   "outputs": [],
   "source": [
    "M = MatrixSpace(GF(101), 5)"
   ]
  },
  {
   "cell_type": "code",
   "execution_count": 201,
   "id": "8d24fd06-071f-4b1c-b5d7-3336cee4f4b4",
   "metadata": {},
   "outputs": [
    {
     "data": {
      "text/plain": [
       "[43 70 56 34 84]\n",
       "[86 65 16 37 62]\n",
       "[ 1 46 25 25 64]\n",
       "[15 32 96 36 86]\n",
       "[40 81 94 25 16]"
      ]
     },
     "execution_count": 201,
     "metadata": {},
     "output_type": "execute_result"
    }
   ],
   "source": [
    "a = M.random_element()\n",
    "a"
   ]
  },
  {
   "cell_type": "code",
   "execution_count": 204,
   "id": "39f61cea-c388-4dec-be03-3e4266104e40",
   "metadata": {},
   "outputs": [
    {
     "data": {
      "text/plain": [
       "[1 0 0 0 0]\n",
       "[0 1 0 0 0]\n",
       "[0 0 1 0 0]\n",
       "[0 0 0 1 0]\n",
       "[0 0 0 0 1]"
      ]
     },
     "execution_count": 204,
     "metadata": {},
     "output_type": "execute_result"
    }
   ],
   "source": [
    "a^5255050250"
   ]
  },
  {
   "cell_type": "markdown",
   "id": "33b40260-eef4-4c42-b15e-a42fed50f62c",
   "metadata": {},
   "source": [
    "$ZZ$, $Z_{10}$\n",
    "\n",
    "$f: ZZ \\to Z_{10}, x \\to x \\pmod{10}$"
   ]
  },
  {
   "cell_type": "code",
   "execution_count": 205,
   "id": "6cc0a433-523f-4167-b424-98d1741af586",
   "metadata": {},
   "outputs": [],
   "source": [
    "f = e^(2 * pi  / 5 * I)"
   ]
  },
  {
   "cell_type": "code",
   "execution_count": null,
   "id": "6eef45fb-0d30-4240-83e2-28333b49b872",
   "metadata": {},
   "outputs": [],
   "source": []
  },
  {
   "cell_type": "code",
   "execution_count": null,
   "id": "e20a5da7-8d39-4ee7-8cee-e9966d05b52a",
   "metadata": {},
   "outputs": [],
   "source": []
  }
 ],
 "metadata": {
  "kernelspec": {
   "display_name": "SageMath 10.2",
   "language": "sage",
   "name": "sagemath"
  },
  "language_info": {
   "codemirror_mode": {
    "name": "ipython",
    "version": 3
   },
   "file_extension": ".py",
   "mimetype": "text/x-python",
   "name": "python",
   "nbconvert_exporter": "python",
   "pygments_lexer": "ipython3",
   "version": "3.11.7"
  }
 },
 "nbformat": 4,
 "nbformat_minor": 5
}
