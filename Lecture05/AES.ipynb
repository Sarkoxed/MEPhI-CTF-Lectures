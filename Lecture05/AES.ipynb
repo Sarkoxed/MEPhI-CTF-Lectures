{
 "cells": [
  {
   "cell_type": "code",
   "execution_count": 27,
   "id": "fcb0b110-3ee8-47f4-a0bb-42d8765235be",
   "metadata": {},
   "outputs": [],
   "source": [
    "from sage.crypto.boolean_function import BooleanFunction\n",
    "from sage.all import GF, var, PolynomialRing, BooleanPolynomialRing, vector"
   ]
  },
  {
   "cell_type": "code",
   "execution_count": 28,
   "id": "08c44042-79fd-42c5-9ac8-2eef1327787d",
   "metadata": {},
   "outputs": [
    {
     "data": {
      "text/plain": [
       "171"
      ]
     },
     "execution_count": 28,
     "metadata": {},
     "output_type": "execute_result"
    }
   ],
   "source": [
    "    s_box = (\n",
    "        0x63, 0x7C, 0x77, 0x7B, 0xF2, 0x6B, 0x6F, 0xC5, 0x30, 0x01, 0x67, 0x2B, 0xFE, 0xD7, 0xAB, 0x76,\n",
    "        0xCA, 0x82, 0xC9, 0x7D, 0xFA, 0x59, 0x47, 0xF0, 0xAD, 0xD4, 0xA2, 0xAF, 0x9C, 0xA4, 0x72, 0xC0,\n",
    "        0xB7, 0xFD, 0x93, 0x26, 0x36, 0x3F, 0xF7, 0xCC, 0x34, 0xA5, 0xE5, 0xF1, 0x71, 0xD8, 0x31, 0x15,\n",
    "        0x04, 0xC7, 0x23, 0xC3, 0x18, 0x96, 0x05, 0x9A, 0x07, 0x12, 0x80, 0xE2, 0xEB, 0x27, 0xB2, 0x75,\n",
    "        0x09, 0x83, 0x2C, 0x1A, 0x1B, 0x6E, 0x5A, 0xA0, 0x52, 0x3B, 0xD6, 0xB3, 0x29, 0xE3, 0x2F, 0x84,\n",
    "        0x53, 0xD1, 0x00, 0xED, 0x20, 0xFC, 0xB1, 0x5B, 0x6A, 0xCB, 0xBE, 0x39, 0x4A, 0x4C, 0x58, 0xCF,\n",
    "        0xD0, 0xEF, 0xAA, 0xFB, 0x43, 0x4D, 0x33, 0x85, 0x45, 0xF9, 0x02, 0x7F, 0x50, 0x3C, 0x9F, 0xA8,\n",
    "        0x51, 0xA3, 0x40, 0x8F, 0x92, 0x9D, 0x38, 0xF5, 0xBC, 0xB6, 0xDA, 0x21, 0x10, 0xFF, 0xF3, 0xD2,\n",
    "        0xCD, 0x0C, 0x13, 0xEC, 0x5F, 0x97, 0x44, 0x17, 0xC4, 0xA7, 0x7E, 0x3D, 0x64, 0x5D, 0x19, 0x73,\n",
    "        0x60, 0x81, 0x4F, 0xDC, 0x22, 0x2A, 0x90, 0x88, 0x46, 0xEE, 0xB8, 0x14, 0xDE, 0x5E, 0x0B, 0xDB,\n",
    "        0xE0, 0x32, 0x3A, 0x0A, 0x49, 0x06, 0x24, 0x5C, 0xC2, 0xD3, 0xAC, 0x62, 0x91, 0x95, 0xE4, 0x79,\n",
    "        0xE7, 0xC8, 0x37, 0x6D, 0x8D, 0xD5, 0x4E, 0xA9, 0x6C, 0x56, 0xF4, 0xEA, 0x65, 0x7A, 0xAE, 0x08,\n",
    "        0xBA, 0x78, 0x25, 0x2E, 0x1C, 0xA6, 0xB4, 0xC6, 0xE8, 0xDD, 0x74, 0x1F, 0x4B, 0xBD, 0x8B, 0x8A,\n",
    "        0x70, 0x3E, 0xB5, 0x66, 0x48, 0x03, 0xF6, 0x0E, 0x61, 0x35, 0x57, 0xB9, 0x86, 0xC1, 0x1D, 0x9E,\n",
    "        0xE1, 0xF8, 0x98, 0x11, 0x69, 0xD9, 0x8E, 0x94, 0x9B, 0x1E, 0x87, 0xE9, 0xCE, 0x55, 0x28, 0xDF,\n",
    "        0x8C, 0xA1, 0x89, 0x0D, 0xBF, 0xE6, 0x42, 0x68, 0x41, 0x99, 0x2D, 0x0F, 0xB0, 0x54, 0xBB, 0x16,\n",
    "    )\n",
    "s_box[14]"
   ]
  },
  {
   "cell_type": "code",
   "execution_count": 42,
   "id": "35092b36-ab44-46bf-a124-f5fd56a7c28b",
   "metadata": {},
   "outputs": [],
   "source": [
    "x = var('x')\n",
    "P = PolynomialRing(GF(2), 'x')\n",
    "x = P(x)\n",
    "G = GF(2**8, x, modulus=x**8 + x**4 + x**3 + x + 1)"
   ]
  },
  {
   "cell_type": "code",
   "execution_count": 55,
   "id": "35d7e64d-68f2-4a17-b1cc-99bb63eb6f1b",
   "metadata": {},
   "outputs": [
    {
     "data": {
      "text/plain": [
       "x"
      ]
     },
     "execution_count": 55,
     "metadata": {},
     "output_type": "execute_result"
    }
   ],
   "source": [
    "t = 37\n",
    "G([0, 1])"
   ]
  },
  {
   "cell_type": "code",
   "execution_count": 46,
   "id": "4bd79772-f8b7-45fa-8c6d-e79a221abdf3",
   "metadata": {},
   "outputs": [
    {
     "data": {
      "text/plain": [
       "1"
      ]
     },
     "execution_count": 46,
     "metadata": {},
     "output_type": "execute_result"
    }
   ],
   "source": [
    "t_g = G([1, 0, 1, 0, 0, 1])\n",
    "t_g**(-1) * t_g"
   ]
  },
  {
   "cell_type": "code",
   "execution_count": 52,
   "id": "b869f9a1-d328-426c-9c87-3b530625ae91",
   "metadata": {},
   "outputs": [
    {
     "data": {
      "text/plain": [
       "(x^4, x^4 + x^2 + x)"
      ]
     },
     "execution_count": 52,
     "metadata": {},
     "output_type": "execute_result"
    }
   ],
   "source": [
    "P1 = PolynomialRing(GF(2), 'x')\n",
    "t1 = P1.random_element(degree=4)\n",
    "t2 = P1.random_element(degree=4)\n",
    "t1, t2"
   ]
  },
  {
   "cell_type": "code",
   "execution_count": 54,
   "id": "eb74ff6d-104c-4944-9bb2-72b385c4524e",
   "metadata": {},
   "outputs": [
    {
     "data": {
      "text/plain": [
       "x^6 + x^5 + x^4 + x^3 + x + 1"
      ]
     },
     "execution_count": 54,
     "metadata": {},
     "output_type": "execute_result"
    }
   ],
   "source": [
    "t1 * t2 - P1(x**8 + x**4 + x**3 + x + 1)"
   ]
  },
  {
   "cell_type": "code",
   "execution_count": 29,
   "id": "74db1a46-555c-4204-a0b3-cbc66b463788",
   "metadata": {},
   "outputs": [
    {
     "data": {
      "text/plain": [
       "x0*x1*x2*x3*x4*x6*x7 + x0*x1*x2*x3*x4*x6 + x0*x1*x2*x3*x4*x7 + x0*x1*x2*x3*x4 + x0*x1*x2*x3*x5*x7 + x0*x1*x2*x3*x6*x7 + x0*x1*x2*x3*x6 + x0*x1*x2*x3*x7 + x0*x1*x2*x3 + x0*x1*x2*x4*x5*x6*x7 + x0*x1*x2*x4*x5*x7 + x0*x1*x2*x4*x5 + x0*x1*x2*x4*x7 + x0*x1*x2*x5*x6*x7 + x0*x1*x2*x5*x7 + x0*x1*x2*x5 + x0*x1*x2*x6*x7 + x0*x1*x2*x6 + x0*x1*x2*x7 + x0*x1*x3*x4*x6*x7 + x0*x1*x3*x4*x6 + x0*x1*x3*x5*x6 + x0*x1*x3*x5*x7 + x0*x1*x3*x6*x7 + x0*x1*x4*x5*x6*x7 + x0*x1*x4*x5*x6 + x0*x1*x4*x5 + x0*x1*x4*x7 + x0*x1*x4 + x0*x1*x5*x6*x7 + x0*x1*x6 + x0*x1*x7 + x0*x1 + x0*x2*x3*x4*x5*x6*x7 + x0*x2*x3*x4*x5*x6 + x0*x2*x3*x4*x5*x7 + x0*x2*x3*x4*x5 + x0*x2*x3*x4*x6 + x0*x2*x3*x5*x6*x7 + x0*x2*x3*x5 + x0*x2*x3*x7 + x0*x2*x4*x5*x7 + x0*x2*x4*x5 + x0*x2*x4*x6*x7 + x0*x2*x4*x7 + x0*x2*x4 + x0*x2*x5*x6 + x0*x2*x5*x7 + x0*x2*x5 + x0*x2*x6 + x0*x2*x7 + x0*x3*x4*x5*x6 + x0*x3*x4*x5*x7 + x0*x3*x4*x6*x7 + x0*x3*x4*x6 + x0*x3*x4 + x0*x3*x5*x6*x7 + x0*x3*x5*x6 + x0*x3*x5 + x0*x3*x6 + x0*x4*x5*x6 + x0*x4*x5*x7 + x0*x4*x6*x7 + x0*x4*x6 + x0*x4*x7 + x0*x4 + x0*x5 + x0*x6 + x0 + x1*x2*x3*x4*x6*x7 + x1*x2*x3*x5*x6 + x1*x2*x3*x5*x7 + x1*x2*x3*x5 + x1*x2*x3*x6 + x1*x2*x3*x7 + x1*x2*x3 + x1*x2*x4*x5*x6*x7 + x1*x2*x4*x5*x6 + x1*x2*x4*x6*x7 + x1*x2*x4*x6 + x1*x2*x4*x7 + x1*x2*x4 + x1*x2*x5*x6*x7 + x1*x2*x6*x7 + x1*x2*x6 + x1*x2 + x1*x3*x4*x5*x6*x7 + x1*x3*x4*x5*x7 + x1*x3*x4*x6 + x1*x3*x4 + x1*x3*x6*x7 + x1*x3*x7 + x1*x3 + x1*x4*x5*x6 + x1*x4*x5*x7 + x1*x4*x6 + x1*x4 + x1*x5*x6*x7 + x1*x5*x6 + x1*x6 + x2*x3*x4*x5*x6*x7 + x2*x3*x4*x5*x6 + x2*x3*x4*x5*x7 + x2*x3*x5*x7 + x2*x3*x5 + x2*x3*x6*x7 + x2*x3*x7 + x2*x3 + x2*x4*x5*x6*x7 + x2*x4*x5*x6 + x2*x4*x5*x7 + x2*x4*x7 + x2*x4 + x2*x5*x6 + x2*x5*x7 + x2*x6*x7 + x2*x6 + x2*x7 + x2 + x3*x4*x7 + x3*x5*x6*x7 + x3*x5*x7 + x3*x6*x7 + x3 + x4*x5*x6 + x4*x6 + x4 + x5*x6*x7 + x5*x6 + x5*x7 + x6*x7 + 1"
      ]
     },
     "execution_count": 29,
     "metadata": {},
     "output_type": "execute_result"
    }
   ],
   "source": [
    "t1 = [x & 1 for x in s_box]\n",
    "f = BooleanFunction(t1)\n",
    "f.algebraic_normal_form()"
   ]
  },
  {
   "cell_type": "code",
   "execution_count": 30,
   "id": "1b3210c3-6754-416c-b4f7-aff08ae9c671",
   "metadata": {},
   "outputs": [
    {
     "data": {
      "text/plain": [
       "x0*x1*x2*x3*x4*x6*x7 + x0*x1*x2*x3*x4*x6 + x0*x1*x2*x3*x4*x7 + x0*x1*x2*x3*x4 + x0*x1*x2*x3*x5*x7 + x0*x1*x2*x3*x6*x7 + x0*x1*x2*x3*x6 + x0*x1*x2*x3*x7 + x0*x1*x2*x3 + x0*x1*x2*x4*x5*x6*x7 + x0*x1*x2*x4*x5*x7 + x0*x1*x2*x4*x5 + x0*x1*x2*x4*x7 + x0*x1*x2*x5*x6*x7 + x0*x1*x2*x5*x7 + x0*x1*x2*x5 + x0*x1*x2*x6*x7 + x0*x1*x2*x6 + x0*x1*x2*x7 + x0*x1*x3*x4*x6*x7 + x0*x1*x3*x4*x6 + x0*x1*x3*x5*x6 + x0*x1*x3*x5*x7 + x0*x1*x3*x6*x7 + x0*x1*x4*x5*x6*x7 + x0*x1*x4*x5*x6 + x0*x1*x4*x5 + x0*x1*x4*x7 + x0*x1*x4 + x0*x1*x5*x6*x7 + x0*x1*x6 + x0*x1*x7 + x0*x1 + x0*x2*x3*x4*x5*x6*x7 + x0*x2*x3*x4*x5*x6 + x0*x2*x3*x4*x5*x7 + x0*x2*x3*x4*x5 + x0*x2*x3*x4*x6 + x0*x2*x3*x5*x6*x7 + x0*x2*x3*x5 + x0*x2*x3*x7 + x0*x2*x4*x5*x7 + x0*x2*x4*x5 + x0*x2*x4*x6*x7 + x0*x2*x4*x7 + x0*x2*x4 + x0*x2*x5*x6 + x0*x2*x5*x7 + x0*x2*x5 + x0*x2*x6 + x0*x2*x7 + x0*x3*x4*x5*x6 + x0*x3*x4*x5*x7 + x0*x3*x4*x6*x7 + x0*x3*x4*x6 + x0*x3*x4 + x0*x3*x5*x6*x7 + x0*x3*x5*x6 + x0*x3*x5 + x0*x3*x6 + x0*x4*x5*x6 + x0*x4*x5*x7 + x0*x4*x6*x7 + x0*x4*x6 + x0*x4*x7 + x0*x4 + x0*x5 + x0*x6 + x0 + x1*x2*x3*x4*x6*x7 + x1*x2*x3*x5*x6 + x1*x2*x3*x5*x7 + x1*x2*x3*x5 + x1*x2*x3*x6 + x1*x2*x3*x7 + x1*x2*x3 + x1*x2*x4*x5*x6*x7 + x1*x2*x4*x5*x6 + x1*x2*x4*x6*x7 + x1*x2*x4*x6 + x1*x2*x4*x7 + x1*x2*x4 + x1*x2*x5*x6*x7 + x1*x2*x6*x7 + x1*x2*x6 + x1*x2 + x1*x3*x4*x5*x6*x7 + x1*x3*x4*x5*x7 + x1*x3*x4*x6 + x1*x3*x4 + x1*x3*x6*x7 + x1*x3*x7 + x1*x3 + x1*x4*x5*x6 + x1*x4*x5*x7 + x1*x4*x6 + x1*x4 + x1*x5*x6*x7 + x1*x5*x6 + x1*x6 + x2*x3*x4*x5*x6*x7 + x2*x3*x4*x5*x6 + x2*x3*x4*x5*x7 + x2*x3*x5*x7 + x2*x3*x5 + x2*x3*x6*x7 + x2*x3*x7 + x2*x3 + x2*x4*x5*x6*x7 + x2*x4*x5*x6 + x2*x4*x5*x7 + x2*x4*x7 + x2*x4 + x2*x5*x6 + x2*x5*x7 + x2*x6*x7 + x2*x6 + x2*x7 + x2 + x3*x4*x7 + x3*x5*x6*x7 + x3*x5*x7 + x3*x6*x7 + x3 + x4*x5*x6 + x4*x6 + x4 + x5*x6*x7 + x5*x6 + x5*x7 + x6*x7 + 1"
      ]
     },
     "execution_count": 30,
     "metadata": {},
     "output_type": "execute_result"
    }
   ],
   "source": [
    "B = BooleanPolynomialRing(8, \"x\")\n",
    "xs = list(B.gens())\n",
    "B(f.algebraic_normal_form())"
   ]
  },
  {
   "cell_type": "code",
   "execution_count": 36,
   "id": "c42f85b3-b224-4f54-be5b-a1c7da9eca9d",
   "metadata": {},
   "outputs": [
    {
     "name": "stdout",
     "output_type": "stream",
     "text": [
      "(x0, x1, x2, x3, x4, x5, x6, x7)\n"
     ]
    },
    {
     "data": {
      "text/plain": [
       "(142, x3 + x6 + x7)"
      ]
     },
     "execution_count": 36,
     "metadata": {},
     "output_type": "execute_result"
    }
   ],
   "source": [
    "from itertools import product\n",
    "\n",
    "vec1 = vector(xs)\n",
    "print(vec1)\n",
    "\n",
    "tt_f = f.truth_table()\n",
    "max = 0\n",
    "cur_f = None\n",
    "\n",
    "for p in product([0, 1], repeat=8):\n",
    "    p1 = vector(GF(2), p)\n",
    "    f1 = p1 * vec1\n",
    "    f2 = BooleanFunction(f1)\n",
    "    tt = f2.truth_table()\n",
    "\n",
    "    k = sum(x == y for x, y in zip(tt, tt_f))\n",
    "    if k > max:\n",
    "        max = k\n",
    "        cur_f = f1\n",
    "\n",
    "max, cur_f"
   ]
  },
  {
   "cell_type": "code",
   "execution_count": 37,
   "id": "3a0982e3-4414-45f0-8857-ecb3754c5c86",
   "metadata": {},
   "outputs": [
    {
     "data": {
      "text/plain": [
       "0.5546875"
      ]
     },
     "execution_count": 37,
     "metadata": {},
     "output_type": "execute_result"
    }
   ],
   "source": [
    "142 / 256."
   ]
  },
  {
   "cell_type": "code",
   "execution_count": null,
   "id": "ff235b61-912d-421f-a8e1-d16ee15d4acf",
   "metadata": {},
   "outputs": [],
   "source": [
    "class AES:\n",
    "    N_ROUNDS = 10\n",
    "\n",
    "    s_box = (\n",
    "        0x63, 0x7C, 0x77, 0x7B, 0xF2, 0x6B, 0x6F, 0xC5, 0x30, 0x01, 0x67, 0x2B, 0xFE, 0xD7, 0xAB, 0x76,\n",
    "        0xCA, 0x82, 0xC9, 0x7D, 0xFA, 0x59, 0x47, 0xF0, 0xAD, 0xD4, 0xA2, 0xAF, 0x9C, 0xA4, 0x72, 0xC0,\n",
    "        0xB7, 0xFD, 0x93, 0x26, 0x36, 0x3F, 0xF7, 0xCC, 0x34, 0xA5, 0xE5, 0xF1, 0x71, 0xD8, 0x31, 0x15,\n",
    "        0x04, 0xC7, 0x23, 0xC3, 0x18, 0x96, 0x05, 0x9A, 0x07, 0x12, 0x80, 0xE2, 0xEB, 0x27, 0xB2, 0x75,\n",
    "        0x09, 0x83, 0x2C, 0x1A, 0x1B, 0x6E, 0x5A, 0xA0, 0x52, 0x3B, 0xD6, 0xB3, 0x29, 0xE3, 0x2F, 0x84,\n",
    "        0x53, 0xD1, 0x00, 0xED, 0x20, 0xFC, 0xB1, 0x5B, 0x6A, 0xCB, 0xBE, 0x39, 0x4A, 0x4C, 0x58, 0xCF,\n",
    "        0xD0, 0xEF, 0xAA, 0xFB, 0x43, 0x4D, 0x33, 0x85, 0x45, 0xF9, 0x02, 0x7F, 0x50, 0x3C, 0x9F, 0xA8,\n",
    "        0x51, 0xA3, 0x40, 0x8F, 0x92, 0x9D, 0x38, 0xF5, 0xBC, 0xB6, 0xDA, 0x21, 0x10, 0xFF, 0xF3, 0xD2,\n",
    "        0xCD, 0x0C, 0x13, 0xEC, 0x5F, 0x97, 0x44, 0x17, 0xC4, 0xA7, 0x7E, 0x3D, 0x64, 0x5D, 0x19, 0x73,\n",
    "        0x60, 0x81, 0x4F, 0xDC, 0x22, 0x2A, 0x90, 0x88, 0x46, 0xEE, 0xB8, 0x14, 0xDE, 0x5E, 0x0B, 0xDB,\n",
    "        0xE0, 0x32, 0x3A, 0x0A, 0x49, 0x06, 0x24, 0x5C, 0xC2, 0xD3, 0xAC, 0x62, 0x91, 0x95, 0xE4, 0x79,\n",
    "        0xE7, 0xC8, 0x37, 0x6D, 0x8D, 0xD5, 0x4E, 0xA9, 0x6C, 0x56, 0xF4, 0xEA, 0x65, 0x7A, 0xAE, 0x08,\n",
    "        0xBA, 0x78, 0x25, 0x2E, 0x1C, 0xA6, 0xB4, 0xC6, 0xE8, 0xDD, 0x74, 0x1F, 0x4B, 0xBD, 0x8B, 0x8A,\n",
    "        0x70, 0x3E, 0xB5, 0x66, 0x48, 0x03, 0xF6, 0x0E, 0x61, 0x35, 0x57, 0xB9, 0x86, 0xC1, 0x1D, 0x9E,\n",
    "        0xE1, 0xF8, 0x98, 0x11, 0x69, 0xD9, 0x8E, 0x94, 0x9B, 0x1E, 0x87, 0xE9, 0xCE, 0x55, 0x28, 0xDF,\n",
    "        0x8C, 0xA1, 0x89, 0x0D, 0xBF, 0xE6, 0x42, 0x68, 0x41, 0x99, 0x2D, 0x0F, 0xB0, 0x54, 0xBB, 0x16,\n",
    "    )\n",
    "    \n",
    "    inv_s_box = (\n",
    "        0x52, 0x09, 0x6A, 0xD5, 0x30, 0x36, 0xA5, 0x38, 0xBF, 0x40, 0xA3, 0x9E, 0x81, 0xF3, 0xD7, 0xFB,\n",
    "        0x7C, 0xE3, 0x39, 0x82, 0x9B, 0x2F, 0xFF, 0x87, 0x34, 0x8E, 0x43, 0x44, 0xC4, 0xDE, 0xE9, 0xCB,\n",
    "        0x54, 0x7B, 0x94, 0x32, 0xA6, 0xC2, 0x23, 0x3D, 0xEE, 0x4C, 0x95, 0x0B, 0x42, 0xFA, 0xC3, 0x4E,\n",
    "        0x08, 0x2E, 0xA1, 0x66, 0x28, 0xD9, 0x24, 0xB2, 0x76, 0x5B, 0xA2, 0x49, 0x6D, 0x8B, 0xD1, 0x25,\n",
    "        0x72, 0xF8, 0xF6, 0x64, 0x86, 0x68, 0x98, 0x16, 0xD4, 0xA4, 0x5C, 0xCC, 0x5D, 0x65, 0xB6, 0x92,\n",
    "        0x6C, 0x70, 0x48, 0x50, 0xFD, 0xED, 0xB9, 0xDA, 0x5E, 0x15, 0x46, 0x57, 0xA7, 0x8D, 0x9D, 0x84,\n",
    "        0x90, 0xD8, 0xAB, 0x00, 0x8C, 0xBC, 0xD3, 0x0A, 0xF7, 0xE4, 0x58, 0x05, 0xB8, 0xB3, 0x45, 0x06,\n",
    "        0xD0, 0x2C, 0x1E, 0x8F, 0xCA, 0x3F, 0x0F, 0x02, 0xC1, 0xAF, 0xBD, 0x03, 0x01, 0x13, 0x8A, 0x6B,\n",
    "        0x3A, 0x91, 0x11, 0x41, 0x4F, 0x67, 0xDC, 0xEA, 0x97, 0xF2, 0xCF, 0xCE, 0xF0, 0xB4, 0xE6, 0x73,\n",
    "        0x96, 0xAC, 0x74, 0x22, 0xE7, 0xAD, 0x35, 0x85, 0xE2, 0xF9, 0x37, 0xE8, 0x1C, 0x75, 0xDF, 0x6E,\n",
    "        0x47, 0xF1, 0x1A, 0x71, 0x1D, 0x29, 0xC5, 0x89, 0x6F, 0xB7, 0x62, 0x0E, 0xAA, 0x18, 0xBE, 0x1B,\n",
    "        0xFC, 0x56, 0x3E, 0x4B, 0xC6, 0xD2, 0x79, 0x20, 0x9A, 0xDB, 0xC0, 0xFE, 0x78, 0xCD, 0x5A, 0xF4,\n",
    "        0x1F, 0xDD, 0xA8, 0x33, 0x88, 0x07, 0xC7, 0x31, 0xB1, 0x12, 0x10, 0x59, 0x27, 0x80, 0xEC, 0x5F,\n",
    "        0x60, 0x51, 0x7F, 0xA9, 0x19, 0xB5, 0x4A, 0x0D, 0x2D, 0xE5, 0x7A, 0x9F, 0x93, 0xC9, 0x9C, 0xEF,\n",
    "        0xA0, 0xE0, 0x3B, 0x4D, 0xAE, 0x2A, 0xF5, 0xB0, 0xC8, 0xEB, 0xBB, 0x3C, 0x83, 0x53, 0x99, 0x61,\n",
    "        0x17, 0x2B, 0x04, 0x7E, 0xBA, 0x77, 0xD6, 0x26, 0xE1, 0x69, 0x14, 0x63, 0x55, 0x21, 0x0C, 0x7D,\n",
    "    )\n",
    "    \n",
    "    # Round constants https://en.wikipedia.org/wiki/AES_key_schedule#Round_constants\n",
    "    r_con = (\n",
    "        0x00, 0x01, 0x02, 0x04, 0x08, 0x10, 0x20, 0x40,\n",
    "        0x80, 0x1B, 0x36, 0x6C, 0xD8, 0xAB, 0x4D, 0x9A,\n",
    "        0x2F, 0x5E, 0xBC, 0x63, 0xC6, 0x97, 0x35, 0x6A,\n",
    "        0xD4, 0xB3, 0x7D, 0xFA, 0xEF, 0xC5, 0x91, 0x39,\n",
    "    )\n",
    "\n",
    "\n",
    "    def __init__(self, key: bytes):\n",
    "        self.key = key\n",
    "        # Initialize round keys with raw key material.\n",
    "        key_columns = self.bytes2matrix(self.key)\n",
    "        iteration_size = len(self.key) // 4\n",
    "    \n",
    "        # Each iteration has exactly as many columns as the key material.\n",
    "        i = 1\n",
    "        while len(key_columns) < (self.N_ROUNDS + 1) * 4:\n",
    "            # Copy previous word.\n",
    "            word = list(key_columns[-1])\n",
    "    \n",
    "            # Perform schedule_core once every \"row\".\n",
    "            if len(key_columns) % iteration_size == 0:\n",
    "                # Circular shift.\n",
    "                word.append(word.pop(0))\n",
    "                # Map to S-BOX.\n",
    "                word = [self.s_box[b] for b in word]\n",
    "                # XOR with first byte of R-CON, since the others bytes of R-CON are 0.\n",
    "                word[0] ^= self.r_con[i]\n",
    "                i += 1\n",
    "            elif len(self.key) == 32 and len(key_columns) % iteration_size == 4:\n",
    "                # Run word through S-box in the fourth iteration when using a\n",
    "                # 256-bit key.\n",
    "                word = [self.s_box[b] for b in word]\n",
    "\n",
    "            # XOR with equivalent word from previous iteration.\n",
    "            word = list(i ^ j for i, j in zip(word, key_columns[-iteration_size]))\n",
    "            key_columns.append(word)\n",
    "\n",
    "        # Group key words in 4x4 byte matrices.\n",
    "        self.round_keys = [key_columns[4 * i: 4 * (i+1)] for i in range(len(key_columns) // 4)]\n",
    "        self.state = [[0 for _ in range(4)] for _ in range(4)]\n",
    "    \n",
    "    @staticmethod\n",
    "    def bytes2matrix(text):\n",
    "        return [list(text[i:i+4]) for i in range(0, len(text), 4)]\n",
    "    \n",
    "    @staticmethod\n",
    "    def matrix2bytes(matrix):\n",
    "        return bytes([x for y in matrix for x in y]) \n",
    "    \n",
    "    def add_round_key(self, k):\n",
    "        self.state = [[x ^ y for x, y in zip(self.state[i], self.round_keys[k][i])] for i in range(len(self.state))]\n",
    "    \n",
    "    def shift_rows(self):\n",
    "        s = self.state\n",
    "        s[0][1], s[1][1], s[2][1], s[3][1] = s[1][1], s[2][1], s[3][1], s[0][1]\n",
    "        s[0][2], s[1][2], s[2][2], s[3][2] = s[2][2], s[3][2], s[0][2], s[1][2]\n",
    "        s[0][3], s[1][3], s[2][3], s[3][3] = s[3][3], s[0][3], s[1][3], s[2][3]\n",
    "    \n",
    "    def inv_shift_rows(self):\n",
    "        s = self.state\n",
    "        s[0][3], s[1][3], s[2][3], s[3][3] = s[1][3], s[2][3], s[3][3], s[0][3]\n",
    "        s[0][2], s[1][2], s[2][2], s[3][2] = s[2][2], s[3][2], s[0][2], s[1][2]\n",
    "        s[0][1], s[1][1], s[2][1], s[3][1] = s[3][1], s[0][1], s[1][1], s[2][1]\n",
    "    \n",
    "    # learned from http://cs.ucsb.edu/~koc/cs178/projects/JT/aes.c\n",
    "    @staticmethod\n",
    "    def xtime(a):\n",
    "        if a & 0x80:\n",
    "            return ((a << 1) ^ 0x1B) & 0xFF\n",
    "        return a << 1\n",
    "        \n",
    "    def mix_single_column(self, a):\n",
    "        # see Sec 4.1.2 in The Design of Rijndael\n",
    "        t = a[0] ^ a[1] ^ a[2] ^ a[3]\n",
    "        u = a[0]\n",
    "        a[0] ^= t ^ self.xtime(a[0] ^ a[1])\n",
    "        a[1] ^= t ^ self.xtime(a[1] ^ a[2])\n",
    "        a[2] ^= t ^ self.xtime(a[2] ^ a[3])\n",
    "        a[3] ^= t ^ self.xtime(a[3] ^ u)\n",
    "    \n",
    "    def mix_columns(self):\n",
    "        for i in range(4):\n",
    "            self.mix_single_column(self.state[i])\n",
    "    \n",
    "    def inv_mix_columns(self):\n",
    "        s = self.state\n",
    "        # see Sec 4.1.3 in The Design of Rijndael\n",
    "        for i in range(4):\n",
    "            u = self.xtime(self.xtime(s[i][0] ^ s[i][2]))\n",
    "            v = self.xtime(self.xtime(s[i][1] ^ s[i][3]))\n",
    "            s[i][0] ^= u\n",
    "            s[i][1] ^= v\n",
    "            s[i][2] ^= u\n",
    "            s[i][3] ^= v\n",
    "\n",
    "        self.mix_columns()\n",
    "    \n",
    "    def sub_bytes(self):\n",
    "        self.state = [[self.s_box[x] for x in y] for y in self.state]\n",
    "\n",
    "    def inv_sub_bytes(self):\n",
    "        self.state = [[self.inv_s_box[x] for x in y] for y in self.state]\n",
    "\n",
    "    def encrypt(self, plaintext):\n",
    "        self.state = self.bytes2matrix(plaintext)\n",
    "        \n",
    "        self.add_round_key(0)\n",
    "    \n",
    "        for i in range(1, self.N_ROUNDS):\n",
    "            self.sub_bytes()\n",
    "            self.shift_rows()\n",
    "            self.mix_columns()\n",
    "            self.add_round_key(i)\n",
    "        \n",
    "        # Run final round (skips the InvMixColumns step)\n",
    "        self.sub_bytes()\n",
    "        self.shift_rows()\n",
    "        self.add_round_key(self.N_ROUNDS)\n",
    "\n",
    "        # Convert state matrix to plaintext\n",
    "        plaintext = self.matrix2bytes(self.state)\n",
    "        return plaintext\n",
    "   \n",
    "    def decrypt(self, ciphertext):\n",
    "    \n",
    "        self.state = self.bytes2matrix(ciphertext)\n",
    "        \n",
    "        # Initial add round key step\n",
    "        self.add_round_key(self.N_ROUNDS - 1)\n",
    "    \n",
    "        for i in range(self.N_ROUNDS - 1, 0, -1):\n",
    "            self.inv_shift_rows()\n",
    "            self.inv_sub_bytes()\n",
    "            self.add_round_key(i)\n",
    "            self.inv_mix_columns()\n",
    "        \n",
    "        # Run final round (skips the InvMixColumns step)\n",
    "        self.inv_shift_rows()\n",
    "        self.inv_sub_bytes()\n",
    "        self.add_round_key(0)\n",
    "    \n",
    "        # Convert state matrix to plaintext\n",
    "        plaintext = self.matrix2bytes(self.state)\n",
    "        return plaintext"
   ]
  },
  {
   "cell_type": "code",
   "execution_count": 3,
   "id": "de0a44f8-62d3-435b-a160-a8d1ea2d89f3",
   "metadata": {},
   "outputs": [
    {
     "name": "stdout",
     "output_type": "stream",
     "text": [
      "b\"\\xce\\xaa\\x12\\x8b\\xe8M\\xf6\\xca'\\x17\\xe3n\\x01\\x8e\\x01\\x1f\"\n",
      "b\"\\xce\\xaa\\x12\\x8b\\xe8M\\xf6\\xca'\\x17\\xe3n\\x01\\x8e\\x01\\x1f\"\n"
     ]
    }
   ],
   "source": [
    "    from Crypto.Cipher import AES as aes\n",
    "    from os import urandom\n",
    "    key        = b'\\xc3,\\\\\\xa6\\xb5\\x80^\\x0c\\xdb\\x8d\\xa5z*\\xb6\\xfe\\\\'\n",
    "    plaintext = b'abob' * 4\n",
    "    cip = AES(key)\n",
    "    print(cip.encrypt(plaintext))\n",
    "\n",
    "    cip1 = aes.new(key=key, mode=aes.MODE_ECB)\n",
    "    print(cip1.encrypt(plaintext))"
   ]
  },
  {
   "cell_type": "code",
   "execution_count": 60,
   "id": "33b7d4f5-fd62-4772-b24c-a2e1bead3cdb",
   "metadata": {},
   "outputs": [],
   "source": [
    "from sage.crypto.sbox import SBox\n",
    "sbox = (\n",
    "        0x2a, 0x00, 0x7e, 0x54, 0x82, 0xa8, 0xd6, 0xfc, 0x61, 0x4b, 0x35, 0x1f, 0xc9, 0xe3, 0x9d, 0xb7,\n",
    "        0xbc, 0x96, 0xe8, 0xc2, 0x14, 0x3e, 0x40, 0x6a, 0xf7, 0xdd, 0xa3, 0x89, 0x5f, 0x75, 0x0b, 0x21,\n",
    "        0x1d, 0x37, 0x49, 0x63, 0xb5, 0x9f, 0xe1, 0xcb, 0x56, 0x7c, 0x02, 0x28, 0xfe, 0xd4, 0xaa, 0x80,\n",
    "        0x8b, 0xa1, 0xdf, 0xf5, 0x23, 0x09, 0x77, 0x5d, 0xc0, 0xea, 0x94, 0xbe, 0x68, 0x42, 0x3c, 0x16,\n",
    "        0x44, 0x6e, 0x10, 0x3a, 0xec, 0xc6, 0xb8, 0x92, 0x0f, 0x25, 0x5b, 0x71, 0xa7, 0x8d, 0xf3, 0xd9,\n",
    "        0xd2, 0xf8, 0x86, 0xac, 0x7a, 0x50, 0x2e, 0x04, 0x99, 0xb3, 0xcd, 0xe7, 0x31, 0x1b, 0x65, 0x4f,\n",
    "        0x73, 0x59, 0x27, 0x0d, 0xdb, 0xf1, 0x8f, 0xa5, 0x38, 0x12, 0x6c, 0x46, 0x90, 0xba, 0xc4, 0xee,\n",
    "        0xe5, 0xcf, 0xb1, 0x9b, 0x4d, 0x67, 0x19, 0x33, 0xae, 0x84, 0xfa, 0xd0, 0x06, 0x2c, 0x52, 0x78,\n",
    "        0xf6, 0xdc, 0xa2, 0x88, 0x5e, 0x74, 0x0a, 0x20, 0xbd, 0x97, 0xe9, 0xc3, 0x15, 0x3f, 0x41, 0x6b,\n",
    "        0x60, 0x4a, 0x34, 0x1e, 0xc8, 0xe2, 0x9c, 0xb6, 0x2b, 0x01, 0x7f, 0x55, 0x83, 0xa9, 0xd7, 0xfd,\n",
    "        0xc1, 0xeb, 0x95, 0xbf, 0x69, 0x43, 0x3d, 0x17, 0x8a, 0xa0, 0xde, 0xf4, 0x22, 0x08, 0x76, 0x5c,\n",
    "        0x57, 0x7d, 0x03, 0x29, 0xff, 0xd5, 0xab, 0x81, 0x1c, 0x36, 0x48, 0x62, 0xb4, 0x9e, 0xe0, 0xca,\n",
    "        0x98, 0xb2, 0xcc, 0xe6, 0x30, 0x1a, 0x64, 0x4e, 0xd3, 0xf9, 0x87, 0xad, 0x7b, 0x51, 0x2f, 0x05,\n",
    "        0x0e, 0x24, 0x5a, 0x70, 0xa6, 0x8c, 0xf2, 0xd8, 0x45, 0x6f, 0x11, 0x3b, 0xed, 0xc7, 0xb9, 0x93,\n",
    "        0xaf, 0x85, 0xfb, 0xd1, 0x07, 0x2d, 0x53, 0x79, 0xe4, 0xce, 0xb0, 0x9a, 0x4c, 0x66, 0x18, 0x32,\n",
    "        0x39, 0x13, 0x6d, 0x47, 0x91, 0xbb, 0xc5, 0xef, 0x72, 0x58, 0x26, 0x0c, 0xda, 0xf0, 0x8e, 0xa4\n",
    "    )\n",
    "\n",
    "S = SBox(sbox)"
   ]
  },
  {
   "cell_type": "code",
   "execution_count": 64,
   "id": "6db4945f-1394-4b5c-b5f5-7dad899a241d",
   "metadata": {},
   "outputs": [
    {
     "data": {
      "text/plain": [
       "(0, 0, 0, 0, 0, 0, 0, 0, 0, 0, 0, 0, 0, 0, 0, 0, 0, 0, 0, 0, 0, 0, 0, 0, 0, 0, 0, 0, 0, 0, 0, 0, 0, 0, 0, 0, 0, 0, 0, 0, 0, 0, 0, 0, 0, 0, 0, 0, 0, -128, 0, 0, 0, 0, 0, 0, 0, 0, 0, 0, 0, 0, 0, 0, 0, 0, 0, 0, 0, 0, 0, 0, 0, 0, 0, 0, 0, 0, 0, 0, 0, 0, 0, 0, 0, 0, 0, 0, 0, 0, 0, 0, 0, 0, 0, 0, 0, 0, 0, 0, 0, 0, 0, 0, 0, 0, 0, 0, 0, 0, 0, 0, 0, 0, 0, 0, 0, 0, 0, 0, 0, 0, 0, 0, 0, 0, 0, 0, 0, 0, 0, 0, 0, 0, 0, 0, 0, 0, 0, 0, 0, 0, 0, 0, 0, 0, 0, 0, 0, 0, 0, 0, 0, 0, 0, 0, 0, 0, 0, 0, 0, 0, 0, 0, 0, 0, 0, 0, 0, 0, 0, 0, 0, 0, 0, 0, 0, 0, 0, 0, 0, 0, 0, 0, 0, 0, 0, 0, 0, 0, 0, 0, 0, 0, 0, 0, 0, 0, 0, 0, 0, 0, 0, 0, 0, 0, 0, 0, 0, 0, 0, 0, 0, 0, 0, 0, 0, 0, 0, 0, 0, 0, 0, 0, 0, 0, 0, 0, 0, 0, 0, 0, 0, 0, 0, 0, 0, 0, 0, 0, 0, 0, 0, 0, 0, 0, 0, 0, 0, 0, 0, 0, 0, 0, 0, 0)"
      ]
     },
     "execution_count": 64,
     "metadata": {},
     "output_type": "execute_result"
    }
   ],
   "source": [
    "S.linear_approximation_table()[-1]"
   ]
  },
  {
   "cell_type": "markdown",
   "id": "0e8b2db1-d6f3-401f-bee6-603b8d4fd714",
   "metadata": {},
   "source": [
    "$c0 c1 c2 c3$\n",
    "\n",
    "$d0 d1 d2 d3$\n",
    "\n",
    "$.........0x1$\n",
    "\n",
    "$x: x + d3 = 0x1$\n",
    "\n",
    "$x: x + d3 + 0x1 + 0x2= 0 + 0x2$\n"
   ]
  },
  {
   "cell_type": "code",
   "execution_count": 30,
   "id": "17cdbf74-4be9-4cd0-acc4-79d132902bb2",
   "metadata": {},
   "outputs": [],
   "source": [
    "from Crypto.Cipher import AES\n",
    "from Crypto.Util.Padding import pad, unpad\n",
    "from Crypto.Util.strxor import strxor\n",
    "\n",
    "key = b\"\\x0a\" * 16\n",
    "iv = b\"\\x0b\" * 16\n",
    "\n",
    "\n",
    "def padding_oracle_cbc(c):\n",
    "    v = [c[i : i + 16] for i in range(0, len(c), 16)]\n",
    "    ans = b\"\"\n",
    "    for i in range(1, len(v)):\n",
    "        cur = v[i]\n",
    "        starti = b\"\\x00\" * 16\n",
    "        curacc = b\"\"\n",
    "        for j in range(1, 17):\n",
    "            for k in range(256):\n",
    "                start = starti[:-j] + bytes([k]) + curacc\n",
    "                p = start + cur\n",
    "                try:\n",
    "                    p = AES.new(key=key, iv=iv, mode=AES.MODE_CBC).decrypt(p)\n",
    "                    p1 = unpad(p, 16)\n",
    "                    curacc = bytes([k]) + curacc\n",
    "                    print(p, curacc)\n",
    "                    break\n",
    "                except ValueError:\n",
    "                    continue\n",
    "                except Exception as e:\n",
    "                    print(e)\n",
    "            if j < 16:\n",
    "                curacc = strxor(curacc, bytes([j]) * len(curacc))\n",
    "                curacc = strxor(curacc, bytes([j + 1]) * len(curacc))\n",
    "        print(curacc)\n",
    "        deccur = strxor(curacc, b\"\\x10\" * 16)\n",
    "        deccur = strxor(deccur, v[i - 1])\n",
    "        ans += deccur\n",
    "        print(ans)"
   ]
  },
  {
   "cell_type": "code",
   "execution_count": 31,
   "id": "3f2c703e-1480-4e1b-8543-8cc47646ca50",
   "metadata": {},
   "outputs": [
    {
     "name": "stdout",
     "output_type": "stream",
     "text": [
      "b'x?h\\x1a\\xf5\\xe2\\xed\\xf0vXu\\x19\\x06\\x9bW\\x8e\\x81*\\xcf\\xc4\\np\\xadG\\x18R\\x0c\\x11\\x0by\\xaa\\x01' b'7'\n",
      "b'r\\x99\\x86tg\\xc1\\xc9\\x88CN\\xe9\\xa0D\\x87\\\\\\x90\\x81*\\xcf\\xc4\\np\\xadG\\x18R\\x0c\\x11\\x0by\\x02\\x02' b'\\xa84'\n",
      "b'W\\xffJ\\x07T\\xd1M\\xbe\\x08\\xd7\\xa8hu\\xcf$p\\x81*\\xcf\\xc4\\np\\xadG\\x18R\\x0c\\x11\\x0b\\x03\\x03\\x03' b'z\\xa95'\n",
      "b'!\\xa3B(\\xc3\\xe5\\xb9T\\xe1\\xc34\\tJ\\x9cjd\\x81*\\xcf\\xc4\\np\\xadG\\x18R\\x0c\\x11\\x04\\x04\\x04\\x04' b'\\x0f}\\xae2'\n",
      "b'\\xd5\\x7ffO\\xd4\\x8c\\x0f\\xbaL7\\xe0[\\xd06\\xc2\\x1e\\x81*\\xcf\\xc4\\np\\xadG\\x18R\\x0c\\x05\\x05\\x05\\x05\\x05' b'\\x14\\x0e|\\xaf3'\n",
      "b'\\xc1U\\xb2\\xbc$\\x88\\xebS\\xc1F\\x00;\\xf7\\x0e\\x0e\\x03\\x81*\\xcf\\xc4\\np\\xadG\\x18R\\x06\\x06\\x06\\x06\\x06\\x06' b'\\n\\x17\\r\\x7f\\xac0'\n",
      "b'\\xb3\\x9c\\xb0\\x84\\x92\\xc7z\\x84\\x0cb\\xd3\\x90\\x94\\xcf\\xe0\\x86\\x81*\\xcf\\xc4\\np\\xadG\\x18\\x07\\x07\\x07\\x07\\x07\\x07\\x07' b'U\\x0b\\x16\\x0c~\\xad1'\n",
      "b'O0\\xdc\\xb59O\\x05Z\\x8a\\x90[{\\xdcd\\x83\\xdb\\x81*\\xcf\\xc4\\np\\xadG\\x08\\x08\\x08\\x08\\x08\\x08\\x08\\x08' b'\\x10Z\\x04\\x19\\x03q\\xa2>'\n",
      "b'\\x8b\\xd2\\xed\\xb9N\\x81\\x1fS\\xed\\\\-C\\x02wby\\x81*\\xcf\\xc4\\np\\xad\\t\\t\\t\\t\\t\\t\\t\\t\\t' b'N\\x11[\\x05\\x18\\x02p\\xa3?'\n",
      "b'\\xe2\\x18\\x9b\\xed\\xc3.U\\x9a\\x1c\\xe3\\x85]E\\x1d\\x02r\\x81*\\xcf\\xc4\\np\\n\\n\\n\\n\\n\\n\\n\\n\\n\\n' b'\\xa7M\\x12X\\x06\\x1b\\x01s\\xa0<'\n",
      "b'?\\x12\\x1b\\\\\\x0c6\\x8az\\xf4S9\\xbd\\xb5aT\\r\\x81*\\xcf\\xc4\\n\\x0b\\x0b\\x0b\\x0b\\x0b\\x0b\\x0b\\x0b\\x0b\\x0b\\x0b' b'{\\xa6L\\x13Y\\x07\\x1a\\x00r\\xa1='\n",
      "b'\\xdd\\xef\\xd7o\\xe1\\xf4\\xc3\\xc7il\\xaa\\x03\\x93\\xa8\\xac\\xd2\\x81*\\xcf\\xc4\\x0c\\x0c\\x0c\\x0c\\x0c\\x0c\\x0c\\x0c\\x0c\\x0c\\x0c\\x0c' b'\\x06|\\xa1K\\x14^\\x00\\x1d\\x07u\\xa6:'\n",
      "b'\\x054\\xb6C\\xed\\xadh\\x9c\\xdc;$l\\xb8\\xa9\\xf3\\xd1\\x81*\\xcf\\r\\r\\r\\r\\r\\r\\r\\r\\r\\r\\r\\r\\r' b'\\xc9\\x07}\\xa0J\\x15_\\x01\\x1c\\x06t\\xa7;'\n",
      "b'\\xe6D\\x17\\x1f\\xf0\\xca\\x84\\x891\\xc4F\\x04\\x9e4\\x9f\\xe9\\x81*\\x0e\\x0e\\x0e\\x0e\\x0e\\x0e\\x0e\\x0e\\x0e\\x0e\\x0e\\x0e\\x0e\\x0e' b'\\xc1\\xca\\x04~\\xa3I\\x16\\\\\\x02\\x1f\\x05w\\xa48'\n",
      "b'\\x91\\xc2?k\\xeep?I\\xb8\\xdc\\xac\\xa2\\x90eb\\x8a\\x81\\x0f\\x0f\\x0f\\x0f\\x0f\\x0f\\x0f\\x0f\\x0f\\x0f\\x0f\\x0f\\x0f\\x0f\\x0f' b'%\\xc0\\xcb\\x05\\x7f\\xa2H\\x17]\\x03\\x1e\\x04v\\xa59'\n",
      "b'\\x1c\\x8d*# \\xc0lh}\\xd9v\\xa7\\x8e=\\xee]\\x10\\x10\\x10\\x10\\x10\\x10\\x10\\x10\\x10\\x10\\x10\\x10\\x10\\x10\\x10\\x10' b'\\x91:\\xdf\\xd4\\x1a`\\xbdW\\x08B\\x1c\\x01\\x1bi\\xba&'\n",
      "b'\\x91:\\xdf\\xd4\\x1a`\\xbdW\\x08B\\x1c\\x01\\x1bi\\xba&'\n",
      "b'roraloliroraloli'\n",
      "b'od\\x9d%\\xbd9V\\xfc\\x0b\\x1ez1\\xcd\\xe8\\x91g\\x88F\\x9d\\xd0\\x8b\\xec/=\\xbas\\x1c\\xd8N\\xb4L\\x01' b'K'\n",
      "b'N(\\x1d_\\x92@\\xf9\\xf8\\xce\\xa3\\x9a\\x8b\\x03n\\xc5q\\x88F\\x9d\\xd0\\x8b\\xec/=\\xbas\\x1c\\xd8N\\xb4\\x02\\x02' b'NH'\n",
      "b\"\\xff\\xe4\\xa2y^k\\x9c\\x87\\x00\\x86V\\xc9\\x14'\\x99i\\x88F\\x9d\\xd0\\x8b\\xec/=\\xbas\\x1c\\xd8N\\x03\\x03\\x03\" b'\\xb7OI'\n",
      "b'\\x88\\xa1\\xb5\\xa3\\xdb\\xc8?f\\xc3[\\xcdh\\xc8\"I\\xda\\x88F\\x9d\\xd0\\x8b\\xec/=\\xbas\\x1c\\xd8\\x04\\x04\\x04\\x04' b'J\\xb0HN'\n",
      "b'N g\\xeb\\xed?\\xfc\\xd4\\xfe\\xd5\\xae\\xe8\\xf9\\xce\\xf4^\\x88F\\x9d\\xd0\\x8b\\xec/=\\xbas\\x1c\\x05\\x05\\x05\\x05\\x05' b'\\xddK\\xb1IO'\n",
      "b'v:\\xcb\\x99\\xe8\\x9e2\\xfdS\\xfc\\x02\\xfb\\xff\\xaf\\x0c\\xaa\\x88F\\x9d\\xd0\\x8b\\xec/=\\xbas\\x06\\x06\\x06\\x06\\x06\\x06' b'\\x1a\\xdeH\\xb2JL'\n",
      "b'\\x8fUb\\x7f\\x03\\xef\\x94T\\xf3\\xac\\xfc\\xf9\\xad\\x92u\\xb5\\x88F\\x9d\\xd0\\x8b\\xec/=\\xba\\x07\\x07\\x07\\x07\\x07\\x07\\x07' b't\\x1b\\xdfI\\xb3KM'\n",
      "b'\\x99\\x89\\x9e\\xff\\xcc\\xd31\\xb4\\xac\\x16\\x83\\x82\\xa3\\xd8\\x8a\\xe5\\x88F\\x9d\\xd0\\x8b\\xec/=\\x08\\x08\\x08\\x08\\x08\\x08\\x08\\x08' b'\\xb2{\\x14\\xd0F\\xbcDB'\n",
      "b'W\\xe0\\xdc\\xf5:\\xa2\\xf8\\xe6\\xb6(\\xb0\\xb9\\xdb\\xe5\\x9a\\xaf\\x88F\\x9d\\xd0\\x8b\\xec/\\t\\t\\t\\t\\t\\t\\t\\t\\t' b'4\\xb3z\\x15\\xd1G\\xbdEC'\n",
      "b'Ie\\xa4\\x962\\x94\\xcb/jh\\xefj\\x8c\\xf6q?\\x88F\\x9d\\xd0\\x8b\\xec\\n\\n\\n\\n\\n\\n\\n\\n\\n\\n' b'%7\\xb0y\\x16\\xd2D\\xbeF@'\n",
      "b'\\xd6\\xc9\\x89\\x00\\x9f\\xf5>\\x1b\\xb3\\x80\\x85\\xddBU\\x86*\\x88F\\x9d\\xd0\\x8b\\x0b\\x0b\\x0b\\x0b\\x0b\\x0b\\x0b\\x0b\\x0b\\x0b\\x0b' b'\\xe7$6\\xb1x\\x17\\xd3E\\xbfGA'\n",
      "b'\\x9dK\\x8a#\\xf3\\xe9U\\xbd#)\\xcd\\x8e\\xab\\xe3~\\xb5\\x88F\\x9d\\xd0\\x0c\\x0c\\x0c\\x0c\\x0c\\x0c\\x0c\\x0c\\x0c\\x0c\\x0c\\x0c' b'\\x87\\xe0#1\\xb6\\x7f\\x10\\xd4B\\xb8@F'\n",
      "b'C\\x8dy\\n\\x16\\xdb\\xad\\x01W\\xc7C\\x14m\\x94`\\xeb\\x88F\\x9d\\r\\r\\r\\r\\r\\r\\r\\r\\r\\r\\r\\r\\r' b'\\xdd\\x86\\xe1\"0\\xb7~\\x11\\xd5C\\xb9AG'\n",
      "b'\\xf3\\xecJ$\\xd7\\xa1_\\x97l\\xf3\\xcca\\xc8\\xe6\\xa8\\x95\\x88F\\x0e\\x0e\\x0e\\x0e\\x0e\\x0e\\x0e\\x0e\\x0e\\x0e\\x0e\\x0e\\x0e\\x0e' b'\\x93\\xde\\x85\\xe2!3\\xb4}\\x12\\xd6@\\xbaBD'\n",
      "b'?Zj\\xd7:\\xc3\\x88\\xbb|\\xfe\\xcd\\xea\\x11\\x1a\\xdf[\\x88\\x0f\\x0f\\x0f\\x0f\\x0f\\x0f\\x0f\\x0f\\x0f\\x0f\\x0f\\x0f\\x0f\\x0f\\x0f' b'I\\x92\\xdf\\x84\\xe3 2\\xb5|\\x13\\xd7A\\xbbCE'\n",
      "b'\\xdb\\xdf\\xae\\x82\\x8e<\\x90\\x91aAj\\xd3\\xc4\\xa6\\x1e\\xb6\\x10\\x10\\x10\\x10\\x10\\x10\\x10\\x10\\x10\\x10\\x10\\x10\\x10\\x10\\x10\\x10' b'\\x98V\\x8d\\xc0\\x9b\\xfc?-\\xaac\\x0c\\xc8^\\xa4\\\\Z'\n",
      "b'\\x98V\\x8d\\xc0\\x9b\\xfc?-\\xaac\\x0c\\xc8^\\xa4\\\\Z'\n",
      "b'roraloliroralolikekrlolekekrlole'\n"
     ]
    }
   ],
   "source": [
    "c = AES.new(key=key, iv=iv, mode=AES.MODE_CBC).encrypt(b\"abobanaf\" * 2 + b'roraloli' * 2+ b'kekrlole' * 2)\n",
    "padding_oracle_cbc(c)"
   ]
  },
  {
   "cell_type": "code",
   "execution_count": null,
   "id": "c6e3f73b-ed29-48ba-905f-54370fbc2f1d",
   "metadata": {},
   "outputs": [],
   "source": []
  }
 ],
 "metadata": {
  "kernelspec": {
   "display_name": "Python 3 (ipykernel)",
   "language": "python",
   "name": "python3"
  },
  "language_info": {
   "codemirror_mode": {
    "name": "ipython",
    "version": 3
   },
   "file_extension": ".py",
   "mimetype": "text/x-python",
   "name": "python",
   "nbconvert_exporter": "python",
   "pygments_lexer": "ipython3",
   "version": "3.11.8"
  }
 },
 "nbformat": 4,
 "nbformat_minor": 5
}
