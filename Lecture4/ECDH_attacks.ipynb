{
 "cells": [
  {
   "cell_type": "markdown",
   "id": "0189438b-3a12-4297-bb3f-9c00f25516c9",
   "metadata": {},
   "source": [
    "# Elliptic Curve Diffie-Hellman\n",
    "\n",
    "Протокол для обмена общим секретом.\n",
    "\n",
    "Сетап:\n",
    "- $E(F_p)$\n",
    "- $G \\in E(F_p)$\n",
    "\n",
    "Алиса и боб оба генерируют по случайному секретному числу:\n",
    "\n",
    "$a, b \\in [1, ord(G)-1]$\n",
    "\n",
    "Алиса отсылает Бобу $G_a = a * G$ \n",
    "\n",
    "Боб отсылает Алисе $G_b = b * G$\n",
    "\n",
    "\\begin{rcases}\n",
    "   a * G_b &\\text{Алиса }  \\\\\n",
    "   b * G_a &\\text{Боб } \n",
    "\\end{rcases} => $(a * b) * G = (b * a) * G = Sh$"
   ]
  },
  {
   "cell_type": "code",
   "execution_count": 1,
   "id": "2367d48d-37a2-4e53-aeae-38d515c0540f",
   "metadata": {},
   "outputs": [],
   "source": [
    "import hashlib \n",
    "\n",
    "class Part:\n",
    "    def __init__(self, E, G):\n",
    "        self.private = randint(1, G.order()-1)\n",
    "        self.E = E\n",
    "        self.G = G\n",
    "\n",
    "    def compute_public(self):\n",
    "        return self.private * G\n",
    "\n",
    "    def compute_shared(self, G_b):\n",
    "        self.shared = self.private * G_b\n",
    "        return self.shared\n",
    "\n",
    "    def derive_key(self):\n",
    "        self.key = hashlib.blake2b(str(self.shared).encode(), digest_size=16).digest()\n",
    "\n",
    "    def encrypt_message(self, m: bytes):\n",
    "        return bytes([x^^y for x, y in zip(m, self.key * ((len(m) + 15) // 16))])\n",
    "\n",
    "    def decrypt_message(self, m: bytes):\n",
    "        return self.encrypt_message(m).decode()\n",
    "        \n",
    "        \n",
    "p = random_prime(2**255)\n",
    "a = randint(0, p-1)\n",
    "b = randint(0, p-1)\n",
    "E = EllipticCurve(GF(p), [a, b])\n",
    "G = E.random_element()\n",
    "\n",
    "A = Part(E, G)\n",
    "B = Part(E, G)\n",
    "\n",
    "A_pub = A.compute_public()\n",
    "B_pub = B.compute_public()\n",
    "\n",
    "Shared_A = A.compute_shared(B_pub)\n",
    "Shared_B = B.compute_shared(A_pub)\n",
    "assert Shared_A == Shared_B"
   ]
  },
  {
   "cell_type": "markdown",
   "id": "c315555f-eb6a-418c-9c30-a2a733e6c488",
   "metadata": {},
   "source": [
    "# Man in the middle\n",
    "\n"
   ]
  },
  {
   "cell_type": "code",
   "execution_count": 37,
   "id": "329c61e2-509c-4813-aaa9-8a040ad2d5a6",
   "metadata": {},
   "outputs": [],
   "source": [
    "class C:\n",
    "    def __init__(self, E, G):\n",
    "        pass\n",
    "    ...\n",
    "\n",
    "A = Part(E, G)\n",
    "B = Part(E, G)\n",
    "\n",
    "A_pub = A.compute_public()\n",
    "B_pub = B.compute_public()\n",
    "\n",
    "Eve = C(E, G)\n",
    "\n",
    "# do smth wiith A and B\n",
    "A.compute_shared(B_pub)\n",
    "B.compute_shared(A_pub)\n",
    "\n",
    "\n",
    "A.derive_key()\n",
    "ct = A.encrypt_message(b\"Send me Hello together with our secret code\")\n",
    "# do smth here\n",
    "\n",
    "B.derive_key()\n",
    "m = B.decrypt_message(ct)\n",
    "ct = B.encrypt_message(b\"Hello, my lil potato\")\n",
    "# do smth here\n",
    "\n",
    "m = A.decrypt_message(ct)\n",
    "assert 'Hello' in m and 'lil potato' in m"
   ]
  },
  {
   "cell_type": "markdown",
   "id": "6bef0c5a-4a5e-4936-855f-9fb2b3f701a5",
   "metadata": {},
   "source": [
    "# Гладкий порядок кривой и элемента\n",
    "\n",
    "Допустим у нас имеется точка кривой с порядком $ord(G) = p * q$. Что произойдёт, если умножить эту точку на $p$?"
   ]
  },
  {
   "cell_type": "code",
   "execution_count": 4,
   "id": "d44f6a03-dad1-49e4-835f-210cbb396e60",
   "metadata": {},
   "outputs": [
    {
     "name": "stdout",
     "output_type": "stream",
     "text": [
      "2^2 * 3^3 * 13^2 * 19 * 29^2 * 37 * 613 * 983^2 * 11003^2 * 346501 * 6248149 * 405928799^2 * 79287328374952431757\n"
     ]
    }
   ],
   "source": [
    "q = 21888242871839275222246405745257275088696311157297823662689037894645226208583\n",
    "E = EllipticCurve(GF(q), [0, 1])\n",
    "\n",
    "print(factor(E.order()))"
   ]
  },
  {
   "cell_type": "code",
   "execution_count": 8,
   "id": "3e63d412-1a30-4d9c-a641-8478cfabd867",
   "metadata": {},
   "outputs": [
    {
     "name": "stdout",
     "output_type": "stream",
     "text": [
      "2 * 3^2 * 13 * 19 * 29 * 37 * 613 * 983 * 11003 * 346501 * 6248149 * 405928799 * 79287328374952431757\n",
      "2 * 3^2 * 13 * 19 * 29 * 37 * 613 * 983 * 11003 * 346501 * 6248149 * 405928799 * 79287328374952431757\n",
      "2 * 3^2 * 13 * 29 * 37 * 613 * 983 * 11003 * 346501 * 6248149 * 405928799\n"
     ]
    }
   ],
   "source": [
    "P = E.gens()[0]\n",
    "print(factor(P.order()))\n",
    "    \n",
    "n = 79287328374952431757 * randint(0, 27797133921898830561267529521791838546)\n",
    "Q = n * P\n",
    "print(factor(P.order()))\n",
    "print(factor(Q.order()))"
   ]
  },
  {
   "cell_type": "code",
   "execution_count": 9,
   "id": "25eed9a9-5e97-4d30-8809-4f1a6319a203",
   "metadata": {},
   "outputs": [],
   "source": [
    "def bsgs(P, Q, n):\n",
    "    if Q == Q.curve()((0, 1, 0)):\n",
    "        return 0\n",
    "\n",
    "    if n < 17:\n",
    "        for i in range(n):\n",
    "            if P * i == Q:\n",
    "                return i\n",
    "        \n",
    "    m = floor(sqrt(n))\n",
    "    precomp = {}\n",
    "    P0 = P.curve()((0, 1, 0))\n",
    "    \n",
    "    for j in range(m):\n",
    "        precomp[P0[0]] = j\n",
    "        P0 += P\n",
    "    \n",
    "    mP = m * P\n",
    "    Q0 = Q\n",
    "    for i in range(m):\n",
    "        if Q0[0] in precomp:\n",
    "            t1 = i * m + precomp[Q0[0]]\n",
    "            t2 = i * m - precomp[Q0[0]]\n",
    "            if t1 * P == Q:\n",
    "                return t1 % n\n",
    "            return t2 % n\n",
    "        Q0 -= mP\n",
    "    return None"
   ]
  },
  {
   "cell_type": "markdown",
   "id": "16216b6c-5f65-40e4-9a16-8de8805178c1",
   "metadata": {},
   "source": [
    "# Небольшое напоминание CRT\n",
    "\n",
    "Вы имеете систему уравнений:\n",
    "\n",
    "$x \\equiv a_1 \\pmod{p_1^{e_1}}$\n",
    "\n",
    "$x \\equiv a_2 \\pmod{p_2^{e_2}}$\n",
    "\n",
    "...\n",
    "\n",
    "$x \\equiv a_n \\pmod{p_n^{e_n}}$\n",
    "\n",
    "(Есть и более общий случай для непростых-степеней модулей но об этом не сегодня)\n",
    "\n",
    "Тогда по Китайской Теореме об Остатках существует единственное решение этой системы:\n",
    "\n",
    "$x = a^{*} \\pmod{p_1^{e_1} * ... * p_n^{e_n}}$\n",
    "\n",
    "В саге это можно посчитать: $x = crt([a_1, a_2, ..., a_n], [p_1^{e_1}, p_2^{e_2}, ..., p_n^{e_n}]$"
   ]
  },
  {
   "cell_type": "markdown",
   "id": "a8398200-dff1-4218-8bce-4cc5ef9fdebc",
   "metadata": {},
   "source": [
    "# Напоминаю про Полига-Хеллмана\n",
    "\n",
    "$Q_1 = m * P_1, ord(P_1) = ord(Q_1) = p^e$\n",
    "\n",
    "$m = m_0 + m_1 * p + ... + m_{e-1} * p^{e-1}$\n",
    "\n",
    "$Q_1 = m_0 * P_1 + m_1 * (p * P_1) + ... + m_{e-1} * (p^{e - 1} * P)$\n",
    "\n",
    "$p^{e - 1} * Q_1 = m_0 * (p^{e - 1} * P_1) + m_1 * (p^e * P_1) + m_2 * (p^{e + 1} * P_1) + ... + m_{e-1} * (p^{2 *e - 2} * P_1)$\n",
    "\n",
    "$p^{e - 1} * Q_1 = m_0 * (p^{e - 1} * P_1) + \\mathbb{O} + \\mathbb{O} + ... + \\mathbb{O} = m_0 * (p^{e - 1} * P_1), m_0 \\in [0, p-1]$\n",
    "\n",
    "После того как нашли $m_0$\n",
    "\n",
    "$Q_1 = m_0 * P_1 + p * (m_1 *  P_1 + ... + m_{e-1} * (p^{e - 2} * P)$\n",
    "\n",
    "$Q_1 - m_0 * P_1 = m_1 * (p * P_1) + m_2 * (p * (p * P_1)) + .. + m_{e - 1} * (p^{e - 2} * (p * P_1)$\n",
    "\n",
    "$Q_2 = Q_1 - m_0 * P_1$\n",
    "\n",
    "$P_2 = p * P_1$\n",
    "\n",
    "$Q_2 = m_1 * P_2 + m_2 *(p * P_2) + .. + m_{e - 1} * (p^{e - 2} * P_2)$\n",
    "\n",
    "$ord(P_2) = ord(Q_2) = p^{e -1 }$"
   ]
  },
  {
   "cell_type": "code",
   "execution_count": 10,
   "id": "756d69d4-a9a9-4712-aea3-7875af443122",
   "metadata": {},
   "outputs": [
    {
     "name": "stdout",
     "output_type": "stream",
     "text": [
      "p, e =(2, 1)\n",
      "m_0 = 1\n",
      "m = 1\n",
      "--------------------------------------------------\n",
      "p, e =(3, 2)\n",
      "m_0 = 2\n",
      "m_1 = 2\n",
      "m = 8\n",
      "--------------------------------------------------\n",
      "p, e =(13, 1)\n",
      "m_0 = 1\n",
      "m = 1\n",
      "--------------------------------------------------\n",
      "p, e =(19, 1)\n",
      "m = 0\n",
      "p, e =(29, 1)\n",
      "m_0 = 22\n",
      "m = 22\n",
      "--------------------------------------------------\n",
      "p, e =(37, 1)\n",
      "m_0 = 9\n",
      "m = 9\n",
      "--------------------------------------------------\n",
      "p, e =(613, 1)\n",
      "m_0 = 565\n",
      "m = 565\n",
      "--------------------------------------------------\n",
      "p, e =(983, 1)\n",
      "m_0 = 126\n",
      "m = 126\n",
      "--------------------------------------------------\n",
      "p, e =(11003, 1)\n",
      "m_0 = 8819\n",
      "m = 8819\n",
      "--------------------------------------------------\n",
      "p, e =(346501, 1)\n",
      "m_0 = 64811\n",
      "m = 64811\n",
      "--------------------------------------------------\n",
      "p, e =(6248149, 1)\n",
      "m_0 = 662381\n",
      "m = 662381\n",
      "--------------------------------------------------\n",
      "p, e =(405928799, 1)\n",
      "m_0 = 43977770\n",
      "m = 43977770\n",
      "--------------------------------------------------\n",
      "p, e =(79287328374952431757, 1)\n",
      "m = 0\n",
      "1589912870632253598410796886382855830245345542178259118261\n"
     ]
    }
   ],
   "source": [
    "o = P.order()\n",
    "factors = factor(o)\n",
    "\n",
    "ords, mods = [], []\n",
    "for p, e in factors:\n",
    "    print(f\"{p, e =}\")\n",
    "    sc = o // (p^e)\n",
    "    P1, Q1 = sc * P, sc * Q\n",
    "\n",
    "    if Q1 == E((0, 1, 0)):\n",
    "        print(f\"m = 0\")\n",
    "        ords.append(0)\n",
    "        mods.append(p**e)\n",
    "        continue\n",
    "        \n",
    "    ms = []\n",
    "    for i in range(e):\n",
    "        Pi = P1 * p**(e - i - 1)\n",
    "        Qi = Q1 * p**(e - i - 1)\n",
    "\n",
    "        mi = bsgs(Pi, Qi, p)\n",
    "        assert mi * Pi == Qi\n",
    "        \n",
    "        print(f\"m_{i} = {mi}\")\n",
    "        ms.append(mi)\n",
    "        \n",
    "        Q1 = Q1 - mi * P1\n",
    "        P1 = p * P1\n",
    "        \n",
    "    m = sum(p**i * c for i, c in enumerate(ms))\n",
    "    print(f\"{m = }\")\n",
    "    print(\"-\" * 50)\n",
    "\n",
    "    ords.append(m)\n",
    "    mods.append(p**e)\n",
    "\n",
    "n = crt(ords, mods)\n",
    "print(n)\n",
    "assert n * P == Q"
   ]
  },
  {
   "cell_type": "markdown",
   "id": "b6604416-ac40-4cce-b87e-789fda1cb3a8",
   "metadata": {},
   "source": [
    "# Aномальные кривые\n",
    "\n",
    "Из предыдущего пункта стало ясно, что лучше использовать либо точки с большим простым порядком, либо вообще использовать кривые с простым порядком, чтобы у всех точек был один и тот же большой простой порядок. \n",
    "\n",
    "Аномальными называют такие кривые у которых $|E(F_p)| = p$.\n",
    "\n",
    "Для аномальных кривых существует отображение: $E(F_p) \\to F_p: \\phi(P)$, причем это отображение обладает очень важным свойством: $\\phi(n * P) = n * \\phi(P)$ - довольно печально выглядит не правда ли?\n",
    "\n",
    "То есть от сложной проблемы мы перешли к обычному сложению.\n",
    "\n",
    "Отображение считается следующим образом:\n",
    "\n",
    "Введем пару $[P, a], [Q, b]$, тогда $[P, a] + [Q, b] = [P + Q, a + b + slope(P, Q)]$ \n",
    "\n",
    "Где\n",
    "- $Q = -P, P = O$ или $Q = O \\implies slope = 0$\n",
    "- $slope = \\lambda$\n",
    "\n",
    "Тогда если мы посчитаем по данному правилу $p * [P, 0] = [P, 0] + [P, 0] + ... + [P, 0] = [O, \\alpha]$, $\\phi(P) = \\alpha$"
   ]
  },
  {
   "cell_type": "code",
   "execution_count": 11,
   "id": "de22ded6-335e-4368-a7c8-36b864cb150d",
   "metadata": {},
   "outputs": [
    {
     "data": {
      "text/plain": [
       "101"
      ]
     },
     "execution_count": 11,
     "metadata": {},
     "output_type": "execute_result"
    }
   ],
   "source": [
    "E = EllipticCurve(GF(101), [1, 69])\n",
    "E.order()"
   ]
  },
  {
   "cell_type": "code",
   "execution_count": 12,
   "id": "27a56782-7d7e-4492-a956-5ed8b35360ad",
   "metadata": {},
   "outputs": [],
   "source": [
    "p = 0xA15C4FB663A578D8B2496D3151A946119EE42695E18E13E90600192B1D0ABDBB6F787F90C8D102FF88E284DD4526F5F6B6C980BF88F1D0490714B67E8A2A2B77\n",
    "a = 0x5E009506FCC7EFF573BC960D88638FE25E76A9B6C7CAEEA072A27DCD1FA46ABB15B7B6210CF90CABA982893EE2779669BAC06E267013486B22FF3E24ABAE2D42\n",
    "b = 0x2CE7D1CA4493B0977F088F6D30D9241F8048FDEA112CC385B793BCE953998CAAE680864A7D3AA437EA3FFD1441CA3FB352B0B710BB3F053E980E503BE9A7FECE\n",
    "\n",
    "E = EllipticCurve(GF(p), [a, b])\n",
    "assert E.order() == p\n",
    "\n",
    "P = E.random_element()\n",
    "Q = randint(0, p) * P"
   ]
  },
  {
   "cell_type": "code",
   "execution_count": 13,
   "id": "bf89333f-ab60-4d94-99cb-960911925909",
   "metadata": {},
   "outputs": [],
   "source": [
    "def mul(P, n):\n",
    "    if n < 0:\n",
    "        P = -P\n",
    "        n = -n\n",
    "    b = bin(n)[2:]\n",
    "    Q = P\n",
    "    for i in b[1:]:\n",
    "        Q = add(Q, Q)\n",
    "        if i == \"1\":\n",
    "            Q = add(Q, P)\n",
    "    return Q\n",
    "\n",
    "\n",
    "def a0(P, Q):\n",
    "    if P.is_zero() or Q.is_zero() or P == -Q:\n",
    "        return 0\n",
    "\n",
    "    if P == Q:\n",
    "        t = P.curve().a4()\n",
    "        return (3 * P[0] ** 2 + t) * pow(2 * P[1], -1)\n",
    "\n",
    "    return (P[1] - Q[1]) * pow(P[0] - Q[0], -1)\n",
    "\n",
    "\n",
    "def add(P, Q):\n",
    "    p1, scal1 = P\n",
    "    p2, scal2 = Q\n",
    "    p3 = p1 + p2\n",
    "    scal3 = scal1 + scal2 + a0(p1, p2)\n",
    "    return p3, scal3"
   ]
  },
  {
   "cell_type": "code",
   "execution_count": 14,
   "id": "b2c52355-187e-45e2-a001-4e9f0d33cefd",
   "metadata": {},
   "outputs": [
    {
     "name": "stdout",
     "output_type": "stream",
     "text": [
      "6580423973451703047762062349683967852989048968020199948724694186030410852629469815861811082547699222101664953208677803837179393306680320657110903129004768\n"
     ]
    }
   ],
   "source": [
    "G = GF(p)\n",
    "P1 = (P, G(0))\n",
    "Q1 = (Q, G(0))\n",
    "\n",
    "R1, alpha = mul(P1, p)\n",
    "R2, beta = mul(Q1, p)\n",
    "\n",
    "res = beta / alpha\n",
    "print(res)\n",
    "assert res * P == Q"
   ]
  },
  {
   "cell_type": "code",
   "execution_count": 15,
   "id": "ebea1b60-4566-4258-8d0e-9ea50fbde15b",
   "metadata": {},
   "outputs": [],
   "source": [
    "def lift(A, B, P, Q, p):\n",
    "    x1 = int(P[0]) + p * randint(0, p)\n",
    "    x2 = int(Q[0]) + p * randint(0, p)\n",
    "    y1 = int(P[1]) + p * randint(0, p)\n",
    "\n",
    "    if x1 % p != x2 % p:\n",
    "        y2 = int(crt([int(Q[1]), y1], [p, abs(x2 - x1)]))\n",
    "        # y2 = int(crt([Q[1], -y1], [p, abs(x2-x1)]))\n",
    "\n",
    "        A1 = (y2**2 - y1**2) // (x2 - x1) - (x2**3 - x1**3) // (x2 - x1)\n",
    "    else:\n",
    "        x2 = x1\n",
    "        A1 = int(A) + p * randint(0, p)\n",
    "\n",
    "        if Q == P:\n",
    "            y2 = y1\n",
    "        else:\n",
    "            y2 = -y1\n",
    "\n",
    "    B1 = y1**2 - x1**3 - A1 * x1\n",
    "\n",
    "    assert y1**2 == x1**3 + A1 * x1 + B1\n",
    "    assert y2**2 == x2**3 + A1 * x2 + B1\n",
    "\n",
    "    return A1, B1, (x1, y1), (x2, y2)\n",
    "\n",
    "def solve_dlp_p2(A, B, P, Q, p):\n",
    "    A1, B1, P1, Q1 = lift(A, B, P, Q, p)\n",
    "    x1, y1 = P1\n",
    "    x2, y2 = Q1\n",
    "\n",
    "    E1 = EllipticCurve(Zmod(p**2), [A1, B1])\n",
    "    P2 = (p - 1) * E1(P1)\n",
    "    Q2 = (p - 1) * E1(Q1)\n",
    "\n",
    "    x3, y3 = ZZ(P2[0]), ZZ(P2[1])\n",
    "    x4, y4 = ZZ(Q2[0]), ZZ(Q2[1])\n",
    "\n",
    "    if x3 == x1 or x4 == x2:\n",
    "        return None\n",
    "\n",
    "    m1 = p * (y3 - y1) / (x3 - x1)  # or just m1 / m2 without *p\n",
    "    m2 = p * (y4 - y2) / (x4 - x2)\n",
    "    if gcd(m1.denominator(), p) != 1 or gcd(m2.denominator(), p) != 1:\n",
    "        return None\n",
    "\n",
    "    return (m1 / m2) % p"
   ]
  },
  {
   "cell_type": "markdown",
   "id": "7062afd6-8462-49e3-9200-79827cbd6ebe",
   "metadata": {},
   "source": [
    "$\\psi(n) = x^{n^2 / 2} + ... $\n",
    "\n",
    "$\\phi(n)$\n",
    "\n",
    "$\\omega(n)$\n",
    "\n",
    "$n * (x, y) = (\\phi_n(x) / \\psi_n(x)^2, \\omega_n(x) / \\psi_n(x)^3 * y)$"
   ]
  },
  {
   "cell_type": "code",
   "execution_count": 16,
   "id": "ce46f9d8-8d45-4f0e-b2b1-495ce3d4bf1c",
   "metadata": {},
   "outputs": [],
   "source": [
    "res = solve_dlp_p2(a, b, P, Q, p)"
   ]
  },
  {
   "cell_type": "code",
   "execution_count": 17,
   "id": "08406591-e5df-4c4b-a357-f95a9afb026e",
   "metadata": {},
   "outputs": [
    {
     "data": {
      "text/plain": [
       "6580423973451703047762062349683967852989048968020199948724694186030410852629469815861811082547699222101664953208677803837179393306680320657110903129004768"
      ]
     },
     "execution_count": 17,
     "metadata": {},
     "output_type": "execute_result"
    }
   ],
   "source": [
    "assert res * P == Q\n",
    "res"
   ]
  },
  {
   "cell_type": "markdown",
   "id": "6b32c9f6-b7a1-406b-b350-014a935af2f1",
   "metadata": {},
   "source": [
    "$y^2 = x^3$\n",
    "\n",
    "\n",
    "$y^2 = x^2 * (x + a)$"
   ]
  },
  {
   "cell_type": "markdown",
   "id": "cbf769dd-8c16-420b-b5c4-f4c28e367020",
   "metadata": {},
   "source": [
    "$x^2 = a \\pmod{p}$\n",
    "\n",
    "$a^{\\frac{p - 1}{2}} = 1, -1, 0$\n",
    "\n",
    "$x^{p -1} = 1 = a^{\\frac{p-1}{2}}$"
   ]
  },
  {
   "cell_type": "code",
   "execution_count": 18,
   "id": "f9154db2-87f7-4dc6-bb2d-7baee82de8d9",
   "metadata": {},
   "outputs": [],
   "source": [
    "g = GF(101)\n",
    "f = g.random_element()"
   ]
  },
  {
   "cell_type": "code",
   "execution_count": 20,
   "id": "9de56fb8-23f9-4350-b577-c36160df21ff",
   "metadata": {},
   "outputs": [
    {
     "data": {
      "text/plain": [
       "100"
      ]
     },
     "execution_count": 20,
     "metadata": {},
     "output_type": "execute_result"
    }
   ],
   "source": [
    "pow(f, 50)"
   ]
  },
  {
   "cell_type": "code",
   "execution_count": 21,
   "id": "81e2113d-ce8d-4b50-a861-7f5cac12c6d3",
   "metadata": {},
   "outputs": [
    {
     "data": {
      "text/plain": [
       "74"
      ]
     },
     "execution_count": 21,
     "metadata": {},
     "output_type": "execute_result"
    }
   ],
   "source": [
    "f"
   ]
  },
  {
   "cell_type": "code",
   "execution_count": 22,
   "id": "29dc9716-61e5-4c59-b081-4b05b78d35a8",
   "metadata": {},
   "outputs": [
    {
     "data": {
      "text/plain": [
       "-1"
      ]
     },
     "execution_count": 22,
     "metadata": {},
     "output_type": "execute_result"
    }
   ],
   "source": [
    "legendre_symbol(74, 101)"
   ]
  },
  {
   "cell_type": "code",
   "execution_count": null,
   "id": "1434ba4f-6813-44ee-ad7f-ef366e43a1a8",
   "metadata": {},
   "outputs": [],
   "source": []
  }
 ],
 "metadata": {
  "kernelspec": {
   "display_name": "SageMath 10.2",
   "language": "sage",
   "name": "sagemath"
  },
  "language_info": {
   "codemirror_mode": {
    "name": "ipython",
    "version": 3
   },
   "file_extension": ".py",
   "mimetype": "text/x-python",
   "name": "python",
   "nbconvert_exporter": "python",
   "pygments_lexer": "ipython3",
   "version": "3.11.7"
  }
 },
 "nbformat": 4,
 "nbformat_minor": 5
}
