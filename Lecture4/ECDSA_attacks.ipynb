{
 "cells": [
  {
   "cell_type": "markdown",
   "id": "500c3783-7106-4d54-b474-fc545649d11a",
   "metadata": {},
   "source": [
    "# ECDSA \n",
    "\n",
    "Алгоритм цифровой подписи с использованием эллиптических кривых \n",
    "\n",
    "Допустим Алиса хочет подписать свое сообщение m и отправить его Бобу.\n",
    "Они договариваются о кривой $E(F_p)$ и точке на ней $G$, $ord(G) = q$. \n",
    "\n",
    "Алиса выбирает приватный ключ $d_a \\in [1, q-1]$. $Q_a = d_a * G$.\n",
    "\n",
    "Для дальнейшей подписи Алиса выполняет несколько шагов:\n",
    "\n",
    "1. e = HASH(m)\n",
    "2. $z = F_p(e)$\n",
    "3. Случайно выбирается $k \\in [1, q-1]$\n",
    "4. $R = k * G$, $r = R.x$\n",
    "5. $s = k^{-1} * (z + r * d_a) \\pmod{q}$\n",
    "6. $(r, s)$ - цифровая подпись сообщения m.\n",
    "\n",
    "\n",
    "Проверка:\n",
    "\n",
    "1. $u_1 = z * s^{-1} \\pmod{q}$\n",
    "2. $u_2 = r * s^{-1} \\pmod{q}$\n",
    "3. $(u_1 * G + u_2 * Q_a).x == r$\n"
   ]
  },
  {
   "cell_type": "code",
   "execution_count": 10,
   "id": "17be370b-9f93-4d31-afd2-2fc08b459a27",
   "metadata": {},
   "outputs": [],
   "source": [
    "from hashlib import blake2b\n",
    "\n",
    "p = 21888242871839275222246405745257275088696311157297823662689037894645226208583\n",
    "e = EllipticCurve(GF(p), [0, 3])\n",
    "G = e.random_element()\n",
    "q = e.order()\n",
    "assert G.order() == e.order()\n",
    "d_a = randint(1, q-1)\n",
    "Q_a = d_a * G\n",
    "\n",
    "o = G.order()\n",
    "m = b\"Where's your motivation?\"\n",
    "\n",
    "def sign(m):\n",
    "    z = int(blake2b(m, digest_size=q.bit_length() // 16).hexdigest(), 16)\n",
    "    k = randint(1, q-1)\n",
    "    r = int((k * G)[0]) % o\n",
    "    s = pow(int(k), -1, q) * (z + int(r) * d_a) % q\n",
    "    return r, s, z\n",
    "\n",
    "\n",
    "def verify(G, Q, r, s, o):\n",
    "    u1 = pow(s, -1, o) * z % o\n",
    "    u2 = pow(s, -1, o) * r % o\n",
    "\n",
    "    assert int((u1 * G + u2 * Q)[0]) % o == r\n",
    "\n",
    "r, s, z = sign(m)\n",
    "\n",
    "verify(G, Q_a, r, s, o)"
   ]
  },
  {
   "cell_type": "markdown",
   "id": "f04d8749-6f1b-4e79-a641-80b0290cec3a",
   "metadata": {},
   "source": [
    "# Nonce Reuse \n",
    "\n",
    "Допустим, кто-то не послушал условия в предыдущей секции и решил два раза использовать один и тот же nonce(k). \n",
    "Это можно понять, например, если $r_1 = r_2$ для каких то двух сообщений. \n",
    "\n",
    "тогда \n",
    "\n",
    "$s_1 = k_1^{-1} * (z_1 + r_1 * d_a) \\pmod{ord(G)}$\n",
    "\n",
    "$s_2 = k_2^{-1} * (z_2 + r_2 * d_a) \\pmod{ord(G)}$\n",
    "\n",
    "$s_1 - s_2 = k^{-1}(z_1 - z_2) \\pmod{ord(G)}$\n",
    "\n",
    "$k = (z_1 - z_2) * (s_1 - s_2)^{-1} \\pmod{ord(G)}$"
   ]
  },
  {
   "cell_type": "code",
   "execution_count": 16,
   "id": "946727c0-4653-459e-b732-a64925de1f3a",
   "metadata": {},
   "outputs": [],
   "source": [
    "k = randint(1, q-1)"
   ]
  },
  {
   "cell_type": "code",
   "execution_count": 21,
   "id": "b2b60e1e-b137-4314-b096-5ed089219dc2",
   "metadata": {},
   "outputs": [
    {
     "data": {
      "text/plain": [
       "16119135902351571520453442811871580027364205679996006764158118558377836933618"
      ]
     },
     "execution_count": 21,
     "metadata": {},
     "output_type": "execute_result"
    }
   ],
   "source": [
    "m1 = b\"Put your Curve Away Walter\"\n",
    "m2 = b\"Heisenburger, please\"\n",
    "\n",
    "def sign(m):\n",
    "    z = int(blake2b(m, digest_size=q.bit_length() // 16).hexdigest(), 16)\n",
    "    r = int((k * G)[0]) % o\n",
    "    s = pow(int(k), -1, q) * (z + int(r) * d_a) % q\n",
    "    return r, s, z\n",
    "\n",
    "sig1 = sign(m1)\n",
    "sig2 = sign(m2)\n",
    "\n",
    "r1, s1, z1 = sig1\n",
    "r2, s2, z2 = sig2\n",
    "\n",
    "k = (z1 - z2) * pow(s1 - s2, -1, o) % o\n",
    "\n",
    "d = (s1 * k - z1) * pow(r1, -1, o) % o\n",
    "d"
   ]
  },
  {
   "cell_type": "code",
   "execution_count": 22,
   "id": "ee34d1a2-cbb3-4a17-a842-013fd03762f6",
   "metadata": {},
   "outputs": [
    {
     "data": {
      "text/plain": [
       "((3280766721065071630939891882847820472644694453927095347044796964490400873472 : 123810441720935794545967070096899493176168878996421771814820203418245191862 : 1),\n",
       " (3280766721065071630939891882847820472644694453927095347044796964490400873472 : 123810441720935794545967070096899493176168878996421771814820203418245191862 : 1))"
      ]
     },
     "execution_count": 22,
     "metadata": {},
     "output_type": "execute_result"
    }
   ],
   "source": [
    "Q_a, d * G"
   ]
  },
  {
   "cell_type": "markdown",
   "id": "8b9bcead-da55-4e01-93b7-30bc5467db39",
   "metadata": {},
   "source": [
    "# Linear/Polynomial Congruential Generator\n",
    "\n",
    "Представтье себе, что на сервере, который генерирует подписи, для создания случайных чисел $k$ используют рекуррентную зависимость линейную или с помощью многочленов:\n",
    "\n",
    "LCG: $x_{n} = a * x_{n-1} + b \\pmod{p}$, сид - $x_0$\n",
    "\n",
    "Линейный: $x_{n} = a_1 * x_{n - 1} + a_2 * x_{n-2} + ... + a_k * x_{n - k} \\pmod{p}$, сид - $x_0, x_1, ..., x_{k-1}$ \n",
    "\n",
    "Многочлены: $x_{n} = a_k * x_{n-1}^k + a_{k-1} * x_{n-1}^{k-1} + ... + a_1 * x_{n-1} + a_0 \\pmod{p}$, сид - $x_0$\n",
    "\n",
    "\n",
    "\n",
    "Теперь рассмотрим две подписи:\n",
    "\n",
    "$s_0 = k_0^{-1} * (h_0 + r_0 * d) \\pmod{q}$\n",
    "\n",
    "$s_1 = k_1^{-1} * (h_1 + r_1 * d) \\pmod{q}$\n",
    "\n",
    "$k_0 = \\frac{h_0}{s_0} + \\frac{r_0}{s_0} * d$\n",
    "\n",
    "$k_1 = \\frac{h_1}{s_1} + \\frac{r_1}{s_1} * d$\n",
    "\n",
    "После избавления от $d$ и некоторого преобразования получим зависимость:\n",
    "\n",
    "$k_1 = \\frac{r_1 * s_0}{r_0 * s_1} * k_0 + \\frac{h_1 * r_0 - h_0 * r_1}{r_0 * s_1}$\n",
    "\n",
    "Заметьте, что не знаем мы тут только $k_1, k_0$...\n",
    "\n",
    "Из этого, кстати, следует, что мы можем решить задачу дискретного логарифма для $k_1 * G -  \\frac{r_1 * s_0}{r_0 * s_1} * k_0 * G = R_1 + a * R_2$, что в целом не очень хорошо, но и не критично. "
   ]
  },
  {
   "cell_type": "code",
   "execution_count": 4,
   "id": "c2100d70-7bdb-46fe-894b-0ff3972e8190",
   "metadata": {},
   "outputs": [
    {
     "data": {
      "text/plain": [
       "True"
      ]
     },
     "execution_count": 4,
     "metadata": {},
     "output_type": "execute_result"
    }
   ],
   "source": [
    "m1 = b\"Put your Curve Away Walter\"\n",
    "m2 = b\"Heisenburger, please\"\n",
    "\n",
    "def sign_leak(m):\n",
    "    z = int(blake2b(m, digest_size=q.bit_length() // 16).hexdigest(), 16)\n",
    "    k = randint(1, q-1)\n",
    "    r = (k * G)[0]\n",
    "    s = pow(int(k), -1, q) * (z + int(r) * d_a) % q\n",
    "    return int(r), int(s), int(k)\n",
    "    \n",
    "r1, s1, k1 = sign_leak(m1)\n",
    "r2, s2, k2 = sign_leak(m2)\n",
    "h1 = int(blake2b(m1, digest_size=q.bit_length() // 16).hexdigest(), 16)\n",
    "h2 = int(blake2b(m2, digest_size=q.bit_length() // 16).hexdigest(), 16)\n",
    "\n",
    "assert (k1 * s1) % q == (h1 + r1 * d_a) % q\n",
    "a = ((r2 * s1 * k1) * pow(r1 * s2, -1, q) + (h2 * r1 - h1 * r2) * pow(r1 * s2, -1, q)) % q\n",
    "\n",
    "a == k2"
   ]
  },
  {
   "cell_type": "markdown",
   "id": "429f2524-9311-471e-bea7-565ba27ee335",
   "metadata": {},
   "source": [
    "А критично сдесь следующее:\n",
    "\n",
    "Для $N$ выбранных подписей мы можем составить систему уравнений:\n",
    "\n",
    "- Случай многочленов\n",
    "\n",
    "$k_1 = a_t * k_0^t + a_{t-1} * k_{0}^{t-1} + ... + a_1 * k_{0} + a_0 \\pmod{q}$\n",
    "\n",
    "$k_2 = a_t * k_1^t + a_{t-1} * k_{1}^{t-1} + ... + a_1 * k_{1} + a_0 \\pmod{q}$\n",
    "\n",
    "...\n",
    "\n",
    "$k_N = a_t * k_{N-1}^t + a_{t-1} * k_{N-1}^{t-1} + ... + a_1 * k_{N-1} + a_0 \\pmod{q}$\n",
    "\n",
    "И с учетом полученной выше зависимости мы можем дополнить эту систему еще $N - 1$ уравнением\n",
    "\n",
    "Вместо каждого $k_i$ подставим $\\frac{h_0}{s_0} + \\frac{r_0}{s_0} * d$ и решим систему линейных уравнений относительно $a_i$ в зависимости от переменной $d$. \n",
    "Далее мы получаем многочлен степени $t$ от $d$ и его уже решить довольно просто. "
   ]
  },
  {
   "cell_type": "code",
   "execution_count": 24,
   "id": "b4cba05f-d839-48e0-9a33-4ba07603a63e",
   "metadata": {},
   "outputs": [],
   "source": [
    "class poly_rel:\n",
    "    def __init__(self, seed, n, q, cfs=None):\n",
    "        self.state = seed\n",
    "        x = var('x')\n",
    "        P = PolynomialRing(GF(q), x) \n",
    "        if cfs is None:\n",
    "            self.poly = P.random_element(degree=n)\n",
    "        else:\n",
    "            assert len(cfs) == n\n",
    "            self.poly = P(cfs)\n",
    "            \n",
    "    def next(self):\n",
    "        self.state = self.poly(x=self.state)\n",
    "        return self.state\n",
    "\n",
    "generator = poly_rel(randint(0, q), 3, q)\n",
    "\n",
    "def pro_sign(m):\n",
    "    z = int(blake2b(m, digest_size=q.bit_length() // 16).hexdigest(), 16)\n",
    "    k = generator.next()\n",
    "    r = (k * G)[0]\n",
    "    s = pow(int(k), -1, q) * (z + int(r) * d_a) % q\n",
    "    return int(r), int(s)"
   ]
  },
  {
   "cell_type": "code",
   "execution_count": 25,
   "id": "0963ea82-4499-4f0a-a1ef-dfb40b84de3c",
   "metadata": {},
   "outputs": [],
   "source": [
    "from os import urandom\n",
    "t = 4\n",
    "ms = [urandom(17) for _ in range(t + 2)]\n",
    "hs = [int(blake2b(m, digest_size=q.bit_length() // 16).hexdigest(), 16) for m in ms]\n",
    "sigs = [pro_sign(m) for m in ms]\n",
    "\n",
    "triplets = [(h, s[0], s[1]) for h, s in zip(hs, sigs)] "
   ]
  },
  {
   "cell_type": "code",
   "execution_count": 26,
   "id": "9c2f0c03-44d8-41ac-861a-1c4e0a560f4a",
   "metadata": {},
   "outputs": [
    {
     "data": {
      "text/plain": [
       "[(16119135902351571520453442811871580027364205679996006764158118558377836933618,\n",
       "  1)]"
      ]
     },
     "execution_count": 26,
     "metadata": {},
     "output_type": "execute_result"
    }
   ],
   "source": [
    "d = var('d')\n",
    "P = PolynomialRing(GF(q), d)\n",
    "d = P(d)\n",
    "\n",
    "ks = [P(hi  + ri * d) * pow(si, -1, q) for hi, ri, si in triplets]\n",
    "\n",
    "M = Matrix(P, [[pow(k, i) for i in range(t)] for k in ks[:-2]])\n",
    "V = vector(P, ks[1:-1])\n",
    "T = M.solve_right(V)\n",
    "den = M.det()\n",
    "\n",
    "final_poly = P(ks[-1] * den - den * sum(T[i] * ks[-2]**i for i in range(t)))\n",
    "final_poly.roots()"
   ]
  },
  {
   "cell_type": "code",
   "execution_count": 28,
   "id": "1cb211a9-cf1d-4799-b59b-bd91e8288063",
   "metadata": {},
   "outputs": [
    {
     "data": {
      "text/plain": [
       "16119135902351571520453442811871580027364205679996006764158118558377836933618"
      ]
     },
     "execution_count": 28,
     "metadata": {},
     "output_type": "execute_result"
    }
   ],
   "source": [
    "d_a"
   ]
  },
  {
   "cell_type": "code",
   "execution_count": null,
   "id": "be10bf06-a019-4007-8f2f-c0226072f4d6",
   "metadata": {},
   "outputs": [],
   "source": []
  }
 ],
 "metadata": {
  "kernelspec": {
   "display_name": "SageMath 10.2",
   "language": "sage",
   "name": "sagemath"
  },
  "language_info": {
   "codemirror_mode": {
    "name": "ipython",
    "version": 3
   },
   "file_extension": ".py",
   "mimetype": "text/x-python",
   "name": "python",
   "nbconvert_exporter": "python",
   "pygments_lexer": "ipython3",
   "version": "3.11.7"
  }
 },
 "nbformat": 4,
 "nbformat_minor": 5
}
