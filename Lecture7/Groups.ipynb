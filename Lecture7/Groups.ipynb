{
 "cells": [
  {
   "cell_type": "markdown",
   "metadata": {},
   "source": [
    "## Группы\n",
    "\n",
    "$G(*):$\n",
    "- $\\forall a, b \\in G: a * b \\in G$. Может быть такое, что $a * b != b * a$\n",
    "- $\\exists e \\in G: a * e = e * a = a$\n",
    "- $\\forall a \\in G\\ \\exists b: a * b = b * a = e, b = a^{-1}$"
   ]
  },
  {
   "cell_type": "code",
   "execution_count": 1,
   "metadata": {},
   "outputs": [
    {
     "name": "stdout",
     "output_type": "stream",
     "text": [
      "|Z| = +Infinity\n",
      "|Z_17| = 17\n",
      "|Z_17*| = 16\n"
     ]
    }
   ],
   "source": [
    "print(f\"|Z| = {ZZ.order()}\")\n",
    "print(f\"|Z_17| = {Zmod(17).order()}\")\n",
    "Z_mul = Zmod(17).unit_group()\n",
    "print(f\"|Z_17*| = {Z_mul.order()}\");"
   ]
  },
  {
   "cell_type": "markdown",
   "metadata": {},
   "source": [
    "Если $|G| = p$, где p - простое число, то она может быть представлена одним элементом $g$ с порядком $p$ как: $G = \\{g^i | i \\in [0, p-1]\\}$\n",
    "\n",
    "Например:\n",
    "- $Z_{17} = \\{2 * n | n \\in [0, 16]\\}$\n",
    "\n",
    "Но иногда возможно такое что и при $|G| = n$ могут существовать такие генераторы.\n",
    "\n",
    "Например:\n",
    "- $Z_{23}^* = \\{5^i | i \\in [0, 21]\\}$\n",
    "\n",
    "Если $|G| = n$, где n - coставное. то ее можно разбить на несколько подгрупп.\n",
    "\n",
    "Например:\n",
    "- $Z_{15} \\cong Z_5 \\times Z_3$\n",
    "- $Z_{23}^* \\cong Z_2 \\times Z_{11}$"
   ]
  },
  {
   "cell_type": "code",
   "execution_count": 2,
   "metadata": {},
   "outputs": [
    {
     "name": "stdout",
     "output_type": "stream",
     "text": [
      "True\n",
      "True\n"
     ]
    }
   ],
   "source": [
    "print(list(Zmod(17)) == sorted([Zmod(17)(2 * i) for i in range(17)]))\n",
    "print(list(Zmod(17)) == sorted([Zmod(17)(13 * i) for i in range(17)]))"
   ]
  },
  {
   "cell_type": "code",
   "execution_count": 11,
   "metadata": {},
   "outputs": [
    {
     "name": "stdout",
     "output_type": "stream",
     "text": [
      "5\n",
      "True\n"
     ]
    }
   ],
   "source": [
    "G = Zmod(23)\n",
    "print(G.multiplicative_generator())\n",
    "print(list(G)[1:] == sorted([pow(5, i, 23) for i in range(22)]))"
   ]
  },
  {
   "cell_type": "markdown",
   "metadata": {},
   "source": [
    "С порядком группы так же связано следующее свойство любого элемента группы: \n",
    "\n",
    "$\\forall g \\in G: g^{|G|} = e$"
   ]
  },
  {
   "cell_type": "code",
   "execution_count": 12,
   "metadata": {},
   "outputs": [
    {
     "data": {
      "text/plain": [
       "0"
      ]
     },
     "execution_count": 12,
     "metadata": {},
     "output_type": "execute_result"
    }
   ],
   "source": [
    "G = Zmod(19)\n",
    "g = G.random_element()\n",
    "g * G.order()"
   ]
  },
  {
   "cell_type": "code",
   "execution_count": 16,
   "metadata": {},
   "outputs": [],
   "source": [
    "G = Zmod(19)\n",
    "g = G.random_element()\n",
    "for g in range(1, 19):\n",
    "    assert pow(g, 18, 19) == 1"
   ]
  },
  {
   "cell_type": "code",
   "execution_count": 21,
   "metadata": {},
   "outputs": [
    {
     "name": "stdout",
     "output_type": "stream",
     "text": [
      "[11  9 10 13]\n",
      "[17  4 17 13]\n",
      "[16 12  4 12]\n",
      "[ 5  2  8  6]\n"
     ]
    }
   ],
   "source": [
    "G = GL(4, Zmod(19))\n",
    "M = G.random_element()\n",
    "print(M)"
   ]
  },
  {
   "cell_type": "code",
   "execution_count": 23,
   "metadata": {},
   "outputs": [
    {
     "name": "stdout",
     "output_type": "stream",
     "text": [
      "[1 0 0 0]\n",
      "[0 1 0 0]\n",
      "[0 0 1 0]\n",
      "[0 0 0 1]\n"
     ]
    }
   ],
   "source": [
    "print(pow(M, G.order()))"
   ]
  }
 ],
 "metadata": {
  "kernelspec": {
   "display_name": "SageMath 10.0",
   "language": "sage",
   "name": "sagemath"
  },
  "language_info": {
   "codemirror_mode": {
    "name": "ipython",
    "version": 3
   },
   "file_extension": ".py",
   "mimetype": "text/x-python",
   "name": "python",
   "nbconvert_exporter": "python",
   "pygments_lexer": "ipython3",
   "version": "3.11.3"
  }
 },
 "nbformat": 4,
 "nbformat_minor": 4
}
