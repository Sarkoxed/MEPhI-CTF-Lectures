{
 "cells": [
  {
   "cell_type": "code",
   "execution_count": 16,
   "id": "33ddd70e-d310-4025-950a-61ff1d6fc697",
   "metadata": {},
   "outputs": [],
   "source": [
    "E = EllipticCurve(GF(101), [-1, 0])"
   ]
  },
  {
   "cell_type": "code",
   "execution_count": 17,
   "id": "ed9a5dab-405f-464e-bdb7-cca28ca4fad5",
   "metadata": {},
   "outputs": [
    {
     "data": {
      "text/plain": [
       "Elliptic Curve defined by y^2 = x^3 + 100*x over Finite Field of size 101"
      ]
     },
     "execution_count": 17,
     "metadata": {},
     "output_type": "execute_result"
    }
   ],
   "source": [
    "E"
   ]
  },
  {
   "cell_type": "code",
   "execution_count": 18,
   "id": "90c1fafe-593f-47f8-bca9-813f2383f271",
   "metadata": {},
   "outputs": [
    {
     "data": {
      "image/png": "[encoded data removed]",
      "text/plain": [
       "Graphics object consisting of 1 graphics primitive"
      ]
     },
     "execution_count": 18,
     "metadata": {},
     "output_type": "execute_result"
    }
   ],
   "source": [
    "E.plot()"
   ]
  },
  {
   "cell_type": "code",
   "execution_count": 22,
   "id": "802d4237-4bd4-4c13-8cc5-1bcbec570076",
   "metadata": {},
   "outputs": [],
   "source": [
    "G1, G2 = E.gens()"
   ]
  },
  {
   "cell_type": "code",
   "execution_count": 25,
   "id": "b32ceb1e-e173-4427-8bc5-03ca7fde9c55",
   "metadata": {},
   "outputs": [
    {
     "data": {
      "text/plain": [
       "'(93 : 1 : 1) + (100 : 0 : 1) = (42 : 35 : 1)'"
      ]
     },
     "execution_count": 25,
     "metadata": {},
     "output_type": "execute_result"
    }
   ],
   "source": [
    "f\"{G1} + {G2} = {G1 + G2}\""
   ]
  },
  {
   "cell_type": "code",
   "execution_count": 35,
   "id": "064b0159-21e3-426a-8d38-c40fa8847f34",
   "metadata": {},
   "outputs": [
    {
     "data": {
      "text/plain": [
       "(0 : 1 : 0)"
      ]
     },
     "execution_count": 35,
     "metadata": {},
     "output_type": "execute_result"
    }
   ],
   "source": [
    "G1 -G1"
   ]
  },
  {
   "cell_type": "code",
   "execution_count": 30,
   "id": "25b12f8b-7eb0-4faa-a0fe-bb497525a58b",
   "metadata": {},
   "outputs": [
    {
     "data": {
      "text/plain": [
       "13"
      ]
     },
     "execution_count": 30,
     "metadata": {},
     "output_type": "execute_result"
    }
   ],
   "source": [
    "35**2 % 101"
   ]
  },
  {
   "cell_type": "code",
   "execution_count": 42,
   "id": "84756814-bf58-4ecb-b3d7-ca8a135185c4",
   "metadata": {},
   "outputs": [
    {
     "data": {
      "text/plain": [
       "(52, 2)"
      ]
     },
     "execution_count": 42,
     "metadata": {},
     "output_type": "execute_result"
    }
   ],
   "source": [
    "G1.order(), G2.order()"
   ]
  },
  {
   "cell_type": "code",
   "execution_count": 44,
   "id": "28aab4ca-2161-45a7-963a-9072d5985c40",
   "metadata": {},
   "outputs": [
    {
     "data": {
      "text/plain": [
       "(0 : 1 : 0)"
      ]
     },
     "execution_count": 44,
     "metadata": {},
     "output_type": "execute_result"
    }
   ],
   "source": [
    "G2 + G2"
   ]
  },
  {
   "cell_type": "code",
   "execution_count": 45,
   "id": "d8d9d239-89dd-4e22-951b-957a710780c4",
   "metadata": {},
   "outputs": [
    {
     "data": {
      "text/plain": [
       "2^2 * 13"
      ]
     },
     "execution_count": 45,
     "metadata": {},
     "output_type": "execute_result"
    }
   ],
   "source": [
    "factor(52)"
   ]
  },
  {
   "cell_type": "code",
   "execution_count": 46,
   "id": "dae4b630-ba01-49e6-848b-c5cd1602f8bf",
   "metadata": {},
   "outputs": [],
   "source": [
    "P1 = 4 * G1"
   ]
  },
  {
   "cell_type": "code",
   "execution_count": 47,
   "id": "293dc685-18c0-40a0-9ce7-00eb827c62c6",
   "metadata": {},
   "outputs": [
    {
     "data": {
      "text/plain": [
       "1"
      ]
     },
     "execution_count": 47,
     "metadata": {},
     "output_type": "execute_result"
    }
   ],
   "source": [
    "P1.weil_pairing(P1, 13)"
   ]
  },
  {
   "cell_type": "markdown",
   "id": "56329415-a6d4-4c40-adf4-0a2bde3457d7",
   "metadata": {},
   "source": [
    "$E(F_p)a, b$\n",
    "\n",
    "$|E(F_p)| = x * y$\n",
    "\n",
    "$E(F_p)[n] = <G1, G2>$\n",
    "\n",
    "$G_1 \\times G_2 \\to G_3$\n",
    "\n",
    "\n",
    "$E(F_p)[n] \\times E(F_p)[n] \\to \\mu_n$\n",
    "\n",
    "$x: x^n = 1 \\pmod{p}$\n",
    "\n",
    "\n",
    "$e(n * P, m  * Q) = e(P, Q)^{m * n}$"
   ]
  },
  {
   "cell_type": "code",
   "execution_count": 48,
   "id": "cd53e624-a736-4662-ba75-7262a0177d01",
   "metadata": {},
   "outputs": [],
   "source": [
    "    g = GF(691)\n",
    "    e = EllipticCurve(g, [1, 0])\n",
    "    p = e((301, 14))\n",
    "    q = e((143, 27))\n",
    "\n",
    "    l = p.order()\n",
    " "
   ]
  },
  {
   "cell_type": "code",
   "execution_count": 52,
   "id": "0d3fc382-80c6-4470-8fe7-27a1c2aa023b",
   "metadata": {},
   "outputs": [
    {
     "data": {
      "text/plain": [
       "2^2 * 173"
      ]
     },
     "execution_count": 52,
     "metadata": {},
     "output_type": "execute_result"
    }
   ],
   "source": [
    "factor(e.order())"
   ]
  },
  {
   "cell_type": "code",
   "execution_count": 54,
   "id": "70ebec6d-5dca-4c17-a400-6c3ee52540e3",
   "metadata": {},
   "outputs": [
    {
     "data": {
      "text/plain": [
       "1"
      ]
     },
     "execution_count": 54,
     "metadata": {},
     "output_type": "execute_result"
    }
   ],
   "source": [
    "p.weil_pairing(q, 173)"
   ]
  },
  {
   "cell_type": "code",
   "execution_count": 55,
   "id": "6c1dfb1c-045b-415b-a874-ca90059c15d5",
   "metadata": {},
   "outputs": [
    {
     "data": {
      "text/plain": [
       "2"
      ]
     },
     "execution_count": 55,
     "metadata": {},
     "output_type": "execute_result"
    }
   ],
   "source": [
    "GF(173)(691).multiplicative_order()"
   ]
  },
  {
   "cell_type": "code",
   "execution_count": 68,
   "id": "3d6015a9-669e-4589-81d3-5c7793862719",
   "metadata": {},
   "outputs": [],
   "source": [
    "E1 = EllipticCurve(GF(691^2), [1, 0])\n",
    "factor(E1.order())\n",
    "G1, G2 = E1.gens()\n",
    "P1 = 16 * G1\n",
    "P2 = 16 * G2"
   ]
  },
  {
   "cell_type": "code",
   "execution_count": 73,
   "id": "a53d731c-da30-4ca7-b120-39ad066cb74d",
   "metadata": {},
   "outputs": [],
   "source": [
    "P1 = E1((301, 14))\n"
   ]
  },
  {
   "cell_type": "code",
   "execution_count": 83,
   "id": "4568e710-8790-4f93-88d5-c503b8aed422",
   "metadata": {},
   "outputs": [
    {
     "data": {
      "text/plain": [
       "481*z2 + 508"
      ]
     },
     "execution_count": 83,
     "metadata": {},
     "output_type": "execute_result"
    }
   ],
   "source": [
    "P1.weil_pairing(P2, 173)**3"
   ]
  },
  {
   "cell_type": "code",
   "execution_count": 82,
   "id": "353ed126-0fad-4408-b814-d3e5b1a1c290",
   "metadata": {},
   "outputs": [
    {
     "data": {
      "text/plain": [
       "481*z2 + 508"
      ]
     },
     "execution_count": 82,
     "metadata": {},
     "output_type": "execute_result"
    }
   ],
   "source": [
    "(3 * P1).weil_pairing(P2, 173)"
   ]
  },
  {
   "cell_type": "code",
   "execution_count": 60,
   "id": "9881cbd3-327b-4d40-97bf-8ecb3fd3a18b",
   "metadata": {},
   "outputs": [],
   "source": [
    "G = GF(691^2)"
   ]
  },
  {
   "cell_type": "code",
   "execution_count": 62,
   "id": "48a7b0c9-1b52-438f-bcf2-285b2d9b9d71",
   "metadata": {},
   "outputs": [
    {
     "data": {
      "text/plain": [
       "x^2 + 686*x + 3"
      ]
     },
     "execution_count": 62,
     "metadata": {},
     "output_type": "execute_result"
    }
   ],
   "source": [
    "G.modulus()"
   ]
  },
  {
   "cell_type": "code",
   "execution_count": 65,
   "id": "fd21c117-d777-4b6c-b37b-55dcb3d49bd6",
   "metadata": {},
   "outputs": [
    {
     "data": {
      "text/plain": [
       "0"
      ]
     },
     "execution_count": 65,
     "metadata": {},
     "output_type": "execute_result"
    }
   ],
   "source": [
    "z_ = G([0, 1])\n",
    "\n",
    "z_**2 + 686 * z_ + 3"
   ]
  },
  {
   "cell_type": "code",
   "execution_count": 67,
   "id": "f7af009b-5949-40cf-abbb-fdaa5c61e960",
   "metadata": {},
   "outputs": [
    {
     "data": {
      "text/plain": [
       "x^2 + 686*x + 3"
      ]
     },
     "execution_count": 67,
     "metadata": {},
     "output_type": "execute_result"
    }
   ],
   "source": [
    "PolynomialRing(GF(691), \"x\")(x^2 + 686*x + 3).factor()"
   ]
  },
  {
   "cell_type": "code",
   "execution_count": 84,
   "id": "9fd608a9-aca6-4628-9bcc-c4bbc3209b9f",
   "metadata": {},
   "outputs": [],
   "source": [
    "\n",
    "\n",
    "P = PolynomialRing(GF(101), x)"
   ]
  },
  {
   "cell_type": "code",
   "execution_count": 85,
   "id": "7fea07db-df4a-4787-b29b-bf92f011f474",
   "metadata": {},
   "outputs": [],
   "source": [
    "p = P.random_element(degree=9)"
   ]
  },
  {
   "cell_type": "code",
   "execution_count": 86,
   "id": "c920b8e7-a953-418f-b868-7240fa9e88aa",
   "metadata": {},
   "outputs": [
    {
     "data": {
      "text/plain": [
       "4*x^9 + 83*x^8 + 47*x^7 + 40*x^6 + 49*x^5 + 9*x^4 + 85*x^3 + 60*x^2 + 10*x + 22"
      ]
     },
     "execution_count": 86,
     "metadata": {},
     "output_type": "execute_result"
    }
   ],
   "source": [
    "p"
   ]
  },
  {
   "cell_type": "code",
   "execution_count": 87,
   "id": "1928c6ac-c1c4-4cd2-affb-9ed4b43188e6",
   "metadata": {},
   "outputs": [
    {
     "data": {
      "text/plain": [
       "[(0, 22),\n",
       " (1, 5),\n",
       " (2, 4),\n",
       " (3, 36),\n",
       " (4, 26),\n",
       " (5, 1),\n",
       " (6, 2),\n",
       " (7, 45),\n",
       " (8, 78),\n",
       " (9, 51)]"
      ]
     },
     "execution_count": 87,
     "metadata": {},
     "output_type": "execute_result"
    }
   ],
   "source": [
    "points = [(x, p(x=x)) for x in range(10)]\n",
    "points"
   ]
  },
  {
   "cell_type": "code",
   "execution_count": 90,
   "id": "8bd6b4ad-ae1c-4d60-aa43-9fc2ee13f436",
   "metadata": {},
   "outputs": [
    {
     "data": {
      "text/plain": [
       "25*x^8 + 85*x^7 + 4*x^6 + 42*x^5 + 81*x^4 + 67*x^3 + 56*x^2 + 27*x + 22"
      ]
     },
     "execution_count": 90,
     "metadata": {},
     "output_type": "execute_result"
    }
   ],
   "source": [
    "P.lagrange_polynomial(points[:-1])"
   ]
  },
  {
   "cell_type": "code",
   "execution_count": 89,
   "id": "979057bf-95cd-4c63-ba75-8e9f52529573",
   "metadata": {},
   "outputs": [
    {
     "data": {
      "text/plain": [
       "4*x^9 + 83*x^8 + 47*x^7 + 40*x^6 + 49*x^5 + 9*x^4 + 85*x^3 + 60*x^2 + 10*x + 22"
      ]
     },
     "execution_count": 89,
     "metadata": {},
     "output_type": "execute_result"
    }
   ],
   "source": [
    "p"
   ]
  },
  {
   "cell_type": "code",
   "execution_count": 93,
   "id": "b4d1a4a5-3182-472e-8385-11d73c87aa8e",
   "metadata": {},
   "outputs": [],
   "source": [
    "P = PolynomialRing(QQ, x)\n",
    "p = P([randint(-10, 10) for _ in range(10)])"
   ]
  },
  {
   "cell_type": "code",
   "execution_count": 96,
   "id": "0c92a214-2746-4069-8af5-4948825e9f21",
   "metadata": {},
   "outputs": [
    {
     "data": {
      "text/plain": [
       "[(0, 8),\n",
       " (1, 27),\n",
       " (2, -1224),\n",
       " (3, -44509),\n",
       " (4, -531096),\n",
       " (5, -3624477),\n",
       " (6, -17456488),\n",
       " (7, -66151749),\n",
       " (8, -210337464),\n",
       " (9, -584821621)]"
      ]
     },
     "execution_count": 96,
     "metadata": {},
     "output_type": "execute_result"
    }
   ],
   "source": [
    "points = [(x, p(x=x)) for x in range(10)]\n",
    "points"
   ]
  },
  {
   "cell_type": "code",
   "execution_count": 101,
   "id": "f71527bb-c554-4242-96e6-6ac093004d44",
   "metadata": {},
   "outputs": [
    {
     "data": {
      "text/plain": [
       "-x^9 - 5*x^8 + 4*x^7 - 3*x^6 + 5*x^5 - x^4 + 8*x^3 + 4*x^2 + 8*x + 8"
      ]
     },
     "execution_count": 101,
     "metadata": {},
     "output_type": "execute_result"
    }
   ],
   "source": [
    "P.lagrange_polynomial(points + [(100, p(100))])"
   ]
  },
  {
   "cell_type": "code",
   "execution_count": null,
   "id": "9803dba8-ad82-45be-b91e-1dd699b6eff6",
   "metadata": {},
   "outputs": [],
   "source": []
  }
 ],
 "metadata": {
  "kernelspec": {
   "display_name": "SageMath 10.5",
   "language": "sage",
   "name": "sagemath"
  },
  "language_info": {
   "codemirror_mode": {
    "name": "ipython",
    "version": 3
   },
   "file_extension": ".py",
   "mimetype": "text/x-python",
   "name": "python",
   "nbconvert_exporter": "python",
   "pygments_lexer": "ipython3",
   "version": "3.13.2"
  }
 },
 "nbformat": 4,
 "nbformat_minor": 5
}
