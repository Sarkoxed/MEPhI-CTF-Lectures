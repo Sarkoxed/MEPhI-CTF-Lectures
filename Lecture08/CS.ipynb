{
 "cells": [
  {
   "cell_type": "code",
   "execution_count": 2,
   "id": "2790397c-d976-4c75-bc5b-e9260657086f",
   "metadata": {},
   "outputs": [],
   "source": [
    "# dimension\n",
    "n = 64\n",
    "# plaintext modulus\n",
    "p = 257\n",
    "# ciphertext modulus\n",
    "q = 1048583\n",
    "\n",
    "V = VectorSpace(GF(q), n)\n",
    "S = V.random_element()\n",
    "\n",
    "def encrypt(m):\n",
    "    A = V.random_element()\n",
    "    e = randint(-1, 1)\n",
    "    b = A * S + m + p * e\n",
    "    return A, b"
   ]
  },
  {
   "cell_type": "code",
   "execution_count": 7,
   "id": "06e2b731-bd01-4dc4-b3e8-7840fd473e32",
   "metadata": {},
   "outputs": [],
   "source": [
    "As = []\n",
    "bs = []\n",
    "for i in range(30):\n",
    "    A = V.random_element()\n",
    "    b = S * A + randint(-1, 1)\n",
    "    As.append(A)\n",
    "    bs.append(b)"
   ]
  },
  {
   "cell_type": "markdown",
   "id": "7e2cbee7-6956-4f35-b025-e8170e5b2192",
   "metadata": {},
   "source": [
    "$b_0 = \\vec{A_0} * \\vec{S} + e_0 \\pmod{q}$\n",
    "\n",
    "$b_1 = \\vec{A_1} * \\vec{S} + e_1 \\pmod{q}$\n",
    "\n",
    "...\n",
    "\n",
    "$b_m = \\vec{A_m} * \\vec{S} + e_m \\pmod{q}$\n",
    "\n",
    "\n",
    "$$M = \\begin{pmatrix}\n",
    "\\vec{A_0}  \\\\\n",
    "\\vec{A_1} \\\\\n",
    "... \\\\\n",
    "\\vec{A_m} \\\\\n",
    "\\end{pmatrix}$$\n",
    "\n",
    "$\\vec{b} = M * \\vec{S} + \\vec{e} \\pmod{q}$\n",
    "\n",
    "$\\vec{b} = M * \\vec{S} + \\vec{e} + (K_1, K_2, K_3, ..., K_m) * q$\n",
    "\n",
    "\n",
    "$\\vec{A_0} = (a_{00}, a_{01}, ..., a_{0n})$\n",
    "\n",
    "$$M = \\begin{pmatrix}\n",
    "a_{00} & a_{10} & ... & a_{m0}  \\\\\n",
    "a_{01} & a_{11} & ... & a_{m1}  \\\\\n",
    "... \\\\\n",
    "a_{0n} & a_{1n} & ... & a_{mn}  \\\\\n",
    "q & 0 & 0 ... & 0 \\\\\n",
    "0 & q & 0 ... & 0 \\\\\n",
    "... \\\\\n",
    "0 & 0 & 0 ... & q \\\\\n",
    "\\end{pmatrix}$$\n"
   ]
  },
  {
   "cell_type": "markdown",
   "id": "42445c5d-83e9-43e4-bff7-694de112c20b",
   "metadata": {},
   "source": [
    "$\\vec{k} = (s_0, s_1, s_2, ..., s_n, K_1, K_2, ..., K_m)$\n",
    "\n",
    "$\\vec{k} * M = (e_0, e_1, e_2, ..., e_m) \\approx 2^m$"
   ]
  },
  {
   "cell_type": "code",
   "execution_count": 29,
   "id": "bb9df47c-790f-4869-bd19-e6bbde5fabe9",
   "metadata": {},
   "outputs": [],
   "source": [
    "def kg(blocksize: int, nbit=3):\n",
    "    key = [getRandomNBitInteger(nbit)]\n",
    "    for i in range(blocksize - 1):\n",
    "        z = key[-1]\n",
    "        key.append(randint(2 * z, 2 * z + getrandbits(nbit)))\n",
    "    return key\n",
    "\n",
    "\n",
    "# K = (k_0, k_1, ..., k_n)\n",
    "# Pk = (k_0 * A, k_1 * A, ..., k_n * A) % B\n",
    "\n",
    "def keygen(blocksize, nbit=3):\n",
    "    r = kg(blocksize, nbit)\n",
    "    B = randint(2 * r[-1] + 1, 2 * r[-1] + getrandbits(nbit))\n",
    "    A = randint(0, B)\n",
    "    while gcd(A, B) != 1:\n",
    "        A = randint(0, B)\n",
    "    pk = list()\n",
    "    for i in r:\n",
    "        pk.append((i * A) % B)\n",
    "    return ((A, B, r), (pk, B))\n",
    "\n",
    "# (m_0, m_1, .., m_n) * vec(Pk)\n",
    "\n",
    "\n",
    "def encrypt(m: list, pubkey):\n",
    "    K_seq, Mod = pubkey\n",
    "    s = 0\n",
    "    for i, j in zip(m, K_seq):\n",
    "        s += i * j\n",
    "        s %= Mod\n",
    "    return s\n",
    "\n",
    "def deq(s: int, key: list):\n",
    "    m = list()\n",
    "    for i in range(len(key) - 1, -1, -1):\n",
    "        if s >= key[i]:\n",
    "            m = [1] + m\n",
    "            s -= key[i]\n",
    "        else:\n",
    "            m = [0] + m\n",
    "    if s != 0:\n",
    "        raise \"bad word\"\n",
    "    return m\n",
    "\n",
    "def decrypt(s, prikey):\n",
    "    A, B, r = prikey\n",
    "    s = (pow(A, -1, B) * s) % B\n",
    "    m = deq(s, r)\n",
    "    return m"
   ]
  },
  {
   "cell_type": "code",
   "execution_count": 30,
   "id": "21045920-ce71-4ab0-a588-453a52f3f923",
   "metadata": {},
   "outputs": [
    {
     "data": {
      "text/plain": [
       "([29994, 34891, 17159, 13859, 5585], 37954)"
      ]
     },
     "execution_count": 30,
     "metadata": {},
     "output_type": "execute_result"
    }
   ],
   "source": [
    "sk, pk = keygen(5, 10)\n",
    "pk"
   ]
  },
  {
   "cell_type": "code",
   "execution_count": 37,
   "id": "afaabcb9-1836-4501-a74b-fd1292c92dea",
   "metadata": {},
   "outputs": [],
   "source": [
    "m = [0, 1, 1, 0, 1]\n",
    "ct = encrypt(m, pk)"
   ]
  },
  {
   "cell_type": "code",
   "execution_count": 38,
   "id": "25c75f8b-e95c-4c4a-9637-f86f96edd0d6",
   "metadata": {},
   "outputs": [
    {
     "data": {
      "text/plain": [
       "19681"
      ]
     },
     "execution_count": 38,
     "metadata": {},
     "output_type": "execute_result"
    }
   ],
   "source": [
    "ct"
   ]
  },
  {
   "cell_type": "code",
   "execution_count": 39,
   "id": "b4ff3bb0-47fb-473e-85ff-4c7908dfddc4",
   "metadata": {},
   "outputs": [
    {
     "data": {
      "text/plain": [
       "[0, 1, 1, 0, 1]"
      ]
     },
     "execution_count": 39,
     "metadata": {},
     "output_type": "execute_result"
    }
   ],
   "source": [
    "decrypt(ct, sk)"
   ]
  },
  {
   "cell_type": "code",
   "execution_count": 55,
   "id": "4aab3574-07f1-48e5-af01-000855f62b53",
   "metadata": {},
   "outputs": [
    {
     "data": {
      "text/plain": [
       "[     2      0      0      0      0      0  29994]\n",
       "[     0      2      0      0      0      0  34891]\n",
       "[     0      0      2      0      0      0  17159]\n",
       "[     0      0      0      2      0      0  13859]\n",
       "[     0      0      0      0      2      0   5585]\n",
       "[     0      0      0      0      0      1  37954]\n",
       "[    -1     -1     -1     -1     -1     -1 -19681]"
      ]
     },
     "execution_count": 55,
     "metadata": {},
     "output_type": "execute_result"
    }
   ],
   "source": [
    "M = Matrix(7)\n",
    "\n",
    "M.set_block(0, 0, identity_matrix(6))\n",
    "M.set_block(0, 0, identity_matrix(5) * 2)\n",
    "M.set_block(0, 6, Matrix([pk[0] + [pk[1]] + [-int(ct)]]).T)\n",
    "M.set_block(6, 0, Matrix([-1] * 6))\n",
    "M"
   ]
  },
  {
   "cell_type": "code",
   "execution_count": 57,
   "id": "deba085d-6c78-427c-9619-e36da33b642e",
   "metadata": {},
   "outputs": [
    {
     "data": {
      "text/plain": [
       "(0, 1, 1, 0, 1, -1, 1)"
      ]
     },
     "execution_count": 57,
     "metadata": {},
     "output_type": "execute_result"
    }
   ],
   "source": [
    "M.solve_left(M.LLL()[0])"
   ]
  },
  {
   "cell_type": "code",
   "execution_count": 63,
   "id": "735b09fa-be0d-4b1d-9628-8112f54a077f",
   "metadata": {},
   "outputs": [],
   "source": [
    "def keygen(nbits: int):\n",
    "    q = random_prime(2**nbits)\n",
    "    while True:\n",
    "        f = randint(1, floor(sqrt(q / 2)))\n",
    "        g = randint(ceil(sqrt(q / 4)), floor(sqrt(q / 2)))\n",
    "        if gcd(f, q * g) == 1:\n",
    "            break\n",
    "\n",
    "    h = (pow(f, -1, q) * g) % q\n",
    "    return (f, g), (h, q)\n",
    "\n",
    "\n",
    "def encrypt(h, q, m):\n",
    "    assert m < sqrt(q / 4)\n",
    "\n",
    "    r = randint(0, floor(sqrt(q / 2)))\n",
    "    return (r * h + m) % q\n",
    "\n",
    "\n",
    "def decrypt(f, g, q, e):\n",
    "    a = (f * e) % q\n",
    "    b = (pow(f, -1, g) * a) % g\n",
    "    return b"
   ]
  },
  {
   "cell_type": "code",
   "execution_count": 64,
   "id": "22b7bcc7-d8c5-4b29-8ef5-9129c0580703",
   "metadata": {},
   "outputs": [],
   "source": [
    "sk, pk = keygen(512)\n",
    "m = randint(0, isqrt(pk[1] // 4))"
   ]
  },
  {
   "cell_type": "code",
   "execution_count": 65,
   "id": "3927f64e-f371-4f60-a281-00d7810212ad",
   "metadata": {},
   "outputs": [],
   "source": [
    "ct = encrypt(*pk, m)"
   ]
  },
  {
   "cell_type": "code",
   "execution_count": 66,
   "id": "51dfd22f-f629-49f5-a445-be15b0468f59",
   "metadata": {},
   "outputs": [
    {
     "data": {
      "text/plain": [
       "6405455233443648413302990372677665839649028430858868236751114679896053184379250081145537036316547467634621807840656798125073898562489851590582794671492704"
      ]
     },
     "execution_count": 66,
     "metadata": {},
     "output_type": "execute_result"
    }
   ],
   "source": [
    "ct"
   ]
  },
  {
   "cell_type": "code",
   "execution_count": 67,
   "id": "958fbe27-4340-4c2c-ab54-71fa013ccdc3",
   "metadata": {},
   "outputs": [
    {
     "data": {
      "text/plain": [
       "28156443611414235651282046453914603220410073985342673458136042479643044947532"
      ]
     },
     "execution_count": 67,
     "metadata": {},
     "output_type": "execute_result"
    }
   ],
   "source": [
    "decrypt(*sk, pk[1], ct)"
   ]
  },
  {
   "cell_type": "code",
   "execution_count": 68,
   "id": "4f6f2f2d-e06a-4717-b64c-3839618c86c3",
   "metadata": {},
   "outputs": [
    {
     "data": {
      "text/plain": [
       "28156443611414235651282046453914603220410073985342673458136042479643044947532"
      ]
     },
     "execution_count": 68,
     "metadata": {},
     "output_type": "execute_result"
    }
   ],
   "source": [
    "m"
   ]
  },
  {
   "cell_type": "markdown",
   "id": "ae950ff3-2199-41dd-963c-5cc589487e64",
   "metadata": {},
   "source": [
    "$h * f \\equiv g \\pmod{q}$\n",
    "\n",
    "$h * f - K * q  = g$\n",
    "\n",
    "$f * (1, h) - K * (0, q) = (F, G)$\n",
    "\n",
    "$f - K * 0 = f$\n",
    "\n",
    "$f * h - K * q = g$\n",
    "\n",
    "$$M = \\begin{pmatrix}\n",
    "1 & h \\\\ \n",
    "0 & -q \\\\\n",
    "\\end{pmatrix}$$\n",
    "\n",
    "\n",
    "$\\vec{k} = (f, K)$\n",
    "\n",
    "$\\vec{k} * M = (f, f * h - K * q) = (f, g)$\n",
    "\n",
    "$|(f, g)| < \\sqrt(q/2 + q/2) = \\sqrt{q}$"
   ]
  },
  {
   "cell_type": "code",
   "execution_count": 69,
   "id": "f9571e1e-c24e-4909-b815-af20c779b3ce",
   "metadata": {},
   "outputs": [],
   "source": [
    "M = Matrix([[1, pk[0]], [0, pk[1]]])\n",
    "\n",
    "L = M.LLL()"
   ]
  },
  {
   "cell_type": "code",
   "execution_count": 74,
   "id": "eda6abfb-f3b2-47d6-b48c-3dd87755ac43",
   "metadata": {},
   "outputs": [
    {
     "data": {
      "text/plain": [
       "256"
      ]
     },
     "execution_count": 74,
     "metadata": {},
     "output_type": "execute_result"
    }
   ],
   "source": [
    "abs(int(L[0][0])).bit_length()"
   ]
  },
  {
   "cell_type": "code",
   "execution_count": 81,
   "id": "3d4276a4-6681-450e-9647-f2a710aa5694",
   "metadata": {},
   "outputs": [
    {
     "data": {
      "text/plain": [
       "(-74012543077019476278607737242217003101972402804824519314294985030168484510892,\n",
       " -70285935410572241048328880979525176584570718264454548677249287123609989634261)"
      ]
     },
     "execution_count": 81,
     "metadata": {},
     "output_type": "execute_result"
    }
   ],
   "source": [
    "f, g = L[0]\n",
    "f, g"
   ]
  },
  {
   "cell_type": "code",
   "execution_count": 79,
   "id": "d718c03e-22a3-42b2-b88d-ee5a509ab909",
   "metadata": {},
   "outputs": [
    {
     "data": {
      "text/plain": [
       "(74012543077019476278607737242217003101972402804824519314294985030168484510892,\n",
       " 70285935410572241048328880979525176584570718264454548677249287123609989634261)"
      ]
     },
     "execution_count": 79,
     "metadata": {},
     "output_type": "execute_result"
    }
   ],
   "source": [
    "sk"
   ]
  },
  {
   "cell_type": "code",
   "execution_count": 82,
   "id": "0f0048b6-312e-4920-82b0-06ddc81f9ff5",
   "metadata": {},
   "outputs": [],
   "source": [
    "def HadamardRatio(v):\n",
    "    m = Matrix(v)\n",
    "    prod = 1.0\n",
    "    for i in range(len(v)):\n",
    "        prod *= v[i].norm()\n",
    "    return pow(abs(m.det()) / prod, 1 / len(v))\n",
    "\n",
    "\n",
    "def nearest(x):\n",
    "    if abs(floor(x) - x) < 0.5:\n",
    "        return floor(x)\n",
    "    return ceil(x)\n",
    "\n",
    "\n",
    "def Babai_algorithm(base, vec):\n",
    "    m = Matrix(base)\n",
    "    sol = m.solve_left(vec)\n",
    "    sol = vector([nearest(x) for x in sol])\n",
    "    ans = zero_vector(len(base))\n",
    "    for i in range(len(base)):\n",
    "        ans += vector(base[i]) * sol[i]\n",
    "    return ans\n",
    "\n",
    "\n",
    "def get_sum_rows_m(i, j, a=1, b=1, dim=0):\n",
    "    m = identity_matrix(dim)\n",
    "    m[i, i] = a\n",
    "    m[i, j] = b\n",
    "    return m\n",
    "\n",
    "\n",
    "def get_permutation_rows_m(i, j, dim):\n",
    "    m = identity_matrix(dim)\n",
    "    m[i, i] = 0\n",
    "    m[j, j] = 0\n",
    "    m[i, j] = 1\n",
    "    m[j, i] = 1\n",
    "    return m\n",
    "\n",
    "\n",
    "def get_secret(dim: int, m):\n",
    "    I = identity_matrix(dim)\n",
    "    for i in range(100):\n",
    "        m1 = get_sum_rows_m(randint(0, dim - 1), randint(0, dim - 1), 1, 1, dim)\n",
    "        m2 = get_permutation_rows_m(randint(0, dim - 1), randint(0, dim - 1), dim)\n",
    "        m = m1 * m2 * m\n",
    "    while True:\n",
    "        if 0 < HadamardRatio([vector(m.row(x)) for x in range(dim)]) < 0.01:\n",
    "            return [vector(m.row(x)) for x in range(dim)]\n",
    "        m1 = get_sum_rows_m(randint(0, dim - 1), randint(0, dim - 1), 1, 1, dim)\n",
    "        m2 = get_permutation_rows_m(randint(0, dim - 1), randint(0, dim - 1), dim)\n",
    "        m = m1 * m2 * m\n",
    "\n",
    "\n",
    "def keygen(dim: int, d: int):\n",
    "    while True:\n",
    "        vs = list()\n",
    "        for i in range(dim):\n",
    "            vi = list()\n",
    "            for i in range(dim):\n",
    "                vi.append(randint(-d, d))\n",
    "            vi = vector(vi)\n",
    "            vs.append(vi)\n",
    "        if HadamardRatio(vs) >= 0.90:\n",
    "            break\n",
    "\n",
    "    priv = vs\n",
    "    pub = get_secret(dim, Matrix(priv))\n",
    "    return (pub, randint(0, 50)), priv\n",
    "\n",
    "\n",
    "def encrypt(pub, binm, flag):\n",
    "    base, sig = pub\n",
    "    r = vector([randint(-sig, sig) for i in range(len(base))])\n",
    "    print(f\"Random: {r}\")\n",
    "    if flag:\n",
    "        for i, j in zip(binm, base):\n",
    "            r += i * j\n",
    "        return r\n",
    "    else:\n",
    "        for i, j in zip(r, base):\n",
    "            m += i * j\n",
    "        return m\n",
    "\n",
    "\n",
    "def decrypt(priv, pub, c):\n",
    "    w = Matrix(priv)\n",
    "    v = Babai_algorithm(priv, c)\n",
    "    v1 = Babai_algorithm(pub[0], c)\n",
    "    print(f\"Babai solved: {v}\")\n",
    "    print(f\"Babai bad {v1}\")\n",
    "    print(f\"R = {c - v}\")\n",
    "    m = Matrix(pub[0]).solve_left(v)\n",
    "    m1 = Matrix(pub[0]).solve_left(v1)\n",
    "    return m, m1"
   ]
  },
  {
   "cell_type": "code",
   "execution_count": 84,
   "id": "1ace666b-d82a-4bcc-857d-4d7e6932b722",
   "metadata": {},
   "outputs": [],
   "source": [
    "P = PolynomialRing(GF(101), \"x\")\n",
    "x = P.gens()[0]\n",
    "while True:\n",
    "    f = P.random_element(degree=5)\n",
    "    if f.is_irreducible():\n",
    "        break"
   ]
  },
  {
   "cell_type": "code",
   "execution_count": 87,
   "id": "6f588544-9b2e-4bb6-b82a-63b53e9425e7",
   "metadata": {},
   "outputs": [],
   "source": [
    "Q = P.quotient(f.monic())"
   ]
  },
  {
   "cell_type": "code",
   "execution_count": 88,
   "id": "785f8f82-352a-46fa-91f3-11fdd1443f8f",
   "metadata": {},
   "outputs": [
    {
     "data": {
      "text/plain": [
       "Univariate Quotient Polynomial Ring in xbar over Finite Field of size 101 with modulus x^5 + 35*x^4 + 88*x^3 + 82*x^2 + 50*x + 27"
      ]
     },
     "execution_count": 88,
     "metadata": {},
     "output_type": "execute_result"
    }
   ],
   "source": []
  },
  {
   "cell_type": "code",
   "execution_count": null,
   "id": "ed5857d0-bb54-4f80-a904-ee941fd8acdc",
   "metadata": {},
   "outputs": [],
   "source": []
  }
 ],
 "metadata": {
  "kernelspec": {
   "display_name": "SageMath 10.5",
   "language": "sage",
   "name": "sagemath"
  },
  "language_info": {
   "codemirror_mode": {
    "name": "ipython",
    "version": 3
   },
   "file_extension": ".py",
   "mimetype": "text/x-python",
   "name": "python",
   "nbconvert_exporter": "python",
   "pygments_lexer": "ipython3",
   "version": "3.13.2"
  }
 },
 "nbformat": 4,
 "nbformat_minor": 5
}
