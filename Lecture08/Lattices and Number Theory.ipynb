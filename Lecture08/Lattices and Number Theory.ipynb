{
 "cells": [
  {
   "cell_type": "markdown",
   "id": "5bb6fa94-d5f8-4850-8969-2457cfc93900",
   "metadata": {},
   "source": [
    "$a * \\arctan(1) + b * \\arctan(\\frac{1}{5}) + c * \\arctan(\\frac{1}{239}) = 0$\n",
    "\n",
    "$$M = \\begin{pmatrix}\n",
    "1 & 0 & \\arctan(1) * A  \\\\\n",
    "0 & 1 & \\arctan(\\frac{1}{5}) * A \\\\\n",
    "0 & 0 & \\arctan(\\frac{1}{239}) * A \\\\\n",
    "\\end{pmatrix}$$\n",
    "\n",
    "$\\vec{v} = (a, b, c)$\n",
    "\n",
    "$\\vec{v} * M = (a, b, A * (a* \\arctan(1) + b * \\arctan(\\frac{1}{5}) + c * \\arctan(\\frac{1}{239}))$ - Хотим маленький вектор"
   ]
  },
  {
   "cell_type": "code",
   "execution_count": 2,
   "id": "45d81c93-e019-49e7-a5a4-783c7ec9ebb7",
   "metadata": {},
   "outputs": [
    {
     "data": {
      "text/plain": [
       "0.197395559849881"
      ]
     },
     "execution_count": 2,
     "metadata": {},
     "output_type": "execute_result"
    }
   ],
   "source": [
    "arctan(1/5).n()"
   ]
  },
  {
   "cell_type": "code",
   "execution_count": 7,
   "id": "cbbde33d-85ec-415a-b99d-13682e4757a7",
   "metadata": {},
   "outputs": [],
   "source": [
    "A = 10^100\n",
    "x1 = floor(arctan(1) * A)\n",
    "x2 = floor(arctan(1/5) * A)\n",
    "x3 = floor(arctan(1/239) * A)\n",
    "\n",
    "M = Matrix([[1, 0, x1],\n",
    "            [0, 1, x2],\n",
    "            [0, 0, x3]])\n",
    "\n",
    "L = M.LLL()"
   ]
  },
  {
   "cell_type": "code",
   "execution_count": 8,
   "id": "693de56b-380e-4eb6-a57e-42fd0cce7816",
   "metadata": {},
   "outputs": [
    {
     "data": {
      "text/plain": [
       "(7853981633974483096156608458198757210492923498437764552437361480769541015715522496570087063355292669,\n",
       " 1973955598498807583700497651947902934475851037878521015176889402410339699782437857326978280372880441,\n",
       " 41840760020747238645382149592854527410480653076319508270196128871817783414228932737826058136229094)"
      ]
     },
     "execution_count": 8,
     "metadata": {},
     "output_type": "execute_result"
    }
   ],
   "source": [
    "x1, x2, x3"
   ]
  },
  {
   "cell_type": "code",
   "execution_count": 6,
   "id": "6430709a-f92e-4011-92a9-74b5be664ce6",
   "metadata": {},
   "outputs": [
    {
     "data": {
      "text/plain": [
       "0.78539816339744830961566084581987572104929234984377645524373614807695410157155224965700870633552926699553702162832057666177346115238764555793133985203212027936257102567548463027638991115573723873259549"
      ]
     },
     "execution_count": 6,
     "metadata": {},
     "output_type": "execute_result"
    }
   ],
   "source": [
    "arctan(1).n(digits=200)"
   ]
  },
  {
   "cell_type": "code",
   "execution_count": 14,
   "id": "76cb4b48-5acc-4e3a-8803-fbcfbec1c552",
   "metadata": {},
   "outputs": [
    {
     "data": {
      "text/plain": [
       "(1, -4, 1)"
      ]
     },
     "execution_count": 14,
     "metadata": {},
     "output_type": "execute_result"
    }
   ],
   "source": [
    "L[0] # L[0] = (a, b, c) * M\n",
    "\n",
    "M.solve_left(L[0])"
   ]
  },
  {
   "cell_type": "code",
   "execution_count": 15,
   "id": "9f133216-a0cb-4b64-aae8-0b284178f60d",
   "metadata": {},
   "outputs": [
    {
     "data": {
      "text/plain": [
       "1/4*pi - 4*arctan(1/5) + arctan(1/239)"
      ]
     },
     "execution_count": 15,
     "metadata": {},
     "output_type": "execute_result"
    }
   ],
   "source": [
    "s = arctan(1) - 4 * arctan(1/5) + arctan(1/239)\n",
    "s"
   ]
  },
  {
   "cell_type": "markdown",
   "id": "9bbd2a27-f71e-45f0-89b0-d2d590e3d808",
   "metadata": {},
   "source": [
    "$\\zeta(x) = \\displaystyle\\sum_{i=1}^{\\inf} \\frac{1}{n^x}$"
   ]
  },
  {
   "cell_type": "code",
   "execution_count": 29,
   "id": "6cdef386-9479-4271-95bf-e89c2f82b4c4",
   "metadata": {},
   "outputs": [
    {
     "name": "stdout",
     "output_type": "stream",
     "text": [
      "1.82287565553230\n"
     ]
    }
   ],
   "source": [
    "print(((1 + sqrt(7)) / 2).n())"
   ]
  },
  {
   "cell_type": "markdown",
   "id": "8dfa9809-04bd-4c83-b94e-1f5b602566bc",
   "metadata": {},
   "source": [
    "$A * \\alpha^2 + B * \\alpha + C = 0$\n",
    "\n",
    "$T_0 = R$\n",
    "\n",
    "$T_1 = floor(\\alpha * R)$\n",
    "\n",
    "$T_2 = floor(\\alpha^2 * R)$\n",
    "\n",
    "$$M = \\begin{pmatrix}\n",
    "1 & 0 & T_0 \\\\\n",
    "0 & 1 & T_1 \\\\\n",
    "0 & 0 & T_2 \\\\\n",
    "\\end{pmatrix}$$"
   ]
  },
  {
   "cell_type": "code",
   "execution_count": 32,
   "id": "a4b25b7f-5c47-4c1b-b0ff-02a3a3556f48",
   "metadata": {},
   "outputs": [
    {
     "name": "stdout",
     "output_type": "stream",
     "text": [
      "-1.80418295171508\n"
     ]
    }
   ],
   "source": [
    "A, B, C = [getrandbits(10) for _ in range(3)]\n",
    "alpha = (A * x**2 + B * x + C).roots()[0][0]\n",
    "print(alpha.n())"
   ]
  },
  {
   "cell_type": "code",
   "execution_count": 54,
   "id": "45760ea6-39c6-4e8e-bdb2-c926d7d88d6e",
   "metadata": {},
   "outputs": [],
   "source": [
    "R = 10^14\n",
    "x1 = R\n",
    "x2 = floor(alpha * R)\n",
    "x3 = floor(alpha**2 * R)\n",
    "\n",
    "M = Matrix([[1, 0, x1], [0, 1, x2], [0, 0, x3]])\n",
    "L = M.LLL()"
   ]
  },
  {
   "cell_type": "code",
   "execution_count": 55,
   "id": "4d3eee9a-f5aa-482d-bc07-5ed9f8e02d7f",
   "metadata": {},
   "outputs": [
    {
     "data": {
      "text/plain": [
       "(178, 418, -444)"
      ]
     },
     "execution_count": 55,
     "metadata": {},
     "output_type": "execute_result"
    }
   ],
   "source": [
    "L[0]"
   ]
  },
  {
   "cell_type": "code",
   "execution_count": 57,
   "id": "94696c7f-59b8-4d5a-904c-a014c02784ea",
   "metadata": {},
   "outputs": [
    {
     "data": {
      "text/plain": [
       "177*x^2 + 418*x + 178"
      ]
     },
     "execution_count": 57,
     "metadata": {},
     "output_type": "execute_result"
    }
   ],
   "source": [
    "C1, B1, A1 = M.solve_left(L[0])\n",
    "A1 * x**2 + B1 * x + C1"
   ]
  },
  {
   "cell_type": "code",
   "execution_count": 58,
   "id": "a0088fa5-eceb-4ea1-b621-8ac0fafd8dfc",
   "metadata": {},
   "outputs": [
    {
     "data": {
      "text/plain": [
       "[(-5/177*sqrt(487) - 209/177, 1), (5/177*sqrt(487) - 209/177, 1)]"
      ]
     },
     "execution_count": 58,
     "metadata": {},
     "output_type": "execute_result"
    }
   ],
   "source": [
    "(A1 * x**2 + B1 * x + C1).roots()"
   ]
  },
  {
   "cell_type": "code",
   "execution_count": 59,
   "id": "3e1f3508-3b8d-427b-a1fa-1388e67c0e6f",
   "metadata": {},
   "outputs": [
    {
     "data": {
      "text/plain": [
       "-5/177*sqrt(487) - 209/177"
      ]
     },
     "execution_count": 59,
     "metadata": {},
     "output_type": "execute_result"
    }
   ],
   "source": [
    "alpha"
   ]
  },
  {
   "cell_type": "code",
   "execution_count": 64,
   "id": "91c1ebd4-80d4-4c5d-9a2f-2398f8d4b000",
   "metadata": {},
   "outputs": [
    {
     "data": {
      "text/plain": [
       "177*x^2 + 418*x + 178"
      ]
     },
     "execution_count": 64,
     "metadata": {},
     "output_type": "execute_result"
    }
   ],
   "source": [
    "algdep(alpha.n(digits=9), 2)"
   ]
  },
  {
   "cell_type": "code",
   "execution_count": 50,
   "id": "7de6ddcc-30ba-4c04-b592-539879576329",
   "metadata": {},
   "outputs": [
    {
     "data": {
      "text/plain": [
       "(-549, -722, -199)"
      ]
     },
     "execution_count": 50,
     "metadata": {},
     "output_type": "execute_result"
    }
   ],
   "source": [
    "A1, B1, C1"
   ]
  },
  {
   "cell_type": "code",
   "execution_count": 66,
   "id": "1820d010-5fbf-4c27-990c-f6c410069c2a",
   "metadata": {},
   "outputs": [
    {
     "data": {
      "text/plain": [
       "x^20 + x^19 - x^18 + 4*x^16 + x^15 - 2*x^14 + x^11 - 9*x^10 + x^9 + x^8 - x^7 - x^5 + x^4 - x^3 - 3*x^2 - x - 1"
      ]
     },
     "execution_count": 66,
     "metadata": {},
     "output_type": "execute_result"
    }
   ],
   "source": [
    "P = PolynomialRing(ZZ, \"x\")\n",
    "x = P.gens()[0]\n",
    "\n",
    "f = P.random_element(degree=20)\n",
    "f"
   ]
  },
  {
   "cell_type": "code",
   "execution_count": 69,
   "id": "7c379ee3-43c0-42ee-985b-17c73413859d",
   "metadata": {},
   "outputs": [
    {
     "data": {
      "text/plain": [
       "[(-1.392483917056078243261033537115528300927327576424807400494966567025138942664689089401400342145128701898610322427770751395552751255292506261743089016710366866650394475464195438638927660914628007846919768885456478275678644221248416500274675650521501417434062719807925359327876108856577518231915145246652958319,\n",
       "  1),\n",
       " (1.113127921232887542673133690727336575432454749978975883420487684288824402307610105372864487648299856693628388581779306097033615263539115457746656568113966057418571561337220036715099348237700855094221502659912021254854975939797846593641199361049289418025617897679259111880867912193330729361711230118677164594,\n",
       "  1)]"
      ]
     },
     "execution_count": 69,
     "metadata": {},
     "output_type": "execute_result"
    }
   ],
   "source": [
    "f.change_ring(RealField(1024)).roots()"
   ]
  },
  {
   "cell_type": "code",
   "execution_count": 75,
   "id": "b2453170-47e3-4ff2-a40a-61a6359ae1d9",
   "metadata": {},
   "outputs": [
    {
     "data": {
      "text/plain": [
       "x^18 + 2*x^17 - 2*x^15 + 2*x^14 + 5*x^13 + x^12 - 4*x^11 - 5*x^10 - 4*x^8 - 3*x^7 + 2*x^6 + 4*x^5 + 2*x^4 - 3*x^3 - 4*x^2 - 2*x - 1"
      ]
     },
     "execution_count": 75,
     "metadata": {},
     "output_type": "execute_result"
    }
   ],
   "source": [
    "y = -1.392483917056078243261033537115528300927327576424807400494966567025138942664689089401400342145128701898610322427770751395552751255292506261743089016710366866650394475464195438638927660914628007846919768885456478275678644221248416500274675650521501417434062719807925359327876108856577518231915145246652958319\n",
    "algdep(y, 30)"
   ]
  },
  {
   "cell_type": "code",
   "execution_count": 77,
   "id": "87ec3e03-860c-471a-b5e1-c026dfb1032e",
   "metadata": {},
   "outputs": [
    {
     "data": {
      "text/plain": [
       "(x^2 - x + 1) * (x^18 + 2*x^17 - 2*x^15 + 2*x^14 + 5*x^13 + x^12 - 4*x^11 - 5*x^10 - 4*x^8 - 3*x^7 + 2*x^6 + 4*x^5 + 2*x^4 - 3*x^3 - 4*x^2 - 2*x - 1)"
      ]
     },
     "execution_count": 77,
     "metadata": {},
     "output_type": "execute_result"
    }
   ],
   "source": [
    "f1 = x^20 + x^19 - x^18 + 4*x^16 + x^15 - 2*x^14 + x^11 - 9*x^10 + x^9 + x^8 - x^7 - x^5 + x^4 - x^3 - 3*x^2 - x - 1\n",
    "f2 = x^18 + 2*x^17 - 2*x^15 + 2*x^14 + 5*x^13 + x^12 - 4*x^11 - 5*x^10 - 4*x^8 - 3*x^7 + 2*x^6 + 4*x^5 + 2*x^4 - 3*x^3 - 4*x^2 - 2*x - 1\n",
    "\n",
    "factor(f1)"
   ]
  },
  {
   "cell_type": "markdown",
   "id": "83f67c5c-d090-4d18-b33f-20fe502a25ea",
   "metadata": {},
   "source": [
    "$p \\equiv 1 \\pmod{4}$\n",
    "\n",
    "\n",
    "$p = a^2 + b^2$"
   ]
  },
  {
   "cell_type": "code",
   "execution_count": 78,
   "id": "195bda1a-5be7-4d10-b642-a7898472d063",
   "metadata": {},
   "outputs": [
    {
     "data": {
      "text/plain": [
       "1"
      ]
     },
     "execution_count": 78,
     "metadata": {},
     "output_type": "execute_result"
    }
   ],
   "source": [
    "p = random_prime(2**1024)\n",
    "p % 4"
   ]
  },
  {
   "cell_type": "code",
   "execution_count": 79,
   "id": "698dba85-7045-4a60-8a11-a0b7b4a30c1b",
   "metadata": {},
   "outputs": [
    {
     "data": {
      "text/plain": [
       "(-I0) * (-7684631997254916936887051161852412238540622995545714006313245123226634996980980127774584748272749941223639348974637644402086622771575060793733509466573061*I0 - 8415300635358357802416714107351696913441662750367760475677838441291691250732016638154190874520778056864228249355408746696124208933287536544334108633414264) * (-8415300635358357802416714107351696913441662750367760475677838441291691250732016638154190874520778056864228249355408746696124208933287536544334108633414264*I0 - 7684631997254916936887051161852412238540622995545714006313245123226634996980980127774584748272749941223639348974637644402086622771575060793733509466573061)"
      ]
     },
     "execution_count": 79,
     "metadata": {},
     "output_type": "execute_result"
    }
   ],
   "source": [
    "ZZ[I](p).factor()"
   ]
  },
  {
   "cell_type": "code",
   "execution_count": 80,
   "id": "c4ec9f9d-a935-4d43-9b89-44aa63a81bdd",
   "metadata": {},
   "outputs": [
    {
     "data": {
      "text/plain": [
       "True"
      ]
     },
     "execution_count": 80,
     "metadata": {},
     "output_type": "execute_result"
    }
   ],
   "source": [
    "a = 7684631997254916936887051161852412238540622995545714006313245123226634996980980127774584748272749941223639348974637644402086622771575060793733509466573061\n",
    "b = 8415300635358357802416714107351696913441662750367760475677838441291691250732016638154190874520778056864228249355408746696124208933287536544334108633414264\n",
    "\n",
    "a**2 + b**2 == p"
   ]
  },
  {
   "cell_type": "markdown",
   "id": "afc97e7d-960c-471f-92c6-b7fd8e77450f",
   "metadata": {},
   "source": [
    "$p = (a + b * I) * (a - b * I)$\n",
    "\n",
    "$p = a^2 + b^2$\n",
    "\n",
    "\n",
    "$a^2 \\equiv -b^2 \\pmod{p}$\n",
    "\n",
    "# p = 4 * k + 1 => p - 1 = 4 * k \n",
    "\n",
    "$x^4 \\equiv 1 \\pmod{p}$\n",
    "\n",
    "$y = x^2$\n",
    "\n",
    "$y^2 \\equiv 1 \\pmod{p}$\n",
    "\n",
    "$y = 1, -1$\n",
    "\n",
    "$x^2 = 1, -1$\n",
    "\n",
    "\n",
    "$\\lambda^2 \\equiv -1 \\pmod{p}$"
   ]
  },
  {
   "cell_type": "code",
   "execution_count": 82,
   "id": "aad2bbf6-8365-42cb-b142-3266a86323e1",
   "metadata": {},
   "outputs": [
    {
     "data": {
      "text/plain": [
       "1"
      ]
     },
     "execution_count": 82,
     "metadata": {},
     "output_type": "execute_result"
    }
   ],
   "source": [
    "p = random_prime(2**1024)\n",
    "p % 4"
   ]
  },
  {
   "cell_type": "code",
   "execution_count": 89,
   "id": "0517f448-c696-40a3-b496-5877f1c9b7a9",
   "metadata": {},
   "outputs": [
    {
     "data": {
      "text/plain": [
       "-1"
      ]
     },
     "execution_count": 89,
     "metadata": {},
     "output_type": "execute_result"
    }
   ],
   "source": [
    "lambda_ = int(GF(p)(-1).sqrt())\n",
    "int(lambda_**2 % p) - p"
   ]
  },
  {
   "cell_type": "markdown",
   "id": "2ccd2cf4-124b-417a-a76a-0089c9691857",
   "metadata": {},
   "source": [
    "$a^2 = \\lambda^2 * b^2 \\pmod{p}$\n",
    "\n",
    "$(a - \\lambda * b) * (a + \\lambda * b) \\equiv 0 \\pmod{p}$\n",
    "\n",
    "$a + \\lambda * b = K * p$\n",
    "\n",
    "$$M = \\begin{pmatrix}\n",
    "p & 0  \\\\\n",
    "\\lambda & 1 \\\\\n",
    "\\end{pmatrix}$$\n",
    "\n",
    "$\\vec{v} = (-K, b)$\n",
    "\n",
    "$\\vec{v} * M = (-K * p + b * \\lambda, b) = (-a, b)$\n"
   ]
  },
  {
   "cell_type": "code",
   "execution_count": 90,
   "id": "5e15950c-16ff-4d70-9be4-3f2184f1eaf6",
   "metadata": {},
   "outputs": [
    {
     "data": {
      "text/plain": [
       "[ 9551652113743534678591590926437813867505447592962919746120364340259774329777822540472685133026531845298736231765275153951604316876807643789167574160172833 -2285801599441003287839686338321504795397752105917874847028801518550206612971473338273111878248375104860243184175656365511138085539800105322259874104585270]\n",
       "[-2285801599441003287839686338321504795397752105917874847028801518550206612971473338273111878248375104860243184175656365511138085539800105322259874104585270 -9551652113743534678591590926437813867505447592962919746120364340259774329777822540472685133026531845298736231765275153951604316876807643789167574160172833]"
      ]
     },
     "execution_count": 90,
     "metadata": {},
     "output_type": "execute_result"
    }
   ],
   "source": [
    "M = Matrix([[p, 0], [lambda_, 1]])\n",
    "L = M.LLL()\n",
    "L"
   ]
  },
  {
   "cell_type": "code",
   "execution_count": 94,
   "id": "d1f70066-34d8-4643-8556-9458665ad64f",
   "metadata": {},
   "outputs": [
    {
     "data": {
      "text/plain": [
       "True"
      ]
     },
     "execution_count": 94,
     "metadata": {},
     "output_type": "execute_result"
    }
   ],
   "source": [
    "L[1][0]**2 + L[1][1]**2 == p"
   ]
  },
  {
   "cell_type": "code",
   "execution_count": 51,
   "id": "b484b794-587b-4eaa-9d62-b393c8c92ac0",
   "metadata": {},
   "outputs": [
    {
     "name": "stdout",
     "output_type": "stream",
     "text": [
      "10722618445046332019630095159825996462547249936533905003511217559601907481149357378841931114500618103577182757087522994479252484281003469890851023511418302 -2526416656172421626250254233512507753910792058439296939334814519744006268649304463402410825998462587831575530263158559423428722436816328449780801387605753\n",
      "True\n"
     ]
    }
   ],
   "source": [
    "p = random_prime(2**1024)\n",
    "while p % 4 == 3:\n",
    "    p = random_prime(2**1024)\n",
    "\n",
    "alpha = int(GF(p)(-1).sqrt())\n",
    "\n",
    "M = Matrix([[p, 0], [alpha, 1]]).LLL()\n",
    "\n",
    "a, b = M[0]\n",
    "\n",
    "print(a, b)\n",
    "print(a**2 + b**2 == p)"
   ]
  },
  {
   "cell_type": "code",
   "execution_count": null,
   "id": "6ea0970d-ddf3-4b8e-99a7-e6c1c054a5cf",
   "metadata": {},
   "outputs": [],
   "source": []
  },
  {
   "cell_type": "code",
   "execution_count": null,
   "id": "343dc59d-a29d-44d0-aa0a-932ac48c4cca",
   "metadata": {},
   "outputs": [],
   "source": []
  }
 ],
 "metadata": {
  "kernelspec": {
   "display_name": "SageMath 10.5",
   "language": "sage",
   "name": "sagemath"
  },
  "language_info": {
   "codemirror_mode": {
    "name": "ipython",
    "version": 3
   },
   "file_extension": ".py",
   "mimetype": "text/x-python",
   "name": "python",
   "nbconvert_exporter": "python",
   "pygments_lexer": "ipython3",
   "version": "3.13.2"
  }
 },
 "nbformat": 4,
 "nbformat_minor": 5
}
