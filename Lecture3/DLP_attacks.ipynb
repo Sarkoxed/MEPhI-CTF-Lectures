{
 "cells": [
  {
   "cell_type": "markdown",
   "id": "a247324b-7260-414d-b00b-9e13456313a9",
   "metadata": {},
   "source": [
    "# Быстрое возведение в степень(mul sqr)\n",
    "\n",
    "$x^{17} = (((x^2)^2)^2)^2 * x$, `17 = 0b10001`\n",
    "\n",
    "$x^{13} = ((x^2 * x)^2)^2 * x$, `13 = 0b1101`\n",
    "\n",
    "\n",
    "С другой стороны\n",
    "\n",
    "$x^{17} = x * (x^8)^2$"
   ]
  },
  {
   "cell_type": "code",
   "execution_count": 3,
   "id": "c0a6e5f5-af99-4644-8504-133e4e294622",
   "metadata": {},
   "outputs": [
    {
     "data": {
      "text/plain": [
       "83026608548738245453917705950273588408898877393849284746955644504860381267579"
      ]
     },
     "execution_count": 3,
     "metadata": {},
     "output_type": "execute_result"
    }
   ],
   "source": [
    "p = random_prime(2**256)\n",
    "a = randint(1, p - 1)\n",
    "e = randint(1, p - 1)\n",
    "e"
   ]
  },
  {
   "cell_type": "code",
   "execution_count": 5,
   "id": "506ffcbf-705f-4980-a2ff-6774b8dab06b",
   "metadata": {},
   "outputs": [],
   "source": [
    "def fast_pow(x, n):\n",
    "    res = x\n",
    "    for i in bin(n)[2:][1:]:\n",
    "        res = res^2\n",
    "        if i == '1':\n",
    "            res *= x\n",
    "    return res        \n",
    "\n",
    "def rec_fast_pow(x, n):\n",
    "    if n == 1:\n",
    "        return x\n",
    "    if n < 0:\n",
    "        return rec_fast_pow(1/x, -n)\n",
    "\n",
    "    if n & 1 == 0:\n",
    "        return rec_fast_pow(x, n//2)^2\n",
    "    else:\n",
    "        return x * rec_fast_pow(x, n//2)^2"
   ]
  },
  {
   "cell_type": "code",
   "execution_count": 6,
   "id": "155c4bf6-7118-4bad-b5f2-7df685f6a8db",
   "metadata": {},
   "outputs": [],
   "source": [
    "p = random_prime(2**256)\n",
    "G = GF(p)\n",
    "for i in range(10000):\n",
    "    a = G.random_element()\n",
    "    e = randint(1, p-1)\n",
    "    assert a^e == fast_pow(a, e)\n",
    "    assert a^e == rec_fast_pow(a, e)"
   ]
  },
  {
   "cell_type": "markdown",
   "id": "0d86dd31-5147-4a68-804a-7a58cbd5a747",
   "metadata": {},
   "source": [
    "# DLP\n",
    "\n",
    "$g^x = h, x - ?$"
   ]
  },
  {
   "cell_type": "markdown",
   "id": "7f633a33-6e85-41be-8d3a-f1f4b220f174",
   "metadata": {},
   "source": [
    "# BSGS\n",
    "\n",
    "$n = ord(g)$\n",
    "\n",
    "$m \\approx \\sqrt{n}$\n",
    "\n",
    "$Gs = [e, g, g^2, g^3, ..., g^m]$\n",
    "\n",
    "$Hs = [h * g^{-m}, h * g^{-2m},..., h * g^{-m^2}]$\n",
    "\n",
    "$g^i = h * g^{-j m} \\implies g^{i + j m} = h \\implies x = i + j m \\pmod{ord(g)}$"
   ]
  },
  {
   "cell_type": "code",
   "execution_count": 8,
   "id": "8070cc2f-eaa1-44d4-bcf9-9286a2ff829a",
   "metadata": {},
   "outputs": [],
   "source": [
    "def babystep_giantstep(g, h):\n",
    "    n = g.multiplicative_order()\n",
    "    m = 1 + ceil(sqrt(n))\n",
    "\n",
    "    lg = {}\n",
    "    gi = 1\n",
    "    for i in range(m):\n",
    "        lg[gi] = i\n",
    "        gi *= g\n",
    "\n",
    "    invg = g ** (-m)\n",
    "    hi = h\n",
    "    for j in range(m + 1):\n",
    "        if hi in lg:\n",
    "            i = lg[hi]\n",
    "            return i + j * m\n",
    "        hi *= invg"
   ]
  },
  {
   "cell_type": "code",
   "execution_count": 9,
   "id": "843ada5d-e00e-4076-b2c8-d4cf3e0116bc",
   "metadata": {},
   "outputs": [
    {
     "data": {
      "text/plain": [
       "157738295944"
      ]
     },
     "execution_count": 9,
     "metadata": {},
     "output_type": "execute_result"
    }
   ],
   "source": [
    "p = random_prime(2**40)\n",
    "G = GF(p)\n",
    "g = G.random_element()\n",
    "x = randint(1, p - 1)\n",
    "h = g^x\n",
    "babystep_giantstep(g, h)"
   ]
  },
  {
   "cell_type": "code",
   "execution_count": 10,
   "id": "684b55d1-ca69-491c-8c09-de3b2ca06edc",
   "metadata": {},
   "outputs": [
    {
     "data": {
      "text/plain": [
       "157738295944"
      ]
     },
     "execution_count": 10,
     "metadata": {},
     "output_type": "execute_result"
    }
   ],
   "source": [
    "x"
   ]
  },
  {
   "cell_type": "markdown",
   "id": "311750d3-7c36-4897-8bdd-4a90435638ed",
   "metadata": {},
   "source": [
    "# Парадокс дней рождений\n",
    "\n",
    "Допустим у вас есть набор из $n$ элементов. Какова вероятность того, что выбирав наугад $m$ элементов, хотя бы два из них будут одинаковые?\n",
    "\n",
    "Пусть $P(n, m)$ - Вероятность того, что хотя бы два элемента совпадают, а $P_1(n, m)$ - не совпадает ни один элемент. $P(n, m) = 1 - P_1(n, m)$\n",
    "\n",
    "$P_1(n, m) = (1 - \\frac{1}{n})(1 - \\frac{2}{n})(1-\\frac{3}{n})...(1-\\frac{m-1}{n})$\n",
    "\n",
    "Из МатАна мы знаем, что $1 - x \\approx e^{-x}, x \\to 0$\n",
    "\n",
    "Тогда интуитивно $P_1(n, m) \\approx e^{-\\frac{1}{n}} * ... * e^{-\\frac{m}{n}} = e^{-\\frac{1 + 2 + ... + m-1}{n}}$\n",
    "\n",
    "$P_1(n, m) \\approx e^{-\\frac{m^2}{n}} = e^{-\\lambda}$\n",
    "\n",
    "$P(n, m) = 1 - e^{-\\lambda}$\n",
    "\n",
    "Еcли возьмем $\\lambda = 3$, то получим $m = \\sqrt{3 * n}$"
   ]
  },
  {
   "cell_type": "code",
   "execution_count": 19,
   "id": "14e843c3-50ad-4d34-a814-279f8ef57135",
   "metadata": {},
   "outputs": [
    {
     "data": {
      "text/plain": [
       "0.950212931632136"
      ]
     },
     "execution_count": 19,
     "metadata": {},
     "output_type": "execute_result"
    }
   ],
   "source": [
    "1 - exp(-3.0)"
   ]
  },
  {
   "cell_type": "code",
   "execution_count": 26,
   "id": "26659085-ee66-4e49-a5a5-466a054c7afb",
   "metadata": {},
   "outputs": [
    {
     "data": {
      "text/plain": [
       "(0.999159575965157, 0.999998521758769)"
      ]
     },
     "execution_count": 26,
     "metadata": {},
     "output_type": "execute_result"
    }
   ],
   "source": [
    "n = 365\n",
    "m = 70\n",
    "(1 - prod(1 - j / n for j in range(m))).n(), 1 - exp(-70^2 / 365.)"
   ]
  },
  {
   "cell_type": "markdown",
   "id": "2fac518b-ce08-4206-9b39-bc15be1588ac",
   "metadata": {},
   "source": [
    "gs = $g^i$\n",
    "\n",
    "hs = $h * g^j$"
   ]
  },
  {
   "cell_type": "code",
   "execution_count": 27,
   "id": "4b6293e3-8fd8-4c58-904a-59e0eea27329",
   "metadata": {},
   "outputs": [],
   "source": [
    "def birthday_algo(g, h):\n",
    "    n = g.multiplicative_order()\n",
    "    m = floor(3 * sqrt(n))\n",
    "\n",
    "    gs = {}\n",
    "    hs = {}\n",
    "\n",
    "    for i in range(m):\n",
    "        a = randint(0, n)\n",
    "        ga = pow(g, a)\n",
    "        gs[ga] = a\n",
    "\n",
    "        if ga in hs:\n",
    "            return a - hs[ga]  # not modded\n",
    "\n",
    "        a = randint(0, n)\n",
    "        ha = pow(g, a) * h\n",
    "        hs[ha] = a\n",
    "\n",
    "        if ha in gs:\n",
    "            return gs[ha] - a"
   ]
  },
  {
   "cell_type": "code",
   "execution_count": 28,
   "id": "4221a19f-ddd9-4a9e-baa9-3b30fbd63ff5",
   "metadata": {},
   "outputs": [
    {
     "data": {
      "text/plain": [
       "-633645078361"
      ]
     },
     "execution_count": 28,
     "metadata": {},
     "output_type": "execute_result"
    }
   ],
   "source": [
    "p = random_prime(2**40)\n",
    "G = GF(p)\n",
    "g = G.random_element()\n",
    "x = randint(1, p - 1)\n",
    "h = g^x\n",
    "birthday_algo(g, h)"
   ]
  },
  {
   "cell_type": "code",
   "execution_count": 30,
   "id": "53cae72c-0d34-4643-9363-1bfc184b69ab",
   "metadata": {},
   "outputs": [
    {
     "data": {
      "text/plain": [
       "(623632244814, 623632244814)"
      ]
     },
     "execution_count": 30,
     "metadata": {},
     "output_type": "execute_result"
    }
   ],
   "source": [
    "pow(g, -633645078361, p), h"
   ]
  },
  {
   "attachments": {
    "16ce6d62-a44c-4722-acac-4e1c3c5be22e.png": {
     "image/png": "[encoded data removed]"
    },
    "9327cd8c-afaf-4f99-abc0-0f3005786d72.png": {
     "image/png": "[encoded data removed]"
    }
   },
   "cell_type": "markdown",
   "id": "1e848073-7ffb-4e60-998d-8fd2544f7cad",
   "metadata": {},
   "source": [
    "# Поллард\n",
    "\n",
    "![image.png](attachment:9327cd8c-afaf-4f99-abc0-0f3005786d72.png)![image.png](attachment:16ce6d62-a44c-4722-acac-4e1c3c5be22e.png)\n",
    "\n",
    "\n",
    "$x_i = f(x_{i - 1})$\n",
    "\n",
    "$y_i = f(f(y_{i - 1}))$\n",
    "\n",
    "\n",
    "\n",
    "$x_i = g^{a_i} * h^{b_i}$\n",
    "\n",
    "$y_i = g^{c_i} * h^{d_i}$\n",
    "\n",
    "$g^{a_i - c_i} = h^{b_i - d_i}$\n",
    "\n",
    "$a_i - c_i = x * (b_i - d_i) \\pmod{ord(g)}$\n"
   ]
  },
  {
   "cell_type": "code",
   "execution_count": 41,
   "id": "fbd7dc85-fcf6-497c-8e7f-c22c7e33bd1f",
   "metadata": {},
   "outputs": [],
   "source": [
    "def getPowers(a, x, g, h, p, k=1):\n",
    "    ax, bx = a\n",
    "\n",
    "    N = p\n",
    "    if int(x) < N // 3:\n",
    "        ax += 1\n",
    "        x *= g\n",
    "    elif int(x) >= N // 3 and int(x) < 2 * N // 3:\n",
    "        ax *= 2\n",
    "        bx *= 2\n",
    "        x = x**2\n",
    "    else:\n",
    "        bx += 1\n",
    "        x *= h\n",
    "\n",
    "    return (ax, bx), x\n",
    "\n",
    "\n",
    "def pollard_rho(g, h, p, ord):\n",
    "    N = ord\n",
    "    Pm = Zmod(N)\n",
    "\n",
    "    ex = (Pm(0), Pm(0)) # ex_0 = power(g), ex_1 = h power(g)\n",
    "    ey = (Pm(0), Pm(0)) # ey_0 = power(g), ey_1 = h power(g)\n",
    "\n",
    "    G = GF(p)\n",
    "    x, y = G(1), G(1)\n",
    "    while True:\n",
    "        ex, x = getPowers(ex, x, g, h, p)\n",
    "\n",
    "        ey, y = getPowers(ey, y, g, h, p)\n",
    "        ey, y = getPowers(ey, y, g, h, p)\n",
    "\n",
    "        if x == y:\n",
    "            break\n",
    "\n",
    "    u = int(ex[0] - ey[0])\n",
    "    v = int(ey[1] - ex[1])\n",
    "    d = gcd(v, N)\n",
    "    assert u % d == 0\n",
    "\n",
    "    u //= d\n",
    "    N //= d\n",
    "    v //= d\n",
    "\n",
    "    res = (pow(v, -1, N) * u) % N\n",
    "    dlp = []\n",
    "    for k in range(d):\n",
    "        dlp.append(res + k * N)\n",
    "\n",
    "    return dlp"
   ]
  },
  {
   "cell_type": "code",
   "execution_count": 42,
   "id": "1836c91b-0792-40ea-9d4f-09e4d8e69af8",
   "metadata": {},
   "outputs": [
    {
     "data": {
      "text/plain": [
       "[1160803442, 61056682715, 120952561988]"
      ]
     },
     "execution_count": 42,
     "metadata": {},
     "output_type": "execute_result"
    }
   ],
   "source": [
    "p = random_prime(2**40)\n",
    "G = GF(p)\n",
    "g = G.random_element()\n",
    "x = randint(1, p - 1)\n",
    "h = g^x\n",
    "pollard_rho(g, h, p, g.multiplicative_order())"
   ]
  },
  {
   "cell_type": "code",
   "execution_count": 45,
   "id": "4ff2f5d6-0cbf-4332-bf18-60eee7f82af7",
   "metadata": {},
   "outputs": [
    {
     "data": {
      "text/plain": [
       "(13975830685, 8497546240)"
      ]
     },
     "execution_count": 45,
     "metadata": {},
     "output_type": "execute_result"
    }
   ],
   "source": []
  },
  {
   "cell_type": "markdown",
   "id": "28d83f5f-1dba-404f-9c63-e26b1add7ddc",
   "metadata": {},
   "source": [
    "# Полиг-Хеллман\n",
    "\n",
    "$ord(g) = p_1^{e_1} * p_2^{e_2} * ...$\n",
    "\n",
    "$g_1 = g^{\\frac{ord(g)}{p_1^{e_1}}}$\n",
    "\n",
    "$ord(g_1) = p_1^{e_1}$\n",
    "\n",
    "$g_1^x = h_1$\n",
    "\n",
    "$x \\pmod{p_1^{e_1}} = x_{(1, 1)} + x_{(1, 2)} * p + x_{(1, 3)} * p^2 + ...$\n",
    "\n",
    "$h_1 = g_1^{x_{(1, 1)} + x_{(1, 2)} * p + x_{(1, 3)} * p^2 + ...}$\n",
    "\n",
    "$g_{(1, 1)} = g_1^{p_1^{e_1 - 1}}, ord(g_{(1, 1)}) = p_1$ - Находим как-нибудь $x_{(1, 1)}$. \n",
    "\n",
    "\n",
    "$h_1 * g_1^{-x_{(1, 1)}} = (g_1^{p_1})^{x_{(1, 2)} + ..}$"
   ]
  },
  {
   "cell_type": "markdown",
   "id": "2af65047-5b55-4774-a6c2-6ff6e14219a4",
   "metadata": {},
   "source": [
    "$x_{(1, 1)} * p_1^{e_1 -1} + p_1^{e_1} * (x_{(1, 2)} + ... )$\n",
    "\n",
    "$g_{(1, 1)} = g_1^{x_{(1, 1)} p_1^{e_1 -1}} * g_1^{p_1^{e_1} * (x_{(1, 2)} + ... }$\n",
    "\n",
    "$ord(g_{(1, 1)}) = p_1$"
   ]
  },
  {
   "cell_type": "code",
   "execution_count": 58,
   "id": "f4d1df13-470f-40d5-b085-c87e87e462c2",
   "metadata": {},
   "outputs": [
    {
     "data": {
      "text/plain": [
       "2 * 44201 * 47701"
      ]
     },
     "execution_count": 58,
     "metadata": {},
     "output_type": "execute_result"
    }
   ],
   "source": [
    "p = 4216863803\n",
    "G = GF(p)\n",
    "g = G(2)\n",
    "x = randint(1, p - 1)\n",
    "h = g^x\n",
    "factor(p - 1)"
   ]
  },
  {
   "cell_type": "code",
   "execution_count": 67,
   "id": "bf082dc5-9c29-4e12-a118-eaedfd84dbde",
   "metadata": {},
   "outputs": [
    {
     "data": {
      "text/plain": [
       "4122625221"
      ]
     },
     "execution_count": 67,
     "metadata": {},
     "output_type": "execute_result"
    }
   ],
   "source": [
    "p1, p2, p3 = 2, 44201, 47701\n",
    "\n",
    "g1 = g^((p - 1) // p1)\n",
    "h1 = h^((p - 1) // p1)\n",
    "# x mod(2) = 1\n",
    "\n",
    "g2 = g^((p - 1) // p2)\n",
    "h2 = h^((p - 1) // p2)\n",
    "babystep_giantstep(g2, h2)\n",
    "# x mod(44201) = 42152\n",
    "\n",
    "\n",
    "g3 = g^((p - 1) // p3)\n",
    "h3 = h^((p - 1) // p3)\n",
    "babystep_giantstep(g3, h3)\n",
    "# x mod(47701) = 18595\n",
    "crt([1, 42152, 18595], [p1, p2, p3])"
   ]
  },
  {
   "cell_type": "code",
   "execution_count": 69,
   "id": "83d7787f-fa7c-42e7-911f-c68ebfa59397",
   "metadata": {},
   "outputs": [],
   "source": [
    "while True:\n",
    "    q = random_prime(2**255)\n",
    "    p = 1 + 2 * q\n",
    "    if is_prime(p):\n",
    "        break"
   ]
  },
  {
   "cell_type": "code",
   "execution_count": 70,
   "id": "5c6d5a49-2fe3-40d5-ad54-94e9d2e534c5",
   "metadata": {},
   "outputs": [
    {
     "data": {
      "text/plain": [
       "(95894242212572827485371794337469066798087882200658739962461694388629020230079,\n",
       " 2 * 47947121106286413742685897168734533399043941100329369981230847194314510115039)"
      ]
     },
     "execution_count": 70,
     "metadata": {},
     "output_type": "execute_result"
    }
   ],
   "source": [
    "p, factor(p - 1)"
   ]
  },
  {
   "cell_type": "code",
   "execution_count": 68,
   "id": "d7fedb95-677a-43ce-a176-cf58ff38eb76",
   "metadata": {},
   "outputs": [
    {
     "data": {
      "text/plain": [
       "(1018983300, 1018983300)"
      ]
     },
     "execution_count": 68,
     "metadata": {},
     "output_type": "execute_result"
    }
   ],
   "source": [
    "g^4122625221, h"
   ]
  },
  {
   "cell_type": "code",
   "execution_count": 72,
   "id": "6544f23f-a9ec-42da-ab7c-1444ef1c41ff",
   "metadata": {},
   "outputs": [
    {
     "data": {
      "text/plain": [
       "2 * 52313^2 * 56897"
      ]
     },
     "execution_count": 72,
     "metadata": {},
     "output_type": "execute_result"
    }
   ],
   "source": [
    "p = 311414346572387\n",
    "factor(p - 1)"
   ]
  },
  {
   "cell_type": "code",
   "execution_count": 75,
   "id": "8cc45699-159b-4fea-9cc5-962e3d68ed63",
   "metadata": {},
   "outputs": [],
   "source": [
    "G = GF(p)\n",
    "g = G(2)\n",
    "x = randint(1, p - 1)\n",
    "h = g^x"
   ]
  },
  {
   "cell_type": "code",
   "execution_count": 87,
   "id": "79b538e9-fbad-4858-b1ae-99a77093dc77",
   "metadata": {},
   "outputs": [
    {
     "data": {
      "text/plain": [
       "4866"
      ]
     },
     "execution_count": 87,
     "metadata": {},
     "output_type": "execute_result"
    }
   ],
   "source": [
    "q = 52313\n",
    "g_1 = g^((p - 1) // (2 * 56897))\n",
    "h_1 = h^((p - 1) // (2 * 56897))\n",
    "\n",
    "g_2 = g_1^q\n",
    "h_2 = h_1^q\n",
    "\n",
    "x_0 = babystep_giantstep(g_2, h_2)\n",
    "\n",
    "g_3 = g_1^p\n",
    "h_3 = h_1 * g_1^(-x_0)"
   ]
  },
  {
   "cell_type": "code",
   "execution_count": 47,
   "id": "3cdb5121-c5f7-4c2e-a57f-661058a8ae54",
   "metadata": {},
   "outputs": [],
   "source": [
    "G = GF(p)\n",
    "g = G.multiplicative_generator()"
   ]
  },
  {
   "cell_type": "code",
   "execution_count": 50,
   "id": "0c797934-54aa-4385-b1dc-c9fe9f9e0aad",
   "metadata": {},
   "outputs": [
    {
     "data": {
      "text/plain": [
       "42110834038632"
      ]
     },
     "execution_count": 50,
     "metadata": {},
     "output_type": "execute_result"
    }
   ],
   "source": [
    "g^(g.multiplicative_order() // 52313)"
   ]
  },
  {
   "cell_type": "code",
   "execution_count": 51,
   "id": "798af1f7-d610-4b59-9071-68c1728c6825",
   "metadata": {},
   "outputs": [
    {
     "data": {
      "text/plain": [
       "52313"
      ]
     },
     "execution_count": 51,
     "metadata": {},
     "output_type": "execute_result"
    }
   ],
   "source": [
    "G(42110834038632).multiplicative_order()"
   ]
  },
  {
   "cell_type": "code",
   "execution_count": 53,
   "id": "dd94d421-7677-4913-9907-69cf93847ee2",
   "metadata": {},
   "outputs": [
    {
     "data": {
      "text/plain": [
       "49"
      ]
     },
     "execution_count": 53,
     "metadata": {},
     "output_type": "execute_result"
    }
   ],
   "source": [
    "p.bit_length()"
   ]
  },
  {
   "cell_type": "code",
   "execution_count": 71,
   "id": "0e1efd9e-1b8f-4abe-b350-f6e5ac9cd98d",
   "metadata": {},
   "outputs": [
    {
     "data": {
      "text/plain": [
       "2 * 17137 * 31337 * 137321 * 139609 * 149771 * 157649 * 157721 * 159623 * 164183 * 169501 * 170473 * 186871 * 188687 * 203669 * 214219"
      ]
     },
     "execution_count": 71,
     "metadata": {},
     "output_type": "execute_result"
    }
   ],
   "source": [
    "p = 89330422448946086031679413136848658460951672937510146565627338919634303319603\n",
    "factor(p - 1)"
   ]
  },
  {
   "cell_type": "code",
   "execution_count": null,
   "id": "d2076166-628c-4287-b946-c3e99f0fda28",
   "metadata": {},
   "outputs": [],
   "source": []
  },
  {
   "cell_type": "code",
   "execution_count": 92,
   "id": "a3f95c44-cdd5-494d-a2fc-3a17a302f075",
   "metadata": {},
   "outputs": [
    {
     "data": {
      "text/plain": [
       "(66122291902745, 66122291902745)"
      ]
     },
     "execution_count": 92,
     "metadata": {},
     "output_type": "execute_result"
    }
   ],
   "source": [
    "discrete_log(h, g), x"
   ]
  },
  {
   "cell_type": "code",
   "execution_count": 93,
   "id": "d8634167-a2af-4f84-9138-05b035d78bf6",
   "metadata": {},
   "outputs": [
    {
     "data": {
      "text/plain": [
       "66122291902745"
      ]
     },
     "execution_count": 93,
     "metadata": {},
     "output_type": "execute_result"
    }
   ],
   "source": [
    "h.log(g)"
   ]
  },
  {
   "cell_type": "code",
   "execution_count": null,
   "id": "80945d8e-25ce-4f04-8970-06215ec4b9d4",
   "metadata": {},
   "outputs": [],
   "source": []
  }
 ],
 "metadata": {
  "kernelspec": {
   "display_name": "SageMath 10.2",
   "language": "sage",
   "name": "sagemath"
  },
  "language_info": {
   "codemirror_mode": {
    "name": "ipython",
    "version": 3
   },
   "file_extension": ".py",
   "mimetype": "text/x-python",
   "name": "python",
   "nbconvert_exporter": "python",
   "pygments_lexer": "ipython3",
   "version": "3.11.7"
  }
 },
 "nbformat": 4,
 "nbformat_minor": 5
}
