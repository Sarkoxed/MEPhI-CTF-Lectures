{
 "cells": [
  {
   "cell_type": "code",
   "execution_count": 1,
   "id": "a182c5af-1013-42f6-99c4-a9e25332b251",
   "metadata": {},
   "outputs": [],
   "source": [
    "p = random_prime(2**128)"
   ]
  },
  {
   "cell_type": "code",
   "execution_count": 2,
   "id": "379c6925-3fd1-4f94-90ea-1d800061489c",
   "metadata": {},
   "outputs": [
    {
     "data": {
      "text/plain": [
       "34743630004704959058137809511296847507"
      ]
     },
     "execution_count": 2,
     "metadata": {},
     "output_type": "execute_result"
    }
   ],
   "source": [
    "p"
   ]
  },
  {
   "cell_type": "code",
   "execution_count": 3,
   "id": "32967b85-89c8-4f2c-ba8d-11cdd87b4e98",
   "metadata": {},
   "outputs": [
    {
     "data": {
      "text/plain": [
       "2 * 266221056081907 * 65253347192070989383379"
      ]
     },
     "execution_count": 3,
     "metadata": {},
     "output_type": "execute_result"
    }
   ],
   "source": [
    "factor(p - 1)"
   ]
  },
  {
   "cell_type": "code",
   "execution_count": 5,
   "id": "81e14465-20bf-4802-8f71-c38374afc00c",
   "metadata": {},
   "outputs": [],
   "source": [
    "z = randrange(p)"
   ]
  },
  {
   "cell_type": "code",
   "execution_count": 6,
   "id": "4f36abfa-d35f-48fd-b276-eec976d6474b",
   "metadata": {},
   "outputs": [
    {
     "data": {
      "text/plain": [
       "9804775205735482208573579952302646362"
      ]
     },
     "execution_count": 6,
     "metadata": {},
     "output_type": "execute_result"
    }
   ],
   "source": [
    "z"
   ]
  },
  {
   "cell_type": "code",
   "execution_count": 7,
   "id": "8d4af90e-a569-4866-b38a-1c7f3d0fadc6",
   "metadata": {},
   "outputs": [],
   "source": [
    "u = randrange(p)"
   ]
  },
  {
   "cell_type": "code",
   "execution_count": 8,
   "id": "aef3c18f-411c-42d8-8c21-124897cf805b",
   "metadata": {},
   "outputs": [
    {
     "data": {
      "text/plain": [
       "9804775205735482208573579952302646362"
      ]
     },
     "execution_count": 8,
     "metadata": {},
     "output_type": "execute_result"
    }
   ],
   "source": [
    "z"
   ]
  },
  {
   "cell_type": "code",
   "execution_count": 9,
   "id": "e9ea79a8-d3b8-4e61-a18b-c3bcdd5801b4",
   "metadata": {},
   "outputs": [
    {
     "data": {
      "text/plain": [
       "23760825296331709693817246519899710068"
      ]
     },
     "execution_count": 9,
     "metadata": {},
     "output_type": "execute_result"
    }
   ],
   "source": [
    "u"
   ]
  },
  {
   "cell_type": "code",
   "execution_count": 10,
   "id": "bcde1b6d-3ce6-456e-8c36-dec741c86fba",
   "metadata": {},
   "outputs": [],
   "source": [
    "p = 101\n",
    "a = 13\n",
    "b = 96"
   ]
  },
  {
   "cell_type": "code",
   "execution_count": 11,
   "id": "6daea292-b25d-4f10-8ae1-5c431891b700",
   "metadata": {},
   "outputs": [
    {
     "data": {
      "text/plain": [
       "109"
      ]
     },
     "execution_count": 11,
     "metadata": {},
     "output_type": "execute_result"
    }
   ],
   "source": [
    "a + b"
   ]
  },
  {
   "cell_type": "code",
   "execution_count": 12,
   "id": "ac6e2a2e-fef5-41c3-bdde-ceb6ba9e32e2",
   "metadata": {},
   "outputs": [
    {
     "data": {
      "text/plain": [
       "8"
      ]
     },
     "execution_count": 12,
     "metadata": {},
     "output_type": "execute_result"
    }
   ],
   "source": [
    "(a + b) % p"
   ]
  },
  {
   "cell_type": "code",
   "execution_count": 13,
   "id": "999b8b1b-bf28-4ce3-bbff-792b88cc0779",
   "metadata": {},
   "outputs": [
    {
     "data": {
      "text/plain": [
       "1248"
      ]
     },
     "execution_count": 13,
     "metadata": {},
     "output_type": "execute_result"
    }
   ],
   "source": [
    "a * b"
   ]
  },
  {
   "cell_type": "code",
   "execution_count": 14,
   "id": "ef801bef-2418-47eb-9bbd-32b4af7f9dcd",
   "metadata": {},
   "outputs": [
    {
     "data": {
      "text/plain": [
       "36"
      ]
     },
     "execution_count": 14,
     "metadata": {},
     "output_type": "execute_result"
    }
   ],
   "source": [
    "(a * b) % p"
   ]
  },
  {
   "cell_type": "code",
   "execution_count": 15,
   "id": "e63eb326-fdf3-430e-ad09-639681d81947",
   "metadata": {},
   "outputs": [
    {
     "data": {
      "text/plain": [
       "13"
      ]
     },
     "execution_count": 15,
     "metadata": {},
     "output_type": "execute_result"
    }
   ],
   "source": [
    "a"
   ]
  },
  {
   "cell_type": "code",
   "execution_count": 16,
   "id": "33476a96-c2ca-44ca-8f42-0dffae40c542",
   "metadata": {},
   "outputs": [
    {
     "data": {
      "text/plain": [
       "70"
      ]
     },
     "execution_count": 16,
     "metadata": {},
     "output_type": "execute_result"
    }
   ],
   "source": [
    "pow(a, -1, p)"
   ]
  },
  {
   "cell_type": "code",
   "execution_count": 17,
   "id": "447fa31c-ca6c-4d75-955e-24206f13f369",
   "metadata": {},
   "outputs": [
    {
     "data": {
      "text/plain": [
       "1"
      ]
     },
     "execution_count": 17,
     "metadata": {},
     "output_type": "execute_result"
    }
   ],
   "source": [
    "a * 70 % p"
   ]
  },
  {
   "cell_type": "code",
   "execution_count": 18,
   "id": "45ce40a9-793f-48ff-ba06-816419a7e243",
   "metadata": {},
   "outputs": [
    {
     "data": {
      "text/plain": [
       "77"
      ]
     },
     "execution_count": 18,
     "metadata": {},
     "output_type": "execute_result"
    }
   ],
   "source": [
    "pow(a, 17, p)"
   ]
  },
  {
   "cell_type": "code",
   "execution_count": 19,
   "id": "07046186-c56e-4456-8976-c3410260a7a2",
   "metadata": {},
   "outputs": [
    {
     "data": {
      "text/plain": [
       "13"
      ]
     },
     "execution_count": 19,
     "metadata": {},
     "output_type": "execute_result"
    }
   ],
   "source": [
    "a"
   ]
  },
  {
   "cell_type": "code",
   "execution_count": 20,
   "id": "9938b2f6-c53d-440f-bd16-7cd15ec3365c",
   "metadata": {},
   "outputs": [],
   "source": [
    "G = GF(p)\n",
    "h = G(77)\n",
    "g = 13\n",
    "p = p\n",
    "# e: g^e = h (mod p)"
   ]
  },
  {
   "cell_type": "markdown",
   "id": "1b4a9733-b0dd-4633-bb39-61bd3e10cc68",
   "metadata": {},
   "source": [
    "$Z_{3^2 * 7 * 11^2} \\cong (Z_{3^2} \\times Z_7 \\times Z_{11^2})$"
   ]
  },
  {
   "cell_type": "code",
   "execution_count": 21,
   "id": "31719e87-a5b9-416d-8af9-54c31266bb34",
   "metadata": {},
   "outputs": [
    {
     "data": {
      "text/plain": [
       "179769313486231590772930519078902473361797697894230657273430081157732675805500963132708477322407536021120113879871393357658789768814416622492847430639474124377767893424865485276302219601246094119453082952085005768838150682342462881473913110540827237163350510684586298239947245938479716304835356329624224137216"
      ]
     },
     "execution_count": 21,
     "metadata": {},
     "output_type": "execute_result"
    }
   ],
   "source": [
    "2**1024"
   ]
  },
  {
   "cell_type": "markdown",
   "id": "657cc6c9-c914-450b-b264-f2fcfeb421ae",
   "metadata": {},
   "source": [
    "$O(e^{\\sqrt{\\ln{x} * \\ln{\\ln{x}}})$"
   ]
  },
  {
   "cell_type": "code",
   "execution_count": 23,
   "id": "85595343-5d4f-4e6c-a474-64b4ffc5642c",
   "metadata": {},
   "outputs": [
    {
     "data": {
      "text/plain": [
       "4.42374240646323e29"
      ]
     },
     "execution_count": 23,
     "metadata": {},
     "output_type": "execute_result"
    }
   ],
   "source": [
    "e^(sqrt(ln(2**1024) * ln(ln(2**1024)))).n()"
   ]
  },
  {
   "cell_type": "code",
   "execution_count": 24,
   "id": "c3973049-a668-41f4-886d-9fc5791b0243",
   "metadata": {},
   "outputs": [],
   "source": [
    "P = PolynomialRing(GF(101), \"x, y, z, k\")"
   ]
  },
  {
   "cell_type": "code",
   "execution_count": 25,
   "id": "b8349475-aea0-4d2b-a29e-74a16691e86b",
   "metadata": {},
   "outputs": [],
   "source": [
    "x, y, z, k = P.gens()"
   ]
  },
  {
   "cell_type": "code",
   "execution_count": 26,
   "id": "e0e6d84f-d111-44fe-921f-ad450f6f7392",
   "metadata": {},
   "outputs": [
    {
     "data": {
      "text/plain": [
       "-21*y^2 - 29*x*z - 36*z^2 + 18*k^2 + 6*x"
      ]
     },
     "execution_count": 26,
     "metadata": {},
     "output_type": "execute_result"
    }
   ],
   "source": [
    "P.random_element(degree=2)"
   ]
  },
  {
   "cell_type": "code",
   "execution_count": 28,
   "id": "a4bbf45b-75a1-4fd2-bda3-aae8589aeab5",
   "metadata": {},
   "outputs": [
    {
     "data": {
      "text/plain": [
       "315860750357518716094917352697201164141"
      ]
     },
     "execution_count": 28,
     "metadata": {},
     "output_type": "execute_result"
    }
   ],
   "source": [
    "random_prime(2**128)"
   ]
  },
  {
   "cell_type": "code",
   "execution_count": 29,
   "id": "b5c01cd2-e343-485c-9955-eb5bec7062b5",
   "metadata": {},
   "outputs": [],
   "source": [
    "e = EllipticCurve([0, 1])"
   ]
  },
  {
   "cell_type": "code",
   "execution_count": 30,
   "id": "7f6571fd-6a23-47f2-a84a-61fb3e7fd5a2",
   "metadata": {},
   "outputs": [
    {
     "data": {
      "image/png": "[encoded data removed]",
      "text/plain": [
       "Graphics object consisting of 1 graphics primitive"
      ]
     },
     "execution_count": 30,
     "metadata": {},
     "output_type": "execute_result"
    }
   ],
   "source": [
    "e.plot()"
   ]
  },
  {
   "cell_type": "code",
   "execution_count": 31,
   "id": "423c19ff-3482-4238-868a-9b0b21db86fc",
   "metadata": {},
   "outputs": [
    {
     "data": {
      "text/plain": [
       "Elliptic Curve defined by y^2 = x^3 + 1 over Rational Field"
      ]
     },
     "execution_count": 31,
     "metadata": {},
     "output_type": "execute_result"
    }
   ],
   "source": [
    "e"
   ]
  },
  {
   "cell_type": "markdown",
   "id": "bf8dc28f-72b4-4997-8385-51f1d2a447bf",
   "metadata": {},
   "source": [
    "# y^2 = x^3 + a * x + b"
   ]
  },
  {
   "cell_type": "code",
   "execution_count": null,
   "id": "4c707614-2cf6-44e2-a4ab-f82c290dad21",
   "metadata": {},
   "outputs": [],
   "source": []
  }
 ],
 "metadata": {
  "kernelspec": {
   "display_name": "SageMath 10.5",
   "language": "sage",
   "name": "sagemath"
  },
  "language_info": {
   "codemirror_mode": {
    "name": "ipython",
    "version": 3
   },
   "file_extension": ".py",
   "mimetype": "text/x-python",
   "name": "python",
   "nbconvert_exporter": "python",
   "pygments_lexer": "ipython3",
   "version": "3.13.1"
  }
 },
 "nbformat": 4,
 "nbformat_minor": 5
}
