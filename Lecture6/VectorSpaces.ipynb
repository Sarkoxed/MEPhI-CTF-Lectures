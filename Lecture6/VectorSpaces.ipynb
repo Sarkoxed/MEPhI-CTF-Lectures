{
 "cells": [
  {
   "cell_type": "code",
   "execution_count": 1,
   "id": "27cfa4fa-e221-4738-8463-9d198306eae1",
   "metadata": {},
   "outputs": [],
   "source": [
    "V = VectorSpace(QQ, 10)"
   ]
  },
  {
   "cell_type": "code",
   "execution_count": 2,
   "id": "cd5f0ab0-bfdc-41a2-a7d7-130e26370b27",
   "metadata": {},
   "outputs": [
    {
     "data": {
      "text/plain": [
       "(1/10, 1, -296/3, -2, -1/3, -1/4, 1/31, 1/5, 0, 0)"
      ]
     },
     "execution_count": 2,
     "metadata": {},
     "output_type": "execute_result"
    }
   ],
   "source": [
    "V.random_element()"
   ]
  },
  {
   "cell_type": "code",
   "execution_count": 12,
   "id": "2d9e592f-a0af-4593-8aa6-a0f139cc377b",
   "metadata": {},
   "outputs": [
    {
     "data": {
      "text/plain": [
       "[-1  0  2]\n",
       "[ 3  1 -1]\n",
       "[ 1  0  1]"
      ]
     },
     "execution_count": 12,
     "metadata": {},
     "output_type": "execute_result"
    }
   ],
   "source": [
    "B1 = [vector([-1, 0, 2]), vector([3, 1, -1]), vector([1, 0, 1])]\n",
    "B2 = Matrix(B1)\n",
    "\n",
    "B3 = [vector([-1, 0, 2]), vector([3, 1, -1]), vector([2, 1, 1])]\n",
    "B4 = Matrix(B3)\n",
    "B4.det()\n",
    "B2"
   ]
  },
  {
   "cell_type": "markdown",
   "id": "4a41f4a8-c27a-4fa5-b9f5-c293b066dbe7",
   "metadata": {},
   "source": [
    "$w_1, w_2, ..., w_n$\n",
    "\n",
    "ортгональный\n",
    "\n",
    "$w_i * w_j = 0$\n",
    "\n",
    "ортонормированный\n",
    "\n",
    "$|w_i| = 1$\n"
   ]
  },
  {
   "cell_type": "code",
   "execution_count": 15,
   "id": "a50ffd0f-104d-4ed1-8109-c92934b101b1",
   "metadata": {},
   "outputs": [
    {
     "data": {
      "text/plain": [
       "(-1, 0, 1)"
      ]
     },
     "execution_count": 15,
     "metadata": {},
     "output_type": "execute_result"
    }
   ],
   "source": [
    "V = VectorSpace(QQ, 3)\n",
    "w = vector([-1, 0, 1])\n",
    "\n",
    "\n",
    "t = B2 * w\n",
    "\n",
    "# 1\n",
    "w1 = B2^-1 * t\n",
    "w2 = B2.solve_right(t)\n",
    "w2"
   ]
  },
  {
   "cell_type": "code",
   "execution_count": 27,
   "id": "109cfe0c-05ab-46e3-ac9a-9e0436eb5fad",
   "metadata": {},
   "outputs": [
    {
     "data": {
      "text/plain": [
       "58"
      ]
     },
     "execution_count": 27,
     "metadata": {},
     "output_type": "execute_result"
    }
   ],
   "source": [
    "M = MatrixSpace(GF(101), 10)\n",
    "M.random_element().det()"
   ]
  },
  {
   "cell_type": "code",
   "execution_count": 16,
   "id": "8689eedc-d795-4ccd-9628-1a4ee93ab809",
   "metadata": {},
   "outputs": [
    {
     "data": {
      "text/plain": [
       "[1 0 1]\n",
       "[0 1 2]\n",
       "[0 0 3]"
      ]
     },
     "execution_count": 16,
     "metadata": {},
     "output_type": "execute_result"
    }
   ],
   "source": [
    "B2.()"
   ]
  },
  {
   "cell_type": "code",
   "execution_count": 4,
   "id": "52d24519-7b96-44e8-a5ae-287197a128cc",
   "metadata": {},
   "outputs": [],
   "source": [
    "B1 = [vector([-1, 0, 2]), vector([3, 1, -1]), vector([1, 0, 1])]"
   ]
  },
  {
   "cell_type": "code",
   "execution_count": 29,
   "id": "a0b0c042-b05b-4a33-aabc-6754f470d080",
   "metadata": {},
   "outputs": [
    {
     "data": {
      "text/plain": [
       "(\n",
       "[      1       4      -2]  [      1       0       0]\n",
       "[  58/21    1/21   31/21]  [   5/21       1       0]\n",
       "[-21/103  49/206  77/206], [   -4/7 207/206       1]\n",
       ")"
      ]
     },
     "execution_count": 29,
     "metadata": {},
     "output_type": "execute_result"
    }
   ],
   "source": [
    "M = [vector([1, 3, 2]), vector([4, 1, -2]), vector([-2, 1, 3])]\n",
    "M1 = Matrix(M).T\n",
    "M1.gram_schmidt()"
   ]
  },
  {
   "cell_type": "code",
   "execution_count": 30,
   "id": "5d1064ad-ec31-481e-ab5a-1a9a12d777c6",
   "metadata": {},
   "outputs": [
    {
     "data": {
      "text/plain": [
       "[1 0 5]\n",
       "[0 1 0]\n",
       "[0 0 7]"
      ]
     },
     "execution_count": 30,
     "metadata": {},
     "output_type": "execute_result"
    }
   ],
   "source": [
    "M1.echelon_form()"
   ]
  },
  {
   "cell_type": "code",
   "execution_count": 39,
   "id": "46bd7af9-f62f-4b55-975c-662de20a575d",
   "metadata": {},
   "outputs": [
    {
     "data": {
      "text/plain": [
       "[(-1.00000000000000, 1), (1.58578643762690, 1), (4.41421356237309, 1)]"
      ]
     },
     "execution_count": 39,
     "metadata": {},
     "output_type": "execute_result"
    }
   ],
   "source": [
    "M1.charpoly().change_ring(RR).roots()"
   ]
  },
  {
   "cell_type": "code",
   "execution_count": 32,
   "id": "40aa923b-33a9-4f04-a5af-5db86356ca8f",
   "metadata": {},
   "outputs": [
    {
     "data": {
      "text/plain": [
       "[(-1,\n",
       "  [\n",
       "  (1, -1, -1)\n",
       "  ],\n",
       "  1),\n",
       " (1.585786437626905?, [(1, -1.914213562373095?, -4.121320343559642?)], 1),\n",
       " (4.414213562373095?, [(1, 0.9142135623730951?, 0.12132034355964257?)], 1)]"
      ]
     },
     "execution_count": 32,
     "metadata": {},
     "output_type": "execute_result"
    }
   ],
   "source": [
    "M1.eigenvectors_right()"
   ]
  },
  {
   "cell_type": "code",
   "execution_count": 33,
   "id": "6fda03e9-1fe2-4baf-aee3-07179fe47baf",
   "metadata": {},
   "outputs": [
    {
     "data": {
      "text/plain": [
       "Special Linear Group of degree 3 over Integer Ring"
      ]
     },
     "execution_count": 33,
     "metadata": {},
     "output_type": "execute_result"
    }
   ],
   "source": [
    "SL(3, ZZ)"
   ]
  },
  {
   "cell_type": "code",
   "execution_count": 35,
   "id": "51becf32-ac76-4e3a-9ebd-a15d2f4a1a1c",
   "metadata": {},
   "outputs": [
    {
     "data": {
      "text/plain": [
       "True"
      ]
     },
     "execution_count": 35,
     "metadata": {},
     "output_type": "execute_result"
    }
   ],
   "source": [
    "M1 * vector((1, -1, -1)) == -vector((1, -1, -1))"
   ]
  },
  {
   "cell_type": "code",
   "execution_count": 36,
   "id": "3384050d-b87b-42ee-9653-ad0815bf12d3",
   "metadata": {},
   "outputs": [
    {
     "data": {
      "text/plain": [
       "(-4, 5, -6)"
      ]
     },
     "execution_count": 36,
     "metadata": {},
     "output_type": "execute_result"
    }
   ],
   "source": []
  },
  {
   "cell_type": "code",
   "execution_count": 49,
   "id": "f25fd322-a739-4507-8161-cbabf57f3535",
   "metadata": {
    "scrolled": true
   },
   "outputs": [
    {
     "data": {
      "text/plain": [
       "[46 56 83]\n",
       "[71 48 71]\n",
       "[95 69 30]"
      ]
     },
     "execution_count": 49,
     "metadata": {},
     "output_type": "execute_result"
    }
   ],
   "source": [
    "G = SL(3, GF(101))\n",
    "g = G.random_element()\n",
    "g"
   ]
  },
  {
   "cell_type": "code",
   "execution_count": 52,
   "id": "92601a82-9e72-4657-b3e2-68ca5ad5f900",
   "metadata": {},
   "outputs": [
    {
     "data": {
      "text/plain": [
       "1"
      ]
     },
     "execution_count": 52,
     "metadata": {},
     "output_type": "execute_result"
    }
   ],
   "source": [
    "det(Matrix(g))"
   ]
  },
  {
   "cell_type": "code",
   "execution_count": 66,
   "id": "77620591-8993-476e-9441-8626fa43568b",
   "metadata": {},
   "outputs": [
    {
     "data": {
      "text/plain": [
       "3/2"
      ]
     },
     "execution_count": 66,
     "metadata": {},
     "output_type": "execute_result"
    }
   ],
   "source": [
    "M = MatrixSpace(QQ, 3).random_element()\n",
    "M.det()"
   ]
  },
  {
   "cell_type": "code",
   "execution_count": 67,
   "id": "a1ee22a0-dd1c-4f07-a90c-bf9da19d1885",
   "metadata": {},
   "outputs": [
    {
     "data": {
      "text/plain": [
       "1"
      ]
     },
     "execution_count": 67,
     "metadata": {},
     "output_type": "execute_result"
    }
   ],
   "source": [
    "M1 = M / det(M)**(1/3)\n",
    "M1.det()"
   ]
  },
  {
   "cell_type": "code",
   "execution_count": 68,
   "id": "32db9095-2af5-43ae-8986-feaa84da1b9c",
   "metadata": {},
   "outputs": [
    {
     "data": {
      "text/plain": [
       "[ 2/3*(3/2)^(2/3) -4/3*(3/2)^(2/3) -2/3*(3/2)^(2/3)]\n",
       "[               0  2/3*(3/2)^(2/3)                0]\n",
       "[ 2/3*(3/2)^(2/3) -4/3*(3/2)^(2/3)  1/3*(3/2)^(2/3)]"
      ]
     },
     "execution_count": 68,
     "metadata": {},
     "output_type": "execute_result"
    }
   ],
   "source": [
    "M1"
   ]
  },
  {
   "cell_type": "code",
   "execution_count": null,
   "id": "309417e3-489c-493a-8f1c-e620fb1c058f",
   "metadata": {},
   "outputs": [],
   "source": []
  }
 ],
 "metadata": {
  "kernelspec": {
   "display_name": "SageMath 10.5",
   "language": "sage",
   "name": "sagemath"
  },
  "language_info": {
   "codemirror_mode": {
    "name": "ipython",
    "version": 3
   },
   "file_extension": ".py",
   "mimetype": "text/x-python",
   "name": "python",
   "nbconvert_exporter": "python",
   "pygments_lexer": "ipython3",
   "version": "3.13.1"
  }
 },
 "nbformat": 4,
 "nbformat_minor": 5
}
