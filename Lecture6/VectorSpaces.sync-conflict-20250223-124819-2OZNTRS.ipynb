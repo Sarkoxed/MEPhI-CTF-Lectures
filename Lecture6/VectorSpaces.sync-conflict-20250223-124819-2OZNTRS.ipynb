{
 "cells": [
  {
   "cell_type": "code",
   "execution_count": 1,
   "id": "27cfa4fa-e221-4738-8463-9d198306eae1",
   "metadata": {},
   "outputs": [],
   "source": [
    "V = VectorSpace(QQ, 10)"
   ]
  },
  {
   "cell_type": "code",
   "execution_count": 2,
   "id": "cd5f0ab0-bfdc-41a2-a7d7-130e26370b27",
   "metadata": {},
   "outputs": [
    {
     "data": {
      "text/plain": [
       "(1/10, 1, -296/3, -2, -1/3, -1/4, 1/31, 1/5, 0, 0)"
      ]
     },
     "execution_count": 2,
     "metadata": {},
     "output_type": "execute_result"
    }
   ],
   "source": [
    "V.random_element()"
   ]
  },
  {
   "cell_type": "code",
   "execution_count": 3,
   "id": "c25e07e7-98da-4958-8f23-c0108713060b",
   "metadata": {},
   "outputs": [],
   "source": [
    "B = [vector([1, 3, 2]), vector([2, -1, 3]), vector([1, 0, 2])]"
   ]
  },
  {
   "cell_type": "code",
   "execution_count": 4,
   "id": "52d24519-7b96-44e8-a5ae-287197a128cc",
   "metadata": {},
   "outputs": [],
   "source": [
    "B1 = [vector([-1, 0, 2]), vector([3, 1, -1]), vector([1, 0, 1])]"
   ]
  },
  {
   "cell_type": "code",
   "execution_count": 6,
   "id": "a0b0c042-b05b-4a33-aabc-6754f470d080",
   "metadata": {},
   "outputs": [
    {
     "data": {
      "text/plain": [
       "(\n",
       "[      1       4      -2]  [      1       0       0]\n",
       "[  58/21    1/21   31/21]  [   5/21       1       0]\n",
       "[-21/103  49/206  77/206], [   -4/7 207/206       1]\n",
       ")"
      ]
     },
     "execution_count": 6,
     "metadata": {},
     "output_type": "execute_result"
    }
   ],
   "source": [
    "M = [vector([1, 3, 2]), vector([4, 1, -2]), vector([-2, 1, 3])]\n",
    "M1 = Matrix(M).T\n",
    "M1.gram_schmidt()"
   ]
  },
  {
   "cell_type": "code",
   "execution_count": 7,
   "id": "5d1064ad-ec31-481e-ab5a-1a9a12d777c6",
   "metadata": {},
   "outputs": [
    {
     "data": {
      "text/plain": [
       "[1 0 5]\n",
       "[0 1 0]\n",
       "[0 0 7]"
      ]
     },
     "execution_count": 7,
     "metadata": {},
     "output_type": "execute_result"
    }
   ],
   "source": [
    "M1.echelon_form()"
   ]
  },
  {
   "cell_type": "code",
   "execution_count": 8,
   "id": "46bd7af9-f62f-4b55-975c-662de20a575d",
   "metadata": {},
   "outputs": [
    {
     "data": {
      "text/plain": [
       "x^3 - 5*x^2 + x + 7"
      ]
     },
     "execution_count": 8,
     "metadata": {},
     "output_type": "execute_result"
    }
   ],
   "source": [
    "M1.charpoly()"
   ]
  },
  {
   "cell_type": "code",
   "execution_count": 9,
   "id": "40aa923b-33a9-4f04-a5af-5db86356ca8f",
   "metadata": {},
   "outputs": [
    {
     "data": {
      "text/plain": [
       "[(-1,\n",
       "  [\n",
       "  (1, -1, -1)\n",
       "  ],\n",
       "  1),\n",
       " (1.585786437626905?, [(1, -1.914213562373095?, -4.121320343559642?)], 1),\n",
       " (4.414213562373095?, [(1, 0.9142135623730951?, 0.12132034355964257?)], 1)]"
      ]
     },
     "execution_count": 9,
     "metadata": {},
     "output_type": "execute_result"
    }
   ],
   "source": [
    "M1.eigenvectors_right()"
   ]
  },
  {
   "cell_type": "code",
   "execution_count": 12,
   "id": "6fda03e9-1fe2-4baf-aee3-07179fe47baf",
   "metadata": {},
   "outputs": [
    {
     "data": {
      "text/plain": [
       "Special Linear Group of degree 3 over Integer Ring"
      ]
     },
     "execution_count": 12,
     "metadata": {},
     "output_type": "execute_result"
    }
   ],
   "source": [
    "SL(3, ZZ)"
   ]
  },
  {
   "cell_type": "code",
   "execution_count": null,
   "id": "51becf32-ac76-4e3a-9ebd-a15d2f4a1a1c",
   "metadata": {},
   "outputs": [],
   "source": []
  }
 ],
 "metadata": {
  "kernelspec": {
   "display_name": "SageMath 10.5",
   "language": "sage",
   "name": "sagemath"
  },
  "language_info": {
   "codemirror_mode": {
    "name": "ipython",
    "version": 3
   },
   "file_extension": ".py",
   "mimetype": "text/x-python",
   "name": "python",
   "nbconvert_exporter": "python",
   "pygments_lexer": "ipython3",
   "version": "3.13.1"
  }
 },
 "nbformat": 4,
 "nbformat_minor": 5
}
