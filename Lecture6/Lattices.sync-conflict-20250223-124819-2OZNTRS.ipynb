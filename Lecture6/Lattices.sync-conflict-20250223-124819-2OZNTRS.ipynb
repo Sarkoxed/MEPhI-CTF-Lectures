{
 "cells": [
  {
   "cell_type": "markdown",
   "id": "64665c61-eb81-4d91-98fe-d65632b56ade",
   "metadata": {},
   "source": [
    "# Gauss"
   ]
  },
  {
   "cell_type": "code",
   "execution_count": 7,
   "id": "4bd0e247-70b7-47df-860e-aca828542f63",
   "metadata": {},
   "outputs": [],
   "source": [
    "def gauss_reduction(v1, v2):\n",
    "    while True:\n",
    "        if v1.norm() > v2.norm():\n",
    "            v1, v2 = v2, v1\n",
    "        m = round(v1 * v2 / v1.norm()**2)\n",
    "        if m == 0:\n",
    "            return v1, v2\n",
    "        v2 = v2 - m * v1   "
   ]
  },
  {
   "cell_type": "code",
   "execution_count": 12,
   "id": "bcf51d96-66bb-48bc-8f4c-7fece1db763d",
   "metadata": {},
   "outputs": [],
   "source": [
    "v1 = vector((66586820, 65354729))\n",
    "v2 = vector((6513996, 6393464))"
   ]
  },
  {
   "cell_type": "code",
   "execution_count": null,
   "id": "e5e0898a-8666-49bc-ab28-f4ec83384f43",
   "metadata": {},
   "outputs": [],
   "source": [
    "print(v1 * v2)"
   ]
  },
  {
   "cell_type": "code",
   "execution_count": 16,
   "id": "be849e42-4afb-4be5-8f35-1c215e142307",
   "metadata": {},
   "outputs": [],
   "source": [
    "w1, w2 = gauss_reduction(v1, v2)"
   ]
  },
  {
   "cell_type": "code",
   "execution_count": null,
   "id": "71e2e38a-a653-4a57-8326-bcb39b9e4718",
   "metadata": {},
   "outputs": [],
   "source": [
    "w1, w2, w1 * w2"
   ]
  },
  {
   "cell_type": "code",
   "execution_count": 37,
   "id": "820b4dc1-e857-4783-ac8a-0a739f8a7062",
   "metadata": {},
   "outputs": [],
   "source": [
    "B = Matrix([w1, w2]).T * Matrix([v1, v2]).T^-1"
   ]
  },
  {
   "cell_type": "code",
   "execution_count": null,
   "id": "63ae5315-4d5f-4515-9a5a-7bd2c4b6477f",
   "metadata": {},
   "outputs": [],
   "source": [
    "det(B)"
   ]
  },
  {
   "cell_type": "code",
   "execution_count": 54,
   "id": "6c9ffd4f-13bb-4cb5-8c9b-717748a5e4ee",
   "metadata": {},
   "outputs": [],
   "source": [
    "def hadamard_ratio(B):\n",
    "    num = Matrix(B).det()\n",
    "    n = B.dimensions()[0]\n",
    "    den = product(v.norm() for v in B)\n",
    "    return (num / den)**(1/n).n()"
   ]
  },
  {
   "cell_type": "code",
   "execution_count": 55,
   "id": "8e2f0eb6-5c99-4f4c-a716-b882bd6b6da6",
   "metadata": {},
   "outputs": [],
   "source": [
    "M = Matrix([[19, 2, 32, 46, 3, 33], [15, 42, 11, 0, 3, 24], [43, 15, 0, 24, 4, 16], [20, 44, 44, 0, 18, 15], [0, 48, 35, 16, 31, 31], [48, 33, 32, 9, 1, 29]]) "
   ]
  },
  {
   "cell_type": "code",
   "execution_count": 63,
   "id": "f27c1f3d-7ba8-4257-8b65-0ddd032e4432",
   "metadata": {},
   "outputs": [
    {
     "data": {
      "text/plain": [
       "(0.469077015519854, 0.878972866828277)"
      ]
     },
     "execution_count": 63,
     "metadata": {},
     "output_type": "execute_result"
    }
   ],
   "source": [
    "hadamard_ratio(M), hadamard_ratio(M.LLL())"
   ]
  },
  {
   "cell_type": "code",
   "execution_count": 45,
   "id": "da282933-cfd1-4a1c-9608-45d917c5d29e",
   "metadata": {},
   "outputs": [],
   "source": [
    "def get_sum_rows_m(i, j, a=1, b=1, dim=0):\n",
    "    m = identity_matrix(dim)\n",
    "    m[i, i] = a\n",
    "    m[i, j] = b\n",
    "    return m\n",
    "\n",
    "\n",
    "def get_permutation_rows_m(i, j, dim):\n",
    "    m = identity_matrix(dim)\n",
    "    m[i, i] = 0\n",
    "    m[j, j] = 0\n",
    "    m[i, j] = 1\n",
    "    m[j, i] = 1\n",
    "    return m\n",
    "\n",
    "\n",
    "def get_secret(dim: int, m):\n",
    "    I = identity_matrix(dim)\n",
    "    for i in range(100):\n",
    "        m1 = get_sum_rows_m(randint(0, dim - 1), randint(0, dim - 1), 1, 1, dim)\n",
    "        m2 = get_permutation_rows_m(randint(0, dim - 1), randint(0, dim - 1), dim)\n",
    "        m = m1 * m2 * m\n",
    "    while True:\n",
    "        if 0 < HadamardRatio([vector(m.row(x)) for x in range(dim)]) < 0.01:\n",
    "            return [vector(m.row(x)) for x in range(dim)]\n",
    "        m1 = get_sum_rows_m(randint(0, dim - 1), randint(0, dim - 1), 1, 1, dim)\n",
    "        m2 = get_permutation_rows_m(randint(0, dim - 1), randint(0, dim - 1), dim)\n",
    "        m = m1 * m2 * m\n",
    "\n"
   ]
  },
  {
   "cell_type": "code",
   "execution_count": null,
   "id": "9a9547c0-c7a6-4e36-be7b-0cb9fdeda02d",
   "metadata": {},
   "outputs": [],
   "source": []
  }
 ],
 "metadata": {
  "kernelspec": {
   "display_name": "SageMath 10.5",
   "language": "sage",
   "name": "sagemath"
  },
  "language_info": {
   "codemirror_mode": {
    "name": "ipython",
    "version": 3
   },
   "file_extension": ".py",
   "mimetype": "text/x-python",
   "name": "python",
   "nbconvert_exporter": "python",
   "pygments_lexer": "ipython3",
   "version": "3.13.1"
  }
 },
 "nbformat": 4,
 "nbformat_minor": 5
}
