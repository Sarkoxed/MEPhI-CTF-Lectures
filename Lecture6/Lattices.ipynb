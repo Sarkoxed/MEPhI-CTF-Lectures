{
 "cells": [
  {
   "cell_type": "markdown",
   "id": "64665c61-eb81-4d91-98fe-d65632b56ade",
   "metadata": {},
   "source": [
    "# Gauss"
   ]
  },
  {
   "cell_type": "code",
   "execution_count": 4,
   "id": "4bd0e247-70b7-47df-860e-aca828542f63",
   "metadata": {},
   "outputs": [],
   "source": [
    "def gauss_reduction(v1, v2):\n",
    "    while True:\n",
    "        if v1.norm() > v2.norm():\n",
    "            v1, v2 = v2, v1\n",
    "        m = round(v1 * v2 / v1.norm()**2)\n",
    "        if m == 0:\n",
    "            return v1, v2\n",
    "        v2 = v2 - m * v1   "
   ]
  },
  {
   "cell_type": "code",
   "execution_count": 5,
   "id": "bcf51d96-66bb-48bc-8f4c-7fece1db763d",
   "metadata": {},
   "outputs": [],
   "source": [
    "v1 = vector((66586820, 65354729))\n",
    "v2 = vector((6513996, 6393464))"
   ]
  },
  {
   "cell_type": "code",
   "execution_count": 6,
   "id": "e5e0898a-8666-49bc-ab28-f4ec83384f43",
   "metadata": {},
   "outputs": [
    {
     "name": "stdout",
     "output_type": "stream",
     "text": [
      "851589386223976\n"
     ]
    }
   ],
   "source": [
    "print(v1 * v2)"
   ]
  },
  {
   "cell_type": "code",
   "execution_count": 7,
   "id": "be849e42-4afb-4be5-8f35-1c215e142307",
   "metadata": {},
   "outputs": [],
   "source": [
    "w1, w2 = gauss_reduction(v1, v2)"
   ]
  },
  {
   "cell_type": "code",
   "execution_count": 8,
   "id": "71e2e38a-a653-4a57-8326-bcb39b9e4718",
   "metadata": {},
   "outputs": [
    {
     "data": {
      "text/plain": [
       "((2280, -1001), (-1324, -2376), -640344)"
      ]
     },
     "execution_count": 8,
     "metadata": {},
     "output_type": "execute_result"
    }
   ],
   "source": [
    "w1, w2, w1 * w2"
   ]
  },
  {
   "cell_type": "code",
   "execution_count": 9,
   "id": "820b4dc1-e857-4783-ac8a-0a739f8a7062",
   "metadata": {},
   "outputs": [],
   "source": [
    "B = Matrix([w1, w2]).T * Matrix([v1, v2]).T^-1"
   ]
  },
  {
   "cell_type": "code",
   "execution_count": 11,
   "id": "63ae5315-4d5f-4515-9a5a-7bd2c4b6477f",
   "metadata": {},
   "outputs": [
    {
     "data": {
      "text/plain": [
       "(1, (2280, -1001))"
      ]
     },
     "execution_count": 11,
     "metadata": {},
     "output_type": "execute_result"
    }
   ],
   "source": [
    "det(B), B * v1"
   ]
  },
  {
   "cell_type": "code",
   "execution_count": 34,
   "id": "6c9ffd4f-13bb-4cb5-8c9b-717748a5e4ee",
   "metadata": {},
   "outputs": [],
   "source": [
    "def hadamard_ratio(B):\n",
    "    num = abs(Matrix(B).det())\n",
    "    n = B.dimensions()[0]\n",
    "    den = product(v.norm() for v in B)\n",
    "    return (num / den)**(1/n).n()"
   ]
  },
  {
   "cell_type": "code",
   "execution_count": 14,
   "id": "8e2f0eb6-5c99-4f4c-a716-b882bd6b6da6",
   "metadata": {},
   "outputs": [
    {
     "data": {
      "text/plain": [
       "[19  2 32 46  3 33]\n",
       "[15 42 11  0  3 24]\n",
       "[43 15  0 24  4 16]\n",
       "[20 44 44  0 18 15]\n",
       "[ 0 48 35 16 31 31]\n",
       "[48 33 32  9  1 29]"
      ]
     },
     "execution_count": 14,
     "metadata": {},
     "output_type": "execute_result"
    }
   ],
   "source": [
    "M = Matrix([[19, 2, 32, 46, 3, 33], [15, 42, 11, 0, 3, 24], [43, 15, 0, 24, 4, 16], [20, 44, 44, 0, 18, 15], [0, 48, 35, 16, 31, 31], [48, 33, 32, 9, 1, 29]]) \n",
    "M"
   ]
  },
  {
   "cell_type": "code",
   "execution_count": 15,
   "id": "f27c1f3d-7ba8-4257-8b65-0ddd032e4432",
   "metadata": {},
   "outputs": [
    {
     "data": {
      "text/plain": [
       "(0.469077015519854, 0.878972866828277)"
      ]
     },
     "execution_count": 15,
     "metadata": {},
     "output_type": "execute_result"
    }
   ],
   "source": [
    "hadamard_ratio(M), hadamard_ratio(M.LLL())"
   ]
  },
  {
   "cell_type": "code",
   "execution_count": 18,
   "id": "5c9651fc-eaf1-4e6b-bce0-c4ef4e56346e",
   "metadata": {},
   "outputs": [
    {
     "data": {
      "text/plain": [
       "26.7394839142419"
      ]
     },
     "execution_count": 18,
     "metadata": {},
     "output_type": "execute_result"
    }
   ],
   "source": [
    "M.LLL()[0].norm().n()"
   ]
  },
  {
   "cell_type": "code",
   "execution_count": 23,
   "id": "abec45ee-36ee-4fa9-90a7-455f099e9e1a",
   "metadata": {},
   "outputs": [],
   "source": [
    "def gauss_eur(L):\n",
    "    n = L.dimensions()[0]\n",
    "    sigma = (gamma(1 + n // 2) * L.det())**(1/n) / sqrt(pi)\n",
    "    return sigma.n()"
   ]
  },
  {
   "cell_type": "code",
   "execution_count": 24,
   "id": "0ca0126c-ad00-4266-8f12-6b4e46edf94c",
   "metadata": {},
   "outputs": [
    {
     "data": {
      "text/plain": [
       "23.0617154967844"
      ]
     },
     "execution_count": 24,
     "metadata": {},
     "output_type": "execute_result"
    }
   ],
   "source": [
    "gauss_eur(M)"
   ]
  },
  {
   "cell_type": "code",
   "execution_count": 42,
   "id": "adc2796f-66ab-4cf0-b272-772a42e4f7cd",
   "metadata": {},
   "outputs": [
    {
     "data": {
      "text/plain": [
       "0.591542961145561"
      ]
     },
     "execution_count": 42,
     "metadata": {},
     "output_type": "execute_result"
    }
   ],
   "source": [
    "n = 100\n",
    "M = Matrix(ZZ, [[randint(-100, 100) for _ in range(n)] for _ in range(n)])\n",
    "hadamard_ratio(M)"
   ]
  },
  {
   "cell_type": "code",
   "execution_count": 38,
   "id": "4594811c-70cc-4997-afe1-3410c7c9424e",
   "metadata": {},
   "outputs": [
    {
     "data": {
      "text/plain": [
       "864.566535767146"
      ]
     },
     "execution_count": 38,
     "metadata": {},
     "output_type": "execute_result"
    }
   ],
   "source": [
    "gauss_eur(M)"
   ]
  },
  {
   "cell_type": "code",
   "execution_count": 39,
   "id": "86d9059f-7dbc-439a-b341-631951ad360d",
   "metadata": {},
   "outputs": [
    {
     "data": {
      "text/plain": [
       "0.505396585307010"
      ]
     },
     "execution_count": 39,
     "metadata": {},
     "output_type": "execute_result"
    }
   ],
   "source": [
    "L = M.LLL()\n",
    "L[0].norm().n()\n",
    "hadamard_ratio(L)"
   ]
  },
  {
   "cell_type": "code",
   "execution_count": null,
   "id": "5bbd82e0-dd34-4a35-89fa-b6eb8cbb718c",
   "metadata": {},
   "outputs": [],
   "source": [
    "def get_sum_rows_m(i, j, a=1, b=1, dim=0):\n",
    "    m = identity_matrix(dim)\n",
    "    m[i, i] = a\n",
    "    m[i, j] = b\n",
    "    return m\n",
    "\n",
    "\n",
    "def get_permutation_rows_m(i, j, dim):\n",
    "    m = identity_matrix(dim)\n",
    "    m[i, i] = 0\n",
    "    m[j, j] = 0\n",
    "    m[i, j] = 1\n",
    "    m[j, i] = 1\n",
    "    return m\n",
    "\n",
    "\n",
    "def get_secret(dim: int, m):\n",
    "    I = identity_matrix(dim)\n",
    "    for i in range(100):\n",
    "        m1 = get_sum_rows_m(randint(0, dim - 1), randint(0, dim - 1), 1, 1, dim)\n",
    "        m2 = get_permutation_rows_m(randint(0, dim - 1), randint(0, dim - 1), dim)\n",
    "        m = m1 * m2 * m\n",
    "    while True:\n",
    "        if 0 < HadamardRatio([vector(m.row(x)) for x in range(dim)]) < 0.01:\n",
    "            return [vector(m.row(x)) for x in range(dim)]\n",
    "        m1 = get_sum_rows_m(randint(0, dim - 1), randint(0, dim - 1), 1, 1, dim)\n",
    "        m2 = get_permutation_rows_m(randint(0, dim - 1), randint(0, dim - 1), dim)\n",
    "        m = m1 * m2 * m"
   ]
  },
  {
   "cell_type": "code",
   "execution_count": null,
   "id": "9a9547c0-c7a6-4e36-be7b-0cb9fdeda02d",
   "metadata": {},
   "outputs": [],
   "source": []
  }
 ],
 "metadata": {
  "kernelspec": {
   "display_name": "SageMath 10.5",
   "language": "sage",
   "name": "sagemath"
  },
  "language_info": {
   "codemirror_mode": {
    "name": "ipython",
    "version": 3
   },
   "file_extension": ".py",
   "mimetype": "text/x-python",
   "name": "python",
   "nbconvert_exporter": "python",
   "pygments_lexer": "ipython3",
   "version": "3.13.1"
  }
 },
 "nbformat": 4,
 "nbformat_minor": 5
}
