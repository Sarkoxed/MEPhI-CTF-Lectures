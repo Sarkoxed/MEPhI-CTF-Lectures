{
 "cells": [
  {
   "cell_type": "code",
   "execution_count": 1,
   "id": "2790397c-d976-4c75-bc5b-e9260657086f",
   "metadata": {},
   "outputs": [],
   "source": [
    "# dimension\n",
    "n = 64\n",
    "# plaintext modulus\n",
    "p = 257\n",
    "# ciphertext modulus\n",
    "q = 1048583\n",
    "\n",
    "V = VectorSpace(GF(q), n)\n",
    "S = V.random_element()\n",
    "\n",
    "\n",
    "def encrypt(m):\n",
    "    A = V.random_element()\n",
    "    e = randint(-1, 1)\n",
    "    b = A * S + m + p * e\n",
    "    return A, b"
   ]
  },
  {
   "cell_type": "code",
   "execution_count": null,
   "id": "06e2b731-bd01-4dc4-b3e8-7840fd473e32",
   "metadata": {},
   "outputs": [],
   "source": []
  }
 ],
 "metadata": {
  "kernelspec": {
   "display_name": "SageMath 10.5",
   "language": "sage",
   "name": "sagemath"
  },
  "language_info": {
   "codemirror_mode": {
    "name": "ipython",
    "version": 3
   },
   "file_extension": ".py",
   "mimetype": "text/x-python",
   "name": "python",
   "nbconvert_exporter": "python",
   "pygments_lexer": "ipython3",
   "version": "3.13.2"
  }
 },
 "nbformat": 4,
 "nbformat_minor": 5
}
