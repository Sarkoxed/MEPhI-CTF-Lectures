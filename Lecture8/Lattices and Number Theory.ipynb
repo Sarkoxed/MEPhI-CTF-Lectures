{
 "cells": [
  {
   "cell_type": "markdown",
   "id": "5bb6fa94-d5f8-4850-8969-2457cfc93900",
   "metadata": {},
   "source": [
    "$$M = \\begin{pmatrix}\n",
    "1 & 0 & \\arctan(1) * A  \\\\\n",
    "0 & 1 & \\arctan(\\frac{1}{5}) * A \\\\\n",
    "0 & 0 & \\arctan(\\frac{1}{239}) * A \\\\\n",
    "\\end{pmatrix}$$\n",
    "\n",
    "$\\vec{v} = (a, b, c)$\n",
    "\n",
    "$\\vec{v} * M = (a, b, A * (a* \\arctan(1) + b * \\arctan(\\frac{1}{5}) + c * \\arctan(\\frac{1}{239}))$ - Хотим маленький вектор"
   ]
  },
  {
   "cell_type": "code",
   "execution_count": 15,
   "id": "cbbde33d-85ec-415a-b99d-13682e4757a7",
   "metadata": {},
   "outputs": [
    {
     "data": {
      "text/plain": [
       "((1, -4, -1), (1, -4, 1))"
      ]
     },
     "execution_count": 15,
     "metadata": {},
     "output_type": "execute_result"
    }
   ],
   "source": [
    "R = 10^100\n",
    "x1 = floor(arctan(1) * R)\n",
    "x2 = floor(arctan(1/5) * R)\n",
    "x3 = floor(arctan(1/239) * R)\n",
    "\n",
    "M = Matrix([[1, 0, x1],\n",
    "            [0, 1, x2],\n",
    "            [0, 0, x3]])\n",
    "\n",
    "L = M.LLL()\n",
    "L[0], M.solve_left(L[0])"
   ]
  },
  {
   "cell_type": "code",
   "execution_count": 16,
   "id": "9f133216-a0cb-4b64-aae8-0b284178f60d",
   "metadata": {},
   "outputs": [
    {
     "data": {
      "text/plain": [
       "1/4*pi - 4*arctan(1/5) + arctan(1/239)"
      ]
     },
     "execution_count": 16,
     "metadata": {},
     "output_type": "execute_result"
    }
   ],
   "source": [
    "s = arctan(1) - 4 * arctan(1/5) + arctan(1/239)\n",
    "s"
   ]
  },
  {
   "cell_type": "code",
   "execution_count": 21,
   "id": "1e63d0bf-bcf6-416f-8561-d694b5824bdc",
   "metadata": {},
   "outputs": [
    {
     "data": {
      "text/plain": [
       "-8.0375460085650784606358307501004666820949030512602945828213176182825542830907907634549347436369504920487078743583472187989881826032806579051345229351154014570974013614666063582305989194326942105884731e-202"
      ]
     },
     "execution_count": 21,
     "metadata": {},
     "output_type": "execute_result"
    }
   ],
   "source": [
    "s.n(digits=200)"
   ]
  },
  {
   "cell_type": "markdown",
   "id": "8dfa9809-04bd-4c83-b94e-1f5b602566bc",
   "metadata": {},
   "source": [
    "$A * \\alpha^2 + B * \\alpha + C = 0$\n",
    "\n",
    "$T_0 = R$\n",
    "\n",
    "$T_1 = floor(\\alpha * R)$\n",
    "\n",
    "$T_2 = floor(\\alpha^2 * R)$\n",
    "\n",
    "$$M = \\begin{pmatrix}\n",
    "1 & 0 & T_0 \\\\\n",
    "0 & 1 & T_1 \\\\\n",
    "0 & 0 & T_2 \\\\\n",
    "\\end{pmatrix}$$"
   ]
  },
  {
   "cell_type": "code",
   "execution_count": 29,
   "id": "a4b25b7f-5c47-4c1b-b0ff-02a3a3556f48",
   "metadata": {},
   "outputs": [
    {
     "name": "stdout",
     "output_type": "stream",
     "text": [
      "-0.921958268621665\n"
     ]
    }
   ],
   "source": [
    "A, B, C = [getrandbits(10) for _ in range(3)]\n",
    "alpha = (A * x**2 + B * x + C).roots()[0][0]\n",
    "print(alpha.n())"
   ]
  },
  {
   "cell_type": "code",
   "execution_count": 40,
   "id": "45760ea6-39c6-4e8e-bdb2-c926d7d88d6e",
   "metadata": {},
   "outputs": [],
   "source": [
    "R = 10^100\n",
    "x1 = R\n",
    "x2 = floor(alpha * R)\n",
    "x3 = floor(alpha**2 * R)\n",
    "\n",
    "M = Matrix([[1, 0, x1], [0, 1, x2], [0, 0, x3]])\n",
    "L = M.LLL()"
   ]
  },
  {
   "cell_type": "code",
   "execution_count": 41,
   "id": "4d3eee9a-f5aa-482d-bc07-5ed9f8e02d7f",
   "metadata": {},
   "outputs": [
    {
     "data": {
      "text/plain": [
       "(-199, -722, 663)"
      ]
     },
     "execution_count": 41,
     "metadata": {},
     "output_type": "execute_result"
    }
   ],
   "source": [
    "L[0]"
   ]
  },
  {
   "cell_type": "code",
   "execution_count": 46,
   "id": "94696c7f-59b8-4d5a-904c-a014c02784ea",
   "metadata": {},
   "outputs": [
    {
     "data": {
      "text/plain": [
       "-549*x^2 - 722*x - 199"
      ]
     },
     "execution_count": 46,
     "metadata": {},
     "output_type": "execute_result"
    }
   ],
   "source": [
    "C1, B1, A1 = M.solve_left(L[0])\n",
    "A1 * x**2 + B1 * x + C1"
   ]
  },
  {
   "cell_type": "code",
   "execution_count": 47,
   "id": "a0088fa5-eceb-4ea1-b621-8ac0fafd8dfc",
   "metadata": {},
   "outputs": [
    {
     "data": {
      "text/plain": [
       "[(-7/549*sqrt(430) - 361/549, 1), (7/549*sqrt(430) - 361/549, 1)]"
      ]
     },
     "execution_count": 47,
     "metadata": {},
     "output_type": "execute_result"
    }
   ],
   "source": [
    "(A1 * x**2 + B1 * x + C1).roots()"
   ]
  },
  {
   "cell_type": "code",
   "execution_count": 48,
   "id": "3e1f3508-3b8d-427b-a1fa-1388e67c0e6f",
   "metadata": {},
   "outputs": [
    {
     "data": {
      "text/plain": [
       "-7/549*sqrt(430) - 361/549"
      ]
     },
     "execution_count": 48,
     "metadata": {},
     "output_type": "execute_result"
    }
   ],
   "source": [
    "alpha"
   ]
  },
  {
   "cell_type": "code",
   "execution_count": 49,
   "id": "91c1ebd4-80d4-4c5d-9a2f-2398f8d4b000",
   "metadata": {},
   "outputs": [
    {
     "data": {
      "text/plain": [
       "549*x^2 + 722*x + 199"
      ]
     },
     "execution_count": 49,
     "metadata": {},
     "output_type": "execute_result"
    }
   ],
   "source": [
    "algdep(alpha.n(digits=200), 2)"
   ]
  },
  {
   "cell_type": "code",
   "execution_count": 50,
   "id": "7de6ddcc-30ba-4c04-b592-539879576329",
   "metadata": {},
   "outputs": [
    {
     "data": {
      "text/plain": [
       "(-549, -722, -199)"
      ]
     },
     "execution_count": 50,
     "metadata": {},
     "output_type": "execute_result"
    }
   ],
   "source": [
    "A1, B1, C1"
   ]
  },
  {
   "cell_type": "code",
   "execution_count": 51,
   "id": "b484b794-587b-4eaa-9d62-b393c8c92ac0",
   "metadata": {},
   "outputs": [
    {
     "name": "stdout",
     "output_type": "stream",
     "text": [
      "10722618445046332019630095159825996462547249936533905003511217559601907481149357378841931114500618103577182757087522994479252484281003469890851023511418302 -2526416656172421626250254233512507753910792058439296939334814519744006268649304463402410825998462587831575530263158559423428722436816328449780801387605753\n",
      "True\n"
     ]
    }
   ],
   "source": [
    "p = random_prime(2**1024)\n",
    "while p % 4 == 3:\n",
    "    p = random_prime(2**1024)\n",
    "\n",
    "alpha = int(GF(p)(-1).sqrt())\n",
    "\n",
    "M = Matrix([[p, 0], [alpha, 1]]).LLL()\n",
    "\n",
    "a, b = M[0]\n",
    "\n",
    "print(a, b)\n",
    "print(a**2 + b**2 == p)"
   ]
  },
  {
   "cell_type": "code",
   "execution_count": null,
   "id": "343dc59d-a29d-44d0-aa0a-932ac48c4cca",
   "metadata": {},
   "outputs": [],
   "source": []
  }
 ],
 "metadata": {
  "kernelspec": {
   "display_name": "SageMath 10.5",
   "language": "sage",
   "name": "sagemath"
  },
  "language_info": {
   "codemirror_mode": {
    "name": "ipython",
    "version": 3
   },
   "file_extension": ".py",
   "mimetype": "text/x-python",
   "name": "python",
   "nbconvert_exporter": "python",
   "pygments_lexer": "ipython3",
   "version": "3.13.2"
  }
 },
 "nbformat": 4,
 "nbformat_minor": 5
}
