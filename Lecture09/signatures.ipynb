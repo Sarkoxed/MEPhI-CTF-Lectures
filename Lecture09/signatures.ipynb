{
 "cells": [
  {
   "cell_type": "code",
   "execution_count": 12,
   "id": "725608cb-2b20-4887-a050-c375002e6afb",
   "metadata": {},
   "outputs": [],
   "source": [
    "# Scnorr\n",
    "\n",
    "from Crypto.Util.number import getPrime, isPrime\n",
    "from hashlib import sha256\n",
    "\n",
    "def keygen(nbit):\n",
    "    while True:\n",
    "        p = getPrime(nbit -1 )\n",
    "        q = 2 * p + 1\n",
    "        # |F_q| =  q- 1 = 2 * p\n",
    "        # q = 2 * p * q + 1\n",
    "        \n",
    "        if isPrime(q):\n",
    "            break\n",
    "    G = GF(q)\n",
    "    g = int(G.multiplicative_generator()**2)\n",
    "\n",
    "    x = randint(0, p)\n",
    "    return (g, q), pow(g, -x, q), x\n",
    "\n",
    "def sign(sk, msg, g, q):\n",
    "    p = q // 2\n",
    "    \n",
    "    k = randint(1, p-1)\n",
    "    r = pow(g, k, q) # r = g^k (mod q)\n",
    "    e = int.from_bytes(sha256(str(r).encode() + msg).digest()) % p\n",
    "    s = (k + sk * e) % p\n",
    "    return (e, s)\n",
    "\n",
    "\n",
    "def verify(pk, msg, sig, g, q):\n",
    "    p = q // 2\n",
    "    e, s = sig\n",
    "\n",
    "    r_v = pow(g, s, q) * pow(pk, e, q) % q\n",
    "    e_v = int.from_bytes(sha256(str(r_v).encode() + msg).digest()) % p \n",
    "    return e_v == e\n",
    "\n",
    "msg = b'mephictf'\n",
    "params, pk, sk = keygen(128)\n",
    "g, q = params"
   ]
  },
  {
   "cell_type": "markdown",
   "id": "53a9db0a-cc8b-4233-91ac-dbf280629fd6",
   "metadata": {},
   "source": [
    "$r = g^k \\pmod{p}, e = H(r|M), s = (k + x * e) (mod p)$\n",
    "\n",
    "$g^s = g^{k + x * e} \\pmod{q}$\n",
    "\n",
    "$g^s = g^k * g^{x * e} \\pmod{q}$\n",
    "\n",
    "$g^s * g^{-x * e} = g^k \\pmod{q}$\n",
    "\n",
    "$g^s * (g^{-x})^e = r \\pmod{q}$\n",
    "\n",
    "$g^s * pk^e = r' \\pmod{q}$\n",
    "\n",
    "$sha256(r' | M) == e?$"
   ]
  },
  {
   "cell_type": "code",
   "execution_count": 13,
   "id": "2847e50e-d1e2-45e4-92e2-2f0648709ad2",
   "metadata": {},
   "outputs": [],
   "source": [
    "p = q // 2\n",
    "pow(g, p, q)\n",
    "# pk = g^y (mod q), y \\in [0, p]\n",
    "M = b'mephictf'\n",
    "sig = sign(sk, M, g, q)"
   ]
  },
  {
   "cell_type": "code",
   "execution_count": 10,
   "id": "76d94b93-ab32-4d27-a1db-905956afc399",
   "metadata": {},
   "outputs": [
    {
     "data": {
      "text/plain": [
       "(78365350812416525990060830338136827672, 3540726230804222122937910152317247659)"
      ]
     },
     "execution_count": 10,
     "metadata": {},
     "output_type": "execute_result"
    }
   ],
   "source": [
    "p = q // 2\n",
    "assert pow(g, p, q)== 1\n",
    "sig"
   ]
  },
  {
   "cell_type": "code",
   "execution_count": 14,
   "id": "ffe5b572-5d8b-402d-a1b0-72cdf39b16dd",
   "metadata": {},
   "outputs": [
    {
     "data": {
      "text/plain": [
       "True"
      ]
     },
     "execution_count": 14,
     "metadata": {},
     "output_type": "execute_result"
    }
   ],
   "source": [
    "verify(pk, msg, sig, g, q)"
   ]
  },
  {
   "cell_type": "code",
   "execution_count": 15,
   "id": "5599688c-f659-4943-a2a6-5c2fb88f474e",
   "metadata": {},
   "outputs": [
    {
     "data": {
      "text/plain": [
       "80140791023896144829443508946841585796118200093564868060607349386481112169450823806812246033894470624331967284891879331696498719749826360446794063064709172543065417512617799152908567714454334746302065172735705015773621924028853131435960664005068547486190755165872079428967379594706529011781127270699266739618"
      ]
     },
     "execution_count": 15,
     "metadata": {},
     "output_type": "execute_result"
    }
   ],
   "source": [
    "from Crypto.Util.number import getPrime\n",
    "\n",
    "p = getPrime(512)\n",
    "q = getPrime(512)\n",
    "n = p * q\n",
    "e = 0x10001\n",
    "\n",
    "m = b'mephictf'\n",
    "m = int.from_bytes(m)\n",
    "\n",
    "c = pow(m, e, n)\n",
    "c"
   ]
  },
  {
   "cell_type": "code",
   "execution_count": 17,
   "id": "5191cfcf-3d80-4309-a995-b7d7cdd2cc63",
   "metadata": {},
   "outputs": [
    {
     "name": "stdout",
     "output_type": "stream",
     "text": [
      "b'\\x00\\x00mephictf'\n"
     ]
    }
   ],
   "source": [
    "d = pow(e, -1, (p - 1) * (q - 1))\n",
    "\n",
    "m1 = pow(c, d, n)\n",
    "print(m1.to_bytes(10, 'big'))"
   ]
  },
  {
   "cell_type": "code",
   "execution_count": 18,
   "id": "5acf7dd4-6b63-46c4-aab8-c7a9f6e5d37a",
   "metadata": {},
   "outputs": [
    {
     "name": "stdout",
     "output_type": "stream",
     "text": [
      "39576787019588421874220035378038959022763664551378707979472373957562991013069632498710067689640950373646406568295752595050244096352903151232381820267407981028780768176191927056791832648055833527866565679281925009548066273060639450409111761327034065018110160313782544473960657664682033930524531842529044599964\n"
     ]
    }
   ],
   "source": [
    "S = pow(m, d, n)\n",
    "print(S)"
   ]
  },
  {
   "cell_type": "code",
   "execution_count": 19,
   "id": "e2540941-6048-4ec8-a9ea-ee836683c515",
   "metadata": {},
   "outputs": [
    {
     "data": {
      "text/plain": [
       "True"
      ]
     },
     "execution_count": 19,
     "metadata": {},
     "output_type": "execute_result"
    }
   ],
   "source": [
    "m == pow(S, e, n)"
   ]
  },
  {
   "cell_type": "code",
   "execution_count": 22,
   "id": "af142e74-7d1f-4510-9e2e-0d24ae104752",
   "metadata": {},
   "outputs": [],
   "source": [
    "m1 = 2 * 773\n",
    "m2 = 5098855314701783\n",
    "m1 * m2 == m\n",
    "\n",
    "s1 = pow(m1, d, n)\n",
    "s2 = pow(m2, d, n)\n",
    "S3 = s1 * s2 % n\n",
    "assert S3 == S"
   ]
  },
  {
   "cell_type": "code",
   "execution_count": null,
   "id": "b2b6f8bc-4c2b-420c-bb8d-cd8574a64f5c",
   "metadata": {},
   "outputs": [],
   "source": [
    "E = Ellipti"
   ]
  },
  {
   "cell_type": "code",
   "execution_count": 71,
   "id": "83ae3ea3-05c5-48bf-8748-dca3df883f4c",
   "metadata": {},
   "outputs": [],
   "source": [
    "from hashlib import blake2b\n",
    "\n",
    "p = 21888242871839275222246405745257275088696311157297823662689037894645226208583\n",
    "e = EllipticCurve(GF(p), [0, 3])\n",
    "G = e.random_element()\n",
    "q = e.order()\n",
    "assert G.order() == e.order()\n",
    "d_a = randint(1, q-1)\n",
    "Q_a = d_a * G\n",
    "\n",
    "o = G.order()\n",
    "m = b\"Where's your motivation?\"\n",
    "\n",
    "def sign(m):\n",
    "    z = int(blake2b(m, digest_size=q.bit_length() // 16).hexdigest(), 16)\n",
    "    k = randint(1, q-1)\n",
    "    r = int((k * G)[0]) % o\n",
    "    s = pow(int(k), -1, q) * (z + int(r) * d_a) % q\n",
    "    return r, s, z\n",
    "\n",
    "\n",
    "def verify(G, Q, r, s, o):\n",
    "    u1 = pow(s, -1, o) * z % o\n",
    "    u2 = pow(s, -1, o) * r % o\n",
    "\n",
    "    assert int((u1 * G + u2 * Q)[0]) % o == r\n",
    "\n",
    "r, s, z = sign(m)\n",
    "\n",
    "verify(G, Q_a, r, s, o)"
   ]
  },
  {
   "cell_type": "code",
   "execution_count": 72,
   "id": "2c310589-8fb9-4570-8ed9-41ffaf92331e",
   "metadata": {},
   "outputs": [
    {
     "ename": "ModuleNotFoundError",
     "evalue": "No module named 'bplib'",
     "output_type": "error",
     "traceback": [
      "\u001b[0;31m---------------------------------------------------------------------------\u001b[0m",
      "\u001b[0;31mModuleNotFoundError\u001b[0m                       Traceback (most recent call last)",
      "Cell \u001b[0;32mIn[72], line 3\u001b[0m\n\u001b[1;32m      1\u001b[0m \u001b[38;5;66;03m# https://github.com/asonnino/bls/blob/master/bls/scheme.py\u001b[39;00m\n\u001b[0;32m----> 3\u001b[0m \u001b[38;5;28;01mfrom\u001b[39;00m\u001b[38;5;250m \u001b[39m\u001b[38;5;21;01mbplib\u001b[39;00m\u001b[38;5;21;01m.\u001b[39;00m\u001b[38;5;21;01mbp\u001b[39;00m\u001b[38;5;250m \u001b[39m\u001b[38;5;28;01mimport\u001b[39;00m BpGroup, G2Elem\n\u001b[1;32m      4\u001b[0m \u001b[38;5;28;01mfrom\u001b[39;00m\u001b[38;5;250m \u001b[39m\u001b[38;5;21;01mbls\u001b[39;00m\u001b[38;5;21;01m.\u001b[39;00m\u001b[38;5;21;01mutils\u001b[39;00m\u001b[38;5;250m \u001b[39m\u001b[38;5;28;01mimport\u001b[39;00m \u001b[38;5;241m*\u001b[39m\n\u001b[1;32m      7\u001b[0m \u001b[38;5;28;01mdef\u001b[39;00m\u001b[38;5;250m \u001b[39m\u001b[38;5;21msetup\u001b[39m():\n",
      "\u001b[0;31mModuleNotFoundError\u001b[0m: No module named 'bplib'"
     ]
    }
   ],
   "source": [
    "# https://github.com/asonnino/bls/blob/master/bls/scheme.py\n",
    "\n",
    "from bplib.bp import BpGroup, G2Elem\n",
    "from bls.utils import *\n",
    "\n",
    "\n",
    "def setup():\n",
    "\t\"\"\"\n",
    "\tGenerate the public parameters.\n",
    "\n",
    "\tReturns:\n",
    "\t\t- params: the publc parameters\n",
    "\t\"\"\"\n",
    "\tG = BpGroup()\n",
    "\t(g1, g2) = G.gen1(), G.gen2()\n",
    "\t(e, o) = G.pair, G.order()\n",
    "\treturn (G, o, g1, g2, e)\n",
    "\n",
    "\n",
    "def ttp_keygen(params, t, n):\n",
    "\t\"\"\"\n",
    "\tGenerate keys for threshold signature (executed by a TTP).\n",
    "\n",
    "\tParameters:\n",
    "\t\t- `params`: public parameters generated by `setup`\n",
    "\t\t- `t` (integer): the threshold parameter\n",
    "\t\t- `n` (integer): the total number of authorities\n",
    "\n",
    "\tReturns:\n",
    "\t\t- `sk` [Bn]: array containing the secret key of each authority\n",
    "\t\t- `vk` [G2Elem]: array containing the verification key of each authority\n",
    "\t\"\"\"\n",
    "\tassert n >= t and t > 0\n",
    "\t(G, o, g1, g2, e) = params\n",
    "\t# generate polynomials\n",
    "\tv = [o.random() for _ in range(0,t)]\n",
    "\t# generate shares\n",
    "\tsk = [poly_eval(v,i) % o for i in range(1,n+1)]\n",
    "\t# set keys\n",
    "\tvk = [xi*g2 for xi in sk]\n",
    "\treturn (sk, vk)\n",
    "\n",
    "\n",
    "def aggregate_vk(params, vks, threshold=True):\n",
    "\t\"\"\"\n",
    "\tAggregate the verification keys.\n",
    "\n",
    "\tParameters:\n",
    "\t\t- `params`: public parameters generated by `setup`\n",
    "\t\t- `vks` [G2Elem]: array containing the verification key of each authority\n",
    "\t\t- `threshold` (bool): optional, whether to use threshold cryptography or not\n",
    "\n",
    "\tReturns:\n",
    "\t\t- `aggr_vk` (G2Elem): aggregated verification key\n",
    "\t\"\"\"\n",
    "\t(G, o, g1, g2, e) = params\n",
    "\t# evaluate all lagrange basis polynomial li(0)\n",
    "\tfilter = [vk for vk in vks if vk is not None]\n",
    "\tindexes = [i+1 for i, vk in enumerate(vks) if vk is not None]\n",
    "\tl = lagrange_basis(indexes, o) if threshold else [1 for _ in vks]\n",
    "\t# aggregate keys\n",
    "\taggr_vk = ec_sum([l[i]*filter[i] for i in range(len(filter))])\n",
    "\treturn aggr_vk\n",
    "\n",
    "\n",
    "def sign(params, sk, m):\n",
    "\t\"\"\"\n",
    "\tSign messages.\n",
    "\n",
    "\tParameters:\n",
    "\t\t- `params`: public parameters generated by `setup`\n",
    "\t\t- `sk` (Bn): the secret key of the authority\n",
    "\t\t- `m` [Bn]: array containing the messages\n",
    "\n",
    "\tReturns:\n",
    "\t\t- `sigma_tilde` (G1Elem, G1Elem): blinded credential\n",
    "\t\"\"\"\n",
    "\tassert len(m) > 0\n",
    "\t(G, o, g1, g2, e) = params\n",
    "\tdigest = hash(m)\n",
    "\th = G.hashG1(digest)\n",
    "\tsigma = sk*h\n",
    "\treturn sigma\n",
    "\n",
    "\n",
    "def aggregate_sigma(params, sigs, threshold=True):\n",
    "\t\"\"\"\n",
    "\tAggregate partial signatures.\n",
    "\n",
    "\tParameters:\n",
    "\t\t- `params`: public parameters generated by `setup`\n",
    "\t\t- `sigs` [G1Elem]: array of partial credentials\n",
    "\t\t- `threshold` (bool): optional, whether to use threshold cryptography or not\n",
    "\n",
    "\tReturns:\n",
    "\t\t- `aggr_sigma` (G1Elem): aggregated credential\n",
    "\t\"\"\"\n",
    "\t(G, o, g1, g2, e) = params\n",
    "\t# evaluate all lagrange basis polynomial li(0)\n",
    "\tfilter = [sig for sig in sigs if sig is not None]\n",
    "\tindexes = [i+1 for i, sig in enumerate(sigs) if sig is not None]\n",
    "\tl = lagrange_basis(indexes, o) if threshold else [1 for _ in sigs]\n",
    "\t# aggregate sigature\n",
    "\taggr_s = ec_sum([l[i]*filter[i] for i in range(len(filter))])\n",
    "\treturn aggr_s\n",
    "\n",
    "\n",
    "def verify(params, aggr_vk, sigma, m):\n",
    "\t\"\"\"\n",
    "\tVerify signature.\n",
    "\n",
    "\tParameters:\n",
    "\t\t- `params`: public parameters generated by `setup`\n",
    "\t\t- `aggr_vk` (G2Elem): aggregated verification key\n",
    "\t\t- `sigma` (G1Elem): signature\n",
    "\t\t- `m` [Bn]: array containing the messages\n",
    "\n",
    "\tReturns:\n",
    "\t\t- `ret` (bool): whether the credential verifies\n",
    "\t\"\"\"\n",
    "\t(G, o, g1, g2, e) = params\n",
    "\tdigest = hash(m)\n",
    "\th = G.hashG1(digest)\n",
    "\treturn not h.isinf() and e(sigma, g2) == e(h, aggr_vk)"
   ]
  },
  {
   "cell_type": "code",
   "execution_count": null,
   "id": "0899b8c2-d953-419f-96a4-349b01883b11",
   "metadata": {},
   "outputs": [],
   "source": []
  }
 ],
 "metadata": {
  "kernelspec": {
   "display_name": "SageMath 10.5",
   "language": "sage",
   "name": "sagemath"
  },
  "language_info": {
   "codemirror_mode": {
    "name": "ipython",
    "version": 3
   },
   "file_extension": ".py",
   "mimetype": "text/x-python",
   "name": "python",
   "nbconvert_exporter": "python",
   "pygments_lexer": "ipython3",
   "version": "3.13.2"
  }
 },
 "nbformat": 4,
 "nbformat_minor": 5
}
