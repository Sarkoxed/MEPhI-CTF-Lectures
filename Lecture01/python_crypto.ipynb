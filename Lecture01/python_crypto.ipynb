{
 "cells": [
  {
   "cell_type": "code",
   "execution_count": 1,
   "id": "08e624d7-12b3-4627-a8eb-dd672ba9ec1f",
   "metadata": {},
   "outputs": [],
   "source": [
    "from Crypto.Util.number import getPrime"
   ]
  },
  {
   "cell_type": "code",
   "execution_count": 2,
   "id": "36454e46-9cd2-493c-969e-70b7f0fe15fa",
   "metadata": {},
   "outputs": [
    {
     "data": {
      "text/plain": [
       "86349655378196876789050702518702816057547647334798765358536183300715988990263"
      ]
     },
     "execution_count": 2,
     "metadata": {},
     "output_type": "execute_result"
    }
   ],
   "source": [
    "getPrime(256)"
   ]
  },
  {
   "cell_type": "code",
   "execution_count": 3,
   "id": "e008e756-dfb9-4562-92d2-0bde336d08a1",
   "metadata": {},
   "outputs": [],
   "source": [
    "from Crypto.Hash import SHA256"
   ]
  },
  {
   "cell_type": "code",
   "execution_count": 8,
   "id": "89639e81-e59f-4b73-bdaf-74a7531d207c",
   "metadata": {},
   "outputs": [],
   "source": [
    "hash = SHA256.new()"
   ]
  },
  {
   "cell_type": "code",
   "execution_count": 10,
   "id": "aa292c94-5b94-41a8-bb91-d98922ac40b9",
   "metadata": {},
   "outputs": [],
   "source": [
    "hash.update(b'aboba')"
   ]
  },
  {
   "cell_type": "code",
   "execution_count": 11,
   "id": "85660b86-db88-49db-8f00-c11f109007d3",
   "metadata": {},
   "outputs": [
    {
     "data": {
      "text/plain": [
       "b\"\\xa6\\xc7\\x9a'\\x04\\x91\\t\\xe4r\\xb2F\\xb5\\xdf\\xbe\\x08\\xae\\xdf\\xf1\\xe9\\xe2%\\x95\\x97\\xe5@2\\xdb\\xadIX\\xd4\\xad\""
      ]
     },
     "execution_count": 11,
     "metadata": {},
     "output_type": "execute_result"
    }
   ],
   "source": [
    "hash.digest()"
   ]
  },
  {
   "cell_type": "code",
   "execution_count": 12,
   "id": "23894cfa-facb-44cf-a3bd-9dcdc9f4cc0e",
   "metadata": {},
   "outputs": [],
   "source": [
    "from hashlib import sha256"
   ]
  },
  {
   "cell_type": "code",
   "execution_count": 13,
   "id": "2f32f6af-c500-489d-a86f-03a6270d90d6",
   "metadata": {},
   "outputs": [
    {
     "data": {
      "text/plain": [
       "b\"\\xa6\\xc7\\x9a'\\x04\\x91\\t\\xe4r\\xb2F\\xb5\\xdf\\xbe\\x08\\xae\\xdf\\xf1\\xe9\\xe2%\\x95\\x97\\xe5@2\\xdb\\xadIX\\xd4\\xad\""
      ]
     },
     "execution_count": 13,
     "metadata": {},
     "output_type": "execute_result"
    }
   ],
   "source": [
    "sha256(b'aboba').digest()"
   ]
  },
  {
   "cell_type": "code",
   "execution_count": 14,
   "id": "27daa18f-5845-48a2-bdeb-2cf7c1f806ef",
   "metadata": {},
   "outputs": [],
   "source": [
    "from Crypto.Hash import MD5, SHA1, SHA512, SHA384, BLAKE2b"
   ]
  },
  {
   "cell_type": "code",
   "execution_count": 15,
   "id": "b00fdf42-fcaa-4ede-8b12-d681d5f0f11c",
   "metadata": {},
   "outputs": [],
   "source": [
    "from Crypto.Util.number import long_to_bytes, bytes_to_long"
   ]
  },
  {
   "cell_type": "code",
   "execution_count": 16,
   "id": "30d3eec1-0b91-4a9e-a781-8fd745d67393",
   "metadata": {},
   "outputs": [
    {
     "ename": "TypeError",
     "evalue": "bytes_to_long() takes 1 positional argument but 2 were given",
     "output_type": "error",
     "traceback": [
      "\u001b[0;31m---------------------------------------------------------------------------\u001b[0m",
      "\u001b[0;31mTypeError\u001b[0m                                 Traceback (most recent call last)",
      "Cell \u001b[0;32mIn[16], line 1\u001b[0m\n\u001b[0;32m----> 1\u001b[0m \u001b[43mbytes_to_long\u001b[49m\u001b[43m(\u001b[49m\u001b[38;5;124;43mb\u001b[39;49m\u001b[38;5;124;43m'\u001b[39;49m\u001b[38;5;124;43mabobb\u001b[39;49m\u001b[38;5;124;43m'\u001b[39;49m\u001b[43m,\u001b[49m\u001b[43m \u001b[49m\u001b[38;5;124;43m'\u001b[39;49m\u001b[38;5;124;43mbig\u001b[39;49m\u001b[38;5;124;43m'\u001b[39;49m\u001b[43m)\u001b[49m\n",
      "\u001b[0;31mTypeError\u001b[0m: bytes_to_long() takes 1 positional argument but 2 were given"
     ]
    }
   ],
   "source": [
    "bytes_to_long(b'abobb', 'big')"
   ]
  },
  {
   "cell_type": "code",
   "execution_count": 17,
   "id": "d4b0b0fd-6b36-44fd-825b-0aec14d74000",
   "metadata": {},
   "outputs": [
    {
     "data": {
      "text/plain": [
       "418263294562"
      ]
     },
     "execution_count": 17,
     "metadata": {},
     "output_type": "execute_result"
    }
   ],
   "source": [
    "bytes_to_long(b'abobb')"
   ]
  },
  {
   "cell_type": "code",
   "execution_count": 18,
   "id": "9bce7e66-0e14-407d-8ae6-954f3b76ed7f",
   "metadata": {},
   "outputs": [
    {
     "data": {
      "text/plain": [
       "418263294562"
      ]
     },
     "execution_count": 18,
     "metadata": {},
     "output_type": "execute_result"
    }
   ],
   "source": [
    "int.from_bytes(b'abobb', 'big')"
   ]
  },
  {
   "cell_type": "code",
   "execution_count": 19,
   "id": "9b6ea079-7c1f-426a-ae39-ca1bd49d1985",
   "metadata": {},
   "outputs": [
    {
     "data": {
      "text/plain": [
       "422558261857"
      ]
     },
     "execution_count": 19,
     "metadata": {},
     "output_type": "execute_result"
    }
   ],
   "source": [
    "int.from_bytes(b'abobb', 'little')"
   ]
  },
  {
   "cell_type": "code",
   "execution_count": 20,
   "id": "e3373685-8a21-48e3-bced-2cff995a2c75",
   "metadata": {},
   "outputs": [
    {
     "data": {
      "text/plain": [
       "b'\\x00\\x00\\x059'"
      ]
     },
     "execution_count": 20,
     "metadata": {},
     "output_type": "execute_result"
    }
   ],
   "source": [
    "(1337).to_bytes(4, 'big')"
   ]
  },
  {
   "cell_type": "code",
   "execution_count": 21,
   "id": "a3e8d8ae-d271-473b-a502-7c6eba7c7753",
   "metadata": {},
   "outputs": [
    {
     "data": {
      "text/plain": [
       "b'\\x059'"
      ]
     },
     "execution_count": 21,
     "metadata": {},
     "output_type": "execute_result"
    }
   ],
   "source": [
    "long_to_bytes(1337)"
   ]
  },
  {
   "cell_type": "code",
   "execution_count": 22,
   "id": "aa3bd4eb-0346-4b47-b34b-3937c8c981f3",
   "metadata": {},
   "outputs": [],
   "source": [
    "from Crypto.Cipher import AES"
   ]
  },
  {
   "cell_type": "code",
   "execution_count": 23,
   "id": "00c4e01d-d97a-45e9-9785-edf453c7ab8d",
   "metadata": {},
   "outputs": [
    {
     "ename": "NameError",
     "evalue": "name 'uradnom' is not defined",
     "output_type": "error",
     "traceback": [
      "\u001b[0;31m---------------------------------------------------------------------------\u001b[0m",
      "\u001b[0;31mNameError\u001b[0m                                 Traceback (most recent call last)",
      "Cell \u001b[0;32mIn[23], line 1\u001b[0m\n\u001b[0;32m----> 1\u001b[0m key \u001b[38;5;241m=\u001b[39m \u001b[43muradnom\u001b[49m(\u001b[38;5;241m16\u001b[39m)\n",
      "\u001b[0;31mNameError\u001b[0m: name 'uradnom' is not defined"
     ]
    }
   ],
   "source": [
    "key = uradnom(16)"
   ]
  },
  {
   "cell_type": "code",
   "execution_count": 24,
   "id": "ba742fe0-be91-49be-a5d3-b4c24133c2a4",
   "metadata": {},
   "outputs": [],
   "source": [
    "from os import urandom"
   ]
  },
  {
   "cell_type": "code",
   "execution_count": 25,
   "id": "fddb5376-bfbe-496d-9029-94fff8cbb7a9",
   "metadata": {},
   "outputs": [],
   "source": [
    "key = urandom(16)"
   ]
  },
  {
   "cell_type": "code",
   "execution_count": 26,
   "id": "1fa4d41f-37ff-4cf3-8bbc-7646e6ac2f5c",
   "metadata": {},
   "outputs": [],
   "source": [
    "cip = AES.new(key=key, mode=AES.MODE_ECB)"
   ]
  },
  {
   "cell_type": "code",
   "execution_count": 27,
   "id": "b4bbdb63-d97b-4ce9-b0af-b75380df3a9b",
   "metadata": {},
   "outputs": [
    {
     "data": {
      "text/plain": [
       "b'\\xfe\\xe1\\xa9:\\x86\\xa9%\\xf4\\x87\\x82\\xaf\\x89\\x9f\\xa8:8'"
      ]
     },
     "execution_count": 27,
     "metadata": {},
     "output_type": "execute_result"
    }
   ],
   "source": [
    "cip.encrypt(b'\\x00' * 16)"
   ]
  },
  {
   "cell_type": "code",
   "execution_count": 28,
   "id": "c17653ab-2d80-4328-8b97-19603c6e881e",
   "metadata": {},
   "outputs": [
    {
     "data": {
      "text/plain": [
       "'fee1a93a86a925f48782af899fa83a38fee1a93a86a925f48782af899fa83a38'"
      ]
     },
     "execution_count": 28,
     "metadata": {},
     "output_type": "execute_result"
    }
   ],
   "source": [
    "cip.encrypt(b'\\x00' * 32).hex()"
   ]
  },
  {
   "cell_type": "code",
   "execution_count": 29,
   "id": "afd7f524-6597-4cb7-9279-bbb9a497b0f9",
   "metadata": {},
   "outputs": [
    {
     "ename": "ModuleNotFoundError",
     "evalue": "No module named 'Crypto.Padding'",
     "output_type": "error",
     "traceback": [
      "\u001b[0;31m---------------------------------------------------------------------------\u001b[0m",
      "\u001b[0;31mModuleNotFoundError\u001b[0m                       Traceback (most recent call last)",
      "Cell \u001b[0;32mIn[29], line 1\u001b[0m\n\u001b[0;32m----> 1\u001b[0m \u001b[38;5;28;01mfrom\u001b[39;00m \u001b[38;5;21;01mCrypto\u001b[39;00m\u001b[38;5;21;01m.\u001b[39;00m\u001b[38;5;21;01mPadding\u001b[39;00m \u001b[38;5;28;01mimport\u001b[39;00m pad, unpad\n",
      "\u001b[0;31mModuleNotFoundError\u001b[0m: No module named 'Crypto.Padding'"
     ]
    }
   ],
   "source": [
    "from Crypto.Padding import pad, unpad"
   ]
  },
  {
   "cell_type": "code",
   "execution_count": 30,
   "id": "5fddf886-1de5-4d86-8d54-f5135cb43805",
   "metadata": {},
   "outputs": [],
   "source": [
    "from Crypto.Util.Padding import pad, unpad"
   ]
  },
  {
   "cell_type": "code",
   "execution_count": 31,
   "id": "44d745a6-de37-4dc4-b5c5-d38fd908fba4",
   "metadata": {},
   "outputs": [
    {
     "data": {
      "text/plain": [
       "b'a\\x0f\\x0f\\x0f\\x0f\\x0f\\x0f\\x0f\\x0f\\x0f\\x0f\\x0f\\x0f\\x0f\\x0f\\x0f'"
      ]
     },
     "execution_count": 31,
     "metadata": {},
     "output_type": "execute_result"
    }
   ],
   "source": [
    "pad(b'a', 16)"
   ]
  },
  {
   "cell_type": "code",
   "execution_count": 32,
   "id": "efa8340a-fe02-4793-bc17-018e9c33054b",
   "metadata": {},
   "outputs": [
    {
     "data": {
      "text/plain": [
       "b'\\x10\\x10\\x10\\x10\\x10\\x10\\x10\\x10\\x10\\x10\\x10\\x10\\x10\\x10\\x10\\x10'"
      ]
     },
     "execution_count": 32,
     "metadata": {},
     "output_type": "execute_result"
    }
   ],
   "source": [
    "pad(b'', 16)"
   ]
  },
  {
   "cell_type": "code",
   "execution_count": 33,
   "id": "5c965409-1deb-44e5-be37-dd2e5a4deedb",
   "metadata": {},
   "outputs": [
    {
     "data": {
      "text/plain": [
       "b'\\xaa\\xaa\\xaa\\xaa\\xaa\\xaa\\xaa\\xaa\\xaa\\xaa\\xaa\\xaa\\xaa\\xaa\\xaa\\xaa\\x10\\x10\\x10\\x10\\x10\\x10\\x10\\x10\\x10\\x10\\x10\\x10\\x10\\x10\\x10\\x10'"
      ]
     },
     "execution_count": 33,
     "metadata": {},
     "output_type": "execute_result"
    }
   ],
   "source": [
    "pad(b'\\xaa' * 16, 16)"
   ]
  },
  {
   "cell_type": "code",
   "execution_count": 34,
   "id": "b8195d68-1f07-4305-8a32-5818890739b9",
   "metadata": {},
   "outputs": [],
   "source": [
    "padded = pad(b'\\xaa' * 16, 16)"
   ]
  },
  {
   "cell_type": "code",
   "execution_count": 35,
   "id": "2ba08207-2714-4262-865d-dd6028b74ea1",
   "metadata": {},
   "outputs": [
    {
     "data": {
      "text/plain": [
       "b'\\xaa\\xaa\\xaa\\xaa\\xaa\\xaa\\xaa\\xaa\\xaa\\xaa\\xaa\\xaa\\xaa\\xaa\\xaa\\xaa'"
      ]
     },
     "execution_count": 35,
     "metadata": {},
     "output_type": "execute_result"
    }
   ],
   "source": [
    "padded[:-padded[-1]]"
   ]
  },
  {
   "cell_type": "code",
   "execution_count": 36,
   "id": "0f5e1b95-c3b3-4465-8d7c-64b882745b93",
   "metadata": {},
   "outputs": [],
   "source": [
    "padded = pad(b'a', 16)"
   ]
  },
  {
   "cell_type": "code",
   "execution_count": 37,
   "id": "9f9d9d08-9c6f-46a6-99cd-34561909189a",
   "metadata": {},
   "outputs": [
    {
     "data": {
      "text/plain": [
       "b'a'"
      ]
     },
     "execution_count": 37,
     "metadata": {},
     "output_type": "execute_result"
    }
   ],
   "source": [
    "padded[:-padded[-1]]"
   ]
  },
  {
   "cell_type": "code",
   "execution_count": 38,
   "id": "b61f9e95-aaf6-496b-8d39-3dd89087611e",
   "metadata": {},
   "outputs": [
    {
     "data": {
      "text/plain": [
       "b'a'"
      ]
     },
     "execution_count": 38,
     "metadata": {},
     "output_type": "execute_result"
    }
   ],
   "source": [
    "unpad(padded, 16)"
   ]
  },
  {
   "cell_type": "code",
   "execution_count": 39,
   "id": "cb2f1fb2-4170-48dc-85a2-ea2698925618",
   "metadata": {},
   "outputs": [],
   "source": [
    "iv = urandom(16)"
   ]
  },
  {
   "cell_type": "code",
   "execution_count": 40,
   "id": "e13c7247-a174-4571-9229-91270497f797",
   "metadata": {},
   "outputs": [],
   "source": [
    "cip = AES.new(key=key, iv=iv, mode=AES.MODE_CBC)"
   ]
  },
  {
   "cell_type": "code",
   "execution_count": 42,
   "id": "2af41d37-aed8-4857-94a4-4d101c4d8449",
   "metadata": {},
   "outputs": [],
   "source": [
    "c = cip.encrypt(b'\\x00' * 32).hex()"
   ]
  },
  {
   "cell_type": "code",
   "execution_count": 43,
   "id": "d54a4a2b-f912-4a6f-8617-14994d416352",
   "metadata": {},
   "outputs": [
    {
     "data": {
      "text/plain": [
       "'7390ea0793f8611deedea3407ee0ed10'"
      ]
     },
     "execution_count": 43,
     "metadata": {},
     "output_type": "execute_result"
    }
   ],
   "source": [
    "c[:32]"
   ]
  },
  {
   "cell_type": "code",
   "execution_count": 44,
   "id": "4d06772d-24d8-46c3-a863-d532815b6002",
   "metadata": {},
   "outputs": [
    {
     "data": {
      "text/plain": [
       "'01c3590acafa1ae9105d80f7bbaccee9'"
      ]
     },
     "execution_count": 44,
     "metadata": {},
     "output_type": "execute_result"
    }
   ],
   "source": [
    "c[32:]"
   ]
  },
  {
   "cell_type": "code",
   "execution_count": 45,
   "id": "e5246fc5-160d-454a-b324-7582a4319c72",
   "metadata": {},
   "outputs": [],
   "source": [
    "nonce = urandom(16)"
   ]
  },
  {
   "cell_type": "code",
   "execution_count": 51,
   "id": "dc97b741-5d2e-407a-aed4-d95dffab4481",
   "metadata": {},
   "outputs": [],
   "source": [
    "cip = AES.new(key=key, nonce=nonce[:15], mode=AES.MODE_CTR)"
   ]
  },
  {
   "cell_type": "code",
   "execution_count": 48,
   "id": "09c78da9-c1ac-4697-951e-23b27af3ab1d",
   "metadata": {},
   "outputs": [],
   "source": [
    "m = urandom(17)"
   ]
  },
  {
   "cell_type": "code",
   "execution_count": 52,
   "id": "24433a2b-38f0-45b3-9eee-75678513987d",
   "metadata": {},
   "outputs": [
    {
     "data": {
      "text/plain": [
       "b'+\\x03)\\xfe\\xfb\\x0c\\\\\\x0cB\\x1dF\\xeb\\xa2,\\r\\xed\\xe5'"
      ]
     },
     "execution_count": 52,
     "metadata": {},
     "output_type": "execute_result"
    }
   ],
   "source": [
    "cip.encrypt(m)"
   ]
  },
  {
   "cell_type": "code",
   "execution_count": 53,
   "id": "bb4647f4-da99-43b3-a081-ca590cce7e9c",
   "metadata": {},
   "outputs": [],
   "source": [
    "cip1 = AES.new(key=key, nonce=nonce[:15], mode=AES.MODE_CTR)"
   ]
  },
  {
   "cell_type": "code",
   "execution_count": 54,
   "id": "9cf9c519-7491-4b69-bed8-1f6ddb85febb",
   "metadata": {},
   "outputs": [],
   "source": [
    "zero_encrypted = cip1.encrypt(b'\\x00' * 17)"
   ]
  },
  {
   "cell_type": "code",
   "execution_count": 55,
   "id": "46acf6eb-b20c-43ab-b127-d6c27f034844",
   "metadata": {},
   "outputs": [
    {
     "data": {
      "text/plain": [
       "b'+\\x03)\\xfe\\xfb\\x0c\\\\\\x0cB\\x1dF\\xeb\\xa2,\\r\\xed\\xe5'"
      ]
     },
     "execution_count": 55,
     "metadata": {},
     "output_type": "execute_result"
    }
   ],
   "source": [
    "bytes([x ^ y for x, y in zip(zero_encrypted, m)])"
   ]
  },
  {
   "cell_type": "code",
   "execution_count": 57,
   "id": "3d34fa38-74eb-450e-9fa1-7cb47b436eb2",
   "metadata": {},
   "outputs": [],
   "source": [
    "from Crypto.Cipher import ARC4"
   ]
  },
  {
   "cell_type": "code",
   "execution_count": 59,
   "id": "acd1e8f9-5ce0-4ef1-a8ba-bccb62394ec1",
   "metadata": {},
   "outputs": [],
   "source": [
    "cip = ARC4.new(key=urandom(16))"
   ]
  },
  {
   "cell_type": "code",
   "execution_count": 61,
   "id": "92f5aa04-1bd7-48b8-b6df-df7b1b3d8a1b",
   "metadata": {},
   "outputs": [
    {
     "data": {
      "text/plain": [
       "b'M\\xff\\xd0/\\x14K\\x18\\x90\\n\\x1b\\x8c-L\\xda\\x07\\x86\\x81\\x94S\\x064\\x90\\xe0p\\x98\\x9cH'"
      ]
     },
     "execution_count": 61,
     "metadata": {},
     "output_type": "execute_result"
    }
   ],
   "source": [
    "cip.encrypt(b'\\x00' * 27)"
   ]
  },
  {
   "cell_type": "code",
   "execution_count": 62,
   "id": "beb27b0c-e972-4bb1-bcac-fc20d5b2540b",
   "metadata": {},
   "outputs": [],
   "source": [
    "from Crypto.Cipher import ChaCha20"
   ]
  },
  {
   "cell_type": "code",
   "execution_count": null,
   "id": "57baa361-ae86-4df4-ac41-1d3e6bcbda80",
   "metadata": {},
   "outputs": [],
   "source": []
  }
 ],
 "metadata": {
  "kernelspec": {
   "display_name": "Python 3 (ipykernel)",
   "language": "python",
   "name": "python3"
  },
  "language_info": {
   "codemirror_mode": {
    "name": "ipython",
    "version": 3
   },
   "file_extension": ".py",
   "mimetype": "text/x-python",
   "name": "python",
   "nbconvert_exporter": "python",
   "pygments_lexer": "ipython3",
   "version": "3.11.7"
  }
 },
 "nbformat": 4,
 "nbformat_minor": 5
}
